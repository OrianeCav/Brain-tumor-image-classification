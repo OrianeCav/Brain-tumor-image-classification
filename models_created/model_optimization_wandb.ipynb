{
 "cells": [
  {
   "cell_type": "markdown",
   "metadata": {},
   "source": [
    "# Context \n",
    "\n",
    "Using weights and biases to performe hyper parameter optimization"
   ]
  },
  {
   "cell_type": "code",
   "execution_count": 2,
   "metadata": {},
   "outputs": [
    {
     "name": "stderr",
     "output_type": "stream",
     "text": [
      "/var/folders/kk/6q2jd0hj56z_vzsn0nsr_bf40000gn/T/ipykernel_10342/3334222264.py:8: DeprecationWarning: \n",
      "Pyarrow will become a required dependency of pandas in the next major release of pandas (pandas 3.0),\n",
      "(to allow more performant data types, such as the Arrow string type, and better interoperability with other libraries)\n",
      "but was not found to be installed on your system.\n",
      "If this would cause problems for you,\n",
      "please provide us feedback at https://github.com/pandas-dev/pandas/issues/54466\n",
      "        \n",
      "  import pandas as pd\n"
     ]
    }
   ],
   "source": [
    "import os\n",
    "import re\n",
    "import shutil\n",
    "import random\n",
    "import math\n",
    "\n",
    "import numpy as np\n",
    "import pandas as pd\n",
    "import matplotlib.pyplot as plt\n",
    "import torch\n",
    "import torch.nn as nn\n",
    "import torch.nn.functional as F\n",
    "from torchvision import models,transforms,datasets\n",
    "from tqdm import tqdm\n",
    "from tqdm import tqdm_notebook\n",
    "from sklearn.metrics import confusion_matrix, accuracy_score, precision_score, recall_score, classification_report, f1_score\n",
    "from sklearn.model_selection import KFold\n",
    "import itertools\n",
    "import wandb"
   ]
  },
  {
   "cell_type": "markdown",
   "metadata": {},
   "source": [
    "## Use available device"
   ]
  },
  {
   "cell_type": "code",
   "execution_count": 3,
   "metadata": {},
   "outputs": [
    {
     "name": "stdout",
     "output_type": "stream",
     "text": [
      "using mps\n"
     ]
    }
   ],
   "source": [
    "device = \"cpu\"\n",
    "if torch.cuda.is_available():\n",
    "    print(\"using gpu\")\n",
    "    device = torch.device(\"gpu\")\n",
    "elif torch.backends.mps.is_available():\n",
    "    print(\"using mps\")\n",
    "    device = torch.device(\"mps\")"
   ]
  },
  {
   "cell_type": "markdown",
   "metadata": {},
   "source": [
    "## Data loader"
   ]
  },
  {
   "cell_type": "code",
   "execution_count": 4,
   "metadata": {},
   "outputs": [],
   "source": [
    "resized_images = transforms.Compose([\n",
    "    transforms.Resize((150, 150)),\n",
    "    transforms.ToTensor(),\n",
    "])"
   ]
  },
  {
   "cell_type": "code",
   "execution_count": 5,
   "metadata": {},
   "outputs": [],
   "source": [
    "data_dir = '../Data/brain_tumor/brain_tumor_dataset/'\n",
    "dsets = {x: datasets.ImageFolder(os.path.join(data_dir, x), transform=resized_images) for x in ['train', 'test']}"
   ]
  },
  {
   "cell_type": "code",
   "execution_count": 6,
   "metadata": {},
   "outputs": [],
   "source": [
    "train_loader = torch.utils.data.DataLoader(dsets['train'], batch_size=8, shuffle=True, num_workers=2)\n",
    "test_loader = torch.utils.data.DataLoader(dsets['test'], batch_size=8, shuffle=False, num_workers=2)"
   ]
  },
  {
   "cell_type": "markdown",
   "metadata": {},
   "source": [
    "## Train/test functions"
   ]
  },
  {
   "cell_type": "code",
   "execution_count": 7,
   "metadata": {},
   "outputs": [],
   "source": [
    "def train(model,data_loader,loss_fn,optimizer,n_epochs=1,verbose=True):\n",
    "    model = model.to(device)\n",
    "    model.train(True)\n",
    "    loss_train = np.zeros(n_epochs)\n",
    "    acc_train = np.zeros(n_epochs)\n",
    "    for epoch_num in range(n_epochs):\n",
    "        running_corrects = 0.0\n",
    "        running_loss = 0.0\n",
    "        size = 0\n",
    "\n",
    "        for data in data_loader:\n",
    "            inputs, labels = data\n",
    "            inputs = inputs.to(device)\n",
    "            labels = labels.to(device)\n",
    "            bs = labels.size(0)\n",
    "            output = model.forward(inputs)\n",
    "            loss = loss_fn(output, labels)\n",
    "\n",
    "            optimizer.zero_grad()\n",
    "            loss.backward()\n",
    "            optimizer.step()\n",
    "\n",
    "            pred = output.max(1, keepdim=True)[1]\n",
    "            running_loss += loss\n",
    "            running_corrects += pred.eq(labels.view_as(pred)).sum()\n",
    "            size += bs\n",
    "        epoch_loss = running_loss.item() / size\n",
    "        epoch_acc = running_corrects.item() / size\n",
    "        loss_train[epoch_num] = epoch_loss\n",
    "        acc_train[epoch_num] = epoch_acc\n",
    "        if verbose:\n",
    "            print('Train - Loss: {:.4f} Acc: {:.4f}'.format(epoch_loss, epoch_acc))\n",
    "    return loss_train, acc_train"
   ]
  },
  {
   "cell_type": "code",
   "execution_count": 8,
   "metadata": {},
   "outputs": [],
   "source": [
    "def test(model,data_loader):\n",
    "    model.train(False)\n",
    "\n",
    "    running_corrects = 0.0\n",
    "    running_loss = 0.0\n",
    "    size = 0\n",
    "\n",
    "    for data in data_loader:\n",
    "        inputs, labels = data\n",
    "        inputs = inputs.to(device)\n",
    "        labels = labels.to(device)\n",
    "        bs = labels.size(0)\n",
    "\n",
    "        output = model.forward(inputs)\n",
    "        loss = loss_fn(output, labels)\n",
    "\n",
    "        pred = output.max(1, keepdim=True)[1]\n",
    "        running_loss += loss\n",
    "        running_corrects += pred.eq(labels.view_as(pred)).sum()\n",
    "\n",
    "        size += bs\n",
    "\n",
    "    print('Test - Loss: {:.4f} Acc: {:.4f}'.format(running_loss / size, running_corrects.item() / size))"
   ]
  },
  {
   "cell_type": "code",
   "execution_count": 9,
   "metadata": {},
   "outputs": [],
   "source": [
    "def train_and_test(model,data_loader_train, data_loader_test,loss_fn,optimizer,n_epochs=1):\n",
    "    model = model.to(device)\n",
    "    model.train(True)\n",
    "    loss_train = np.zeros(n_epochs)\n",
    "    acc_train = np.zeros(n_epochs)\n",
    "    loss_test = np.zeros(n_epochs)\n",
    "    acc_test = np.zeros(n_epochs)\n",
    "    \n",
    "    for epoch_num in tqdm(range(n_epochs)):\n",
    "        running_corrects = 0.0\n",
    "        running_loss = 0.0\n",
    "        size = 0\n",
    "\n",
    "        for data in data_loader_train:\n",
    "            inputs, labels = data\n",
    "            inputs = inputs.to(device)\n",
    "            labels = labels.to(device)\n",
    "            bs = labels.size(0)\n",
    "            output = model.forward(inputs)\n",
    "            loss = loss_fn(output, labels)\n",
    "\n",
    "            optimizer.zero_grad()\n",
    "            loss.backward()\n",
    "            optimizer.step()\n",
    "\n",
    "            pred = output.max(1, keepdim=True)[1]\n",
    "            running_loss += loss\n",
    "            running_corrects += pred.eq(labels.view_as(pred)).sum()\n",
    "            size += bs\n",
    "        epoch_loss = running_loss.item() / size\n",
    "        epoch_acc = running_corrects.item() / size\n",
    "        loss_train[epoch_num] = epoch_loss\n",
    "        acc_train[epoch_num] = epoch_acc\n",
    "        print('Train - Loss: {:.4f} Acc: {:.4f}'.format(epoch_loss, epoch_acc))\n",
    "        \n",
    "        running_corrects = 0.0\n",
    "        running_loss = 0.0\n",
    "        size = 0\n",
    "\n",
    "        for data in data_loader_test:\n",
    "            inputs, labels = data\n",
    "            inputs = inputs.to(device)\n",
    "            labels = labels.to(device)\n",
    "            bs = labels.size(0)\n",
    "\n",
    "            output = model.forward(inputs)\n",
    "            loss = loss_fn(output, labels)\n",
    "\n",
    "            pred = output.max(1, keepdim=True)[1]\n",
    "            running_loss += loss\n",
    "            running_corrects += pred.eq(labels.view_as(pred)).sum()\n",
    "\n",
    "            size += bs\n",
    "\n",
    "        print('Test - Loss: {:.4f} Acc: {:.4f}'.format(running_loss / size, running_corrects.item() / size))\n",
    "        loss_test[epoch_num] = running_loss / size\n",
    "        acc_test[epoch_num] = running_corrects.item() / size\n",
    "        \n",
    "    return loss_train, acc_train, loss_test, acc_test"
   ]
  },
  {
   "cell_type": "code",
   "execution_count": 10,
   "metadata": {},
   "outputs": [],
   "source": [
    "def predict(model, data_loader):\n",
    "    model.eval()\n",
    "    predictions = []\n",
    "    labels_all = []\n",
    "    \n",
    "    with torch.no_grad():\n",
    "        for inputs, labels in data_loader:\n",
    "            inputs = inputs.to(device)\n",
    "            labels = labels.to(device)\n",
    "            outputs = model(inputs)\n",
    "            _, preds = torch.max(outputs, 1)\n",
    "            predictions.extend(preds.cpu().numpy())\n",
    "            labels_all.extend(labels.cpu().numpy())\n",
    "    \n",
    "    return labels_all, predictions"
   ]
  },
  {
   "cell_type": "code",
   "execution_count": 11,
   "metadata": {},
   "outputs": [],
   "source": [
    "def plot_confusion_matrix(cm, classes, normalize= False, title= 'Confusion Matrix', cmap= plt.cm.Blues):\n",
    "    plt.figure(figsize= (4, 4))\n",
    "    plt.imshow(cm, interpolation= 'nearest', cmap= cmap)\n",
    "    plt.title(title)\n",
    "    plt.colorbar()\n",
    "    tick_marks = np.arange(len(classes))\n",
    "    plt.xticks(tick_marks, classes, rotation= 45)\n",
    "    plt.yticks(tick_marks, classes)\n",
    "    if normalize:\n",
    "        cm = cm.astype('float') / cm.sum(axis= 1)[:, np.newaxis]\n",
    "        print('Normalized Confusion Matrix')\n",
    "    else:\n",
    "        print('Confusion Matrix, Without Normalization')\n",
    "\n",
    "    thresh = cm.max() / 2.\n",
    "    for i, j in itertools.product(range(cm.shape[0]), range(cm.shape[1])):\n",
    "        plt.text(j, i, cm[i, j], horizontalalignment= 'center', color= 'white' if cm[i, j] > thresh else 'black')\n",
    "    plt.tight_layout()\n",
    "    plt.ylabel('True Label')\n",
    "    plt.xlabel('Predicted Label')\n",
    "    plt.show()"
   ]
  },
  {
   "cell_type": "code",
   "execution_count": 12,
   "metadata": {},
   "outputs": [],
   "source": [
    "def evaluation_plots(model, test_loader, loss_train, acc_train, loss_test, acc_test):\n",
    "    plt.plot(np.arange(1,len(loss_train)+1), loss_train, label='Loss train')\n",
    "    plt.plot(np.arange(1,len(loss_test)+1), loss_test, label='Loss test')\n",
    "    plt.legend()\n",
    "    plt.title('Loss according to the number of epochs')\n",
    "    plt.xlabel('Epochs')\n",
    "    plt.ylabel('Loss')\n",
    "    plt.show()\n",
    "    \n",
    "    plt.plot(np.arange(1,len(loss_train)+1), np.log(loss_train), label='Loss train')\n",
    "    plt.plot(np.arange(1,len(loss_test)+1), np.log(loss_test), label='Loss test')\n",
    "    plt.legend()\n",
    "    plt.title('Log loss according to the number of epochs')\n",
    "    plt.xlabel('Epochs')\n",
    "    plt.ylabel('Log loss')\n",
    "    plt.show()\n",
    "    \n",
    "    plt.plot(np.arange(1,len(acc_train)+1), acc_train, label='Train accuracy')\n",
    "    plt.plot(np.arange(1,len(acc_test)+1), acc_test, label='Test accuracy')\n",
    "    plt.legend()\n",
    "    plt.title('Accuracy according to the number of epochs')\n",
    "    plt.xlabel('Epochs')\n",
    "    plt.ylabel('Accuracy')\n",
    "    plt.show()\n",
    "    \n",
    "    labels, predictions = predict(model,test_loader)\n",
    "\n",
    "    target_names = ['yes','no']\n",
    "\n",
    "    cm = confusion_matrix(labels, predictions)\n",
    "    plot_confusion_matrix(cm= cm, classes= target_names, title = 'Confusion Matrix')\n",
    "\n",
    "    print(classification_report(labels, predictions, target_names= target_names))"
   ]
  },
  {
   "cell_type": "markdown",
   "metadata": {},
   "source": [
    "## Models framework\n",
    "\n",
    "We'll explore different neural network shape: large, deep, and pyramidal"
   ]
  },
  {
   "cell_type": "markdown",
   "metadata": {},
   "source": [
    "### Large neural network\n",
    "\n",
    "Only one layer with a large number of convolutional kernels"
   ]
  },
  {
   "cell_type": "code",
   "execution_count": 13,
   "metadata": {},
   "outputs": [],
   "source": [
    "class classifier_large(nn.Module):\n",
    "\n",
    "    def __init__(self, dropout_rate):\n",
    "        super(classifier_large, self).__init__()\n",
    "        self.conv1 = nn.Conv2d(in_channels=3, out_channels=50, kernel_size=5, padding=2)\n",
    "        self.dropout1 = nn.Dropout(dropout_rate)\n",
    "        self.fc = nn.Linear(in_features=50*75*75, out_features=2)\n",
    "\n",
    "    def forward(self,x):\n",
    "        x = self.conv1(x)\n",
    "        x = F.max_pool2d(x, kernel_size=2, padding=0)\n",
    "        x = self.dropout1(x)\n",
    "        \n",
    "        flat = nn.Flatten(1,3)\n",
    "        x = flat(x)\n",
    "        x = self.fc(x)\n",
    "        x = F.log_softmax(x,1)\n",
    "        \n",
    "        return x"
   ]
  },
  {
   "cell_type": "markdown",
   "metadata": {},
   "source": [
    "### Deep neural network\n",
    "\n",
    "3 layers, a low number of convolutional kernels, each layer having about the same parameters"
   ]
  },
  {
   "cell_type": "code",
   "execution_count": 14,
   "metadata": {},
   "outputs": [],
   "source": [
    "class classifier_deep(nn.Module):\n",
    "\n",
    "    def __init__(self, dropout_rate):\n",
    "        super(classifier_deep, self).__init__()\n",
    "        \n",
    "        self.conv1 = nn.Conv2d(in_channels=3, out_channels=4, kernel_size=5, padding=2)\n",
    "        self.dropout1 = nn.Dropout(dropout_rate)\n",
    "        \n",
    "        self.conv2 = nn.Conv2d(in_channels=4, out_channels=4, kernel_size=5, padding=2)\n",
    "        self.dropout2 = nn.Dropout(dropout_rate)\n",
    "        \n",
    "        self.conv3 = nn.Conv2d(in_channels=4, out_channels=4, kernel_size=5, padding=2)\n",
    "        self.dropout3 = nn.Dropout(dropout_rate)\n",
    "        \n",
    "        self.fc = nn.Linear(in_features=100, out_features=2)\n",
    "\n",
    "    def forward(self,x):\n",
    "        x = self.conv1(x)\n",
    "        x = F.max_pool2d(x, kernel_size=2, padding=0)\n",
    "        x = self.dropout1(x)\n",
    "        \n",
    "        x = self.conv2(x)\n",
    "        x = F.max_pool2d(x, kernel_size=3, padding=0)\n",
    "        x = self.dropout2(x)\n",
    "        \n",
    "        x = self.conv3(x)\n",
    "        x = F.max_pool2d(x, kernel_size=5, padding=0)\n",
    "        x = self.dropout3(x)\n",
    "        \n",
    "        flat = nn.Flatten(1,3)\n",
    "        x = flat(x)\n",
    "        x = self.fc(x)\n",
    "        x = F.log_softmax(x,1)\n",
    "        return x\n",
    "    \n",
    "    def predict(self, data_loader):\n",
    "        self.eval()\n",
    "        predictions = []\n",
    "        labels_all = []\n",
    "        \n",
    "        with torch.no_grad():\n",
    "            for inputs, labels in data_loader:\n",
    "                inputs = inputs.to(device)\n",
    "                labels = labels.to(device)\n",
    "                outputs = self(inputs)\n",
    "                _, preds = torch.max(outputs, 1)\n",
    "                predictions.extend(preds.cpu().numpy())\n",
    "                labels_all.extend(labels.cpu().numpy())\n",
    "        \n",
    "        self.train() \n",
    "        return labels_all, predictions"
   ]
  },
  {
   "cell_type": "markdown",
   "metadata": {},
   "source": [
    "### Pyramidal neural network\n",
    "\n",
    "Start with a large number of convolutional kernels on the first hidden layers, which decrease as we go deeper"
   ]
  },
  {
   "cell_type": "code",
   "execution_count": 15,
   "metadata": {},
   "outputs": [],
   "source": [
    "class classifier_pyramid(nn.Module):\n",
    "\n",
    "    def __init__(self, dropout_rate):\n",
    "        \n",
    "        super(classifier_pyramid, self).__init__()\n",
    "        self.conv1 = nn.Conv2d(in_channels=3, out_channels=50, kernel_size=5, padding=2)\n",
    "        self.dropout1 = nn.Dropout(dropout_rate)\n",
    "        \n",
    "        self.conv2 = nn.Conv2d(in_channels=50, out_channels=25, kernel_size=3, padding=1)\n",
    "        self.dropout2 = nn.Dropout(dropout_rate)\n",
    "        \n",
    "        self.conv3 = nn.Conv2d(in_channels=25, out_channels=5, kernel_size=3, padding=1)\n",
    "        self.dropout3 = nn.Dropout(dropout_rate)\n",
    "        \n",
    "        self.fc = nn.Linear(in_features=125,\n",
    "                            out_features=2)\n",
    "\n",
    "    def forward(self,x):\n",
    "        x = self.conv1(x)\n",
    "        x = F.max_pool2d(x, kernel_size=2, padding=0)\n",
    "        x = self.dropout1(x)\n",
    "        \n",
    "        x = self.conv2(x)\n",
    "        x = F.max_pool2d(x, kernel_size=3, padding=0)\n",
    "        x = self.dropout2(x)\n",
    "        \n",
    "        x = self.conv3(x)\n",
    "        x = F.max_pool2d(x, kernel_size=5, padding=0)\n",
    "        x = self.dropout3(x)\n",
    "        \n",
    "        flat = nn.Flatten(1,3)\n",
    "        x = flat(x)\n",
    "        x = self.fc(x)\n",
    "        x = F.log_softmax(x,1)\n",
    "        return x\n",
    "    \n",
    "    def predict(self, data_loader):\n",
    "        self.eval()\n",
    "        predictions = []\n",
    "        labels_all = []\n",
    "        \n",
    "        with torch.no_grad():\n",
    "            for inputs, labels in data_loader:\n",
    "                inputs = inputs.to(device)\n",
    "                labels = labels.to(device)\n",
    "                outputs = self(inputs)\n",
    "                _, preds = torch.max(outputs, 1)\n",
    "                predictions.extend(preds.cpu().numpy())\n",
    "                labels_all.extend(labels.cpu().numpy())\n",
    "        \n",
    "        self.train() \n",
    "        return labels_all, predictions"
   ]
  },
  {
   "cell_type": "markdown",
   "metadata": {},
   "source": [
    "#### Test "
   ]
  },
  {
   "cell_type": "code",
   "execution_count": 16,
   "metadata": {},
   "outputs": [
    {
     "name": "stdout",
     "output_type": "stream",
     "text": [
      "Train - Loss: 61.6046 Acc: 0.5536\n",
      "Train - Loss: 5.1077 Acc: 0.4940\n"
     ]
    }
   ],
   "source": [
    "# Initialize the model and optimizer\n",
    "\n",
    "# conv_class = classifier_large(0.5)\n",
    "\n",
    "# conv_class = classifier_deep(0.5)\n",
    "\n",
    "conv_class = classifier_pyramid(0.5)\n",
    "\n",
    "loss_fn = nn.NLLLoss()\n",
    "learning_rate = 0.0001\n",
    "optimizer_cl = torch.optim.RMSprop(conv_class.parameters())\n",
    "\n",
    "# Train the model on the current fold\n",
    "loss_train, acc_train = train(conv_class, train_loader, loss_fn, optimizer_cl, 2, verbose=True)"
   ]
  },
  {
   "cell_type": "markdown",
   "metadata": {},
   "source": [
    "## Hyperparameter optimization with cross validation"
   ]
  },
  {
   "cell_type": "code",
   "execution_count": 17,
   "metadata": {},
   "outputs": [
    {
     "name": "stderr",
     "output_type": "stream",
     "text": [
      "Failed to detect the name of this notebook, you can set it manually with the WANDB_NOTEBOOK_NAME environment variable to enable code saving.\n"
     ]
    },
    {
     "name": "stderr",
     "output_type": "stream",
     "text": [
      "\u001b[34m\u001b[1mwandb\u001b[0m: Currently logged in as: \u001b[33moriane-cavrois\u001b[0m. Use \u001b[1m`wandb login --relogin`\u001b[0m to force relogin\n"
     ]
    },
    {
     "data": {
      "text/plain": [
       "True"
      ]
     },
     "execution_count": 17,
     "metadata": {},
     "output_type": "execute_result"
    }
   ],
   "source": [
    "wandb.login()"
   ]
  },
  {
   "cell_type": "markdown",
   "metadata": {},
   "source": [
    "Weight and biases project: https://wandb.ai/oriane-cavrois/brain_image_architecture_optimization_3"
   ]
  },
  {
   "cell_type": "code",
   "execution_count": 18,
   "metadata": {},
   "outputs": [
    {
     "name": "stdout",
     "output_type": "stream",
     "text": [
      "Iteration 1\n",
      "Architecture: large\n",
      "Number of epochs: 5\n",
      "(5, 0.0078000000000000005, 6, 'large', 0.35000000000000003)\n"
     ]
    },
    {
     "data": {
      "text/html": [
       "wandb version 0.16.3 is available!  To upgrade, please run:\n",
       " $ pip install wandb --upgrade"
      ],
      "text/plain": [
       "<IPython.core.display.HTML object>"
      ]
     },
     "metadata": {},
     "output_type": "display_data"
    },
    {
     "data": {
      "text/html": [
       "Tracking run with wandb version 0.16.2"
      ],
      "text/plain": [
       "<IPython.core.display.HTML object>"
      ]
     },
     "metadata": {},
     "output_type": "display_data"
    },
    {
     "data": {
      "text/html": [
       "Run data is saved locally in <code>/Users/orianecavrois/Documents/Perso/MachineLearning/Github/Brain-tumor-image-classification/wandb/run-20240206_192825-vorxeyiu</code>"
      ],
      "text/plain": [
       "<IPython.core.display.HTML object>"
      ]
     },
     "metadata": {},
     "output_type": "display_data"
    },
    {
     "data": {
      "text/html": [
       "Syncing run <strong><a href='https://wandb.ai/oriane-cavrois/brain_image_architecture_optimization_3/runs/vorxeyiu' target=\"_blank\">clean-capybara-18</a></strong> to <a href='https://wandb.ai/oriane-cavrois/brain_image_architecture_optimization_3' target=\"_blank\">Weights & Biases</a> (<a href='https://wandb.me/run' target=\"_blank\">docs</a>)<br/>"
      ],
      "text/plain": [
       "<IPython.core.display.HTML object>"
      ]
     },
     "metadata": {},
     "output_type": "display_data"
    },
    {
     "data": {
      "text/html": [
       " View project at <a href='https://wandb.ai/oriane-cavrois/brain_image_architecture_optimization_3' target=\"_blank\">https://wandb.ai/oriane-cavrois/brain_image_architecture_optimization_3</a>"
      ],
      "text/plain": [
       "<IPython.core.display.HTML object>"
      ]
     },
     "metadata": {},
     "output_type": "display_data"
    },
    {
     "data": {
      "text/html": [
       " View run at <a href='https://wandb.ai/oriane-cavrois/brain_image_architecture_optimization_3/runs/vorxeyiu' target=\"_blank\">https://wandb.ai/oriane-cavrois/brain_image_architecture_optimization_3/runs/vorxeyiu</a>"
      ],
      "text/plain": [
       "<IPython.core.display.HTML object>"
      ]
     },
     "metadata": {},
     "output_type": "display_data"
    },
    {
     "name": "stdout",
     "output_type": "stream",
     "text": [
      "Fold 1\n",
      "-------\n",
      "Test set: Average loss: 46.2876, Accuracy: 44/85 (51.76%)\n",
      "\n",
      "Fold 2\n",
      "-------\n",
      "Test set: Average loss: 2.1444, Accuracy: 54/85 (63.53%)\n",
      "\n",
      "Fold 3\n",
      "-------\n",
      "Test set: Average loss: 0.8259, Accuracy: 54/85 (63.53%)\n",
      "\n",
      "--------------------------------------\n"
     ]
    },
    {
     "name": "stderr",
     "output_type": "stream",
     "text": [
      "wandb: WARNING Source type is set to 'repo' but some required information is missing from the environment. A job will not be created from this run. See https://docs.wandb.ai/guides/launch/create-job\n"
     ]
    },
    {
     "data": {
      "application/vnd.jupyter.widget-view+json": {
       "model_id": "19f0ab1426c84f2caead5ad69bcc7a21",
       "version_major": 2,
       "version_minor": 0
      },
      "text/plain": [
       "VBox(children=(Label(value='0.001 MB of 0.001 MB uploaded\\r'), FloatProgress(value=1.0, max=1.0)))"
      ]
     },
     "metadata": {},
     "output_type": "display_data"
    },
    {
     "data": {
      "text/html": [
       "<style>\n",
       "    table.wandb td:nth-child(1) { padding: 0 10px; text-align: left ; width: auto;} td:nth-child(2) {text-align: left ; width: 100%}\n",
       "    .wandb-row { display: flex; flex-direction: row; flex-wrap: wrap; justify-content: flex-start; width: 100% }\n",
       "    .wandb-col { display: flex; flex-direction: column; flex-basis: 100%; flex: 1; padding: 10px; }\n",
       "    </style>\n",
       "<div class=\"wandb-row\"><div class=\"wandb-col\"><h3>Run history:</h3><br/><table class=\"wandb\"><tr><td>test accuracy</td><td>▁</td></tr><tr><td>test loss</td><td>▁</td></tr><tr><td>train accuracy</td><td>▁</td></tr><tr><td>train loss</td><td>▁</td></tr></table><br/></div><div class=\"wandb-col\"><h3>Run summary:</h3><br/><table class=\"wandb\"><tr><td>test accuracy</td><td>0.59608</td></tr><tr><td>test loss</td><td>16.41932</td></tr><tr><td>train accuracy</td><td>0.85298</td></tr><tr><td>train loss</td><td>102.77076</td></tr></table><br/></div></div>"
      ],
      "text/plain": [
       "<IPython.core.display.HTML object>"
      ]
     },
     "metadata": {},
     "output_type": "display_data"
    },
    {
     "data": {
      "text/html": [
       " View run <strong style=\"color:#cdcd00\">clean-capybara-18</strong> at: <a href='https://wandb.ai/oriane-cavrois/brain_image_architecture_optimization_3/runs/vorxeyiu' target=\"_blank\">https://wandb.ai/oriane-cavrois/brain_image_architecture_optimization_3/runs/vorxeyiu</a><br/>Synced 5 W&B file(s), 0 media file(s), 0 artifact file(s) and 0 other file(s)"
      ],
      "text/plain": [
       "<IPython.core.display.HTML object>"
      ]
     },
     "metadata": {},
     "output_type": "display_data"
    },
    {
     "data": {
      "text/html": [
       "Find logs at: <code>./wandb/run-20240206_192825-vorxeyiu/logs</code>"
      ],
      "text/plain": [
       "<IPython.core.display.HTML object>"
      ]
     },
     "metadata": {},
     "output_type": "display_data"
    },
    {
     "name": "stdout",
     "output_type": "stream",
     "text": [
      "Iteration 2\n",
      "Architecture: deep\n",
      "Number of epochs: 20\n",
      "(20, 0.00285, 11, 'deep', 0.45)\n"
     ]
    },
    {
     "data": {
      "application/vnd.jupyter.widget-view+json": {
       "model_id": "49a7c5ec1353440197ac5f0a46e03e4e",
       "version_major": 2,
       "version_minor": 0
      },
      "text/plain": [
       "VBox(children=(Label(value='Waiting for wandb.init()...\\r'), FloatProgress(value=0.011167790733331155, max=1.0…"
      ]
     },
     "metadata": {},
     "output_type": "display_data"
    },
    {
     "data": {
      "text/html": [
       "wandb version 0.16.3 is available!  To upgrade, please run:\n",
       " $ pip install wandb --upgrade"
      ],
      "text/plain": [
       "<IPython.core.display.HTML object>"
      ]
     },
     "metadata": {},
     "output_type": "display_data"
    },
    {
     "data": {
      "text/html": [
       "Tracking run with wandb version 0.16.2"
      ],
      "text/plain": [
       "<IPython.core.display.HTML object>"
      ]
     },
     "metadata": {},
     "output_type": "display_data"
    },
    {
     "data": {
      "text/html": [
       "Run data is saved locally in <code>/Users/orianecavrois/Documents/Perso/MachineLearning/Github/Brain-tumor-image-classification/wandb/run-20240206_192839-ms1xe74w</code>"
      ],
      "text/plain": [
       "<IPython.core.display.HTML object>"
      ]
     },
     "metadata": {},
     "output_type": "display_data"
    },
    {
     "data": {
      "text/html": [
       "Syncing run <strong><a href='https://wandb.ai/oriane-cavrois/brain_image_architecture_optimization_3/runs/ms1xe74w' target=\"_blank\">dulcet-frost-19</a></strong> to <a href='https://wandb.ai/oriane-cavrois/brain_image_architecture_optimization_3' target=\"_blank\">Weights & Biases</a> (<a href='https://wandb.me/run' target=\"_blank\">docs</a>)<br/>"
      ],
      "text/plain": [
       "<IPython.core.display.HTML object>"
      ]
     },
     "metadata": {},
     "output_type": "display_data"
    },
    {
     "data": {
      "text/html": [
       " View project at <a href='https://wandb.ai/oriane-cavrois/brain_image_architecture_optimization_3' target=\"_blank\">https://wandb.ai/oriane-cavrois/brain_image_architecture_optimization_3</a>"
      ],
      "text/plain": [
       "<IPython.core.display.HTML object>"
      ]
     },
     "metadata": {},
     "output_type": "display_data"
    },
    {
     "data": {
      "text/html": [
       " View run at <a href='https://wandb.ai/oriane-cavrois/brain_image_architecture_optimization_3/runs/ms1xe74w' target=\"_blank\">https://wandb.ai/oriane-cavrois/brain_image_architecture_optimization_3/runs/ms1xe74w</a>"
      ],
      "text/plain": [
       "<IPython.core.display.HTML object>"
      ]
     },
     "metadata": {},
     "output_type": "display_data"
    },
    {
     "name": "stdout",
     "output_type": "stream",
     "text": [
      "Fold 1\n",
      "-------\n",
      "Test set: Average loss: 0.8544, Accuracy: 22/85 (25.88%)\n",
      "\n",
      "Fold 2\n",
      "-------\n",
      "Test set: Average loss: 0.3889, Accuracy: 44/85 (51.76%)\n",
      "\n",
      "Fold 3\n",
      "-------\n",
      "Test set: Average loss: 0.4325, Accuracy: 36/85 (42.35%)\n",
      "\n",
      "--------------------------------------\n"
     ]
    },
    {
     "name": "stderr",
     "output_type": "stream",
     "text": [
      "wandb: WARNING Source type is set to 'repo' but some required information is missing from the environment. A job will not be created from this run. See https://docs.wandb.ai/guides/launch/create-job\n"
     ]
    },
    {
     "data": {
      "application/vnd.jupyter.widget-view+json": {
       "model_id": "d96f4ca6dac6480eabd7cc9c7cfe0ce7",
       "version_major": 2,
       "version_minor": 0
      },
      "text/plain": [
       "VBox(children=(Label(value='0.002 MB of 0.004 MB uploaded\\r'), FloatProgress(value=0.6902419569263494, max=1.0…"
      ]
     },
     "metadata": {},
     "output_type": "display_data"
    },
    {
     "data": {
      "text/html": [
       "<style>\n",
       "    table.wandb td:nth-child(1) { padding: 0 10px; text-align: left ; width: auto;} td:nth-child(2) {text-align: left ; width: 100%}\n",
       "    .wandb-row { display: flex; flex-direction: row; flex-wrap: wrap; justify-content: flex-start; width: 100% }\n",
       "    .wandb-col { display: flex; flex-direction: column; flex-basis: 100%; flex: 1; padding: 10px; }\n",
       "    </style>\n",
       "<div class=\"wandb-row\"><div class=\"wandb-col\"><h3>Run history:</h3><br/><table class=\"wandb\"><tr><td>test accuracy</td><td>▁</td></tr><tr><td>test loss</td><td>▁</td></tr><tr><td>train accuracy</td><td>▁</td></tr><tr><td>train loss</td><td>▁</td></tr></table><br/></div><div class=\"wandb-col\"><h3>Run summary:</h3><br/><table class=\"wandb\"><tr><td>test accuracy</td><td>0.4</td></tr><tr><td>test loss</td><td>0.55859</td></tr><tr><td>train accuracy</td><td>0.62932</td></tr><tr><td>train loss</td><td>0.29885</td></tr></table><br/></div></div>"
      ],
      "text/plain": [
       "<IPython.core.display.HTML object>"
      ]
     },
     "metadata": {},
     "output_type": "display_data"
    },
    {
     "data": {
      "text/html": [
       " View run <strong style=\"color:#cdcd00\">dulcet-frost-19</strong> at: <a href='https://wandb.ai/oriane-cavrois/brain_image_architecture_optimization_3/runs/ms1xe74w' target=\"_blank\">https://wandb.ai/oriane-cavrois/brain_image_architecture_optimization_3/runs/ms1xe74w</a><br/>Synced 5 W&B file(s), 0 media file(s), 0 artifact file(s) and 0 other file(s)"
      ],
      "text/plain": [
       "<IPython.core.display.HTML object>"
      ]
     },
     "metadata": {},
     "output_type": "display_data"
    },
    {
     "data": {
      "text/html": [
       "Find logs at: <code>./wandb/run-20240206_192839-ms1xe74w/logs</code>"
      ],
      "text/plain": [
       "<IPython.core.display.HTML object>"
      ]
     },
     "metadata": {},
     "output_type": "display_data"
    },
    {
     "name": "stdout",
     "output_type": "stream",
     "text": [
      "Iteration 3\n",
      "Architecture: deep\n",
      "Number of epochs: 5\n",
      "(5, 0.006150000000000001, 9, 'deep', 0.0)\n"
     ]
    },
    {
     "data": {
      "application/vnd.jupyter.widget-view+json": {
       "model_id": "9fce31ec951040d79dec3bea50f60407",
       "version_major": 2,
       "version_minor": 0
      },
      "text/plain": [
       "VBox(children=(Label(value='Waiting for wandb.init()...\\r'), FloatProgress(value=0.011117125000035028, max=1.0…"
      ]
     },
     "metadata": {},
     "output_type": "display_data"
    },
    {
     "data": {
      "text/html": [
       "wandb version 0.16.3 is available!  To upgrade, please run:\n",
       " $ pip install wandb --upgrade"
      ],
      "text/plain": [
       "<IPython.core.display.HTML object>"
      ]
     },
     "metadata": {},
     "output_type": "display_data"
    },
    {
     "data": {
      "text/html": [
       "Tracking run with wandb version 0.16.2"
      ],
      "text/plain": [
       "<IPython.core.display.HTML object>"
      ]
     },
     "metadata": {},
     "output_type": "display_data"
    },
    {
     "data": {
      "text/html": [
       "Run data is saved locally in <code>/Users/orianecavrois/Documents/Perso/MachineLearning/Github/Brain-tumor-image-classification/wandb/run-20240206_192918-xvf7xvbu</code>"
      ],
      "text/plain": [
       "<IPython.core.display.HTML object>"
      ]
     },
     "metadata": {},
     "output_type": "display_data"
    },
    {
     "data": {
      "text/html": [
       "Syncing run <strong><a href='https://wandb.ai/oriane-cavrois/brain_image_architecture_optimization_3/runs/xvf7xvbu' target=\"_blank\">polished-glade-20</a></strong> to <a href='https://wandb.ai/oriane-cavrois/brain_image_architecture_optimization_3' target=\"_blank\">Weights & Biases</a> (<a href='https://wandb.me/run' target=\"_blank\">docs</a>)<br/>"
      ],
      "text/plain": [
       "<IPython.core.display.HTML object>"
      ]
     },
     "metadata": {},
     "output_type": "display_data"
    },
    {
     "data": {
      "text/html": [
       " View project at <a href='https://wandb.ai/oriane-cavrois/brain_image_architecture_optimization_3' target=\"_blank\">https://wandb.ai/oriane-cavrois/brain_image_architecture_optimization_3</a>"
      ],
      "text/plain": [
       "<IPython.core.display.HTML object>"
      ]
     },
     "metadata": {},
     "output_type": "display_data"
    },
    {
     "data": {
      "text/html": [
       " View run at <a href='https://wandb.ai/oriane-cavrois/brain_image_architecture_optimization_3/runs/xvf7xvbu' target=\"_blank\">https://wandb.ai/oriane-cavrois/brain_image_architecture_optimization_3/runs/xvf7xvbu</a>"
      ],
      "text/plain": [
       "<IPython.core.display.HTML object>"
      ]
     },
     "metadata": {},
     "output_type": "display_data"
    },
    {
     "name": "stdout",
     "output_type": "stream",
     "text": [
      "Fold 1\n",
      "-------\n",
      "Test set: Average loss: 0.5495, Accuracy: 43/85 (50.59%)\n",
      "\n",
      "Fold 2\n",
      "-------\n",
      "Test set: Average loss: 0.2995, Accuracy: 45/85 (52.94%)\n",
      "\n",
      "Fold 3\n",
      "-------\n",
      "Test set: Average loss: 0.3928, Accuracy: 38/85 (44.71%)\n",
      "\n",
      "--------------------------------------\n"
     ]
    },
    {
     "name": "stderr",
     "output_type": "stream",
     "text": [
      "wandb: WARNING Source type is set to 'repo' but some required information is missing from the environment. A job will not be created from this run. See https://docs.wandb.ai/guides/launch/create-job\n"
     ]
    },
    {
     "data": {
      "application/vnd.jupyter.widget-view+json": {
       "model_id": "acaea75c095d4dcd9728a1e6d5037304",
       "version_major": 2,
       "version_minor": 0
      },
      "text/plain": [
       "VBox(children=(Label(value='0.001 MB of 0.001 MB uploaded\\r'), FloatProgress(value=1.0, max=1.0)))"
      ]
     },
     "metadata": {},
     "output_type": "display_data"
    },
    {
     "data": {
      "text/html": [
       "<style>\n",
       "    table.wandb td:nth-child(1) { padding: 0 10px; text-align: left ; width: auto;} td:nth-child(2) {text-align: left ; width: 100%}\n",
       "    .wandb-row { display: flex; flex-direction: row; flex-wrap: wrap; justify-content: flex-start; width: 100% }\n",
       "    .wandb-col { display: flex; flex-direction: column; flex-basis: 100%; flex: 1; padding: 10px; }\n",
       "    </style>\n",
       "<div class=\"wandb-row\"><div class=\"wandb-col\"><h3>Run history:</h3><br/><table class=\"wandb\"><tr><td>test accuracy</td><td>▁</td></tr><tr><td>test loss</td><td>▁</td></tr><tr><td>train accuracy</td><td>▁</td></tr><tr><td>train loss</td><td>▁</td></tr></table><br/></div><div class=\"wandb-col\"><h3>Run summary:</h3><br/><table class=\"wandb\"><tr><td>test accuracy</td><td>0.49412</td></tr><tr><td>test loss</td><td>0.41394</td></tr><tr><td>train accuracy</td><td>0.67262</td></tr><tr><td>train loss</td><td>1.02606</td></tr></table><br/></div></div>"
      ],
      "text/plain": [
       "<IPython.core.display.HTML object>"
      ]
     },
     "metadata": {},
     "output_type": "display_data"
    },
    {
     "data": {
      "text/html": [
       " View run <strong style=\"color:#cdcd00\">polished-glade-20</strong> at: <a href='https://wandb.ai/oriane-cavrois/brain_image_architecture_optimization_3/runs/xvf7xvbu' target=\"_blank\">https://wandb.ai/oriane-cavrois/brain_image_architecture_optimization_3/runs/xvf7xvbu</a><br/>Synced 5 W&B file(s), 0 media file(s), 0 artifact file(s) and 0 other file(s)"
      ],
      "text/plain": [
       "<IPython.core.display.HTML object>"
      ]
     },
     "metadata": {},
     "output_type": "display_data"
    },
    {
     "data": {
      "text/html": [
       "Find logs at: <code>./wandb/run-20240206_192918-xvf7xvbu/logs</code>"
      ],
      "text/plain": [
       "<IPython.core.display.HTML object>"
      ]
     },
     "metadata": {},
     "output_type": "display_data"
    },
    {
     "name": "stdout",
     "output_type": "stream",
     "text": [
      "Iteration 4\n",
      "Architecture: deep\n",
      "Number of epochs: 40\n",
      "(40, 0.00285, 4, 'deep', 0.8)\n"
     ]
    },
    {
     "data": {
      "application/vnd.jupyter.widget-view+json": {
       "model_id": "d42be2fc680849b695045e5f3532de8b",
       "version_major": 2,
       "version_minor": 0
      },
      "text/plain": [
       "VBox(children=(Label(value='Waiting for wandb.init()...\\r'), FloatProgress(value=0.011153173611091916, max=1.0…"
      ]
     },
     "metadata": {},
     "output_type": "display_data"
    },
    {
     "data": {
      "text/html": [
       "wandb version 0.16.3 is available!  To upgrade, please run:\n",
       " $ pip install wandb --upgrade"
      ],
      "text/plain": [
       "<IPython.core.display.HTML object>"
      ]
     },
     "metadata": {},
     "output_type": "display_data"
    },
    {
     "data": {
      "text/html": [
       "Tracking run with wandb version 0.16.2"
      ],
      "text/plain": [
       "<IPython.core.display.HTML object>"
      ]
     },
     "metadata": {},
     "output_type": "display_data"
    },
    {
     "data": {
      "text/html": [
       "Run data is saved locally in <code>/Users/orianecavrois/Documents/Perso/MachineLearning/Github/Brain-tumor-image-classification/wandb/run-20240206_192933-3ms957fa</code>"
      ],
      "text/plain": [
       "<IPython.core.display.HTML object>"
      ]
     },
     "metadata": {},
     "output_type": "display_data"
    },
    {
     "data": {
      "text/html": [
       "Syncing run <strong><a href='https://wandb.ai/oriane-cavrois/brain_image_architecture_optimization_3/runs/3ms957fa' target=\"_blank\">classic-galaxy-21</a></strong> to <a href='https://wandb.ai/oriane-cavrois/brain_image_architecture_optimization_3' target=\"_blank\">Weights & Biases</a> (<a href='https://wandb.me/run' target=\"_blank\">docs</a>)<br/>"
      ],
      "text/plain": [
       "<IPython.core.display.HTML object>"
      ]
     },
     "metadata": {},
     "output_type": "display_data"
    },
    {
     "data": {
      "text/html": [
       " View project at <a href='https://wandb.ai/oriane-cavrois/brain_image_architecture_optimization_3' target=\"_blank\">https://wandb.ai/oriane-cavrois/brain_image_architecture_optimization_3</a>"
      ],
      "text/plain": [
       "<IPython.core.display.HTML object>"
      ]
     },
     "metadata": {},
     "output_type": "display_data"
    },
    {
     "data": {
      "text/html": [
       " View run at <a href='https://wandb.ai/oriane-cavrois/brain_image_architecture_optimization_3/runs/3ms957fa' target=\"_blank\">https://wandb.ai/oriane-cavrois/brain_image_architecture_optimization_3/runs/3ms957fa</a>"
      ],
      "text/plain": [
       "<IPython.core.display.HTML object>"
      ]
     },
     "metadata": {},
     "output_type": "display_data"
    },
    {
     "name": "stdout",
     "output_type": "stream",
     "text": [
      "Fold 1\n",
      "-------\n",
      "Test set: Average loss: 1.4894, Accuracy: 34/85 (40.00%)\n",
      "\n",
      "Fold 2\n",
      "-------\n",
      "Test set: Average loss: 1.0607, Accuracy: 38/85 (44.71%)\n",
      "\n",
      "Fold 3\n",
      "-------\n",
      "Test set: Average loss: 3.1733, Accuracy: 30/85 (35.29%)\n",
      "\n",
      "--------------------------------------\n"
     ]
    },
    {
     "name": "stderr",
     "output_type": "stream",
     "text": [
      "wandb: WARNING Source type is set to 'repo' but some required information is missing from the environment. A job will not be created from this run. See https://docs.wandb.ai/guides/launch/create-job\n"
     ]
    },
    {
     "data": {
      "application/vnd.jupyter.widget-view+json": {
       "model_id": "504c98e89ed145e18d99b01b73f27e81",
       "version_major": 2,
       "version_minor": 0
      },
      "text/plain": [
       "VBox(children=(Label(value='0.001 MB of 0.001 MB uploaded\\r'), FloatProgress(value=1.0, max=1.0)))"
      ]
     },
     "metadata": {},
     "output_type": "display_data"
    },
    {
     "data": {
      "text/html": [
       "<style>\n",
       "    table.wandb td:nth-child(1) { padding: 0 10px; text-align: left ; width: auto;} td:nth-child(2) {text-align: left ; width: 100%}\n",
       "    .wandb-row { display: flex; flex-direction: row; flex-wrap: wrap; justify-content: flex-start; width: 100% }\n",
       "    .wandb-col { display: flex; flex-direction: column; flex-basis: 100%; flex: 1; padding: 10px; }\n",
       "    </style>\n",
       "<div class=\"wandb-row\"><div class=\"wandb-col\"><h3>Run history:</h3><br/><table class=\"wandb\"><tr><td>test accuracy</td><td>▁</td></tr><tr><td>test loss</td><td>▁</td></tr><tr><td>train accuracy</td><td>▁</td></tr><tr><td>train loss</td><td>▁</td></tr></table><br/></div><div class=\"wandb-col\"><h3>Run summary:</h3><br/><table class=\"wandb\"><tr><td>test accuracy</td><td>0.4</td></tr><tr><td>test loss</td><td>1.90778</td></tr><tr><td>train accuracy</td><td>0.5494</td></tr><tr><td>train loss</td><td>0.59462</td></tr></table><br/></div></div>"
      ],
      "text/plain": [
       "<IPython.core.display.HTML object>"
      ]
     },
     "metadata": {},
     "output_type": "display_data"
    },
    {
     "data": {
      "text/html": [
       " View run <strong style=\"color:#cdcd00\">classic-galaxy-21</strong> at: <a href='https://wandb.ai/oriane-cavrois/brain_image_architecture_optimization_3/runs/3ms957fa' target=\"_blank\">https://wandb.ai/oriane-cavrois/brain_image_architecture_optimization_3/runs/3ms957fa</a><br/>Synced 5 W&B file(s), 0 media file(s), 0 artifact file(s) and 0 other file(s)"
      ],
      "text/plain": [
       "<IPython.core.display.HTML object>"
      ]
     },
     "metadata": {},
     "output_type": "display_data"
    },
    {
     "data": {
      "text/html": [
       "Find logs at: <code>./wandb/run-20240206_192933-3ms957fa/logs</code>"
      ],
      "text/plain": [
       "<IPython.core.display.HTML object>"
      ]
     },
     "metadata": {},
     "output_type": "display_data"
    },
    {
     "name": "stdout",
     "output_type": "stream",
     "text": [
      "Iteration 5\n",
      "Architecture: large\n",
      "Number of epochs: 35\n",
      "(35, 0.00835, 9, 'large', 0.2)\n"
     ]
    },
    {
     "data": {
      "application/vnd.jupyter.widget-view+json": {
       "model_id": "2dd2743af97d443f8b15a0da85e8a593",
       "version_major": 2,
       "version_minor": 0
      },
      "text/plain": [
       "VBox(children=(Label(value='Waiting for wandb.init()...\\r'), FloatProgress(value=0.01112241944441242, max=1.0)…"
      ]
     },
     "metadata": {},
     "output_type": "display_data"
    },
    {
     "data": {
      "text/html": [
       "wandb version 0.16.3 is available!  To upgrade, please run:\n",
       " $ pip install wandb --upgrade"
      ],
      "text/plain": [
       "<IPython.core.display.HTML object>"
      ]
     },
     "metadata": {},
     "output_type": "display_data"
    },
    {
     "data": {
      "text/html": [
       "Tracking run with wandb version 0.16.2"
      ],
      "text/plain": [
       "<IPython.core.display.HTML object>"
      ]
     },
     "metadata": {},
     "output_type": "display_data"
    },
    {
     "data": {
      "text/html": [
       "Run data is saved locally in <code>/Users/orianecavrois/Documents/Perso/MachineLearning/Github/Brain-tumor-image-classification/wandb/run-20240206_193100-4hfuhboa</code>"
      ],
      "text/plain": [
       "<IPython.core.display.HTML object>"
      ]
     },
     "metadata": {},
     "output_type": "display_data"
    },
    {
     "data": {
      "text/html": [
       "Syncing run <strong><a href='https://wandb.ai/oriane-cavrois/brain_image_architecture_optimization_3/runs/4hfuhboa' target=\"_blank\">peachy-music-22</a></strong> to <a href='https://wandb.ai/oriane-cavrois/brain_image_architecture_optimization_3' target=\"_blank\">Weights & Biases</a> (<a href='https://wandb.me/run' target=\"_blank\">docs</a>)<br/>"
      ],
      "text/plain": [
       "<IPython.core.display.HTML object>"
      ]
     },
     "metadata": {},
     "output_type": "display_data"
    },
    {
     "data": {
      "text/html": [
       " View project at <a href='https://wandb.ai/oriane-cavrois/brain_image_architecture_optimization_3' target=\"_blank\">https://wandb.ai/oriane-cavrois/brain_image_architecture_optimization_3</a>"
      ],
      "text/plain": [
       "<IPython.core.display.HTML object>"
      ]
     },
     "metadata": {},
     "output_type": "display_data"
    },
    {
     "data": {
      "text/html": [
       " View run at <a href='https://wandb.ai/oriane-cavrois/brain_image_architecture_optimization_3/runs/4hfuhboa' target=\"_blank\">https://wandb.ai/oriane-cavrois/brain_image_architecture_optimization_3/runs/4hfuhboa</a>"
      ],
      "text/plain": [
       "<IPython.core.display.HTML object>"
      ]
     },
     "metadata": {},
     "output_type": "display_data"
    },
    {
     "name": "stdout",
     "output_type": "stream",
     "text": [
      "Fold 1\n",
      "-------\n",
      "Test set: Average loss: 36.2183, Accuracy: 50/85 (58.82%)\n",
      "\n",
      "Fold 2\n",
      "-------\n",
      "Test set: Average loss: 270.3715, Accuracy: 47/85 (55.29%)\n",
      "\n",
      "Fold 3\n",
      "-------\n",
      "Test set: Average loss: 17.9518, Accuracy: 54/85 (63.53%)\n",
      "\n",
      "--------------------------------------\n"
     ]
    },
    {
     "name": "stderr",
     "output_type": "stream",
     "text": [
      "wandb: WARNING Source type is set to 'repo' but some required information is missing from the environment. A job will not be created from this run. See https://docs.wandb.ai/guides/launch/create-job\n"
     ]
    },
    {
     "data": {
      "application/vnd.jupyter.widget-view+json": {
       "model_id": "f9c14efdd6724f8a922ada92938c3f17",
       "version_major": 2,
       "version_minor": 0
      },
      "text/plain": [
       "VBox(children=(Label(value='0.001 MB of 0.001 MB uploaded\\r'), FloatProgress(value=1.0, max=1.0)))"
      ]
     },
     "metadata": {},
     "output_type": "display_data"
    },
    {
     "data": {
      "text/html": [
       "<style>\n",
       "    table.wandb td:nth-child(1) { padding: 0 10px; text-align: left ; width: auto;} td:nth-child(2) {text-align: left ; width: 100%}\n",
       "    .wandb-row { display: flex; flex-direction: row; flex-wrap: wrap; justify-content: flex-start; width: 100% }\n",
       "    .wandb-col { display: flex; flex-direction: column; flex-basis: 100%; flex: 1; padding: 10px; }\n",
       "    </style>\n",
       "<div class=\"wandb-row\"><div class=\"wandb-col\"><h3>Run history:</h3><br/><table class=\"wandb\"><tr><td>test accuracy</td><td>▁</td></tr><tr><td>test loss</td><td>▁</td></tr><tr><td>train accuracy</td><td>▁</td></tr><tr><td>train loss</td><td>▁</td></tr></table><br/></div><div class=\"wandb-col\"><h3>Run summary:</h3><br/><table class=\"wandb\"><tr><td>test accuracy</td><td>0.59216</td></tr><tr><td>test loss</td><td>108.18052</td></tr><tr><td>train accuracy</td><td>0.94762</td></tr><tr><td>train loss</td><td>30.39501</td></tr></table><br/></div></div>"
      ],
      "text/plain": [
       "<IPython.core.display.HTML object>"
      ]
     },
     "metadata": {},
     "output_type": "display_data"
    },
    {
     "data": {
      "text/html": [
       " View run <strong style=\"color:#cdcd00\">peachy-music-22</strong> at: <a href='https://wandb.ai/oriane-cavrois/brain_image_architecture_optimization_3/runs/4hfuhboa' target=\"_blank\">https://wandb.ai/oriane-cavrois/brain_image_architecture_optimization_3/runs/4hfuhboa</a><br/>Synced 5 W&B file(s), 0 media file(s), 0 artifact file(s) and 0 other file(s)"
      ],
      "text/plain": [
       "<IPython.core.display.HTML object>"
      ]
     },
     "metadata": {},
     "output_type": "display_data"
    },
    {
     "data": {
      "text/html": [
       "Find logs at: <code>./wandb/run-20240206_193100-4hfuhboa/logs</code>"
      ],
      "text/plain": [
       "<IPython.core.display.HTML object>"
      ]
     },
     "metadata": {},
     "output_type": "display_data"
    },
    {
     "name": "stdout",
     "output_type": "stream",
     "text": [
      "Iteration 6\n",
      "Architecture: deep\n",
      "Number of epochs: 15\n",
      "(15, 0.00395, 7, 'deep', 0.9500000000000001)\n"
     ]
    },
    {
     "data": {
      "application/vnd.jupyter.widget-view+json": {
       "model_id": "27ca84f81f6f41249efc87452c636f4d",
       "version_major": 2,
       "version_minor": 0
      },
      "text/plain": [
       "VBox(children=(Label(value='Waiting for wandb.init()...\\r'), FloatProgress(value=0.011168664822253049, max=1.0…"
      ]
     },
     "metadata": {},
     "output_type": "display_data"
    },
    {
     "data": {
      "text/html": [
       "wandb version 0.16.3 is available!  To upgrade, please run:\n",
       " $ pip install wandb --upgrade"
      ],
      "text/plain": [
       "<IPython.core.display.HTML object>"
      ]
     },
     "metadata": {},
     "output_type": "display_data"
    },
    {
     "data": {
      "text/html": [
       "Tracking run with wandb version 0.16.2"
      ],
      "text/plain": [
       "<IPython.core.display.HTML object>"
      ]
     },
     "metadata": {},
     "output_type": "display_data"
    },
    {
     "data": {
      "text/html": [
       "Run data is saved locally in <code>/Users/orianecavrois/Documents/Perso/MachineLearning/Github/Brain-tumor-image-classification/wandb/run-20240206_193159-3gycqxtr</code>"
      ],
      "text/plain": [
       "<IPython.core.display.HTML object>"
      ]
     },
     "metadata": {},
     "output_type": "display_data"
    },
    {
     "data": {
      "text/html": [
       "Syncing run <strong><a href='https://wandb.ai/oriane-cavrois/brain_image_architecture_optimization_3/runs/3gycqxtr' target=\"_blank\">flowing-dew-23</a></strong> to <a href='https://wandb.ai/oriane-cavrois/brain_image_architecture_optimization_3' target=\"_blank\">Weights & Biases</a> (<a href='https://wandb.me/run' target=\"_blank\">docs</a>)<br/>"
      ],
      "text/plain": [
       "<IPython.core.display.HTML object>"
      ]
     },
     "metadata": {},
     "output_type": "display_data"
    },
    {
     "data": {
      "text/html": [
       " View project at <a href='https://wandb.ai/oriane-cavrois/brain_image_architecture_optimization_3' target=\"_blank\">https://wandb.ai/oriane-cavrois/brain_image_architecture_optimization_3</a>"
      ],
      "text/plain": [
       "<IPython.core.display.HTML object>"
      ]
     },
     "metadata": {},
     "output_type": "display_data"
    },
    {
     "data": {
      "text/html": [
       " View run at <a href='https://wandb.ai/oriane-cavrois/brain_image_architecture_optimization_3/runs/3gycqxtr' target=\"_blank\">https://wandb.ai/oriane-cavrois/brain_image_architecture_optimization_3/runs/3gycqxtr</a>"
      ],
      "text/plain": [
       "<IPython.core.display.HTML object>"
      ]
     },
     "metadata": {},
     "output_type": "display_data"
    },
    {
     "name": "stdout",
     "output_type": "stream",
     "text": [
      "Fold 1\n",
      "-------\n",
      "Test set: Average loss: 3.9665, Accuracy: 33/85 (38.82%)\n",
      "\n",
      "Fold 2\n",
      "-------\n",
      "Test set: Average loss: 0.9088, Accuracy: 34/85 (40.00%)\n",
      "\n",
      "Fold 3\n",
      "-------\n",
      "Test set: Average loss: 1.1163, Accuracy: 36/85 (42.35%)\n",
      "\n",
      "--------------------------------------\n"
     ]
    },
    {
     "name": "stderr",
     "output_type": "stream",
     "text": [
      "wandb: WARNING Source type is set to 'repo' but some required information is missing from the environment. A job will not be created from this run. See https://docs.wandb.ai/guides/launch/create-job\n"
     ]
    },
    {
     "data": {
      "application/vnd.jupyter.widget-view+json": {
       "model_id": "02ea097f207f4f9ba2c21536db335ef8",
       "version_major": 2,
       "version_minor": 0
      },
      "text/plain": [
       "VBox(children=(Label(value='0.001 MB of 0.001 MB uploaded\\r'), FloatProgress(value=1.0, max=1.0)))"
      ]
     },
     "metadata": {},
     "output_type": "display_data"
    },
    {
     "data": {
      "text/html": [
       "<style>\n",
       "    table.wandb td:nth-child(1) { padding: 0 10px; text-align: left ; width: auto;} td:nth-child(2) {text-align: left ; width: 100%}\n",
       "    .wandb-row { display: flex; flex-direction: row; flex-wrap: wrap; justify-content: flex-start; width: 100% }\n",
       "    .wandb-col { display: flex; flex-direction: column; flex-basis: 100%; flex: 1; padding: 10px; }\n",
       "    </style>\n",
       "<div class=\"wandb-row\"><div class=\"wandb-col\"><h3>Run history:</h3><br/><table class=\"wandb\"><tr><td>test accuracy</td><td>▁</td></tr><tr><td>test loss</td><td>▁</td></tr><tr><td>train accuracy</td><td>▁</td></tr><tr><td>train loss</td><td>▁</td></tr></table><br/></div><div class=\"wandb-col\"><h3>Run summary:</h3><br/><table class=\"wandb\"><tr><td>test accuracy</td><td>0.40392</td></tr><tr><td>test loss</td><td>1.99724</td></tr><tr><td>train accuracy</td><td>0.5248</td></tr><tr><td>train loss</td><td>2.15504</td></tr></table><br/></div></div>"
      ],
      "text/plain": [
       "<IPython.core.display.HTML object>"
      ]
     },
     "metadata": {},
     "output_type": "display_data"
    },
    {
     "data": {
      "text/html": [
       " View run <strong style=\"color:#cdcd00\">flowing-dew-23</strong> at: <a href='https://wandb.ai/oriane-cavrois/brain_image_architecture_optimization_3/runs/3gycqxtr' target=\"_blank\">https://wandb.ai/oriane-cavrois/brain_image_architecture_optimization_3/runs/3gycqxtr</a><br/>Synced 5 W&B file(s), 0 media file(s), 0 artifact file(s) and 0 other file(s)"
      ],
      "text/plain": [
       "<IPython.core.display.HTML object>"
      ]
     },
     "metadata": {},
     "output_type": "display_data"
    },
    {
     "data": {
      "text/html": [
       "Find logs at: <code>./wandb/run-20240206_193159-3gycqxtr/logs</code>"
      ],
      "text/plain": [
       "<IPython.core.display.HTML object>"
      ]
     },
     "metadata": {},
     "output_type": "display_data"
    },
    {
     "name": "stdout",
     "output_type": "stream",
     "text": [
      "Iteration 7\n",
      "Architecture: pyramid\n",
      "Number of epochs: 40\n",
      "(40, 0.0067, 11, 'pyramid', 0.75)\n"
     ]
    },
    {
     "data": {
      "application/vnd.jupyter.widget-view+json": {
       "model_id": "abd3db70b3c049128321cfde43197ddf",
       "version_major": 2,
       "version_minor": 0
      },
      "text/plain": [
       "VBox(children=(Label(value='Waiting for wandb.init()...\\r'), FloatProgress(value=0.011167570833317262, max=1.0…"
      ]
     },
     "metadata": {},
     "output_type": "display_data"
    },
    {
     "data": {
      "text/html": [
       "wandb version 0.16.3 is available!  To upgrade, please run:\n",
       " $ pip install wandb --upgrade"
      ],
      "text/plain": [
       "<IPython.core.display.HTML object>"
      ]
     },
     "metadata": {},
     "output_type": "display_data"
    },
    {
     "data": {
      "text/html": [
       "Tracking run with wandb version 0.16.2"
      ],
      "text/plain": [
       "<IPython.core.display.HTML object>"
      ]
     },
     "metadata": {},
     "output_type": "display_data"
    },
    {
     "data": {
      "text/html": [
       "Run data is saved locally in <code>/Users/orianecavrois/Documents/Perso/MachineLearning/Github/Brain-tumor-image-classification/wandb/run-20240206_193230-hyv0wwc0</code>"
      ],
      "text/plain": [
       "<IPython.core.display.HTML object>"
      ]
     },
     "metadata": {},
     "output_type": "display_data"
    },
    {
     "data": {
      "text/html": [
       "Syncing run <strong><a href='https://wandb.ai/oriane-cavrois/brain_image_architecture_optimization_3/runs/hyv0wwc0' target=\"_blank\">likely-terrain-24</a></strong> to <a href='https://wandb.ai/oriane-cavrois/brain_image_architecture_optimization_3' target=\"_blank\">Weights & Biases</a> (<a href='https://wandb.me/run' target=\"_blank\">docs</a>)<br/>"
      ],
      "text/plain": [
       "<IPython.core.display.HTML object>"
      ]
     },
     "metadata": {},
     "output_type": "display_data"
    },
    {
     "data": {
      "text/html": [
       " View project at <a href='https://wandb.ai/oriane-cavrois/brain_image_architecture_optimization_3' target=\"_blank\">https://wandb.ai/oriane-cavrois/brain_image_architecture_optimization_3</a>"
      ],
      "text/plain": [
       "<IPython.core.display.HTML object>"
      ]
     },
     "metadata": {},
     "output_type": "display_data"
    },
    {
     "data": {
      "text/html": [
       " View run at <a href='https://wandb.ai/oriane-cavrois/brain_image_architecture_optimization_3/runs/hyv0wwc0' target=\"_blank\">https://wandb.ai/oriane-cavrois/brain_image_architecture_optimization_3/runs/hyv0wwc0</a>"
      ],
      "text/plain": [
       "<IPython.core.display.HTML object>"
      ]
     },
     "metadata": {},
     "output_type": "display_data"
    },
    {
     "name": "stdout",
     "output_type": "stream",
     "text": [
      "Fold 1\n",
      "-------\n",
      "Test set: Average loss: 11.6322, Accuracy: 17/85 (20.00%)\n",
      "\n",
      "Fold 2\n",
      "-------\n",
      "Test set: Average loss: 98.6303, Accuracy: 22/85 (25.88%)\n",
      "\n",
      "Fold 3\n",
      "-------\n",
      "Test set: Average loss: 26.4584, Accuracy: 30/85 (35.29%)\n",
      "\n",
      "--------------------------------------\n"
     ]
    },
    {
     "name": "stderr",
     "output_type": "stream",
     "text": [
      "wandb: WARNING Source type is set to 'repo' but some required information is missing from the environment. A job will not be created from this run. See https://docs.wandb.ai/guides/launch/create-job\n"
     ]
    },
    {
     "data": {
      "application/vnd.jupyter.widget-view+json": {
       "model_id": "60f93b338aa54112a88162c752070827",
       "version_major": 2,
       "version_minor": 0
      },
      "text/plain": [
       "VBox(children=(Label(value='0.001 MB of 0.001 MB uploaded\\r'), FloatProgress(value=1.0, max=1.0)))"
      ]
     },
     "metadata": {},
     "output_type": "display_data"
    },
    {
     "data": {
      "text/html": [
       "<style>\n",
       "    table.wandb td:nth-child(1) { padding: 0 10px; text-align: left ; width: auto;} td:nth-child(2) {text-align: left ; width: 100%}\n",
       "    .wandb-row { display: flex; flex-direction: row; flex-wrap: wrap; justify-content: flex-start; width: 100% }\n",
       "    .wandb-col { display: flex; flex-direction: column; flex-basis: 100%; flex: 1; padding: 10px; }\n",
       "    </style>\n",
       "<div class=\"wandb-row\"><div class=\"wandb-col\"><h3>Run history:</h3><br/><table class=\"wandb\"><tr><td>test accuracy</td><td>▁</td></tr><tr><td>test loss</td><td>▁</td></tr><tr><td>train accuracy</td><td>▁</td></tr><tr><td>train loss</td><td>▁</td></tr></table><br/></div><div class=\"wandb-col\"><h3>Run summary:</h3><br/><table class=\"wandb\"><tr><td>test accuracy</td><td>0.27059</td></tr><tr><td>test loss</td><td>45.57362</td></tr><tr><td>train accuracy</td><td>0.55975</td></tr><tr><td>train loss</td><td>2.39394</td></tr></table><br/></div></div>"
      ],
      "text/plain": [
       "<IPython.core.display.HTML object>"
      ]
     },
     "metadata": {},
     "output_type": "display_data"
    },
    {
     "data": {
      "text/html": [
       " View run <strong style=\"color:#cdcd00\">likely-terrain-24</strong> at: <a href='https://wandb.ai/oriane-cavrois/brain_image_architecture_optimization_3/runs/hyv0wwc0' target=\"_blank\">https://wandb.ai/oriane-cavrois/brain_image_architecture_optimization_3/runs/hyv0wwc0</a><br/>Synced 5 W&B file(s), 0 media file(s), 0 artifact file(s) and 0 other file(s)"
      ],
      "text/plain": [
       "<IPython.core.display.HTML object>"
      ]
     },
     "metadata": {},
     "output_type": "display_data"
    },
    {
     "data": {
      "text/html": [
       "Find logs at: <code>./wandb/run-20240206_193230-hyv0wwc0/logs</code>"
      ],
      "text/plain": [
       "<IPython.core.display.HTML object>"
      ]
     },
     "metadata": {},
     "output_type": "display_data"
    },
    {
     "name": "stdout",
     "output_type": "stream",
     "text": [
      "Iteration 8\n",
      "Architecture: pyramid\n",
      "Number of epochs: 15\n",
      "(15, 0.01, 9, 'pyramid', 0.25)\n"
     ]
    },
    {
     "data": {
      "application/vnd.jupyter.widget-view+json": {
       "model_id": "8c25827ad1394e83a62bddbaf6bbf809",
       "version_major": 2,
       "version_minor": 0
      },
      "text/plain": [
       "VBox(children=(Label(value='Waiting for wandb.init()...\\r'), FloatProgress(value=0.011167757866658374, max=1.0…"
      ]
     },
     "metadata": {},
     "output_type": "display_data"
    },
    {
     "data": {
      "text/html": [
       "wandb version 0.16.3 is available!  To upgrade, please run:\n",
       " $ pip install wandb --upgrade"
      ],
      "text/plain": [
       "<IPython.core.display.HTML object>"
      ]
     },
     "metadata": {},
     "output_type": "display_data"
    },
    {
     "data": {
      "text/html": [
       "Tracking run with wandb version 0.16.2"
      ],
      "text/plain": [
       "<IPython.core.display.HTML object>"
      ]
     },
     "metadata": {},
     "output_type": "display_data"
    },
    {
     "data": {
      "text/html": [
       "Run data is saved locally in <code>/Users/orianecavrois/Documents/Perso/MachineLearning/Github/Brain-tumor-image-classification/wandb/run-20240206_193344-xhn0rz2m</code>"
      ],
      "text/plain": [
       "<IPython.core.display.HTML object>"
      ]
     },
     "metadata": {},
     "output_type": "display_data"
    },
    {
     "data": {
      "text/html": [
       "Syncing run <strong><a href='https://wandb.ai/oriane-cavrois/brain_image_architecture_optimization_3/runs/xhn0rz2m' target=\"_blank\">glamorous-glitter-25</a></strong> to <a href='https://wandb.ai/oriane-cavrois/brain_image_architecture_optimization_3' target=\"_blank\">Weights & Biases</a> (<a href='https://wandb.me/run' target=\"_blank\">docs</a>)<br/>"
      ],
      "text/plain": [
       "<IPython.core.display.HTML object>"
      ]
     },
     "metadata": {},
     "output_type": "display_data"
    },
    {
     "data": {
      "text/html": [
       " View project at <a href='https://wandb.ai/oriane-cavrois/brain_image_architecture_optimization_3' target=\"_blank\">https://wandb.ai/oriane-cavrois/brain_image_architecture_optimization_3</a>"
      ],
      "text/plain": [
       "<IPython.core.display.HTML object>"
      ]
     },
     "metadata": {},
     "output_type": "display_data"
    },
    {
     "data": {
      "text/html": [
       " View run at <a href='https://wandb.ai/oriane-cavrois/brain_image_architecture_optimization_3/runs/xhn0rz2m' target=\"_blank\">https://wandb.ai/oriane-cavrois/brain_image_architecture_optimization_3/runs/xhn0rz2m</a>"
      ],
      "text/plain": [
       "<IPython.core.display.HTML object>"
      ]
     },
     "metadata": {},
     "output_type": "display_data"
    },
    {
     "name": "stdout",
     "output_type": "stream",
     "text": [
      "Fold 1\n",
      "-------\n",
      "Test set: Average loss: 0.9918, Accuracy: 41/85 (48.24%)\n",
      "\n",
      "Fold 2\n",
      "-------\n",
      "Test set: Average loss: 0.3972, Accuracy: 38/85 (44.71%)\n",
      "\n",
      "Fold 3\n",
      "-------\n",
      "Test set: Average loss: 0.2911, Accuracy: 49/85 (57.65%)\n",
      "\n",
      "--------------------------------------\n"
     ]
    },
    {
     "name": "stderr",
     "output_type": "stream",
     "text": [
      "wandb: WARNING Source type is set to 'repo' but some required information is missing from the environment. A job will not be created from this run. See https://docs.wandb.ai/guides/launch/create-job\n"
     ]
    },
    {
     "data": {
      "application/vnd.jupyter.widget-view+json": {
       "model_id": "aa0d1ab6eed140ae9d4044aefafd859f",
       "version_major": 2,
       "version_minor": 0
      },
      "text/plain": [
       "VBox(children=(Label(value='0.001 MB of 0.001 MB uploaded\\r'), FloatProgress(value=1.0, max=1.0)))"
      ]
     },
     "metadata": {},
     "output_type": "display_data"
    },
    {
     "data": {
      "text/html": [
       "<style>\n",
       "    table.wandb td:nth-child(1) { padding: 0 10px; text-align: left ; width: auto;} td:nth-child(2) {text-align: left ; width: 100%}\n",
       "    .wandb-row { display: flex; flex-direction: row; flex-wrap: wrap; justify-content: flex-start; width: 100% }\n",
       "    .wandb-col { display: flex; flex-direction: column; flex-basis: 100%; flex: 1; padding: 10px; }\n",
       "    </style>\n",
       "<div class=\"wandb-row\"><div class=\"wandb-col\"><h3>Run history:</h3><br/><table class=\"wandb\"><tr><td>test accuracy</td><td>▁</td></tr><tr><td>test loss</td><td>▁</td></tr><tr><td>train accuracy</td><td>▁</td></tr><tr><td>train loss</td><td>▁</td></tr></table><br/></div><div class=\"wandb-col\"><h3>Run summary:</h3><br/><table class=\"wandb\"><tr><td>test accuracy</td><td>0.50196</td></tr><tr><td>test loss</td><td>0.56006</td></tr><tr><td>train accuracy</td><td>0.65357</td></tr><tr><td>train loss</td><td>5.5065</td></tr></table><br/></div></div>"
      ],
      "text/plain": [
       "<IPython.core.display.HTML object>"
      ]
     },
     "metadata": {},
     "output_type": "display_data"
    },
    {
     "data": {
      "text/html": [
       " View run <strong style=\"color:#cdcd00\">glamorous-glitter-25</strong> at: <a href='https://wandb.ai/oriane-cavrois/brain_image_architecture_optimization_3/runs/xhn0rz2m' target=\"_blank\">https://wandb.ai/oriane-cavrois/brain_image_architecture_optimization_3/runs/xhn0rz2m</a><br/>Synced 5 W&B file(s), 0 media file(s), 0 artifact file(s) and 0 other file(s)"
      ],
      "text/plain": [
       "<IPython.core.display.HTML object>"
      ]
     },
     "metadata": {},
     "output_type": "display_data"
    },
    {
     "data": {
      "text/html": [
       "Find logs at: <code>./wandb/run-20240206_193344-xhn0rz2m/logs</code>"
      ],
      "text/plain": [
       "<IPython.core.display.HTML object>"
      ]
     },
     "metadata": {},
     "output_type": "display_data"
    },
    {
     "name": "stdout",
     "output_type": "stream",
     "text": [
      "Iteration 9\n",
      "Architecture: deep\n",
      "Number of epochs: 10\n",
      "(10, 0.00395, 10, 'deep', 0.35000000000000003)\n"
     ]
    },
    {
     "data": {
      "application/vnd.jupyter.widget-view+json": {
       "model_id": "e6e46eba538740189621fccba49dc843",
       "version_major": 2,
       "version_minor": 0
      },
      "text/plain": [
       "VBox(children=(Label(value='Waiting for wandb.init()...\\r'), FloatProgress(value=0.011167630555549597, max=1.0…"
      ]
     },
     "metadata": {},
     "output_type": "display_data"
    },
    {
     "data": {
      "text/html": [
       "wandb version 0.16.3 is available!  To upgrade, please run:\n",
       " $ pip install wandb --upgrade"
      ],
      "text/plain": [
       "<IPython.core.display.HTML object>"
      ]
     },
     "metadata": {},
     "output_type": "display_data"
    },
    {
     "data": {
      "text/html": [
       "Tracking run with wandb version 0.16.2"
      ],
      "text/plain": [
       "<IPython.core.display.HTML object>"
      ]
     },
     "metadata": {},
     "output_type": "display_data"
    },
    {
     "data": {
      "text/html": [
       "Run data is saved locally in <code>/Users/orianecavrois/Documents/Perso/MachineLearning/Github/Brain-tumor-image-classification/wandb/run-20240206_193417-x2e27euu</code>"
      ],
      "text/plain": [
       "<IPython.core.display.HTML object>"
      ]
     },
     "metadata": {},
     "output_type": "display_data"
    },
    {
     "data": {
      "text/html": [
       "Syncing run <strong><a href='https://wandb.ai/oriane-cavrois/brain_image_architecture_optimization_3/runs/x2e27euu' target=\"_blank\">revived-tree-26</a></strong> to <a href='https://wandb.ai/oriane-cavrois/brain_image_architecture_optimization_3' target=\"_blank\">Weights & Biases</a> (<a href='https://wandb.me/run' target=\"_blank\">docs</a>)<br/>"
      ],
      "text/plain": [
       "<IPython.core.display.HTML object>"
      ]
     },
     "metadata": {},
     "output_type": "display_data"
    },
    {
     "data": {
      "text/html": [
       " View project at <a href='https://wandb.ai/oriane-cavrois/brain_image_architecture_optimization_3' target=\"_blank\">https://wandb.ai/oriane-cavrois/brain_image_architecture_optimization_3</a>"
      ],
      "text/plain": [
       "<IPython.core.display.HTML object>"
      ]
     },
     "metadata": {},
     "output_type": "display_data"
    },
    {
     "data": {
      "text/html": [
       " View run at <a href='https://wandb.ai/oriane-cavrois/brain_image_architecture_optimization_3/runs/x2e27euu' target=\"_blank\">https://wandb.ai/oriane-cavrois/brain_image_architecture_optimization_3/runs/x2e27euu</a>"
      ],
      "text/plain": [
       "<IPython.core.display.HTML object>"
      ]
     },
     "metadata": {},
     "output_type": "display_data"
    },
    {
     "name": "stdout",
     "output_type": "stream",
     "text": [
      "Fold 1\n",
      "-------\n",
      "Test set: Average loss: 0.4986, Accuracy: 34/85 (40.00%)\n",
      "\n",
      "Fold 2\n",
      "-------\n",
      "Test set: Average loss: 0.3779, Accuracy: 42/85 (49.41%)\n",
      "\n",
      "Fold 3\n",
      "-------\n",
      "Test set: Average loss: 0.3899, Accuracy: 37/85 (43.53%)\n",
      "\n",
      "--------------------------------------\n"
     ]
    },
    {
     "name": "stderr",
     "output_type": "stream",
     "text": [
      "wandb: WARNING Source type is set to 'repo' but some required information is missing from the environment. A job will not be created from this run. See https://docs.wandb.ai/guides/launch/create-job\n"
     ]
    },
    {
     "data": {
      "application/vnd.jupyter.widget-view+json": {
       "model_id": "ab09857013a748718529dfb4c216ad8c",
       "version_major": 2,
       "version_minor": 0
      },
      "text/plain": [
       "VBox(children=(Label(value='0.001 MB of 0.001 MB uploaded\\r'), FloatProgress(value=1.0, max=1.0)))"
      ]
     },
     "metadata": {},
     "output_type": "display_data"
    },
    {
     "data": {
      "text/html": [
       "<style>\n",
       "    table.wandb td:nth-child(1) { padding: 0 10px; text-align: left ; width: auto;} td:nth-child(2) {text-align: left ; width: 100%}\n",
       "    .wandb-row { display: flex; flex-direction: row; flex-wrap: wrap; justify-content: flex-start; width: 100% }\n",
       "    .wandb-col { display: flex; flex-direction: column; flex-basis: 100%; flex: 1; padding: 10px; }\n",
       "    </style>\n",
       "<div class=\"wandb-row\"><div class=\"wandb-col\"><h3>Run history:</h3><br/><table class=\"wandb\"><tr><td>test accuracy</td><td>▁</td></tr><tr><td>test loss</td><td>▁</td></tr><tr><td>train accuracy</td><td>▁</td></tr><tr><td>train loss</td><td>▁</td></tr></table><br/></div><div class=\"wandb-col\"><h3>Run summary:</h3><br/><table class=\"wandb\"><tr><td>test accuracy</td><td>0.44314</td></tr><tr><td>test loss</td><td>0.42213</td></tr><tr><td>train accuracy</td><td>0.66964</td></tr><tr><td>train loss</td><td>0.37266</td></tr></table><br/></div></div>"
      ],
      "text/plain": [
       "<IPython.core.display.HTML object>"
      ]
     },
     "metadata": {},
     "output_type": "display_data"
    },
    {
     "data": {
      "text/html": [
       " View run <strong style=\"color:#cdcd00\">revived-tree-26</strong> at: <a href='https://wandb.ai/oriane-cavrois/brain_image_architecture_optimization_3/runs/x2e27euu' target=\"_blank\">https://wandb.ai/oriane-cavrois/brain_image_architecture_optimization_3/runs/x2e27euu</a><br/>Synced 5 W&B file(s), 0 media file(s), 0 artifact file(s) and 0 other file(s)"
      ],
      "text/plain": [
       "<IPython.core.display.HTML object>"
      ]
     },
     "metadata": {},
     "output_type": "display_data"
    },
    {
     "data": {
      "text/html": [
       "Find logs at: <code>./wandb/run-20240206_193417-x2e27euu/logs</code>"
      ],
      "text/plain": [
       "<IPython.core.display.HTML object>"
      ]
     },
     "metadata": {},
     "output_type": "display_data"
    },
    {
     "name": "stdout",
     "output_type": "stream",
     "text": [
      "Iteration 10\n",
      "Architecture: pyramid\n",
      "Number of epochs: 25\n",
      "(25, 0.0067, 10, 'pyramid', 0.8500000000000001)\n"
     ]
    },
    {
     "data": {
      "application/vnd.jupyter.widget-view+json": {
       "model_id": "2f831c93e3374110839f4ecba87bd28d",
       "version_major": 2,
       "version_minor": 0
      },
      "text/plain": [
       "VBox(children=(Label(value='Waiting for wandb.init()...\\r'), FloatProgress(value=0.011151172222242975, max=1.0…"
      ]
     },
     "metadata": {},
     "output_type": "display_data"
    },
    {
     "data": {
      "text/html": [
       "wandb version 0.16.3 is available!  To upgrade, please run:\n",
       " $ pip install wandb --upgrade"
      ],
      "text/plain": [
       "<IPython.core.display.HTML object>"
      ]
     },
     "metadata": {},
     "output_type": "display_data"
    },
    {
     "data": {
      "text/html": [
       "Tracking run with wandb version 0.16.2"
      ],
      "text/plain": [
       "<IPython.core.display.HTML object>"
      ]
     },
     "metadata": {},
     "output_type": "display_data"
    },
    {
     "data": {
      "text/html": [
       "Run data is saved locally in <code>/Users/orianecavrois/Documents/Perso/MachineLearning/Github/Brain-tumor-image-classification/wandb/run-20240206_193442-rn17bi53</code>"
      ],
      "text/plain": [
       "<IPython.core.display.HTML object>"
      ]
     },
     "metadata": {},
     "output_type": "display_data"
    },
    {
     "data": {
      "text/html": [
       "Syncing run <strong><a href='https://wandb.ai/oriane-cavrois/brain_image_architecture_optimization_3/runs/rn17bi53' target=\"_blank\">morning-frog-27</a></strong> to <a href='https://wandb.ai/oriane-cavrois/brain_image_architecture_optimization_3' target=\"_blank\">Weights & Biases</a> (<a href='https://wandb.me/run' target=\"_blank\">docs</a>)<br/>"
      ],
      "text/plain": [
       "<IPython.core.display.HTML object>"
      ]
     },
     "metadata": {},
     "output_type": "display_data"
    },
    {
     "data": {
      "text/html": [
       " View project at <a href='https://wandb.ai/oriane-cavrois/brain_image_architecture_optimization_3' target=\"_blank\">https://wandb.ai/oriane-cavrois/brain_image_architecture_optimization_3</a>"
      ],
      "text/plain": [
       "<IPython.core.display.HTML object>"
      ]
     },
     "metadata": {},
     "output_type": "display_data"
    },
    {
     "data": {
      "text/html": [
       " View run at <a href='https://wandb.ai/oriane-cavrois/brain_image_architecture_optimization_3/runs/rn17bi53' target=\"_blank\">https://wandb.ai/oriane-cavrois/brain_image_architecture_optimization_3/runs/rn17bi53</a>"
      ],
      "text/plain": [
       "<IPython.core.display.HTML object>"
      ]
     },
     "metadata": {},
     "output_type": "display_data"
    },
    {
     "name": "stdout",
     "output_type": "stream",
     "text": [
      "Fold 1\n",
      "-------\n",
      "Test set: Average loss: 43.6588, Accuracy: 37/85 (43.53%)\n",
      "\n",
      "Fold 2\n",
      "-------\n",
      "Test set: Average loss: 73.1581, Accuracy: 35/85 (41.18%)\n",
      "\n",
      "Fold 3\n",
      "-------\n",
      "Test set: Average loss: 91.9210, Accuracy: 32/85 (37.65%)\n",
      "\n",
      "--------------------------------------\n"
     ]
    },
    {
     "name": "stderr",
     "output_type": "stream",
     "text": [
      "wandb: WARNING Source type is set to 'repo' but some required information is missing from the environment. A job will not be created from this run. See https://docs.wandb.ai/guides/launch/create-job\n"
     ]
    },
    {
     "data": {
      "application/vnd.jupyter.widget-view+json": {
       "model_id": "bfb2de5992c94941b6961463390913a8",
       "version_major": 2,
       "version_minor": 0
      },
      "text/plain": [
       "VBox(children=(Label(value='0.001 MB of 0.001 MB uploaded\\r'), FloatProgress(value=1.0, max=1.0)))"
      ]
     },
     "metadata": {},
     "output_type": "display_data"
    },
    {
     "data": {
      "text/html": [
       "<style>\n",
       "    table.wandb td:nth-child(1) { padding: 0 10px; text-align: left ; width: auto;} td:nth-child(2) {text-align: left ; width: 100%}\n",
       "    .wandb-row { display: flex; flex-direction: row; flex-wrap: wrap; justify-content: flex-start; width: 100% }\n",
       "    .wandb-col { display: flex; flex-direction: column; flex-basis: 100%; flex: 1; padding: 10px; }\n",
       "    </style>\n",
       "<div class=\"wandb-row\"><div class=\"wandb-col\"><h3>Run history:</h3><br/><table class=\"wandb\"><tr><td>test accuracy</td><td>▁</td></tr><tr><td>test loss</td><td>▁</td></tr><tr><td>train accuracy</td><td>▁</td></tr><tr><td>train loss</td><td>▁</td></tr></table><br/></div><div class=\"wandb-col\"><h3>Run summary:</h3><br/><table class=\"wandb\"><tr><td>test accuracy</td><td>0.40784</td></tr><tr><td>test loss</td><td>69.57928</td></tr><tr><td>train accuracy</td><td>0.54583</td></tr><tr><td>train loss</td><td>6.85969</td></tr></table><br/></div></div>"
      ],
      "text/plain": [
       "<IPython.core.display.HTML object>"
      ]
     },
     "metadata": {},
     "output_type": "display_data"
    },
    {
     "data": {
      "text/html": [
       " View run <strong style=\"color:#cdcd00\">morning-frog-27</strong> at: <a href='https://wandb.ai/oriane-cavrois/brain_image_architecture_optimization_3/runs/rn17bi53' target=\"_blank\">https://wandb.ai/oriane-cavrois/brain_image_architecture_optimization_3/runs/rn17bi53</a><br/>Synced 5 W&B file(s), 0 media file(s), 0 artifact file(s) and 0 other file(s)"
      ],
      "text/plain": [
       "<IPython.core.display.HTML object>"
      ]
     },
     "metadata": {},
     "output_type": "display_data"
    },
    {
     "data": {
      "text/html": [
       "Find logs at: <code>./wandb/run-20240206_193442-rn17bi53/logs</code>"
      ],
      "text/plain": [
       "<IPython.core.display.HTML object>"
      ]
     },
     "metadata": {},
     "output_type": "display_data"
    },
    {
     "name": "stdout",
     "output_type": "stream",
     "text": [
      "Iteration 11\n",
      "Architecture: pyramid\n",
      "Number of epochs: 35\n",
      "(35, 0.005600000000000001, 4, 'pyramid', 0.25)\n"
     ]
    },
    {
     "data": {
      "application/vnd.jupyter.widget-view+json": {
       "model_id": "a3d463aff7144eb189e6e50d78467c3d",
       "version_major": 2,
       "version_minor": 0
      },
      "text/plain": [
       "VBox(children=(Label(value='Waiting for wandb.init()...\\r'), FloatProgress(value=0.01114323333333434, max=1.0)…"
      ]
     },
     "metadata": {},
     "output_type": "display_data"
    },
    {
     "data": {
      "text/html": [
       "wandb version 0.16.3 is available!  To upgrade, please run:\n",
       " $ pip install wandb --upgrade"
      ],
      "text/plain": [
       "<IPython.core.display.HTML object>"
      ]
     },
     "metadata": {},
     "output_type": "display_data"
    },
    {
     "data": {
      "text/html": [
       "Tracking run with wandb version 0.16.2"
      ],
      "text/plain": [
       "<IPython.core.display.HTML object>"
      ]
     },
     "metadata": {},
     "output_type": "display_data"
    },
    {
     "data": {
      "text/html": [
       "Run data is saved locally in <code>/Users/orianecavrois/Documents/Perso/MachineLearning/Github/Brain-tumor-image-classification/wandb/run-20240206_193535-gbok9slp</code>"
      ],
      "text/plain": [
       "<IPython.core.display.HTML object>"
      ]
     },
     "metadata": {},
     "output_type": "display_data"
    },
    {
     "data": {
      "text/html": [
       "Syncing run <strong><a href='https://wandb.ai/oriane-cavrois/brain_image_architecture_optimization_3/runs/gbok9slp' target=\"_blank\">fearless-yogurt-28</a></strong> to <a href='https://wandb.ai/oriane-cavrois/brain_image_architecture_optimization_3' target=\"_blank\">Weights & Biases</a> (<a href='https://wandb.me/run' target=\"_blank\">docs</a>)<br/>"
      ],
      "text/plain": [
       "<IPython.core.display.HTML object>"
      ]
     },
     "metadata": {},
     "output_type": "display_data"
    },
    {
     "data": {
      "text/html": [
       " View project at <a href='https://wandb.ai/oriane-cavrois/brain_image_architecture_optimization_3' target=\"_blank\">https://wandb.ai/oriane-cavrois/brain_image_architecture_optimization_3</a>"
      ],
      "text/plain": [
       "<IPython.core.display.HTML object>"
      ]
     },
     "metadata": {},
     "output_type": "display_data"
    },
    {
     "data": {
      "text/html": [
       " View run at <a href='https://wandb.ai/oriane-cavrois/brain_image_architecture_optimization_3/runs/gbok9slp' target=\"_blank\">https://wandb.ai/oriane-cavrois/brain_image_architecture_optimization_3/runs/gbok9slp</a>"
      ],
      "text/plain": [
       "<IPython.core.display.HTML object>"
      ]
     },
     "metadata": {},
     "output_type": "display_data"
    },
    {
     "name": "stdout",
     "output_type": "stream",
     "text": [
      "Fold 1\n",
      "-------\n",
      "Test set: Average loss: 40.9820, Accuracy: 27/85 (31.76%)\n",
      "\n",
      "Fold 2\n",
      "-------\n",
      "Test set: Average loss: 1.3370, Accuracy: 39/85 (45.88%)\n",
      "\n",
      "Fold 3\n",
      "-------\n",
      "Test set: Average loss: 0.8961, Accuracy: 45/85 (52.94%)\n",
      "\n",
      "--------------------------------------\n"
     ]
    },
    {
     "name": "stderr",
     "output_type": "stream",
     "text": [
      "wandb: WARNING Source type is set to 'repo' but some required information is missing from the environment. A job will not be created from this run. See https://docs.wandb.ai/guides/launch/create-job\n"
     ]
    },
    {
     "data": {
      "application/vnd.jupyter.widget-view+json": {
       "model_id": "1b2c99c7ca584b42a0270f309c726642",
       "version_major": 2,
       "version_minor": 0
      },
      "text/plain": [
       "VBox(children=(Label(value='0.001 MB of 0.004 MB uploaded\\r'), FloatProgress(value=0.3475496688741722, max=1.0…"
      ]
     },
     "metadata": {},
     "output_type": "display_data"
    },
    {
     "data": {
      "text/html": [
       "<style>\n",
       "    table.wandb td:nth-child(1) { padding: 0 10px; text-align: left ; width: auto;} td:nth-child(2) {text-align: left ; width: 100%}\n",
       "    .wandb-row { display: flex; flex-direction: row; flex-wrap: wrap; justify-content: flex-start; width: 100% }\n",
       "    .wandb-col { display: flex; flex-direction: column; flex-basis: 100%; flex: 1; padding: 10px; }\n",
       "    </style>\n",
       "<div class=\"wandb-row\"><div class=\"wandb-col\"><h3>Run history:</h3><br/><table class=\"wandb\"><tr><td>test accuracy</td><td>▁</td></tr><tr><td>test loss</td><td>▁</td></tr><tr><td>train accuracy</td><td>▁</td></tr><tr><td>train loss</td><td>▁</td></tr></table><br/></div><div class=\"wandb-col\"><h3>Run summary:</h3><br/><table class=\"wandb\"><tr><td>test accuracy</td><td>0.43529</td></tr><tr><td>test loss</td><td>14.40503</td></tr><tr><td>train accuracy</td><td>0.66599</td></tr><tr><td>train loss</td><td>8.95987</td></tr></table><br/></div></div>"
      ],
      "text/plain": [
       "<IPython.core.display.HTML object>"
      ]
     },
     "metadata": {},
     "output_type": "display_data"
    },
    {
     "data": {
      "text/html": [
       " View run <strong style=\"color:#cdcd00\">fearless-yogurt-28</strong> at: <a href='https://wandb.ai/oriane-cavrois/brain_image_architecture_optimization_3/runs/gbok9slp' target=\"_blank\">https://wandb.ai/oriane-cavrois/brain_image_architecture_optimization_3/runs/gbok9slp</a><br/>Synced 5 W&B file(s), 0 media file(s), 0 artifact file(s) and 0 other file(s)"
      ],
      "text/plain": [
       "<IPython.core.display.HTML object>"
      ]
     },
     "metadata": {},
     "output_type": "display_data"
    },
    {
     "data": {
      "text/html": [
       "Find logs at: <code>./wandb/run-20240206_193535-gbok9slp/logs</code>"
      ],
      "text/plain": [
       "<IPython.core.display.HTML object>"
      ]
     },
     "metadata": {},
     "output_type": "display_data"
    },
    {
     "name": "stdout",
     "output_type": "stream",
     "text": [
      "Iteration 12\n",
      "Architecture: pyramid\n",
      "Number of epochs: 25\n",
      "(25, 0.00395, 4, 'pyramid', 0.7000000000000001)\n"
     ]
    },
    {
     "data": {
      "application/vnd.jupyter.widget-view+json": {
       "model_id": "07b1a3fa8edb497ba9df12149cdaf65b",
       "version_major": 2,
       "version_minor": 0
      },
      "text/plain": [
       "VBox(children=(Label(value='Waiting for wandb.init()...\\r'), FloatProgress(value=0.011167590744460339, max=1.0…"
      ]
     },
     "metadata": {},
     "output_type": "display_data"
    },
    {
     "data": {
      "text/html": [
       "wandb version 0.16.3 is available!  To upgrade, please run:\n",
       " $ pip install wandb --upgrade"
      ],
      "text/plain": [
       "<IPython.core.display.HTML object>"
      ]
     },
     "metadata": {},
     "output_type": "display_data"
    },
    {
     "data": {
      "text/html": [
       "Tracking run with wandb version 0.16.2"
      ],
      "text/plain": [
       "<IPython.core.display.HTML object>"
      ]
     },
     "metadata": {},
     "output_type": "display_data"
    },
    {
     "data": {
      "text/html": [
       "Run data is saved locally in <code>/Users/orianecavrois/Documents/Perso/MachineLearning/Github/Brain-tumor-image-classification/wandb/run-20240206_193659-4j1zn43n</code>"
      ],
      "text/plain": [
       "<IPython.core.display.HTML object>"
      ]
     },
     "metadata": {},
     "output_type": "display_data"
    },
    {
     "data": {
      "text/html": [
       "Syncing run <strong><a href='https://wandb.ai/oriane-cavrois/brain_image_architecture_optimization_3/runs/4j1zn43n' target=\"_blank\">blooming-serenity-29</a></strong> to <a href='https://wandb.ai/oriane-cavrois/brain_image_architecture_optimization_3' target=\"_blank\">Weights & Biases</a> (<a href='https://wandb.me/run' target=\"_blank\">docs</a>)<br/>"
      ],
      "text/plain": [
       "<IPython.core.display.HTML object>"
      ]
     },
     "metadata": {},
     "output_type": "display_data"
    },
    {
     "data": {
      "text/html": [
       " View project at <a href='https://wandb.ai/oriane-cavrois/brain_image_architecture_optimization_3' target=\"_blank\">https://wandb.ai/oriane-cavrois/brain_image_architecture_optimization_3</a>"
      ],
      "text/plain": [
       "<IPython.core.display.HTML object>"
      ]
     },
     "metadata": {},
     "output_type": "display_data"
    },
    {
     "data": {
      "text/html": [
       " View run at <a href='https://wandb.ai/oriane-cavrois/brain_image_architecture_optimization_3/runs/4j1zn43n' target=\"_blank\">https://wandb.ai/oriane-cavrois/brain_image_architecture_optimization_3/runs/4j1zn43n</a>"
      ],
      "text/plain": [
       "<IPython.core.display.HTML object>"
      ]
     },
     "metadata": {},
     "output_type": "display_data"
    },
    {
     "name": "stdout",
     "output_type": "stream",
     "text": [
      "Fold 1\n",
      "-------\n",
      "Test set: Average loss: 28.7854, Accuracy: 21/85 (24.71%)\n",
      "\n",
      "Fold 2\n",
      "-------\n",
      "Test set: Average loss: 14.7416, Accuracy: 22/85 (25.88%)\n",
      "\n",
      "Fold 3\n",
      "-------\n",
      "Test set: Average loss: 61.8077, Accuracy: 14/85 (16.47%)\n",
      "\n",
      "--------------------------------------\n"
     ]
    },
    {
     "name": "stderr",
     "output_type": "stream",
     "text": [
      "wandb: WARNING Source type is set to 'repo' but some required information is missing from the environment. A job will not be created from this run. See https://docs.wandb.ai/guides/launch/create-job\n"
     ]
    },
    {
     "data": {
      "application/vnd.jupyter.widget-view+json": {
       "model_id": "3ae9f173d1714fd999cf455e087cdd5f",
       "version_major": 2,
       "version_minor": 0
      },
      "text/plain": [
       "VBox(children=(Label(value='0.001 MB of 0.002 MB uploaded\\r'), FloatProgress(value=0.5053929121725732, max=1.0…"
      ]
     },
     "metadata": {},
     "output_type": "display_data"
    },
    {
     "data": {
      "text/html": [
       "<style>\n",
       "    table.wandb td:nth-child(1) { padding: 0 10px; text-align: left ; width: auto;} td:nth-child(2) {text-align: left ; width: 100%}\n",
       "    .wandb-row { display: flex; flex-direction: row; flex-wrap: wrap; justify-content: flex-start; width: 100% }\n",
       "    .wandb-col { display: flex; flex-direction: column; flex-basis: 100%; flex: 1; padding: 10px; }\n",
       "    </style>\n",
       "<div class=\"wandb-row\"><div class=\"wandb-col\"><h3>Run history:</h3><br/><table class=\"wandb\"><tr><td>test accuracy</td><td>▁</td></tr><tr><td>test loss</td><td>▁</td></tr><tr><td>train accuracy</td><td>▁</td></tr><tr><td>train loss</td><td>▁</td></tr></table><br/></div><div class=\"wandb-col\"><h3>Run summary:</h3><br/><table class=\"wandb\"><tr><td>test accuracy</td><td>0.22353</td></tr><tr><td>test loss</td><td>35.11158</td></tr><tr><td>train accuracy</td><td>0.56643</td></tr><tr><td>train loss</td><td>12.09984</td></tr></table><br/></div></div>"
      ],
      "text/plain": [
       "<IPython.core.display.HTML object>"
      ]
     },
     "metadata": {},
     "output_type": "display_data"
    },
    {
     "data": {
      "text/html": [
       " View run <strong style=\"color:#cdcd00\">blooming-serenity-29</strong> at: <a href='https://wandb.ai/oriane-cavrois/brain_image_architecture_optimization_3/runs/4j1zn43n' target=\"_blank\">https://wandb.ai/oriane-cavrois/brain_image_architecture_optimization_3/runs/4j1zn43n</a><br/>Synced 5 W&B file(s), 0 media file(s), 0 artifact file(s) and 0 other file(s)"
      ],
      "text/plain": [
       "<IPython.core.display.HTML object>"
      ]
     },
     "metadata": {},
     "output_type": "display_data"
    },
    {
     "data": {
      "text/html": [
       "Find logs at: <code>./wandb/run-20240206_193659-4j1zn43n/logs</code>"
      ],
      "text/plain": [
       "<IPython.core.display.HTML object>"
      ]
     },
     "metadata": {},
     "output_type": "display_data"
    },
    {
     "name": "stdout",
     "output_type": "stream",
     "text": [
      "Iteration 13\n",
      "Architecture: large\n",
      "Number of epochs: 15\n",
      "(15, 0.0012000000000000001, 11, 'large', 0.2)\n"
     ]
    },
    {
     "data": {
      "application/vnd.jupyter.widget-view+json": {
       "model_id": "aa14cf9106a147be89cc180b62d96cb9",
       "version_major": 2,
       "version_minor": 0
      },
      "text/plain": [
       "VBox(children=(Label(value='Waiting for wandb.init()...\\r'), FloatProgress(value=0.01116854583334417, max=1.0)…"
      ]
     },
     "metadata": {},
     "output_type": "display_data"
    },
    {
     "data": {
      "text/html": [
       "wandb version 0.16.3 is available!  To upgrade, please run:\n",
       " $ pip install wandb --upgrade"
      ],
      "text/plain": [
       "<IPython.core.display.HTML object>"
      ]
     },
     "metadata": {},
     "output_type": "display_data"
    },
    {
     "data": {
      "text/html": [
       "Tracking run with wandb version 0.16.2"
      ],
      "text/plain": [
       "<IPython.core.display.HTML object>"
      ]
     },
     "metadata": {},
     "output_type": "display_data"
    },
    {
     "data": {
      "text/html": [
       "Run data is saved locally in <code>/Users/orianecavrois/Documents/Perso/MachineLearning/Github/Brain-tumor-image-classification/wandb/run-20240206_193802-rfk7x3rd</code>"
      ],
      "text/plain": [
       "<IPython.core.display.HTML object>"
      ]
     },
     "metadata": {},
     "output_type": "display_data"
    },
    {
     "data": {
      "text/html": [
       "Syncing run <strong><a href='https://wandb.ai/oriane-cavrois/brain_image_architecture_optimization_3/runs/rfk7x3rd' target=\"_blank\">wobbly-field-30</a></strong> to <a href='https://wandb.ai/oriane-cavrois/brain_image_architecture_optimization_3' target=\"_blank\">Weights & Biases</a> (<a href='https://wandb.me/run' target=\"_blank\">docs</a>)<br/>"
      ],
      "text/plain": [
       "<IPython.core.display.HTML object>"
      ]
     },
     "metadata": {},
     "output_type": "display_data"
    },
    {
     "data": {
      "text/html": [
       " View project at <a href='https://wandb.ai/oriane-cavrois/brain_image_architecture_optimization_3' target=\"_blank\">https://wandb.ai/oriane-cavrois/brain_image_architecture_optimization_3</a>"
      ],
      "text/plain": [
       "<IPython.core.display.HTML object>"
      ]
     },
     "metadata": {},
     "output_type": "display_data"
    },
    {
     "data": {
      "text/html": [
       " View run at <a href='https://wandb.ai/oriane-cavrois/brain_image_architecture_optimization_3/runs/rfk7x3rd' target=\"_blank\">https://wandb.ai/oriane-cavrois/brain_image_architecture_optimization_3/runs/rfk7x3rd</a>"
      ],
      "text/plain": [
       "<IPython.core.display.HTML object>"
      ]
     },
     "metadata": {},
     "output_type": "display_data"
    },
    {
     "name": "stdout",
     "output_type": "stream",
     "text": [
      "Fold 1\n",
      "-------\n",
      "Test set: Average loss: 101.7626, Accuracy: 43/85 (50.59%)\n",
      "\n",
      "Fold 2\n",
      "-------\n",
      "Test set: Average loss: 2.1028, Accuracy: 55/85 (64.71%)\n",
      "\n",
      "Fold 3\n",
      "-------\n",
      "Test set: Average loss: 0.0000, Accuracy: 56/85 (65.88%)\n",
      "\n",
      "--------------------------------------\n"
     ]
    },
    {
     "data": {
      "application/vnd.jupyter.widget-view+json": {
       "model_id": "8ebb2977ad754d6082d5add9db1a4ad0",
       "version_major": 2,
       "version_minor": 0
      },
      "text/plain": [
       "VBox(children=(Label(value='0.001 MB of 0.001 MB uploaded\\r'), FloatProgress(value=1.0, max=1.0)))"
      ]
     },
     "metadata": {},
     "output_type": "display_data"
    },
    {
     "name": "stderr",
     "output_type": "stream",
     "text": [
      "wandb: WARNING Source type is set to 'repo' but some required information is missing from the environment. A job will not be created from this run. See https://docs.wandb.ai/guides/launch/create-job\n"
     ]
    },
    {
     "data": {
      "text/html": [
       "<style>\n",
       "    table.wandb td:nth-child(1) { padding: 0 10px; text-align: left ; width: auto;} td:nth-child(2) {text-align: left ; width: 100%}\n",
       "    .wandb-row { display: flex; flex-direction: row; flex-wrap: wrap; justify-content: flex-start; width: 100% }\n",
       "    .wandb-col { display: flex; flex-direction: column; flex-basis: 100%; flex: 1; padding: 10px; }\n",
       "    </style>\n",
       "<div class=\"wandb-row\"><div class=\"wandb-col\"><h3>Run history:</h3><br/><table class=\"wandb\"><tr><td>test accuracy</td><td>▁</td></tr><tr><td>test loss</td><td>▁</td></tr><tr><td>train accuracy</td><td>▁</td></tr><tr><td>train loss</td><td>▁</td></tr></table><br/></div><div class=\"wandb-col\"><h3>Run summary:</h3><br/><table class=\"wandb\"><tr><td>test accuracy</td><td>0.60392</td></tr><tr><td>test loss</td><td>34.6218</td></tr><tr><td>train accuracy</td><td>0.90278</td></tr><tr><td>train loss</td><td>51.37342</td></tr></table><br/></div></div>"
      ],
      "text/plain": [
       "<IPython.core.display.HTML object>"
      ]
     },
     "metadata": {},
     "output_type": "display_data"
    },
    {
     "data": {
      "text/html": [
       " View run <strong style=\"color:#cdcd00\">wobbly-field-30</strong> at: <a href='https://wandb.ai/oriane-cavrois/brain_image_architecture_optimization_3/runs/rfk7x3rd' target=\"_blank\">https://wandb.ai/oriane-cavrois/brain_image_architecture_optimization_3/runs/rfk7x3rd</a><br/>Synced 5 W&B file(s), 0 media file(s), 0 artifact file(s) and 0 other file(s)"
      ],
      "text/plain": [
       "<IPython.core.display.HTML object>"
      ]
     },
     "metadata": {},
     "output_type": "display_data"
    },
    {
     "data": {
      "text/html": [
       "Find logs at: <code>./wandb/run-20240206_193802-rfk7x3rd/logs</code>"
      ],
      "text/plain": [
       "<IPython.core.display.HTML object>"
      ]
     },
     "metadata": {},
     "output_type": "display_data"
    },
    {
     "name": "stdout",
     "output_type": "stream",
     "text": [
      "Iteration 14\n",
      "Architecture: large\n",
      "Number of epochs: 15\n",
      "(15, 0.006150000000000001, 3, 'large', 0.55)\n"
     ]
    },
    {
     "data": {
      "application/vnd.jupyter.widget-view+json": {
       "model_id": "354e51e9d8da4ac293a17df72e035bb7",
       "version_major": 2,
       "version_minor": 0
      },
      "text/plain": [
       "VBox(children=(Label(value='Waiting for wandb.init()...\\r'), FloatProgress(value=0.011167839355564663, max=1.0…"
      ]
     },
     "metadata": {},
     "output_type": "display_data"
    },
    {
     "data": {
      "text/html": [
       "wandb version 0.16.3 is available!  To upgrade, please run:\n",
       " $ pip install wandb --upgrade"
      ],
      "text/plain": [
       "<IPython.core.display.HTML object>"
      ]
     },
     "metadata": {},
     "output_type": "display_data"
    },
    {
     "data": {
      "text/html": [
       "Tracking run with wandb version 0.16.2"
      ],
      "text/plain": [
       "<IPython.core.display.HTML object>"
      ]
     },
     "metadata": {},
     "output_type": "display_data"
    },
    {
     "data": {
      "text/html": [
       "Run data is saved locally in <code>/Users/orianecavrois/Documents/Perso/MachineLearning/Github/Brain-tumor-image-classification/wandb/run-20240206_193838-3yyqnk9f</code>"
      ],
      "text/plain": [
       "<IPython.core.display.HTML object>"
      ]
     },
     "metadata": {},
     "output_type": "display_data"
    },
    {
     "data": {
      "text/html": [
       "Syncing run <strong><a href='https://wandb.ai/oriane-cavrois/brain_image_architecture_optimization_3/runs/3yyqnk9f' target=\"_blank\">misunderstood-fire-31</a></strong> to <a href='https://wandb.ai/oriane-cavrois/brain_image_architecture_optimization_3' target=\"_blank\">Weights & Biases</a> (<a href='https://wandb.me/run' target=\"_blank\">docs</a>)<br/>"
      ],
      "text/plain": [
       "<IPython.core.display.HTML object>"
      ]
     },
     "metadata": {},
     "output_type": "display_data"
    },
    {
     "data": {
      "text/html": [
       " View project at <a href='https://wandb.ai/oriane-cavrois/brain_image_architecture_optimization_3' target=\"_blank\">https://wandb.ai/oriane-cavrois/brain_image_architecture_optimization_3</a>"
      ],
      "text/plain": [
       "<IPython.core.display.HTML object>"
      ]
     },
     "metadata": {},
     "output_type": "display_data"
    },
    {
     "data": {
      "text/html": [
       " View run at <a href='https://wandb.ai/oriane-cavrois/brain_image_architecture_optimization_3/runs/3yyqnk9f' target=\"_blank\">https://wandb.ai/oriane-cavrois/brain_image_architecture_optimization_3/runs/3yyqnk9f</a>"
      ],
      "text/plain": [
       "<IPython.core.display.HTML object>"
      ]
     },
     "metadata": {},
     "output_type": "display_data"
    },
    {
     "name": "stdout",
     "output_type": "stream",
     "text": [
      "Fold 1\n",
      "-------\n",
      "Test set: Average loss: 149.6702, Accuracy: 41/85 (48.24%)\n",
      "\n",
      "Fold 2\n",
      "-------\n",
      "Test set: Average loss: 98.9942, Accuracy: 49/85 (57.65%)\n",
      "\n",
      "Fold 3\n",
      "-------\n",
      "Test set: Average loss: 0.0000, Accuracy: 56/85 (65.88%)\n",
      "\n",
      "--------------------------------------\n"
     ]
    },
    {
     "name": "stderr",
     "output_type": "stream",
     "text": [
      "wandb: WARNING Source type is set to 'repo' but some required information is missing from the environment. A job will not be created from this run. See https://docs.wandb.ai/guides/launch/create-job\n"
     ]
    },
    {
     "data": {
      "application/vnd.jupyter.widget-view+json": {
       "model_id": "4137a52cf83049aebfb758220842210a",
       "version_major": 2,
       "version_minor": 0
      },
      "text/plain": [
       "VBox(children=(Label(value='0.001 MB of 0.002 MB uploaded\\r'), FloatProgress(value=0.5053929121725732, max=1.0…"
      ]
     },
     "metadata": {},
     "output_type": "display_data"
    },
    {
     "data": {
      "text/html": [
       "<style>\n",
       "    table.wandb td:nth-child(1) { padding: 0 10px; text-align: left ; width: auto;} td:nth-child(2) {text-align: left ; width: 100%}\n",
       "    .wandb-row { display: flex; flex-direction: row; flex-wrap: wrap; justify-content: flex-start; width: 100% }\n",
       "    .wandb-col { display: flex; flex-direction: column; flex-basis: 100%; flex: 1; padding: 10px; }\n",
       "    </style>\n",
       "<div class=\"wandb-row\"><div class=\"wandb-col\"><h3>Run history:</h3><br/><table class=\"wandb\"><tr><td>test accuracy</td><td>▁</td></tr><tr><td>test loss</td><td>▁</td></tr><tr><td>train accuracy</td><td>▁</td></tr><tr><td>train loss</td><td>▁</td></tr></table><br/></div><div class=\"wandb-col\"><h3>Run summary:</h3><br/><table class=\"wandb\"><tr><td>test accuracy</td><td>0.57255</td></tr><tr><td>test loss</td><td>82.88815</td></tr><tr><td>train accuracy</td><td>0.94623</td></tr><tr><td>train loss</td><td>42.36393</td></tr></table><br/></div></div>"
      ],
      "text/plain": [
       "<IPython.core.display.HTML object>"
      ]
     },
     "metadata": {},
     "output_type": "display_data"
    },
    {
     "data": {
      "text/html": [
       " View run <strong style=\"color:#cdcd00\">misunderstood-fire-31</strong> at: <a href='https://wandb.ai/oriane-cavrois/brain_image_architecture_optimization_3/runs/3yyqnk9f' target=\"_blank\">https://wandb.ai/oriane-cavrois/brain_image_architecture_optimization_3/runs/3yyqnk9f</a><br/>Synced 5 W&B file(s), 0 media file(s), 0 artifact file(s) and 0 other file(s)"
      ],
      "text/plain": [
       "<IPython.core.display.HTML object>"
      ]
     },
     "metadata": {},
     "output_type": "display_data"
    },
    {
     "data": {
      "text/html": [
       "Find logs at: <code>./wandb/run-20240206_193838-3yyqnk9f/logs</code>"
      ],
      "text/plain": [
       "<IPython.core.display.HTML object>"
      ]
     },
     "metadata": {},
     "output_type": "display_data"
    },
    {
     "name": "stdout",
     "output_type": "stream",
     "text": [
      "Iteration 15\n",
      "Architecture: pyramid\n",
      "Number of epochs: 40\n",
      "(40, 0.00945, 5, 'pyramid', 0.4)\n"
     ]
    },
    {
     "data": {
      "application/vnd.jupyter.widget-view+json": {
       "model_id": "543f7f55635147f2ba0c0218f50e8f2b",
       "version_major": 2,
       "version_minor": 0
      },
      "text/plain": [
       "VBox(children=(Label(value='Waiting for wandb.init()...\\r'), FloatProgress(value=0.011168762955559132, max=1.0…"
      ]
     },
     "metadata": {},
     "output_type": "display_data"
    },
    {
     "data": {
      "text/html": [
       "wandb version 0.16.3 is available!  To upgrade, please run:\n",
       " $ pip install wandb --upgrade"
      ],
      "text/plain": [
       "<IPython.core.display.HTML object>"
      ]
     },
     "metadata": {},
     "output_type": "display_data"
    },
    {
     "data": {
      "text/html": [
       "Tracking run with wandb version 0.16.2"
      ],
      "text/plain": [
       "<IPython.core.display.HTML object>"
      ]
     },
     "metadata": {},
     "output_type": "display_data"
    },
    {
     "data": {
      "text/html": [
       "Run data is saved locally in <code>/Users/orianecavrois/Documents/Perso/MachineLearning/Github/Brain-tumor-image-classification/wandb/run-20240206_193916-9yvaugfb</code>"
      ],
      "text/plain": [
       "<IPython.core.display.HTML object>"
      ]
     },
     "metadata": {},
     "output_type": "display_data"
    },
    {
     "data": {
      "text/html": [
       "Syncing run <strong><a href='https://wandb.ai/oriane-cavrois/brain_image_architecture_optimization_3/runs/9yvaugfb' target=\"_blank\">neat-blaze-32</a></strong> to <a href='https://wandb.ai/oriane-cavrois/brain_image_architecture_optimization_3' target=\"_blank\">Weights & Biases</a> (<a href='https://wandb.me/run' target=\"_blank\">docs</a>)<br/>"
      ],
      "text/plain": [
       "<IPython.core.display.HTML object>"
      ]
     },
     "metadata": {},
     "output_type": "display_data"
    },
    {
     "data": {
      "text/html": [
       " View project at <a href='https://wandb.ai/oriane-cavrois/brain_image_architecture_optimization_3' target=\"_blank\">https://wandb.ai/oriane-cavrois/brain_image_architecture_optimization_3</a>"
      ],
      "text/plain": [
       "<IPython.core.display.HTML object>"
      ]
     },
     "metadata": {},
     "output_type": "display_data"
    },
    {
     "data": {
      "text/html": [
       " View run at <a href='https://wandb.ai/oriane-cavrois/brain_image_architecture_optimization_3/runs/9yvaugfb' target=\"_blank\">https://wandb.ai/oriane-cavrois/brain_image_architecture_optimization_3/runs/9yvaugfb</a>"
      ],
      "text/plain": [
       "<IPython.core.display.HTML object>"
      ]
     },
     "metadata": {},
     "output_type": "display_data"
    },
    {
     "name": "stdout",
     "output_type": "stream",
     "text": [
      "Fold 1\n",
      "-------\n",
      "Test set: Average loss: 1.7044, Accuracy: 27/85 (31.76%)\n",
      "\n",
      "Fold 2\n",
      "-------\n",
      "Test set: Average loss: 1.4482, Accuracy: 41/85 (48.24%)\n",
      "\n",
      "Fold 3\n",
      "-------\n",
      "Test set: Average loss: 2.7195, Accuracy: 26/85 (30.59%)\n",
      "\n",
      "--------------------------------------\n"
     ]
    },
    {
     "name": "stderr",
     "output_type": "stream",
     "text": [
      "wandb: WARNING Source type is set to 'repo' but some required information is missing from the environment. A job will not be created from this run. See https://docs.wandb.ai/guides/launch/create-job\n"
     ]
    },
    {
     "data": {
      "application/vnd.jupyter.widget-view+json": {
       "model_id": "3c4bbbda33fb41f7ac01a8bacf1843d1",
       "version_major": 2,
       "version_minor": 0
      },
      "text/plain": [
       "VBox(children=(Label(value='0.001 MB of 0.001 MB uploaded\\r'), FloatProgress(value=1.0, max=1.0)))"
      ]
     },
     "metadata": {},
     "output_type": "display_data"
    },
    {
     "data": {
      "text/html": [
       "<style>\n",
       "    table.wandb td:nth-child(1) { padding: 0 10px; text-align: left ; width: auto;} td:nth-child(2) {text-align: left ; width: 100%}\n",
       "    .wandb-row { display: flex; flex-direction: row; flex-wrap: wrap; justify-content: flex-start; width: 100% }\n",
       "    .wandb-col { display: flex; flex-direction: column; flex-basis: 100%; flex: 1; padding: 10px; }\n",
       "    </style>\n",
       "<div class=\"wandb-row\"><div class=\"wandb-col\"><h3>Run history:</h3><br/><table class=\"wandb\"><tr><td>test accuracy</td><td>▁</td></tr><tr><td>test loss</td><td>▁</td></tr><tr><td>train accuracy</td><td>▁</td></tr><tr><td>train loss</td><td>▁</td></tr></table><br/></div><div class=\"wandb-col\"><h3>Run summary:</h3><br/><table class=\"wandb\"><tr><td>test accuracy</td><td>0.36863</td></tr><tr><td>test loss</td><td>1.95737</td></tr><tr><td>train accuracy</td><td>0.61719</td></tr><tr><td>train loss</td><td>2.95829</td></tr></table><br/></div></div>"
      ],
      "text/plain": [
       "<IPython.core.display.HTML object>"
      ]
     },
     "metadata": {},
     "output_type": "display_data"
    },
    {
     "data": {
      "text/html": [
       " View run <strong style=\"color:#cdcd00\">neat-blaze-32</strong> at: <a href='https://wandb.ai/oriane-cavrois/brain_image_architecture_optimization_3/runs/9yvaugfb' target=\"_blank\">https://wandb.ai/oriane-cavrois/brain_image_architecture_optimization_3/runs/9yvaugfb</a><br/>Synced 5 W&B file(s), 0 media file(s), 0 artifact file(s) and 0 other file(s)"
      ],
      "text/plain": [
       "<IPython.core.display.HTML object>"
      ]
     },
     "metadata": {},
     "output_type": "display_data"
    },
    {
     "data": {
      "text/html": [
       "Find logs at: <code>./wandb/run-20240206_193916-9yvaugfb/logs</code>"
      ],
      "text/plain": [
       "<IPython.core.display.HTML object>"
      ]
     },
     "metadata": {},
     "output_type": "display_data"
    },
    {
     "name": "stdout",
     "output_type": "stream",
     "text": [
      "Iteration 16\n",
      "Architecture: large\n",
      "Number of epochs: 35\n",
      "(35, 0.00395, 3, 'large', 0.2)\n"
     ]
    },
    {
     "data": {
      "application/vnd.jupyter.widget-view+json": {
       "model_id": "6c39564890544d82b168a98bc3515af3",
       "version_major": 2,
       "version_minor": 0
      },
      "text/plain": [
       "VBox(children=(Label(value='Waiting for wandb.init()...\\r'), FloatProgress(value=0.01114531666664536, max=1.0)…"
      ]
     },
     "metadata": {},
     "output_type": "display_data"
    },
    {
     "data": {
      "text/html": [
       "wandb version 0.16.3 is available!  To upgrade, please run:\n",
       " $ pip install wandb --upgrade"
      ],
      "text/plain": [
       "<IPython.core.display.HTML object>"
      ]
     },
     "metadata": {},
     "output_type": "display_data"
    },
    {
     "data": {
      "text/html": [
       "Tracking run with wandb version 0.16.2"
      ],
      "text/plain": [
       "<IPython.core.display.HTML object>"
      ]
     },
     "metadata": {},
     "output_type": "display_data"
    },
    {
     "data": {
      "text/html": [
       "Run data is saved locally in <code>/Users/orianecavrois/Documents/Perso/MachineLearning/Github/Brain-tumor-image-classification/wandb/run-20240206_194042-1nne23hs</code>"
      ],
      "text/plain": [
       "<IPython.core.display.HTML object>"
      ]
     },
     "metadata": {},
     "output_type": "display_data"
    },
    {
     "data": {
      "text/html": [
       "Syncing run <strong><a href='https://wandb.ai/oriane-cavrois/brain_image_architecture_optimization_3/runs/1nne23hs' target=\"_blank\">stoic-smoke-33</a></strong> to <a href='https://wandb.ai/oriane-cavrois/brain_image_architecture_optimization_3' target=\"_blank\">Weights & Biases</a> (<a href='https://wandb.me/run' target=\"_blank\">docs</a>)<br/>"
      ],
      "text/plain": [
       "<IPython.core.display.HTML object>"
      ]
     },
     "metadata": {},
     "output_type": "display_data"
    },
    {
     "data": {
      "text/html": [
       " View project at <a href='https://wandb.ai/oriane-cavrois/brain_image_architecture_optimization_3' target=\"_blank\">https://wandb.ai/oriane-cavrois/brain_image_architecture_optimization_3</a>"
      ],
      "text/plain": [
       "<IPython.core.display.HTML object>"
      ]
     },
     "metadata": {},
     "output_type": "display_data"
    },
    {
     "data": {
      "text/html": [
       " View run at <a href='https://wandb.ai/oriane-cavrois/brain_image_architecture_optimization_3/runs/1nne23hs' target=\"_blank\">https://wandb.ai/oriane-cavrois/brain_image_architecture_optimization_3/runs/1nne23hs</a>"
      ],
      "text/plain": [
       "<IPython.core.display.HTML object>"
      ]
     },
     "metadata": {},
     "output_type": "display_data"
    },
    {
     "name": "stdout",
     "output_type": "stream",
     "text": [
      "Fold 1\n",
      "-------\n",
      "Test set: Average loss: 107.1508, Accuracy: 39/85 (45.88%)\n",
      "\n",
      "Fold 2\n",
      "-------\n",
      "Test set: Average loss: 9.2068, Accuracy: 53/85 (62.35%)\n",
      "\n",
      "Fold 3\n",
      "-------\n",
      "Test set: Average loss: 0.0000, Accuracy: 56/85 (65.88%)\n",
      "\n",
      "--------------------------------------\n"
     ]
    },
    {
     "name": "stderr",
     "output_type": "stream",
     "text": [
      "wandb: WARNING Source type is set to 'repo' but some required information is missing from the environment. A job will not be created from this run. See https://docs.wandb.ai/guides/launch/create-job\n"
     ]
    },
    {
     "data": {
      "application/vnd.jupyter.widget-view+json": {
       "model_id": "93d48adc191a4a94a48605c86e5eca57",
       "version_major": 2,
       "version_minor": 0
      },
      "text/plain": [
       "VBox(children=(Label(value='0.001 MB of 0.001 MB uploaded\\r'), FloatProgress(value=1.0, max=1.0)))"
      ]
     },
     "metadata": {},
     "output_type": "display_data"
    },
    {
     "data": {
      "text/html": [
       "<style>\n",
       "    table.wandb td:nth-child(1) { padding: 0 10px; text-align: left ; width: auto;} td:nth-child(2) {text-align: left ; width: 100%}\n",
       "    .wandb-row { display: flex; flex-direction: row; flex-wrap: wrap; justify-content: flex-start; width: 100% }\n",
       "    .wandb-col { display: flex; flex-direction: column; flex-basis: 100%; flex: 1; padding: 10px; }\n",
       "    </style>\n",
       "<div class=\"wandb-row\"><div class=\"wandb-col\"><h3>Run history:</h3><br/><table class=\"wandb\"><tr><td>test accuracy</td><td>▁</td></tr><tr><td>test loss</td><td>▁</td></tr><tr><td>train accuracy</td><td>▁</td></tr><tr><td>train loss</td><td>▁</td></tr></table><br/></div><div class=\"wandb-col\"><h3>Run summary:</h3><br/><table class=\"wandb\"><tr><td>test accuracy</td><td>0.58039</td></tr><tr><td>test loss</td><td>38.78584</td></tr><tr><td>train accuracy</td><td>0.97236</td></tr><tr><td>train loss</td><td>57.21193</td></tr></table><br/></div></div>"
      ],
      "text/plain": [
       "<IPython.core.display.HTML object>"
      ]
     },
     "metadata": {},
     "output_type": "display_data"
    },
    {
     "data": {
      "text/html": [
       " View run <strong style=\"color:#cdcd00\">stoic-smoke-33</strong> at: <a href='https://wandb.ai/oriane-cavrois/brain_image_architecture_optimization_3/runs/1nne23hs' target=\"_blank\">https://wandb.ai/oriane-cavrois/brain_image_architecture_optimization_3/runs/1nne23hs</a><br/>Synced 5 W&B file(s), 0 media file(s), 0 artifact file(s) and 0 other file(s)"
      ],
      "text/plain": [
       "<IPython.core.display.HTML object>"
      ]
     },
     "metadata": {},
     "output_type": "display_data"
    },
    {
     "data": {
      "text/html": [
       "Find logs at: <code>./wandb/run-20240206_194042-1nne23hs/logs</code>"
      ],
      "text/plain": [
       "<IPython.core.display.HTML object>"
      ]
     },
     "metadata": {},
     "output_type": "display_data"
    },
    {
     "name": "stdout",
     "output_type": "stream",
     "text": [
      "Iteration 17\n",
      "Architecture: deep\n",
      "Number of epochs: 15\n",
      "(15, 0.0023, 8, 'deep', 0.5)\n"
     ]
    },
    {
     "data": {
      "application/vnd.jupyter.widget-view+json": {
       "model_id": "bfd69064bbb8486389ce1cfd1f97ed63",
       "version_major": 2,
       "version_minor": 0
      },
      "text/plain": [
       "VBox(children=(Label(value='Waiting for wandb.init()...\\r'), FloatProgress(value=0.011191787500016896, max=1.0…"
      ]
     },
     "metadata": {},
     "output_type": "display_data"
    },
    {
     "data": {
      "text/html": [
       "wandb version 0.16.3 is available!  To upgrade, please run:\n",
       " $ pip install wandb --upgrade"
      ],
      "text/plain": [
       "<IPython.core.display.HTML object>"
      ]
     },
     "metadata": {},
     "output_type": "display_data"
    },
    {
     "data": {
      "text/html": [
       "Tracking run with wandb version 0.16.2"
      ],
      "text/plain": [
       "<IPython.core.display.HTML object>"
      ]
     },
     "metadata": {},
     "output_type": "display_data"
    },
    {
     "data": {
      "text/html": [
       "Run data is saved locally in <code>/Users/orianecavrois/Documents/Perso/MachineLearning/Github/Brain-tumor-image-classification/wandb/run-20240206_194203-w6v9g3ad</code>"
      ],
      "text/plain": [
       "<IPython.core.display.HTML object>"
      ]
     },
     "metadata": {},
     "output_type": "display_data"
    },
    {
     "data": {
      "text/html": [
       "Syncing run <strong><a href='https://wandb.ai/oriane-cavrois/brain_image_architecture_optimization_3/runs/w6v9g3ad' target=\"_blank\">absurd-violet-34</a></strong> to <a href='https://wandb.ai/oriane-cavrois/brain_image_architecture_optimization_3' target=\"_blank\">Weights & Biases</a> (<a href='https://wandb.me/run' target=\"_blank\">docs</a>)<br/>"
      ],
      "text/plain": [
       "<IPython.core.display.HTML object>"
      ]
     },
     "metadata": {},
     "output_type": "display_data"
    },
    {
     "data": {
      "text/html": [
       " View project at <a href='https://wandb.ai/oriane-cavrois/brain_image_architecture_optimization_3' target=\"_blank\">https://wandb.ai/oriane-cavrois/brain_image_architecture_optimization_3</a>"
      ],
      "text/plain": [
       "<IPython.core.display.HTML object>"
      ]
     },
     "metadata": {},
     "output_type": "display_data"
    },
    {
     "data": {
      "text/html": [
       " View run at <a href='https://wandb.ai/oriane-cavrois/brain_image_architecture_optimization_3/runs/w6v9g3ad' target=\"_blank\">https://wandb.ai/oriane-cavrois/brain_image_architecture_optimization_3/runs/w6v9g3ad</a>"
      ],
      "text/plain": [
       "<IPython.core.display.HTML object>"
      ]
     },
     "metadata": {},
     "output_type": "display_data"
    },
    {
     "name": "stdout",
     "output_type": "stream",
     "text": [
      "Fold 1\n",
      "-------\n",
      "Test set: Average loss: 0.4481, Accuracy: 32/85 (37.65%)\n",
      "\n",
      "Fold 2\n",
      "-------\n",
      "Test set: Average loss: 0.4385, Accuracy: 33/85 (38.82%)\n",
      "\n",
      "Fold 3\n",
      "-------\n",
      "Test set: Average loss: 0.4609, Accuracy: 40/85 (47.06%)\n",
      "\n",
      "--------------------------------------\n"
     ]
    },
    {
     "name": "stderr",
     "output_type": "stream",
     "text": [
      "wandb: WARNING Source type is set to 'repo' but some required information is missing from the environment. A job will not be created from this run. See https://docs.wandb.ai/guides/launch/create-job\n"
     ]
    },
    {
     "data": {
      "application/vnd.jupyter.widget-view+json": {
       "model_id": "6fa30c54baf9450f8cafe3dea8002361",
       "version_major": 2,
       "version_minor": 0
      },
      "text/plain": [
       "VBox(children=(Label(value='0.001 MB of 0.001 MB uploaded\\r'), FloatProgress(value=1.0, max=1.0)))"
      ]
     },
     "metadata": {},
     "output_type": "display_data"
    },
    {
     "data": {
      "text/html": [
       "<style>\n",
       "    table.wandb td:nth-child(1) { padding: 0 10px; text-align: left ; width: auto;} td:nth-child(2) {text-align: left ; width: 100%}\n",
       "    .wandb-row { display: flex; flex-direction: row; flex-wrap: wrap; justify-content: flex-start; width: 100% }\n",
       "    .wandb-col { display: flex; flex-direction: column; flex-basis: 100%; flex: 1; padding: 10px; }\n",
       "    </style>\n",
       "<div class=\"wandb-row\"><div class=\"wandb-col\"><h3>Run history:</h3><br/><table class=\"wandb\"><tr><td>test accuracy</td><td>▁</td></tr><tr><td>test loss</td><td>▁</td></tr><tr><td>train accuracy</td><td>▁</td></tr><tr><td>train loss</td><td>▁</td></tr></table><br/></div><div class=\"wandb-col\"><h3>Run summary:</h3><br/><table class=\"wandb\"><tr><td>test accuracy</td><td>0.41176</td></tr><tr><td>test loss</td><td>0.44916</td></tr><tr><td>train accuracy</td><td>0.6371</td></tr><tr><td>train loss</td><td>0.19309</td></tr></table><br/></div></div>"
      ],
      "text/plain": [
       "<IPython.core.display.HTML object>"
      ]
     },
     "metadata": {},
     "output_type": "display_data"
    },
    {
     "data": {
      "text/html": [
       " View run <strong style=\"color:#cdcd00\">absurd-violet-34</strong> at: <a href='https://wandb.ai/oriane-cavrois/brain_image_architecture_optimization_3/runs/w6v9g3ad' target=\"_blank\">https://wandb.ai/oriane-cavrois/brain_image_architecture_optimization_3/runs/w6v9g3ad</a><br/>Synced 5 W&B file(s), 0 media file(s), 0 artifact file(s) and 0 other file(s)"
      ],
      "text/plain": [
       "<IPython.core.display.HTML object>"
      ]
     },
     "metadata": {},
     "output_type": "display_data"
    },
    {
     "data": {
      "text/html": [
       "Find logs at: <code>./wandb/run-20240206_194203-w6v9g3ad/logs</code>"
      ],
      "text/plain": [
       "<IPython.core.display.HTML object>"
      ]
     },
     "metadata": {},
     "output_type": "display_data"
    },
    {
     "name": "stdout",
     "output_type": "stream",
     "text": [
      "Iteration 18\n",
      "Architecture: large\n",
      "Number of epochs: 5\n",
      "(5, 0.0006500000000000001, 8, 'large', 0.75)\n"
     ]
    },
    {
     "data": {
      "application/vnd.jupyter.widget-view+json": {
       "model_id": "e2a3af15c1af44f9b14789cef7cfa251",
       "version_major": 2,
       "version_minor": 0
      },
      "text/plain": [
       "VBox(children=(Label(value='Waiting for wandb.init()...\\r'), FloatProgress(value=0.011167516199970527, max=1.0…"
      ]
     },
     "metadata": {},
     "output_type": "display_data"
    },
    {
     "data": {
      "text/html": [
       "wandb version 0.16.3 is available!  To upgrade, please run:\n",
       " $ pip install wandb --upgrade"
      ],
      "text/plain": [
       "<IPython.core.display.HTML object>"
      ]
     },
     "metadata": {},
     "output_type": "display_data"
    },
    {
     "data": {
      "text/html": [
       "Tracking run with wandb version 0.16.2"
      ],
      "text/plain": [
       "<IPython.core.display.HTML object>"
      ]
     },
     "metadata": {},
     "output_type": "display_data"
    },
    {
     "data": {
      "text/html": [
       "Run data is saved locally in <code>/Users/orianecavrois/Documents/Perso/MachineLearning/Github/Brain-tumor-image-classification/wandb/run-20240206_194238-4ry3kk72</code>"
      ],
      "text/plain": [
       "<IPython.core.display.HTML object>"
      ]
     },
     "metadata": {},
     "output_type": "display_data"
    },
    {
     "data": {
      "text/html": [
       "Syncing run <strong><a href='https://wandb.ai/oriane-cavrois/brain_image_architecture_optimization_3/runs/4ry3kk72' target=\"_blank\">deft-planet-35</a></strong> to <a href='https://wandb.ai/oriane-cavrois/brain_image_architecture_optimization_3' target=\"_blank\">Weights & Biases</a> (<a href='https://wandb.me/run' target=\"_blank\">docs</a>)<br/>"
      ],
      "text/plain": [
       "<IPython.core.display.HTML object>"
      ]
     },
     "metadata": {},
     "output_type": "display_data"
    },
    {
     "data": {
      "text/html": [
       " View project at <a href='https://wandb.ai/oriane-cavrois/brain_image_architecture_optimization_3' target=\"_blank\">https://wandb.ai/oriane-cavrois/brain_image_architecture_optimization_3</a>"
      ],
      "text/plain": [
       "<IPython.core.display.HTML object>"
      ]
     },
     "metadata": {},
     "output_type": "display_data"
    },
    {
     "data": {
      "text/html": [
       " View run at <a href='https://wandb.ai/oriane-cavrois/brain_image_architecture_optimization_3/runs/4ry3kk72' target=\"_blank\">https://wandb.ai/oriane-cavrois/brain_image_architecture_optimization_3/runs/4ry3kk72</a>"
      ],
      "text/plain": [
       "<IPython.core.display.HTML object>"
      ]
     },
     "metadata": {},
     "output_type": "display_data"
    },
    {
     "name": "stdout",
     "output_type": "stream",
     "text": [
      "Fold 1\n",
      "-------\n",
      "Test set: Average loss: 27.9470, Accuracy: 42/85 (49.41%)\n",
      "\n",
      "Fold 2\n",
      "-------\n",
      "Test set: Average loss: 3.5429, Accuracy: 54/85 (63.53%)\n",
      "\n",
      "Fold 3\n",
      "-------\n",
      "Test set: Average loss: 6.6320, Accuracy: 50/85 (58.82%)\n",
      "\n",
      "--------------------------------------\n"
     ]
    },
    {
     "name": "stderr",
     "output_type": "stream",
     "text": [
      "wandb: WARNING Source type is set to 'repo' but some required information is missing from the environment. A job will not be created from this run. See https://docs.wandb.ai/guides/launch/create-job\n"
     ]
    },
    {
     "data": {
      "application/vnd.jupyter.widget-view+json": {
       "model_id": "6c028b3da05942ec9f6432a1552f426c",
       "version_major": 2,
       "version_minor": 0
      },
      "text/plain": [
       "VBox(children=(Label(value='0.001 MB of 0.001 MB uploaded\\r'), FloatProgress(value=1.0, max=1.0)))"
      ]
     },
     "metadata": {},
     "output_type": "display_data"
    },
    {
     "data": {
      "text/html": [
       "<style>\n",
       "    table.wandb td:nth-child(1) { padding: 0 10px; text-align: left ; width: auto;} td:nth-child(2) {text-align: left ; width: 100%}\n",
       "    .wandb-row { display: flex; flex-direction: row; flex-wrap: wrap; justify-content: flex-start; width: 100% }\n",
       "    .wandb-col { display: flex; flex-direction: column; flex-basis: 100%; flex: 1; padding: 10px; }\n",
       "    </style>\n",
       "<div class=\"wandb-row\"><div class=\"wandb-col\"><h3>Run history:</h3><br/><table class=\"wandb\"><tr><td>test accuracy</td><td>▁</td></tr><tr><td>test loss</td><td>▁</td></tr><tr><td>train accuracy</td><td>▁</td></tr><tr><td>train loss</td><td>▁</td></tr></table><br/></div><div class=\"wandb-col\"><h3>Run summary:</h3><br/><table class=\"wandb\"><tr><td>test accuracy</td><td>0.57255</td></tr><tr><td>test loss</td><td>12.70729</td></tr><tr><td>train accuracy</td><td>0.85</td></tr><tr><td>train loss</td><td>63.13225</td></tr></table><br/></div></div>"
      ],
      "text/plain": [
       "<IPython.core.display.HTML object>"
      ]
     },
     "metadata": {},
     "output_type": "display_data"
    },
    {
     "data": {
      "text/html": [
       " View run <strong style=\"color:#cdcd00\">deft-planet-35</strong> at: <a href='https://wandb.ai/oriane-cavrois/brain_image_architecture_optimization_3/runs/4ry3kk72' target=\"_blank\">https://wandb.ai/oriane-cavrois/brain_image_architecture_optimization_3/runs/4ry3kk72</a><br/>Synced 5 W&B file(s), 0 media file(s), 0 artifact file(s) and 0 other file(s)"
      ],
      "text/plain": [
       "<IPython.core.display.HTML object>"
      ]
     },
     "metadata": {},
     "output_type": "display_data"
    },
    {
     "data": {
      "text/html": [
       "Find logs at: <code>./wandb/run-20240206_194238-4ry3kk72/logs</code>"
      ],
      "text/plain": [
       "<IPython.core.display.HTML object>"
      ]
     },
     "metadata": {},
     "output_type": "display_data"
    },
    {
     "name": "stdout",
     "output_type": "stream",
     "text": [
      "Iteration 19\n",
      "Architecture: pyramid\n",
      "Number of epochs: 35\n",
      "(35, 0.0067, 7, 'pyramid', 0.7000000000000001)\n"
     ]
    },
    {
     "data": {
      "application/vnd.jupyter.widget-view+json": {
       "model_id": "858bc86173454db8b673e79264b07272",
       "version_major": 2,
       "version_minor": 0
      },
      "text/plain": [
       "VBox(children=(Label(value='Waiting for wandb.init()...\\r'), FloatProgress(value=0.011145771300006244, max=1.0…"
      ]
     },
     "metadata": {},
     "output_type": "display_data"
    },
    {
     "data": {
      "text/html": [
       "wandb version 0.16.3 is available!  To upgrade, please run:\n",
       " $ pip install wandb --upgrade"
      ],
      "text/plain": [
       "<IPython.core.display.HTML object>"
      ]
     },
     "metadata": {},
     "output_type": "display_data"
    },
    {
     "data": {
      "text/html": [
       "Tracking run with wandb version 0.16.2"
      ],
      "text/plain": [
       "<IPython.core.display.HTML object>"
      ]
     },
     "metadata": {},
     "output_type": "display_data"
    },
    {
     "data": {
      "text/html": [
       "Run data is saved locally in <code>/Users/orianecavrois/Documents/Perso/MachineLearning/Github/Brain-tumor-image-classification/wandb/run-20240206_194255-zrl56m0n</code>"
      ],
      "text/plain": [
       "<IPython.core.display.HTML object>"
      ]
     },
     "metadata": {},
     "output_type": "display_data"
    },
    {
     "data": {
      "text/html": [
       "Syncing run <strong><a href='https://wandb.ai/oriane-cavrois/brain_image_architecture_optimization_3/runs/zrl56m0n' target=\"_blank\">kind-paper-36</a></strong> to <a href='https://wandb.ai/oriane-cavrois/brain_image_architecture_optimization_3' target=\"_blank\">Weights & Biases</a> (<a href='https://wandb.me/run' target=\"_blank\">docs</a>)<br/>"
      ],
      "text/plain": [
       "<IPython.core.display.HTML object>"
      ]
     },
     "metadata": {},
     "output_type": "display_data"
    },
    {
     "data": {
      "text/html": [
       " View project at <a href='https://wandb.ai/oriane-cavrois/brain_image_architecture_optimization_3' target=\"_blank\">https://wandb.ai/oriane-cavrois/brain_image_architecture_optimization_3</a>"
      ],
      "text/plain": [
       "<IPython.core.display.HTML object>"
      ]
     },
     "metadata": {},
     "output_type": "display_data"
    },
    {
     "data": {
      "text/html": [
       " View run at <a href='https://wandb.ai/oriane-cavrois/brain_image_architecture_optimization_3/runs/zrl56m0n' target=\"_blank\">https://wandb.ai/oriane-cavrois/brain_image_architecture_optimization_3/runs/zrl56m0n</a>"
      ],
      "text/plain": [
       "<IPython.core.display.HTML object>"
      ]
     },
     "metadata": {},
     "output_type": "display_data"
    },
    {
     "name": "stdout",
     "output_type": "stream",
     "text": [
      "Fold 1\n",
      "-------\n",
      "Test set: Average loss: 4.1941, Accuracy: 29/85 (34.12%)\n",
      "\n",
      "Fold 2\n",
      "-------\n",
      "Test set: Average loss: 2.7960, Accuracy: 26/85 (30.59%)\n",
      "\n",
      "Fold 3\n",
      "-------\n",
      "Test set: Average loss: 11.5088, Accuracy: 37/85 (43.53%)\n",
      "\n",
      "--------------------------------------\n"
     ]
    },
    {
     "name": "stderr",
     "output_type": "stream",
     "text": [
      "wandb: WARNING Source type is set to 'repo' but some required information is missing from the environment. A job will not be created from this run. See https://docs.wandb.ai/guides/launch/create-job\n"
     ]
    },
    {
     "data": {
      "application/vnd.jupyter.widget-view+json": {
       "model_id": "dd00af9a9b9449bda186744bb3938c34",
       "version_major": 2,
       "version_minor": 0
      },
      "text/plain": [
       "VBox(children=(Label(value='0.001 MB of 0.004 MB uploaded\\r'), FloatProgress(value=0.3475496688741722, max=1.0…"
      ]
     },
     "metadata": {},
     "output_type": "display_data"
    },
    {
     "data": {
      "text/html": [
       "<style>\n",
       "    table.wandb td:nth-child(1) { padding: 0 10px; text-align: left ; width: auto;} td:nth-child(2) {text-align: left ; width: 100%}\n",
       "    .wandb-row { display: flex; flex-direction: row; flex-wrap: wrap; justify-content: flex-start; width: 100% }\n",
       "    .wandb-col { display: flex; flex-direction: column; flex-basis: 100%; flex: 1; padding: 10px; }\n",
       "    </style>\n",
       "<div class=\"wandb-row\"><div class=\"wandb-col\"><h3>Run history:</h3><br/><table class=\"wandb\"><tr><td>test accuracy</td><td>▁</td></tr><tr><td>test loss</td><td>▁</td></tr><tr><td>train accuracy</td><td>▁</td></tr><tr><td>train loss</td><td>▁</td></tr></table><br/></div><div class=\"wandb-col\"><h3>Run summary:</h3><br/><table class=\"wandb\"><tr><td>test accuracy</td><td>0.36078</td></tr><tr><td>test loss</td><td>6.16629</td></tr><tr><td>train accuracy</td><td>0.56692</td></tr><tr><td>train loss</td><td>3.55348</td></tr></table><br/></div></div>"
      ],
      "text/plain": [
       "<IPython.core.display.HTML object>"
      ]
     },
     "metadata": {},
     "output_type": "display_data"
    },
    {
     "data": {
      "text/html": [
       " View run <strong style=\"color:#cdcd00\">kind-paper-36</strong> at: <a href='https://wandb.ai/oriane-cavrois/brain_image_architecture_optimization_3/runs/zrl56m0n' target=\"_blank\">https://wandb.ai/oriane-cavrois/brain_image_architecture_optimization_3/runs/zrl56m0n</a><br/>Synced 5 W&B file(s), 0 media file(s), 0 artifact file(s) and 0 other file(s)"
      ],
      "text/plain": [
       "<IPython.core.display.HTML object>"
      ]
     },
     "metadata": {},
     "output_type": "display_data"
    },
    {
     "data": {
      "text/html": [
       "Find logs at: <code>./wandb/run-20240206_194255-zrl56m0n/logs</code>"
      ],
      "text/plain": [
       "<IPython.core.display.HTML object>"
      ]
     },
     "metadata": {},
     "output_type": "display_data"
    },
    {
     "name": "stdout",
     "output_type": "stream",
     "text": [
      "Iteration 20\n",
      "Architecture: pyramid\n",
      "Number of epochs: 10\n",
      "(10, 0.0006500000000000001, 7, 'pyramid', 0.7000000000000001)\n"
     ]
    },
    {
     "data": {
      "application/vnd.jupyter.widget-view+json": {
       "model_id": "76930dbe315d4151a86bbe32fadb9798",
       "version_major": 2,
       "version_minor": 0
      },
      "text/plain": [
       "VBox(children=(Label(value='Waiting for wandb.init()...\\r'), FloatProgress(value=0.011167449533321714, max=1.0…"
      ]
     },
     "metadata": {},
     "output_type": "display_data"
    },
    {
     "data": {
      "text/html": [
       "wandb version 0.16.3 is available!  To upgrade, please run:\n",
       " $ pip install wandb --upgrade"
      ],
      "text/plain": [
       "<IPython.core.display.HTML object>"
      ]
     },
     "metadata": {},
     "output_type": "display_data"
    },
    {
     "data": {
      "text/html": [
       "Tracking run with wandb version 0.16.2"
      ],
      "text/plain": [
       "<IPython.core.display.HTML object>"
      ]
     },
     "metadata": {},
     "output_type": "display_data"
    },
    {
     "data": {
      "text/html": [
       "Run data is saved locally in <code>/Users/orianecavrois/Documents/Perso/MachineLearning/Github/Brain-tumor-image-classification/wandb/run-20240206_194413-vea2wg33</code>"
      ],
      "text/plain": [
       "<IPython.core.display.HTML object>"
      ]
     },
     "metadata": {},
     "output_type": "display_data"
    },
    {
     "data": {
      "text/html": [
       "Syncing run <strong><a href='https://wandb.ai/oriane-cavrois/brain_image_architecture_optimization_3/runs/vea2wg33' target=\"_blank\">olive-deluge-37</a></strong> to <a href='https://wandb.ai/oriane-cavrois/brain_image_architecture_optimization_3' target=\"_blank\">Weights & Biases</a> (<a href='https://wandb.me/run' target=\"_blank\">docs</a>)<br/>"
      ],
      "text/plain": [
       "<IPython.core.display.HTML object>"
      ]
     },
     "metadata": {},
     "output_type": "display_data"
    },
    {
     "data": {
      "text/html": [
       " View project at <a href='https://wandb.ai/oriane-cavrois/brain_image_architecture_optimization_3' target=\"_blank\">https://wandb.ai/oriane-cavrois/brain_image_architecture_optimization_3</a>"
      ],
      "text/plain": [
       "<IPython.core.display.HTML object>"
      ]
     },
     "metadata": {},
     "output_type": "display_data"
    },
    {
     "data": {
      "text/html": [
       " View run at <a href='https://wandb.ai/oriane-cavrois/brain_image_architecture_optimization_3/runs/vea2wg33' target=\"_blank\">https://wandb.ai/oriane-cavrois/brain_image_architecture_optimization_3/runs/vea2wg33</a>"
      ],
      "text/plain": [
       "<IPython.core.display.HTML object>"
      ]
     },
     "metadata": {},
     "output_type": "display_data"
    },
    {
     "name": "stdout",
     "output_type": "stream",
     "text": [
      "Fold 1\n",
      "-------\n",
      "Test set: Average loss: 3.4308, Accuracy: 35/85 (41.18%)\n",
      "\n",
      "Fold 2\n",
      "-------\n",
      "Test set: Average loss: 3.9470, Accuracy: 38/85 (44.71%)\n",
      "\n",
      "Fold 3\n",
      "-------\n",
      "Test set: Average loss: 3.0296, Accuracy: 35/85 (41.18%)\n",
      "\n",
      "--------------------------------------\n"
     ]
    },
    {
     "name": "stderr",
     "output_type": "stream",
     "text": [
      "wandb: WARNING Source type is set to 'repo' but some required information is missing from the environment. A job will not be created from this run. See https://docs.wandb.ai/guides/launch/create-job\n"
     ]
    },
    {
     "data": {
      "application/vnd.jupyter.widget-view+json": {
       "model_id": "f148e4ffecc54f099528457d9ea79076",
       "version_major": 2,
       "version_minor": 0
      },
      "text/plain": [
       "VBox(children=(Label(value='0.001 MB of 0.001 MB uploaded\\r'), FloatProgress(value=1.0, max=1.0)))"
      ]
     },
     "metadata": {},
     "output_type": "display_data"
    },
    {
     "data": {
      "text/html": [
       "<style>\n",
       "    table.wandb td:nth-child(1) { padding: 0 10px; text-align: left ; width: auto;} td:nth-child(2) {text-align: left ; width: 100%}\n",
       "    .wandb-row { display: flex; flex-direction: row; flex-wrap: wrap; justify-content: flex-start; width: 100% }\n",
       "    .wandb-col { display: flex; flex-direction: column; flex-basis: 100%; flex: 1; padding: 10px; }\n",
       "    </style>\n",
       "<div class=\"wandb-row\"><div class=\"wandb-col\"><h3>Run history:</h3><br/><table class=\"wandb\"><tr><td>test accuracy</td><td>▁</td></tr><tr><td>test loss</td><td>▁</td></tr><tr><td>train accuracy</td><td>▁</td></tr><tr><td>train loss</td><td>▁</td></tr></table><br/></div><div class=\"wandb-col\"><h3>Run summary:</h3><br/><table class=\"wandb\"><tr><td>test accuracy</td><td>0.42353</td></tr><tr><td>test loss</td><td>3.46915</td></tr><tr><td>train accuracy</td><td>0.55387</td></tr><tr><td>train loss</td><td>4.35406</td></tr></table><br/></div></div>"
      ],
      "text/plain": [
       "<IPython.core.display.HTML object>"
      ]
     },
     "metadata": {},
     "output_type": "display_data"
    },
    {
     "data": {
      "text/html": [
       " View run <strong style=\"color:#cdcd00\">olive-deluge-37</strong> at: <a href='https://wandb.ai/oriane-cavrois/brain_image_architecture_optimization_3/runs/vea2wg33' target=\"_blank\">https://wandb.ai/oriane-cavrois/brain_image_architecture_optimization_3/runs/vea2wg33</a><br/>Synced 5 W&B file(s), 0 media file(s), 0 artifact file(s) and 0 other file(s)"
      ],
      "text/plain": [
       "<IPython.core.display.HTML object>"
      ]
     },
     "metadata": {},
     "output_type": "display_data"
    },
    {
     "data": {
      "text/html": [
       "Find logs at: <code>./wandb/run-20240206_194413-vea2wg33/logs</code>"
      ],
      "text/plain": [
       "<IPython.core.display.HTML object>"
      ]
     },
     "metadata": {},
     "output_type": "display_data"
    },
    {
     "name": "stdout",
     "output_type": "stream",
     "text": [
      "Iteration 21\n",
      "Architecture: pyramid\n",
      "Number of epochs: 15\n",
      "(15, 0.0045000000000000005, 9, 'pyramid', 0.2)\n"
     ]
    },
    {
     "data": {
      "application/vnd.jupyter.widget-view+json": {
       "model_id": "323f0cf415be42afbf1ae006bb44addd",
       "version_major": 2,
       "version_minor": 0
      },
      "text/plain": [
       "VBox(children=(Label(value='Waiting for wandb.init()...\\r'), FloatProgress(value=0.011167320833353894, max=1.0…"
      ]
     },
     "metadata": {},
     "output_type": "display_data"
    },
    {
     "data": {
      "text/html": [
       "wandb version 0.16.3 is available!  To upgrade, please run:\n",
       " $ pip install wandb --upgrade"
      ],
      "text/plain": [
       "<IPython.core.display.HTML object>"
      ]
     },
     "metadata": {},
     "output_type": "display_data"
    },
    {
     "data": {
      "text/html": [
       "Tracking run with wandb version 0.16.2"
      ],
      "text/plain": [
       "<IPython.core.display.HTML object>"
      ]
     },
     "metadata": {},
     "output_type": "display_data"
    },
    {
     "data": {
      "text/html": [
       "Run data is saved locally in <code>/Users/orianecavrois/Documents/Perso/MachineLearning/Github/Brain-tumor-image-classification/wandb/run-20240206_194438-sf4vr28c</code>"
      ],
      "text/plain": [
       "<IPython.core.display.HTML object>"
      ]
     },
     "metadata": {},
     "output_type": "display_data"
    },
    {
     "data": {
      "text/html": [
       "Syncing run <strong><a href='https://wandb.ai/oriane-cavrois/brain_image_architecture_optimization_3/runs/sf4vr28c' target=\"_blank\">sparkling-jazz-38</a></strong> to <a href='https://wandb.ai/oriane-cavrois/brain_image_architecture_optimization_3' target=\"_blank\">Weights & Biases</a> (<a href='https://wandb.me/run' target=\"_blank\">docs</a>)<br/>"
      ],
      "text/plain": [
       "<IPython.core.display.HTML object>"
      ]
     },
     "metadata": {},
     "output_type": "display_data"
    },
    {
     "data": {
      "text/html": [
       " View project at <a href='https://wandb.ai/oriane-cavrois/brain_image_architecture_optimization_3' target=\"_blank\">https://wandb.ai/oriane-cavrois/brain_image_architecture_optimization_3</a>"
      ],
      "text/plain": [
       "<IPython.core.display.HTML object>"
      ]
     },
     "metadata": {},
     "output_type": "display_data"
    },
    {
     "data": {
      "text/html": [
       " View run at <a href='https://wandb.ai/oriane-cavrois/brain_image_architecture_optimization_3/runs/sf4vr28c' target=\"_blank\">https://wandb.ai/oriane-cavrois/brain_image_architecture_optimization_3/runs/sf4vr28c</a>"
      ],
      "text/plain": [
       "<IPython.core.display.HTML object>"
      ]
     },
     "metadata": {},
     "output_type": "display_data"
    },
    {
     "name": "stdout",
     "output_type": "stream",
     "text": [
      "Fold 1\n",
      "-------\n",
      "Test set: Average loss: 1.2756, Accuracy: 41/85 (48.24%)\n",
      "\n",
      "Fold 2\n",
      "-------\n",
      "Test set: Average loss: 0.4613, Accuracy: 43/85 (50.59%)\n",
      "\n",
      "Fold 3\n",
      "-------\n",
      "Test set: Average loss: 0.6709, Accuracy: 38/85 (44.71%)\n",
      "\n",
      "--------------------------------------\n"
     ]
    },
    {
     "name": "stderr",
     "output_type": "stream",
     "text": [
      "wandb: WARNING Source type is set to 'repo' but some required information is missing from the environment. A job will not be created from this run. See https://docs.wandb.ai/guides/launch/create-job\n"
     ]
    },
    {
     "data": {
      "application/vnd.jupyter.widget-view+json": {
       "model_id": "1c30b8acab5c4072a7ca60eb3881b9c7",
       "version_major": 2,
       "version_minor": 0
      },
      "text/plain": [
       "VBox(children=(Label(value='0.001 MB of 0.001 MB uploaded\\r'), FloatProgress(value=1.0, max=1.0)))"
      ]
     },
     "metadata": {},
     "output_type": "display_data"
    },
    {
     "data": {
      "text/html": [
       "<style>\n",
       "    table.wandb td:nth-child(1) { padding: 0 10px; text-align: left ; width: auto;} td:nth-child(2) {text-align: left ; width: 100%}\n",
       "    .wandb-row { display: flex; flex-direction: row; flex-wrap: wrap; justify-content: flex-start; width: 100% }\n",
       "    .wandb-col { display: flex; flex-direction: column; flex-basis: 100%; flex: 1; padding: 10px; }\n",
       "    </style>\n",
       "<div class=\"wandb-row\"><div class=\"wandb-col\"><h3>Run history:</h3><br/><table class=\"wandb\"><tr><td>test accuracy</td><td>▁</td></tr><tr><td>test loss</td><td>▁</td></tr><tr><td>train accuracy</td><td>▁</td></tr><tr><td>train loss</td><td>▁</td></tr></table><br/></div><div class=\"wandb-col\"><h3>Run summary:</h3><br/><table class=\"wandb\"><tr><td>test accuracy</td><td>0.47843</td></tr><tr><td>test loss</td><td>0.80261</td></tr><tr><td>train accuracy</td><td>0.65794</td></tr><tr><td>train loss</td><td>5.64008</td></tr></table><br/></div></div>"
      ],
      "text/plain": [
       "<IPython.core.display.HTML object>"
      ]
     },
     "metadata": {},
     "output_type": "display_data"
    },
    {
     "data": {
      "text/html": [
       " View run <strong style=\"color:#cdcd00\">sparkling-jazz-38</strong> at: <a href='https://wandb.ai/oriane-cavrois/brain_image_architecture_optimization_3/runs/sf4vr28c' target=\"_blank\">https://wandb.ai/oriane-cavrois/brain_image_architecture_optimization_3/runs/sf4vr28c</a><br/>Synced 5 W&B file(s), 0 media file(s), 0 artifact file(s) and 0 other file(s)"
      ],
      "text/plain": [
       "<IPython.core.display.HTML object>"
      ]
     },
     "metadata": {},
     "output_type": "display_data"
    },
    {
     "data": {
      "text/html": [
       "Find logs at: <code>./wandb/run-20240206_194438-sf4vr28c/logs</code>"
      ],
      "text/plain": [
       "<IPython.core.display.HTML object>"
      ]
     },
     "metadata": {},
     "output_type": "display_data"
    },
    {
     "name": "stdout",
     "output_type": "stream",
     "text": [
      "Iteration 22\n",
      "Architecture: deep\n",
      "Number of epochs: 20\n",
      "(20, 0.0001, 7, 'deep', 0.7000000000000001)\n"
     ]
    },
    {
     "data": {
      "application/vnd.jupyter.widget-view+json": {
       "model_id": "be9456ca7aac48308eb00634099e53de",
       "version_major": 2,
       "version_minor": 0
      },
      "text/plain": [
       "VBox(children=(Label(value='Waiting for wandb.init()...\\r'), FloatProgress(value=0.01115832546666853, max=1.0)…"
      ]
     },
     "metadata": {},
     "output_type": "display_data"
    },
    {
     "data": {
      "text/html": [
       "wandb version 0.16.3 is available!  To upgrade, please run:\n",
       " $ pip install wandb --upgrade"
      ],
      "text/plain": [
       "<IPython.core.display.HTML object>"
      ]
     },
     "metadata": {},
     "output_type": "display_data"
    },
    {
     "data": {
      "text/html": [
       "Tracking run with wandb version 0.16.2"
      ],
      "text/plain": [
       "<IPython.core.display.HTML object>"
      ]
     },
     "metadata": {},
     "output_type": "display_data"
    },
    {
     "data": {
      "text/html": [
       "Run data is saved locally in <code>/Users/orianecavrois/Documents/Perso/MachineLearning/Github/Brain-tumor-image-classification/wandb/run-20240206_194509-danqh2cp</code>"
      ],
      "text/plain": [
       "<IPython.core.display.HTML object>"
      ]
     },
     "metadata": {},
     "output_type": "display_data"
    },
    {
     "data": {
      "text/html": [
       "Syncing run <strong><a href='https://wandb.ai/oriane-cavrois/brain_image_architecture_optimization_3/runs/danqh2cp' target=\"_blank\">amber-feather-39</a></strong> to <a href='https://wandb.ai/oriane-cavrois/brain_image_architecture_optimization_3' target=\"_blank\">Weights & Biases</a> (<a href='https://wandb.me/run' target=\"_blank\">docs</a>)<br/>"
      ],
      "text/plain": [
       "<IPython.core.display.HTML object>"
      ]
     },
     "metadata": {},
     "output_type": "display_data"
    },
    {
     "data": {
      "text/html": [
       " View project at <a href='https://wandb.ai/oriane-cavrois/brain_image_architecture_optimization_3' target=\"_blank\">https://wandb.ai/oriane-cavrois/brain_image_architecture_optimization_3</a>"
      ],
      "text/plain": [
       "<IPython.core.display.HTML object>"
      ]
     },
     "metadata": {},
     "output_type": "display_data"
    },
    {
     "data": {
      "text/html": [
       " View run at <a href='https://wandb.ai/oriane-cavrois/brain_image_architecture_optimization_3/runs/danqh2cp' target=\"_blank\">https://wandb.ai/oriane-cavrois/brain_image_architecture_optimization_3/runs/danqh2cp</a>"
      ],
      "text/plain": [
       "<IPython.core.display.HTML object>"
      ]
     },
     "metadata": {},
     "output_type": "display_data"
    },
    {
     "name": "stdout",
     "output_type": "stream",
     "text": [
      "Fold 1\n",
      "-------\n",
      "Test set: Average loss: 0.4729, Accuracy: 26/85 (30.59%)\n",
      "\n",
      "Fold 2\n",
      "-------\n",
      "Test set: Average loss: 0.4290, Accuracy: 31/85 (36.47%)\n",
      "\n",
      "Fold 3\n",
      "-------\n",
      "Test set: Average loss: 0.3954, Accuracy: 37/85 (43.53%)\n",
      "\n",
      "--------------------------------------\n"
     ]
    },
    {
     "name": "stderr",
     "output_type": "stream",
     "text": [
      "wandb: WARNING Source type is set to 'repo' but some required information is missing from the environment. A job will not be created from this run. See https://docs.wandb.ai/guides/launch/create-job\n"
     ]
    },
    {
     "data": {
      "application/vnd.jupyter.widget-view+json": {
       "model_id": "491f29a4cbc0435aaee2b95263f6e170",
       "version_major": 2,
       "version_minor": 0
      },
      "text/plain": [
       "VBox(children=(Label(value='0.001 MB of 0.001 MB uploaded\\r'), FloatProgress(value=1.0, max=1.0)))"
      ]
     },
     "metadata": {},
     "output_type": "display_data"
    },
    {
     "data": {
      "text/html": [
       "<style>\n",
       "    table.wandb td:nth-child(1) { padding: 0 10px; text-align: left ; width: auto;} td:nth-child(2) {text-align: left ; width: 100%}\n",
       "    .wandb-row { display: flex; flex-direction: row; flex-wrap: wrap; justify-content: flex-start; width: 100% }\n",
       "    .wandb-col { display: flex; flex-direction: column; flex-basis: 100%; flex: 1; padding: 10px; }\n",
       "    </style>\n",
       "<div class=\"wandb-row\"><div class=\"wandb-col\"><h3>Run history:</h3><br/><table class=\"wandb\"><tr><td>test accuracy</td><td>▁</td></tr><tr><td>test loss</td><td>▁</td></tr><tr><td>train accuracy</td><td>▁</td></tr><tr><td>train loss</td><td>▁</td></tr></table><br/></div><div class=\"wandb-col\"><h3>Run summary:</h3><br/><table class=\"wandb\"><tr><td>test accuracy</td><td>0.36863</td></tr><tr><td>test loss</td><td>0.43244</td></tr><tr><td>train accuracy</td><td>0.59003</td></tr><tr><td>train loss</td><td>0.21824</td></tr></table><br/></div></div>"
      ],
      "text/plain": [
       "<IPython.core.display.HTML object>"
      ]
     },
     "metadata": {},
     "output_type": "display_data"
    },
    {
     "data": {
      "text/html": [
       " View run <strong style=\"color:#cdcd00\">amber-feather-39</strong> at: <a href='https://wandb.ai/oriane-cavrois/brain_image_architecture_optimization_3/runs/danqh2cp' target=\"_blank\">https://wandb.ai/oriane-cavrois/brain_image_architecture_optimization_3/runs/danqh2cp</a><br/>Synced 5 W&B file(s), 0 media file(s), 0 artifact file(s) and 0 other file(s)"
      ],
      "text/plain": [
       "<IPython.core.display.HTML object>"
      ]
     },
     "metadata": {},
     "output_type": "display_data"
    },
    {
     "data": {
      "text/html": [
       "Find logs at: <code>./wandb/run-20240206_194509-danqh2cp/logs</code>"
      ],
      "text/plain": [
       "<IPython.core.display.HTML object>"
      ]
     },
     "metadata": {},
     "output_type": "display_data"
    },
    {
     "name": "stdout",
     "output_type": "stream",
     "text": [
      "Iteration 23\n",
      "Architecture: deep\n",
      "Number of epochs: 25\n",
      "(25, 0.0089, 11, 'deep', 0.9500000000000001)\n"
     ]
    },
    {
     "data": {
      "application/vnd.jupyter.widget-view+json": {
       "model_id": "f4310443fc2349fab656c7f3760a7216",
       "version_major": 2,
       "version_minor": 0
      },
      "text/plain": [
       "VBox(children=(Label(value='Waiting for wandb.init()...\\r'), FloatProgress(value=0.011162843988859094, max=1.0…"
      ]
     },
     "metadata": {},
     "output_type": "display_data"
    },
    {
     "data": {
      "text/html": [
       "wandb version 0.16.3 is available!  To upgrade, please run:\n",
       " $ pip install wandb --upgrade"
      ],
      "text/plain": [
       "<IPython.core.display.HTML object>"
      ]
     },
     "metadata": {},
     "output_type": "display_data"
    },
    {
     "data": {
      "text/html": [
       "Tracking run with wandb version 0.16.2"
      ],
      "text/plain": [
       "<IPython.core.display.HTML object>"
      ]
     },
     "metadata": {},
     "output_type": "display_data"
    },
    {
     "data": {
      "text/html": [
       "Run data is saved locally in <code>/Users/orianecavrois/Documents/Perso/MachineLearning/Github/Brain-tumor-image-classification/wandb/run-20240206_194548-uspkyff2</code>"
      ],
      "text/plain": [
       "<IPython.core.display.HTML object>"
      ]
     },
     "metadata": {},
     "output_type": "display_data"
    },
    {
     "data": {
      "text/html": [
       "Syncing run <strong><a href='https://wandb.ai/oriane-cavrois/brain_image_architecture_optimization_3/runs/uspkyff2' target=\"_blank\">driven-haze-40</a></strong> to <a href='https://wandb.ai/oriane-cavrois/brain_image_architecture_optimization_3' target=\"_blank\">Weights & Biases</a> (<a href='https://wandb.me/run' target=\"_blank\">docs</a>)<br/>"
      ],
      "text/plain": [
       "<IPython.core.display.HTML object>"
      ]
     },
     "metadata": {},
     "output_type": "display_data"
    },
    {
     "data": {
      "text/html": [
       " View project at <a href='https://wandb.ai/oriane-cavrois/brain_image_architecture_optimization_3' target=\"_blank\">https://wandb.ai/oriane-cavrois/brain_image_architecture_optimization_3</a>"
      ],
      "text/plain": [
       "<IPython.core.display.HTML object>"
      ]
     },
     "metadata": {},
     "output_type": "display_data"
    },
    {
     "data": {
      "text/html": [
       " View run at <a href='https://wandb.ai/oriane-cavrois/brain_image_architecture_optimization_3/runs/uspkyff2' target=\"_blank\">https://wandb.ai/oriane-cavrois/brain_image_architecture_optimization_3/runs/uspkyff2</a>"
      ],
      "text/plain": [
       "<IPython.core.display.HTML object>"
      ]
     },
     "metadata": {},
     "output_type": "display_data"
    },
    {
     "name": "stdout",
     "output_type": "stream",
     "text": [
      "Fold 1\n",
      "-------\n",
      "Test set: Average loss: 1.0540, Accuracy: 36/85 (42.35%)\n",
      "\n",
      "Fold 2\n",
      "-------\n",
      "Test set: Average loss: 0.9259, Accuracy: 33/85 (38.82%)\n",
      "\n",
      "Fold 3\n",
      "-------\n",
      "Test set: Average loss: 1.0381, Accuracy: 22/85 (25.88%)\n",
      "\n",
      "--------------------------------------\n"
     ]
    },
    {
     "name": "stderr",
     "output_type": "stream",
     "text": [
      "wandb: WARNING Source type is set to 'repo' but some required information is missing from the environment. A job will not be created from this run. See https://docs.wandb.ai/guides/launch/create-job\n"
     ]
    },
    {
     "data": {
      "application/vnd.jupyter.widget-view+json": {
       "model_id": "52d382783dec47029415d6d57c4473fa",
       "version_major": 2,
       "version_minor": 0
      },
      "text/plain": [
       "VBox(children=(Label(value='0.001 MB of 0.001 MB uploaded\\r'), FloatProgress(value=1.0, max=1.0)))"
      ]
     },
     "metadata": {},
     "output_type": "display_data"
    },
    {
     "data": {
      "text/html": [
       "<style>\n",
       "    table.wandb td:nth-child(1) { padding: 0 10px; text-align: left ; width: auto;} td:nth-child(2) {text-align: left ; width: 100%}\n",
       "    .wandb-row { display: flex; flex-direction: row; flex-wrap: wrap; justify-content: flex-start; width: 100% }\n",
       "    .wandb-col { display: flex; flex-direction: column; flex-basis: 100%; flex: 1; padding: 10px; }\n",
       "    </style>\n",
       "<div class=\"wandb-row\"><div class=\"wandb-col\"><h3>Run history:</h3><br/><table class=\"wandb\"><tr><td>test accuracy</td><td>▁</td></tr><tr><td>test loss</td><td>▁</td></tr><tr><td>train accuracy</td><td>▁</td></tr><tr><td>train loss</td><td>▁</td></tr></table><br/></div><div class=\"wandb-col\"><h3>Run summary:</h3><br/><table class=\"wandb\"><tr><td>test accuracy</td><td>0.35686</td></tr><tr><td>test loss</td><td>1.00601</td></tr><tr><td>train accuracy</td><td>0.5394</td></tr><tr><td>train loss</td><td>0.67413</td></tr></table><br/></div></div>"
      ],
      "text/plain": [
       "<IPython.core.display.HTML object>"
      ]
     },
     "metadata": {},
     "output_type": "display_data"
    },
    {
     "data": {
      "text/html": [
       " View run <strong style=\"color:#cdcd00\">driven-haze-40</strong> at: <a href='https://wandb.ai/oriane-cavrois/brain_image_architecture_optimization_3/runs/uspkyff2' target=\"_blank\">https://wandb.ai/oriane-cavrois/brain_image_architecture_optimization_3/runs/uspkyff2</a><br/>Synced 5 W&B file(s), 0 media file(s), 0 artifact file(s) and 0 other file(s)"
      ],
      "text/plain": [
       "<IPython.core.display.HTML object>"
      ]
     },
     "metadata": {},
     "output_type": "display_data"
    },
    {
     "data": {
      "text/html": [
       "Find logs at: <code>./wandb/run-20240206_194548-uspkyff2/logs</code>"
      ],
      "text/plain": [
       "<IPython.core.display.HTML object>"
      ]
     },
     "metadata": {},
     "output_type": "display_data"
    },
    {
     "name": "stdout",
     "output_type": "stream",
     "text": [
      "Iteration 24\n",
      "Architecture: deep\n",
      "Number of epochs: 30\n",
      "(30, 0.00725, 6, 'deep', 0.5)\n"
     ]
    },
    {
     "data": {
      "application/vnd.jupyter.widget-view+json": {
       "model_id": "41424a38571d41f9be30f7cd2d77fd20",
       "version_major": 2,
       "version_minor": 0
      },
      "text/plain": [
       "VBox(children=(Label(value='Waiting for wandb.init()...\\r'), FloatProgress(value=0.011168179633346476, max=1.0…"
      ]
     },
     "metadata": {},
     "output_type": "display_data"
    },
    {
     "data": {
      "text/html": [
       "wandb version 0.16.3 is available!  To upgrade, please run:\n",
       " $ pip install wandb --upgrade"
      ],
      "text/plain": [
       "<IPython.core.display.HTML object>"
      ]
     },
     "metadata": {},
     "output_type": "display_data"
    },
    {
     "data": {
      "text/html": [
       "Tracking run with wandb version 0.16.2"
      ],
      "text/plain": [
       "<IPython.core.display.HTML object>"
      ]
     },
     "metadata": {},
     "output_type": "display_data"
    },
    {
     "data": {
      "text/html": [
       "Run data is saved locally in <code>/Users/orianecavrois/Documents/Perso/MachineLearning/Github/Brain-tumor-image-classification/wandb/run-20240206_194631-k5jh1oyx</code>"
      ],
      "text/plain": [
       "<IPython.core.display.HTML object>"
      ]
     },
     "metadata": {},
     "output_type": "display_data"
    },
    {
     "data": {
      "text/html": [
       "Syncing run <strong><a href='https://wandb.ai/oriane-cavrois/brain_image_architecture_optimization_3/runs/k5jh1oyx' target=\"_blank\">helpful-monkey-41</a></strong> to <a href='https://wandb.ai/oriane-cavrois/brain_image_architecture_optimization_3' target=\"_blank\">Weights & Biases</a> (<a href='https://wandb.me/run' target=\"_blank\">docs</a>)<br/>"
      ],
      "text/plain": [
       "<IPython.core.display.HTML object>"
      ]
     },
     "metadata": {},
     "output_type": "display_data"
    },
    {
     "data": {
      "text/html": [
       " View project at <a href='https://wandb.ai/oriane-cavrois/brain_image_architecture_optimization_3' target=\"_blank\">https://wandb.ai/oriane-cavrois/brain_image_architecture_optimization_3</a>"
      ],
      "text/plain": [
       "<IPython.core.display.HTML object>"
      ]
     },
     "metadata": {},
     "output_type": "display_data"
    },
    {
     "data": {
      "text/html": [
       " View run at <a href='https://wandb.ai/oriane-cavrois/brain_image_architecture_optimization_3/runs/k5jh1oyx' target=\"_blank\">https://wandb.ai/oriane-cavrois/brain_image_architecture_optimization_3/runs/k5jh1oyx</a>"
      ],
      "text/plain": [
       "<IPython.core.display.HTML object>"
      ]
     },
     "metadata": {},
     "output_type": "display_data"
    },
    {
     "name": "stdout",
     "output_type": "stream",
     "text": [
      "Fold 1\n",
      "-------\n",
      "Test set: Average loss: 0.4765, Accuracy: 30/85 (35.29%)\n",
      "\n",
      "Fold 2\n",
      "-------\n",
      "Test set: Average loss: 0.4931, Accuracy: 29/85 (34.12%)\n",
      "\n",
      "Fold 3\n",
      "-------\n",
      "Test set: Average loss: 0.4071, Accuracy: 40/85 (47.06%)\n",
      "\n",
      "--------------------------------------\n"
     ]
    },
    {
     "name": "stderr",
     "output_type": "stream",
     "text": [
      "wandb: WARNING Source type is set to 'repo' but some required information is missing from the environment. A job will not be created from this run. See https://docs.wandb.ai/guides/launch/create-job\n"
     ]
    },
    {
     "data": {
      "application/vnd.jupyter.widget-view+json": {
       "model_id": "3750f925d786473e92a955b89207440a",
       "version_major": 2,
       "version_minor": 0
      },
      "text/plain": [
       "VBox(children=(Label(value='0.003 MB of 0.004 MB uploaded\\r'), FloatProgress(value=0.7585839765770561, max=1.0…"
      ]
     },
     "metadata": {},
     "output_type": "display_data"
    },
    {
     "data": {
      "text/html": [
       "<style>\n",
       "    table.wandb td:nth-child(1) { padding: 0 10px; text-align: left ; width: auto;} td:nth-child(2) {text-align: left ; width: 100%}\n",
       "    .wandb-row { display: flex; flex-direction: row; flex-wrap: wrap; justify-content: flex-start; width: 100% }\n",
       "    .wandb-col { display: flex; flex-direction: column; flex-basis: 100%; flex: 1; padding: 10px; }\n",
       "    </style>\n",
       "<div class=\"wandb-row\"><div class=\"wandb-col\"><h3>Run history:</h3><br/><table class=\"wandb\"><tr><td>test accuracy</td><td>▁</td></tr><tr><td>test loss</td><td>▁</td></tr><tr><td>train accuracy</td><td>▁</td></tr><tr><td>train loss</td><td>▁</td></tr></table><br/></div><div class=\"wandb-col\"><h3>Run summary:</h3><br/><table class=\"wandb\"><tr><td>test accuracy</td><td>0.38824</td></tr><tr><td>test loss</td><td>0.4589</td></tr><tr><td>train accuracy</td><td>0.64048</td></tr><tr><td>train loss</td><td>0.25356</td></tr></table><br/></div></div>"
      ],
      "text/plain": [
       "<IPython.core.display.HTML object>"
      ]
     },
     "metadata": {},
     "output_type": "display_data"
    },
    {
     "data": {
      "text/html": [
       " View run <strong style=\"color:#cdcd00\">helpful-monkey-41</strong> at: <a href='https://wandb.ai/oriane-cavrois/brain_image_architecture_optimization_3/runs/k5jh1oyx' target=\"_blank\">https://wandb.ai/oriane-cavrois/brain_image_architecture_optimization_3/runs/k5jh1oyx</a><br/>Synced 5 W&B file(s), 0 media file(s), 0 artifact file(s) and 0 other file(s)"
      ],
      "text/plain": [
       "<IPython.core.display.HTML object>"
      ]
     },
     "metadata": {},
     "output_type": "display_data"
    },
    {
     "data": {
      "text/html": [
       "Find logs at: <code>./wandb/run-20240206_194631-k5jh1oyx/logs</code>"
      ],
      "text/plain": [
       "<IPython.core.display.HTML object>"
      ]
     },
     "metadata": {},
     "output_type": "display_data"
    },
    {
     "name": "stdout",
     "output_type": "stream",
     "text": [
      "Iteration 25\n",
      "Architecture: large\n",
      "Number of epochs: 15\n",
      "(15, 0.0045000000000000005, 7, 'large', 0.30000000000000004)\n"
     ]
    },
    {
     "data": {
      "application/vnd.jupyter.widget-view+json": {
       "model_id": "c31f52dfc7444d609758fbfd3e597db4",
       "version_major": 2,
       "version_minor": 0
      },
      "text/plain": [
       "VBox(children=(Label(value='Waiting for wandb.init()...\\r'), FloatProgress(value=0.01116866481109658, max=1.0)…"
      ]
     },
     "metadata": {},
     "output_type": "display_data"
    },
    {
     "data": {
      "text/html": [
       "wandb version 0.16.3 is available!  To upgrade, please run:\n",
       " $ pip install wandb --upgrade"
      ],
      "text/plain": [
       "<IPython.core.display.HTML object>"
      ]
     },
     "metadata": {},
     "output_type": "display_data"
    },
    {
     "data": {
      "text/html": [
       "Tracking run with wandb version 0.16.2"
      ],
      "text/plain": [
       "<IPython.core.display.HTML object>"
      ]
     },
     "metadata": {},
     "output_type": "display_data"
    },
    {
     "data": {
      "text/html": [
       "Run data is saved locally in <code>/Users/orianecavrois/Documents/Perso/MachineLearning/Github/Brain-tumor-image-classification/wandb/run-20240206_194727-fkos0zop</code>"
      ],
      "text/plain": [
       "<IPython.core.display.HTML object>"
      ]
     },
     "metadata": {},
     "output_type": "display_data"
    },
    {
     "data": {
      "text/html": [
       "Syncing run <strong><a href='https://wandb.ai/oriane-cavrois/brain_image_architecture_optimization_3/runs/fkos0zop' target=\"_blank\">cerulean-meadow-42</a></strong> to <a href='https://wandb.ai/oriane-cavrois/brain_image_architecture_optimization_3' target=\"_blank\">Weights & Biases</a> (<a href='https://wandb.me/run' target=\"_blank\">docs</a>)<br/>"
      ],
      "text/plain": [
       "<IPython.core.display.HTML object>"
      ]
     },
     "metadata": {},
     "output_type": "display_data"
    },
    {
     "data": {
      "text/html": [
       " View project at <a href='https://wandb.ai/oriane-cavrois/brain_image_architecture_optimization_3' target=\"_blank\">https://wandb.ai/oriane-cavrois/brain_image_architecture_optimization_3</a>"
      ],
      "text/plain": [
       "<IPython.core.display.HTML object>"
      ]
     },
     "metadata": {},
     "output_type": "display_data"
    },
    {
     "data": {
      "text/html": [
       " View run at <a href='https://wandb.ai/oriane-cavrois/brain_image_architecture_optimization_3/runs/fkos0zop' target=\"_blank\">https://wandb.ai/oriane-cavrois/brain_image_architecture_optimization_3/runs/fkos0zop</a>"
      ],
      "text/plain": [
       "<IPython.core.display.HTML object>"
      ]
     },
     "metadata": {},
     "output_type": "display_data"
    },
    {
     "name": "stdout",
     "output_type": "stream",
     "text": [
      "Fold 1\n",
      "-------\n",
      "Test set: Average loss: 27.9587, Accuracy: 47/85 (55.29%)\n",
      "\n",
      "Fold 2\n",
      "-------\n",
      "Test set: Average loss: 8.9007, Accuracy: 48/85 (56.47%)\n",
      "\n",
      "Fold 3\n",
      "-------\n",
      "Test set: Average loss: 30.4536, Accuracy: 51/85 (60.00%)\n",
      "\n",
      "--------------------------------------\n"
     ]
    },
    {
     "name": "stderr",
     "output_type": "stream",
     "text": [
      "wandb: WARNING Source type is set to 'repo' but some required information is missing from the environment. A job will not be created from this run. See https://docs.wandb.ai/guides/launch/create-job\n"
     ]
    },
    {
     "data": {
      "application/vnd.jupyter.widget-view+json": {
       "model_id": "4295994934b74395b8a9ab7c7a61a98c",
       "version_major": 2,
       "version_minor": 0
      },
      "text/plain": [
       "VBox(children=(Label(value='0.001 MB of 0.001 MB uploaded\\r'), FloatProgress(value=1.0, max=1.0)))"
      ]
     },
     "metadata": {},
     "output_type": "display_data"
    },
    {
     "data": {
      "text/html": [
       "<style>\n",
       "    table.wandb td:nth-child(1) { padding: 0 10px; text-align: left ; width: auto;} td:nth-child(2) {text-align: left ; width: 100%}\n",
       "    .wandb-row { display: flex; flex-direction: row; flex-wrap: wrap; justify-content: flex-start; width: 100% }\n",
       "    .wandb-col { display: flex; flex-direction: column; flex-basis: 100%; flex: 1; padding: 10px; }\n",
       "    </style>\n",
       "<div class=\"wandb-row\"><div class=\"wandb-col\"><h3>Run history:</h3><br/><table class=\"wandb\"><tr><td>test accuracy</td><td>▁</td></tr><tr><td>test loss</td><td>▁</td></tr><tr><td>train accuracy</td><td>▁</td></tr><tr><td>train loss</td><td>▁</td></tr></table><br/></div><div class=\"wandb-col\"><h3>Run summary:</h3><br/><table class=\"wandb\"><tr><td>test accuracy</td><td>0.57255</td></tr><tr><td>test loss</td><td>22.43767</td></tr><tr><td>train accuracy</td><td>0.9375</td></tr><tr><td>train loss</td><td>38.91765</td></tr></table><br/></div></div>"
      ],
      "text/plain": [
       "<IPython.core.display.HTML object>"
      ]
     },
     "metadata": {},
     "output_type": "display_data"
    },
    {
     "data": {
      "text/html": [
       " View run <strong style=\"color:#cdcd00\">cerulean-meadow-42</strong> at: <a href='https://wandb.ai/oriane-cavrois/brain_image_architecture_optimization_3/runs/fkos0zop' target=\"_blank\">https://wandb.ai/oriane-cavrois/brain_image_architecture_optimization_3/runs/fkos0zop</a><br/>Synced 5 W&B file(s), 0 media file(s), 0 artifact file(s) and 0 other file(s)"
      ],
      "text/plain": [
       "<IPython.core.display.HTML object>"
      ]
     },
     "metadata": {},
     "output_type": "display_data"
    },
    {
     "data": {
      "text/html": [
       "Find logs at: <code>./wandb/run-20240206_194727-fkos0zop/logs</code>"
      ],
      "text/plain": [
       "<IPython.core.display.HTML object>"
      ]
     },
     "metadata": {},
     "output_type": "display_data"
    },
    {
     "name": "stdout",
     "output_type": "stream",
     "text": [
      "Iteration 26\n",
      "Architecture: large\n",
      "Number of epochs: 35\n",
      "(35, 0.006150000000000001, 6, 'large', 0.4)\n"
     ]
    },
    {
     "data": {
      "application/vnd.jupyter.widget-view+json": {
       "model_id": "8f243cdef3044f46b7f6a1bcd0f9070b",
       "version_major": 2,
       "version_minor": 0
      },
      "text/plain": [
       "VBox(children=(Label(value='Waiting for wandb.init()...\\r'), FloatProgress(value=0.011169272677741699, max=1.0…"
      ]
     },
     "metadata": {},
     "output_type": "display_data"
    },
    {
     "data": {
      "text/html": [
       "wandb version 0.16.3 is available!  To upgrade, please run:\n",
       " $ pip install wandb --upgrade"
      ],
      "text/plain": [
       "<IPython.core.display.HTML object>"
      ]
     },
     "metadata": {},
     "output_type": "display_data"
    },
    {
     "data": {
      "text/html": [
       "Tracking run with wandb version 0.16.2"
      ],
      "text/plain": [
       "<IPython.core.display.HTML object>"
      ]
     },
     "metadata": {},
     "output_type": "display_data"
    },
    {
     "data": {
      "text/html": [
       "Run data is saved locally in <code>/Users/orianecavrois/Documents/Perso/MachineLearning/Github/Brain-tumor-image-classification/wandb/run-20240206_194758-ptfe4l86</code>"
      ],
      "text/plain": [
       "<IPython.core.display.HTML object>"
      ]
     },
     "metadata": {},
     "output_type": "display_data"
    },
    {
     "data": {
      "text/html": [
       "Syncing run <strong><a href='https://wandb.ai/oriane-cavrois/brain_image_architecture_optimization_3/runs/ptfe4l86' target=\"_blank\">azure-grass-43</a></strong> to <a href='https://wandb.ai/oriane-cavrois/brain_image_architecture_optimization_3' target=\"_blank\">Weights & Biases</a> (<a href='https://wandb.me/run' target=\"_blank\">docs</a>)<br/>"
      ],
      "text/plain": [
       "<IPython.core.display.HTML object>"
      ]
     },
     "metadata": {},
     "output_type": "display_data"
    },
    {
     "data": {
      "text/html": [
       " View project at <a href='https://wandb.ai/oriane-cavrois/brain_image_architecture_optimization_3' target=\"_blank\">https://wandb.ai/oriane-cavrois/brain_image_architecture_optimization_3</a>"
      ],
      "text/plain": [
       "<IPython.core.display.HTML object>"
      ]
     },
     "metadata": {},
     "output_type": "display_data"
    },
    {
     "data": {
      "text/html": [
       " View run at <a href='https://wandb.ai/oriane-cavrois/brain_image_architecture_optimization_3/runs/ptfe4l86' target=\"_blank\">https://wandb.ai/oriane-cavrois/brain_image_architecture_optimization_3/runs/ptfe4l86</a>"
      ],
      "text/plain": [
       "<IPython.core.display.HTML object>"
      ]
     },
     "metadata": {},
     "output_type": "display_data"
    },
    {
     "name": "stdout",
     "output_type": "stream",
     "text": [
      "Fold 1\n",
      "-------\n",
      "Test set: Average loss: 11.3710, Accuracy: 45/85 (52.94%)\n",
      "\n",
      "Fold 2\n",
      "-------\n",
      "Test set: Average loss: 134.8714, Accuracy: 45/85 (52.94%)\n",
      "\n",
      "Fold 3\n",
      "-------\n",
      "Test set: Average loss: 3.4658, Accuracy: 54/85 (63.53%)\n",
      "\n",
      "--------------------------------------\n"
     ]
    },
    {
     "name": "stderr",
     "output_type": "stream",
     "text": [
      "wandb: WARNING Source type is set to 'repo' but some required information is missing from the environment. A job will not be created from this run. See https://docs.wandb.ai/guides/launch/create-job\n"
     ]
    },
    {
     "data": {
      "application/vnd.jupyter.widget-view+json": {
       "model_id": "7334a56d8af041dd921541f5dd59ad01",
       "version_major": 2,
       "version_minor": 0
      },
      "text/plain": [
       "VBox(children=(Label(value='0.001 MB of 0.001 MB uploaded\\r'), FloatProgress(value=1.0, max=1.0)))"
      ]
     },
     "metadata": {},
     "output_type": "display_data"
    },
    {
     "data": {
      "text/html": [
       "<style>\n",
       "    table.wandb td:nth-child(1) { padding: 0 10px; text-align: left ; width: auto;} td:nth-child(2) {text-align: left ; width: 100%}\n",
       "    .wandb-row { display: flex; flex-direction: row; flex-wrap: wrap; justify-content: flex-start; width: 100% }\n",
       "    .wandb-col { display: flex; flex-direction: column; flex-basis: 100%; flex: 1; padding: 10px; }\n",
       "    </style>\n",
       "<div class=\"wandb-row\"><div class=\"wandb-col\"><h3>Run history:</h3><br/><table class=\"wandb\"><tr><td>test accuracy</td><td>▁</td></tr><tr><td>test loss</td><td>▁</td></tr><tr><td>train accuracy</td><td>▁</td></tr><tr><td>train loss</td><td>▁</td></tr></table><br/></div><div class=\"wandb-col\"><h3>Run summary:</h3><br/><table class=\"wandb\"><tr><td>test accuracy</td><td>0.56471</td></tr><tr><td>test loss</td><td>49.90272</td></tr><tr><td>train accuracy</td><td>0.96896</td></tr><tr><td>train loss</td><td>23.44295</td></tr></table><br/></div></div>"
      ],
      "text/plain": [
       "<IPython.core.display.HTML object>"
      ]
     },
     "metadata": {},
     "output_type": "display_data"
    },
    {
     "data": {
      "text/html": [
       " View run <strong style=\"color:#cdcd00\">azure-grass-43</strong> at: <a href='https://wandb.ai/oriane-cavrois/brain_image_architecture_optimization_3/runs/ptfe4l86' target=\"_blank\">https://wandb.ai/oriane-cavrois/brain_image_architecture_optimization_3/runs/ptfe4l86</a><br/>Synced 5 W&B file(s), 0 media file(s), 0 artifact file(s) and 0 other file(s)"
      ],
      "text/plain": [
       "<IPython.core.display.HTML object>"
      ]
     },
     "metadata": {},
     "output_type": "display_data"
    },
    {
     "data": {
      "text/html": [
       "Find logs at: <code>./wandb/run-20240206_194758-ptfe4l86/logs</code>"
      ],
      "text/plain": [
       "<IPython.core.display.HTML object>"
      ]
     },
     "metadata": {},
     "output_type": "display_data"
    },
    {
     "name": "stdout",
     "output_type": "stream",
     "text": [
      "Iteration 27\n",
      "Architecture: deep\n",
      "Number of epochs: 25\n",
      "(25, 0.00285, 5, 'deep', 0.1)\n"
     ]
    },
    {
     "data": {
      "application/vnd.jupyter.widget-view+json": {
       "model_id": "4e2aa76dd0904870a52333e56cbe01ae",
       "version_major": 2,
       "version_minor": 0
      },
      "text/plain": [
       "VBox(children=(Label(value='Waiting for wandb.init()...\\r'), FloatProgress(value=0.0111330129666587, max=1.0))…"
      ]
     },
     "metadata": {},
     "output_type": "display_data"
    },
    {
     "data": {
      "text/html": [
       "wandb version 0.16.3 is available!  To upgrade, please run:\n",
       " $ pip install wandb --upgrade"
      ],
      "text/plain": [
       "<IPython.core.display.HTML object>"
      ]
     },
     "metadata": {},
     "output_type": "display_data"
    },
    {
     "data": {
      "text/html": [
       "Tracking run with wandb version 0.16.2"
      ],
      "text/plain": [
       "<IPython.core.display.HTML object>"
      ]
     },
     "metadata": {},
     "output_type": "display_data"
    },
    {
     "data": {
      "text/html": [
       "Run data is saved locally in <code>/Users/orianecavrois/Documents/Perso/MachineLearning/Github/Brain-tumor-image-classification/wandb/run-20240206_194902-cjbnp5tr</code>"
      ],
      "text/plain": [
       "<IPython.core.display.HTML object>"
      ]
     },
     "metadata": {},
     "output_type": "display_data"
    },
    {
     "data": {
      "text/html": [
       "Syncing run <strong><a href='https://wandb.ai/oriane-cavrois/brain_image_architecture_optimization_3/runs/cjbnp5tr' target=\"_blank\">firm-pine-44</a></strong> to <a href='https://wandb.ai/oriane-cavrois/brain_image_architecture_optimization_3' target=\"_blank\">Weights & Biases</a> (<a href='https://wandb.me/run' target=\"_blank\">docs</a>)<br/>"
      ],
      "text/plain": [
       "<IPython.core.display.HTML object>"
      ]
     },
     "metadata": {},
     "output_type": "display_data"
    },
    {
     "data": {
      "text/html": [
       " View project at <a href='https://wandb.ai/oriane-cavrois/brain_image_architecture_optimization_3' target=\"_blank\">https://wandb.ai/oriane-cavrois/brain_image_architecture_optimization_3</a>"
      ],
      "text/plain": [
       "<IPython.core.display.HTML object>"
      ]
     },
     "metadata": {},
     "output_type": "display_data"
    },
    {
     "data": {
      "text/html": [
       " View run at <a href='https://wandb.ai/oriane-cavrois/brain_image_architecture_optimization_3/runs/cjbnp5tr' target=\"_blank\">https://wandb.ai/oriane-cavrois/brain_image_architecture_optimization_3/runs/cjbnp5tr</a>"
      ],
      "text/plain": [
       "<IPython.core.display.HTML object>"
      ]
     },
     "metadata": {},
     "output_type": "display_data"
    },
    {
     "name": "stdout",
     "output_type": "stream",
     "text": [
      "Fold 1\n",
      "-------\n",
      "Test set: Average loss: 0.3153, Accuracy: 42/85 (49.41%)\n",
      "\n",
      "Fold 2\n",
      "-------\n",
      "Test set: Average loss: 0.5397, Accuracy: 42/85 (49.41%)\n",
      "\n",
      "Fold 3\n",
      "-------\n",
      "Test set: Average loss: 0.4359, Accuracy: 50/85 (58.82%)\n",
      "\n",
      "--------------------------------------\n"
     ]
    },
    {
     "name": "stderr",
     "output_type": "stream",
     "text": [
      "wandb: WARNING Source type is set to 'repo' but some required information is missing from the environment. A job will not be created from this run. See https://docs.wandb.ai/guides/launch/create-job\n"
     ]
    },
    {
     "data": {
      "application/vnd.jupyter.widget-view+json": {
       "model_id": "2921056918024cf8adb78c0442d6ed62",
       "version_major": 2,
       "version_minor": 0
      },
      "text/plain": [
       "VBox(children=(Label(value='0.001 MB of 0.001 MB uploaded\\r'), FloatProgress(value=1.0, max=1.0)))"
      ]
     },
     "metadata": {},
     "output_type": "display_data"
    },
    {
     "data": {
      "text/html": [
       "<style>\n",
       "    table.wandb td:nth-child(1) { padding: 0 10px; text-align: left ; width: auto;} td:nth-child(2) {text-align: left ; width: 100%}\n",
       "    .wandb-row { display: flex; flex-direction: row; flex-wrap: wrap; justify-content: flex-start; width: 100% }\n",
       "    .wandb-col { display: flex; flex-direction: column; flex-basis: 100%; flex: 1; padding: 10px; }\n",
       "    </style>\n",
       "<div class=\"wandb-row\"><div class=\"wandb-col\"><h3>Run history:</h3><br/><table class=\"wandb\"><tr><td>test accuracy</td><td>▁</td></tr><tr><td>test loss</td><td>▁</td></tr><tr><td>train accuracy</td><td>▁</td></tr><tr><td>train loss</td><td>▁</td></tr></table><br/></div><div class=\"wandb-col\"><h3>Run summary:</h3><br/><table class=\"wandb\"><tr><td>test accuracy</td><td>0.52549</td></tr><tr><td>test loss</td><td>0.43029</td></tr><tr><td>train accuracy</td><td>0.79881</td></tr><tr><td>train loss</td><td>0.29458</td></tr></table><br/></div></div>"
      ],
      "text/plain": [
       "<IPython.core.display.HTML object>"
      ]
     },
     "metadata": {},
     "output_type": "display_data"
    },
    {
     "data": {
      "text/html": [
       " View run <strong style=\"color:#cdcd00\">firm-pine-44</strong> at: <a href='https://wandb.ai/oriane-cavrois/brain_image_architecture_optimization_3/runs/cjbnp5tr' target=\"_blank\">https://wandb.ai/oriane-cavrois/brain_image_architecture_optimization_3/runs/cjbnp5tr</a><br/>Synced 5 W&B file(s), 0 media file(s), 0 artifact file(s) and 0 other file(s)"
      ],
      "text/plain": [
       "<IPython.core.display.HTML object>"
      ]
     },
     "metadata": {},
     "output_type": "display_data"
    },
    {
     "data": {
      "text/html": [
       "Find logs at: <code>./wandb/run-20240206_194902-cjbnp5tr/logs</code>"
      ],
      "text/plain": [
       "<IPython.core.display.HTML object>"
      ]
     },
     "metadata": {},
     "output_type": "display_data"
    },
    {
     "name": "stdout",
     "output_type": "stream",
     "text": [
      "Iteration 28\n",
      "Architecture: pyramid\n",
      "Number of epochs: 20\n",
      "(20, 0.0067, 3, 'pyramid', 0.9500000000000001)\n"
     ]
    },
    {
     "data": {
      "application/vnd.jupyter.widget-view+json": {
       "model_id": "4c235aedb2a340a39b3b75bfc0213c3e",
       "version_major": 2,
       "version_minor": 0
      },
      "text/plain": [
       "VBox(children=(Label(value='Waiting for wandb.init()...\\r'), FloatProgress(value=0.011169754633333974, max=1.0…"
      ]
     },
     "metadata": {},
     "output_type": "display_data"
    },
    {
     "data": {
      "text/html": [
       "wandb version 0.16.3 is available!  To upgrade, please run:\n",
       " $ pip install wandb --upgrade"
      ],
      "text/plain": [
       "<IPython.core.display.HTML object>"
      ]
     },
     "metadata": {},
     "output_type": "display_data"
    },
    {
     "data": {
      "text/html": [
       "Tracking run with wandb version 0.16.2"
      ],
      "text/plain": [
       "<IPython.core.display.HTML object>"
      ]
     },
     "metadata": {},
     "output_type": "display_data"
    },
    {
     "data": {
      "text/html": [
       "Run data is saved locally in <code>/Users/orianecavrois/Documents/Perso/MachineLearning/Github/Brain-tumor-image-classification/wandb/run-20240206_194952-x76pk4xp</code>"
      ],
      "text/plain": [
       "<IPython.core.display.HTML object>"
      ]
     },
     "metadata": {},
     "output_type": "display_data"
    },
    {
     "data": {
      "text/html": [
       "Syncing run <strong><a href='https://wandb.ai/oriane-cavrois/brain_image_architecture_optimization_3/runs/x76pk4xp' target=\"_blank\">atomic-glitter-45</a></strong> to <a href='https://wandb.ai/oriane-cavrois/brain_image_architecture_optimization_3' target=\"_blank\">Weights & Biases</a> (<a href='https://wandb.me/run' target=\"_blank\">docs</a>)<br/>"
      ],
      "text/plain": [
       "<IPython.core.display.HTML object>"
      ]
     },
     "metadata": {},
     "output_type": "display_data"
    },
    {
     "data": {
      "text/html": [
       " View project at <a href='https://wandb.ai/oriane-cavrois/brain_image_architecture_optimization_3' target=\"_blank\">https://wandb.ai/oriane-cavrois/brain_image_architecture_optimization_3</a>"
      ],
      "text/plain": [
       "<IPython.core.display.HTML object>"
      ]
     },
     "metadata": {},
     "output_type": "display_data"
    },
    {
     "data": {
      "text/html": [
       " View run at <a href='https://wandb.ai/oriane-cavrois/brain_image_architecture_optimization_3/runs/x76pk4xp' target=\"_blank\">https://wandb.ai/oriane-cavrois/brain_image_architecture_optimization_3/runs/x76pk4xp</a>"
      ],
      "text/plain": [
       "<IPython.core.display.HTML object>"
      ]
     },
     "metadata": {},
     "output_type": "display_data"
    },
    {
     "name": "stdout",
     "output_type": "stream",
     "text": [
      "Fold 1\n",
      "-------\n",
      "Test set: Average loss: 40.8185, Accuracy: 42/85 (49.41%)\n",
      "\n",
      "Fold 2\n",
      "-------\n",
      "Test set: Average loss: 299.3581, Accuracy: 34/85 (40.00%)\n",
      "\n",
      "Fold 3\n",
      "-------\n",
      "Test set: Average loss: 469.0262, Accuracy: 39/85 (45.88%)\n",
      "\n",
      "--------------------------------------\n"
     ]
    },
    {
     "data": {
      "application/vnd.jupyter.widget-view+json": {
       "model_id": "216c3e256b5549f686f4e1459bb9d664",
       "version_major": 2,
       "version_minor": 0
      },
      "text/plain": [
       "VBox(children=(Label(value='0.001 MB of 0.001 MB uploaded\\r'), FloatProgress(value=1.0, max=1.0)))"
      ]
     },
     "metadata": {},
     "output_type": "display_data"
    },
    {
     "name": "stderr",
     "output_type": "stream",
     "text": [
      "wandb: WARNING Source type is set to 'repo' but some required information is missing from the environment. A job will not be created from this run. See https://docs.wandb.ai/guides/launch/create-job\n"
     ]
    },
    {
     "data": {
      "text/html": [
       "<style>\n",
       "    table.wandb td:nth-child(1) { padding: 0 10px; text-align: left ; width: auto;} td:nth-child(2) {text-align: left ; width: 100%}\n",
       "    .wandb-row { display: flex; flex-direction: row; flex-wrap: wrap; justify-content: flex-start; width: 100% }\n",
       "    .wandb-col { display: flex; flex-direction: column; flex-basis: 100%; flex: 1; padding: 10px; }\n",
       "    </style>\n",
       "<div class=\"wandb-row\"><div class=\"wandb-col\"><h3>Run history:</h3><br/><table class=\"wandb\"><tr><td>test accuracy</td><td>▁</td></tr><tr><td>test loss</td><td>▁</td></tr><tr><td>train accuracy</td><td>▁</td></tr><tr><td>train loss</td><td>▁</td></tr></table><br/></div><div class=\"wandb-col\"><h3>Run summary:</h3><br/><table class=\"wandb\"><tr><td>test accuracy</td><td>0.45098</td></tr><tr><td>test loss</td><td>269.73428</td></tr><tr><td>train accuracy</td><td>0.51905</td></tr><tr><td>train loss</td><td>244.74635</td></tr></table><br/></div></div>"
      ],
      "text/plain": [
       "<IPython.core.display.HTML object>"
      ]
     },
     "metadata": {},
     "output_type": "display_data"
    },
    {
     "data": {
      "text/html": [
       " View run <strong style=\"color:#cdcd00\">atomic-glitter-45</strong> at: <a href='https://wandb.ai/oriane-cavrois/brain_image_architecture_optimization_3/runs/x76pk4xp' target=\"_blank\">https://wandb.ai/oriane-cavrois/brain_image_architecture_optimization_3/runs/x76pk4xp</a><br/>Synced 5 W&B file(s), 0 media file(s), 0 artifact file(s) and 0 other file(s)"
      ],
      "text/plain": [
       "<IPython.core.display.HTML object>"
      ]
     },
     "metadata": {},
     "output_type": "display_data"
    },
    {
     "data": {
      "text/html": [
       "Find logs at: <code>./wandb/run-20240206_194952-x76pk4xp/logs</code>"
      ],
      "text/plain": [
       "<IPython.core.display.HTML object>"
      ]
     },
     "metadata": {},
     "output_type": "display_data"
    },
    {
     "name": "stdout",
     "output_type": "stream",
     "text": [
      "Iteration 29\n",
      "Architecture: large\n",
      "Number of epochs: 25\n",
      "(25, 0.0012000000000000001, 4, 'large', 0.5)\n"
     ]
    },
    {
     "data": {
      "application/vnd.jupyter.widget-view+json": {
       "model_id": "ceffa21838004f8690408a35aa030241",
       "version_major": 2,
       "version_minor": 0
      },
      "text/plain": [
       "VBox(children=(Label(value='Waiting for wandb.init()...\\r'), FloatProgress(value=0.011168524077786263, max=1.0…"
      ]
     },
     "metadata": {},
     "output_type": "display_data"
    },
    {
     "data": {
      "text/html": [
       "wandb version 0.16.3 is available!  To upgrade, please run:\n",
       " $ pip install wandb --upgrade"
      ],
      "text/plain": [
       "<IPython.core.display.HTML object>"
      ]
     },
     "metadata": {},
     "output_type": "display_data"
    },
    {
     "data": {
      "text/html": [
       "Tracking run with wandb version 0.16.2"
      ],
      "text/plain": [
       "<IPython.core.display.HTML object>"
      ]
     },
     "metadata": {},
     "output_type": "display_data"
    },
    {
     "data": {
      "text/html": [
       "Run data is saved locally in <code>/Users/orianecavrois/Documents/Perso/MachineLearning/Github/Brain-tumor-image-classification/wandb/run-20240206_195045-fg6tonfr</code>"
      ],
      "text/plain": [
       "<IPython.core.display.HTML object>"
      ]
     },
     "metadata": {},
     "output_type": "display_data"
    },
    {
     "data": {
      "text/html": [
       "Syncing run <strong><a href='https://wandb.ai/oriane-cavrois/brain_image_architecture_optimization_3/runs/fg6tonfr' target=\"_blank\">playful-shape-46</a></strong> to <a href='https://wandb.ai/oriane-cavrois/brain_image_architecture_optimization_3' target=\"_blank\">Weights & Biases</a> (<a href='https://wandb.me/run' target=\"_blank\">docs</a>)<br/>"
      ],
      "text/plain": [
       "<IPython.core.display.HTML object>"
      ]
     },
     "metadata": {},
     "output_type": "display_data"
    },
    {
     "data": {
      "text/html": [
       " View project at <a href='https://wandb.ai/oriane-cavrois/brain_image_architecture_optimization_3' target=\"_blank\">https://wandb.ai/oriane-cavrois/brain_image_architecture_optimization_3</a>"
      ],
      "text/plain": [
       "<IPython.core.display.HTML object>"
      ]
     },
     "metadata": {},
     "output_type": "display_data"
    },
    {
     "data": {
      "text/html": [
       " View run at <a href='https://wandb.ai/oriane-cavrois/brain_image_architecture_optimization_3/runs/fg6tonfr' target=\"_blank\">https://wandb.ai/oriane-cavrois/brain_image_architecture_optimization_3/runs/fg6tonfr</a>"
      ],
      "text/plain": [
       "<IPython.core.display.HTML object>"
      ]
     },
     "metadata": {},
     "output_type": "display_data"
    },
    {
     "name": "stdout",
     "output_type": "stream",
     "text": [
      "Fold 1\n",
      "-------\n",
      "Test set: Average loss: 93.9992, Accuracy: 45/85 (52.94%)\n",
      "\n",
      "Fold 2\n",
      "-------\n",
      "Test set: Average loss: 1.7732, Accuracy: 55/85 (64.71%)\n",
      "\n",
      "Fold 3\n",
      "-------\n",
      "Test set: Average loss: 0.0000, Accuracy: 56/85 (65.88%)\n",
      "\n",
      "--------------------------------------\n"
     ]
    },
    {
     "name": "stderr",
     "output_type": "stream",
     "text": [
      "wandb: WARNING Source type is set to 'repo' but some required information is missing from the environment. A job will not be created from this run. See https://docs.wandb.ai/guides/launch/create-job\n"
     ]
    },
    {
     "data": {
      "application/vnd.jupyter.widget-view+json": {
       "model_id": "4bb2cd819e474148a38d27887fe67b33",
       "version_major": 2,
       "version_minor": 0
      },
      "text/plain": [
       "VBox(children=(Label(value='0.001 MB of 0.001 MB uploaded\\r'), FloatProgress(value=1.0, max=1.0)))"
      ]
     },
     "metadata": {},
     "output_type": "display_data"
    },
    {
     "data": {
      "text/html": [
       "<style>\n",
       "    table.wandb td:nth-child(1) { padding: 0 10px; text-align: left ; width: auto;} td:nth-child(2) {text-align: left ; width: 100%}\n",
       "    .wandb-row { display: flex; flex-direction: row; flex-wrap: wrap; justify-content: flex-start; width: 100% }\n",
       "    .wandb-col { display: flex; flex-direction: column; flex-basis: 100%; flex: 1; padding: 10px; }\n",
       "    </style>\n",
       "<div class=\"wandb-row\"><div class=\"wandb-col\"><h3>Run history:</h3><br/><table class=\"wandb\"><tr><td>test accuracy</td><td>▁</td></tr><tr><td>test loss</td><td>▁</td></tr><tr><td>train accuracy</td><td>▁</td></tr><tr><td>train loss</td><td>▁</td></tr></table><br/></div><div class=\"wandb-col\"><h3>Run summary:</h3><br/><table class=\"wandb\"><tr><td>test accuracy</td><td>0.61176</td></tr><tr><td>test loss</td><td>31.92413</td></tr><tr><td>train accuracy</td><td>0.96202</td></tr><tr><td>train loss</td><td>25.70453</td></tr></table><br/></div></div>"
      ],
      "text/plain": [
       "<IPython.core.display.HTML object>"
      ]
     },
     "metadata": {},
     "output_type": "display_data"
    },
    {
     "data": {
      "text/html": [
       " View run <strong style=\"color:#cdcd00\">playful-shape-46</strong> at: <a href='https://wandb.ai/oriane-cavrois/brain_image_architecture_optimization_3/runs/fg6tonfr' target=\"_blank\">https://wandb.ai/oriane-cavrois/brain_image_architecture_optimization_3/runs/fg6tonfr</a><br/>Synced 5 W&B file(s), 0 media file(s), 0 artifact file(s) and 0 other file(s)"
      ],
      "text/plain": [
       "<IPython.core.display.HTML object>"
      ]
     },
     "metadata": {},
     "output_type": "display_data"
    },
    {
     "data": {
      "text/html": [
       "Find logs at: <code>./wandb/run-20240206_195045-fg6tonfr/logs</code>"
      ],
      "text/plain": [
       "<IPython.core.display.HTML object>"
      ]
     },
     "metadata": {},
     "output_type": "display_data"
    },
    {
     "name": "stdout",
     "output_type": "stream",
     "text": [
      "Iteration 30\n",
      "Architecture: deep\n",
      "Number of epochs: 30\n",
      "(30, 0.00285, 9, 'deep', 0.30000000000000004)\n"
     ]
    },
    {
     "data": {
      "application/vnd.jupyter.widget-view+json": {
       "model_id": "ea279d3c41e448f49ae4caa44b7bd178",
       "version_major": 2,
       "version_minor": 0
      },
      "text/plain": [
       "VBox(children=(Label(value='Waiting for wandb.init()...\\r'), FloatProgress(value=0.011167370366698985, max=1.0…"
      ]
     },
     "metadata": {},
     "output_type": "display_data"
    },
    {
     "data": {
      "text/html": [
       "wandb version 0.16.3 is available!  To upgrade, please run:\n",
       " $ pip install wandb --upgrade"
      ],
      "text/plain": [
       "<IPython.core.display.HTML object>"
      ]
     },
     "metadata": {},
     "output_type": "display_data"
    },
    {
     "data": {
      "text/html": [
       "Tracking run with wandb version 0.16.2"
      ],
      "text/plain": [
       "<IPython.core.display.HTML object>"
      ]
     },
     "metadata": {},
     "output_type": "display_data"
    },
    {
     "data": {
      "text/html": [
       "Run data is saved locally in <code>/Users/orianecavrois/Documents/Perso/MachineLearning/Github/Brain-tumor-image-classification/wandb/run-20240206_195139-7ewohitr</code>"
      ],
      "text/plain": [
       "<IPython.core.display.HTML object>"
      ]
     },
     "metadata": {},
     "output_type": "display_data"
    },
    {
     "data": {
      "text/html": [
       "Syncing run <strong><a href='https://wandb.ai/oriane-cavrois/brain_image_architecture_optimization_3/runs/7ewohitr' target=\"_blank\">good-cloud-47</a></strong> to <a href='https://wandb.ai/oriane-cavrois/brain_image_architecture_optimization_3' target=\"_blank\">Weights & Biases</a> (<a href='https://wandb.me/run' target=\"_blank\">docs</a>)<br/>"
      ],
      "text/plain": [
       "<IPython.core.display.HTML object>"
      ]
     },
     "metadata": {},
     "output_type": "display_data"
    },
    {
     "data": {
      "text/html": [
       " View project at <a href='https://wandb.ai/oriane-cavrois/brain_image_architecture_optimization_3' target=\"_blank\">https://wandb.ai/oriane-cavrois/brain_image_architecture_optimization_3</a>"
      ],
      "text/plain": [
       "<IPython.core.display.HTML object>"
      ]
     },
     "metadata": {},
     "output_type": "display_data"
    },
    {
     "data": {
      "text/html": [
       " View run at <a href='https://wandb.ai/oriane-cavrois/brain_image_architecture_optimization_3/runs/7ewohitr' target=\"_blank\">https://wandb.ai/oriane-cavrois/brain_image_architecture_optimization_3/runs/7ewohitr</a>"
      ],
      "text/plain": [
       "<IPython.core.display.HTML object>"
      ]
     },
     "metadata": {},
     "output_type": "display_data"
    },
    {
     "name": "stdout",
     "output_type": "stream",
     "text": [
      "Fold 1\n",
      "-------\n",
      "Test set: Average loss: 0.4971, Accuracy: 28/85 (32.94%)\n",
      "\n",
      "Fold 2\n",
      "-------\n",
      "Test set: Average loss: 0.3476, Accuracy: 41/85 (48.24%)\n",
      "\n",
      "Fold 3\n",
      "-------\n",
      "Test set: Average loss: 0.3693, Accuracy: 42/85 (49.41%)\n",
      "\n",
      "--------------------------------------\n"
     ]
    },
    {
     "name": "stderr",
     "output_type": "stream",
     "text": [
      "wandb: WARNING Source type is set to 'repo' but some required information is missing from the environment. A job will not be created from this run. See https://docs.wandb.ai/guides/launch/create-job\n"
     ]
    },
    {
     "data": {
      "application/vnd.jupyter.widget-view+json": {
       "model_id": "ffc892111f9541ecb969e8eb98a88c3b",
       "version_major": 2,
       "version_minor": 0
      },
      "text/plain": [
       "VBox(children=(Label(value='0.001 MB of 0.001 MB uploaded\\r'), FloatProgress(value=1.0, max=1.0)))"
      ]
     },
     "metadata": {},
     "output_type": "display_data"
    },
    {
     "data": {
      "text/html": [
       "<style>\n",
       "    table.wandb td:nth-child(1) { padding: 0 10px; text-align: left ; width: auto;} td:nth-child(2) {text-align: left ; width: 100%}\n",
       "    .wandb-row { display: flex; flex-direction: row; flex-wrap: wrap; justify-content: flex-start; width: 100% }\n",
       "    .wandb-col { display: flex; flex-direction: column; flex-basis: 100%; flex: 1; padding: 10px; }\n",
       "    </style>\n",
       "<div class=\"wandb-row\"><div class=\"wandb-col\"><h3>Run history:</h3><br/><table class=\"wandb\"><tr><td>test accuracy</td><td>▁</td></tr><tr><td>test loss</td><td>▁</td></tr><tr><td>train accuracy</td><td>▁</td></tr><tr><td>train loss</td><td>▁</td></tr></table><br/></div><div class=\"wandb-col\"><h3>Run summary:</h3><br/><table class=\"wandb\"><tr><td>test accuracy</td><td>0.43529</td></tr><tr><td>test loss</td><td>0.40466</td></tr><tr><td>train accuracy</td><td>0.72103</td></tr><tr><td>train loss</td><td>0.2651</td></tr></table><br/></div></div>"
      ],
      "text/plain": [
       "<IPython.core.display.HTML object>"
      ]
     },
     "metadata": {},
     "output_type": "display_data"
    },
    {
     "data": {
      "text/html": [
       " View run <strong style=\"color:#cdcd00\">good-cloud-47</strong> at: <a href='https://wandb.ai/oriane-cavrois/brain_image_architecture_optimization_3/runs/7ewohitr' target=\"_blank\">https://wandb.ai/oriane-cavrois/brain_image_architecture_optimization_3/runs/7ewohitr</a><br/>Synced 5 W&B file(s), 0 media file(s), 0 artifact file(s) and 0 other file(s)"
      ],
      "text/plain": [
       "<IPython.core.display.HTML object>"
      ]
     },
     "metadata": {},
     "output_type": "display_data"
    },
    {
     "data": {
      "text/html": [
       "Find logs at: <code>./wandb/run-20240206_195139-7ewohitr/logs</code>"
      ],
      "text/plain": [
       "<IPython.core.display.HTML object>"
      ]
     },
     "metadata": {},
     "output_type": "display_data"
    },
    {
     "name": "stdout",
     "output_type": "stream",
     "text": [
      "Iteration 31\n",
      "Architecture: pyramid\n",
      "Number of epochs: 20\n",
      "(20, 0.00175, 4, 'pyramid', 1.0)\n"
     ]
    },
    {
     "data": {
      "application/vnd.jupyter.widget-view+json": {
       "model_id": "0a3280c50bc349bf950091ece8fd47fc",
       "version_major": 2,
       "version_minor": 0
      },
      "text/plain": [
       "VBox(children=(Label(value='Waiting for wandb.init()...\\r'), FloatProgress(value=0.01115678148889856, max=1.0)…"
      ]
     },
     "metadata": {},
     "output_type": "display_data"
    },
    {
     "data": {
      "text/html": [
       "wandb version 0.16.3 is available!  To upgrade, please run:\n",
       " $ pip install wandb --upgrade"
      ],
      "text/plain": [
       "<IPython.core.display.HTML object>"
      ]
     },
     "metadata": {},
     "output_type": "display_data"
    },
    {
     "data": {
      "text/html": [
       "Tracking run with wandb version 0.16.2"
      ],
      "text/plain": [
       "<IPython.core.display.HTML object>"
      ]
     },
     "metadata": {},
     "output_type": "display_data"
    },
    {
     "data": {
      "text/html": [
       "Run data is saved locally in <code>/Users/orianecavrois/Documents/Perso/MachineLearning/Github/Brain-tumor-image-classification/wandb/run-20240206_195237-kffgndrk</code>"
      ],
      "text/plain": [
       "<IPython.core.display.HTML object>"
      ]
     },
     "metadata": {},
     "output_type": "display_data"
    },
    {
     "data": {
      "text/html": [
       "Syncing run <strong><a href='https://wandb.ai/oriane-cavrois/brain_image_architecture_optimization_3/runs/kffgndrk' target=\"_blank\">bumbling-thunder-48</a></strong> to <a href='https://wandb.ai/oriane-cavrois/brain_image_architecture_optimization_3' target=\"_blank\">Weights & Biases</a> (<a href='https://wandb.me/run' target=\"_blank\">docs</a>)<br/>"
      ],
      "text/plain": [
       "<IPython.core.display.HTML object>"
      ]
     },
     "metadata": {},
     "output_type": "display_data"
    },
    {
     "data": {
      "text/html": [
       " View project at <a href='https://wandb.ai/oriane-cavrois/brain_image_architecture_optimization_3' target=\"_blank\">https://wandb.ai/oriane-cavrois/brain_image_architecture_optimization_3</a>"
      ],
      "text/plain": [
       "<IPython.core.display.HTML object>"
      ]
     },
     "metadata": {},
     "output_type": "display_data"
    },
    {
     "data": {
      "text/html": [
       " View run at <a href='https://wandb.ai/oriane-cavrois/brain_image_architecture_optimization_3/runs/kffgndrk' target=\"_blank\">https://wandb.ai/oriane-cavrois/brain_image_architecture_optimization_3/runs/kffgndrk</a>"
      ],
      "text/plain": [
       "<IPython.core.display.HTML object>"
      ]
     },
     "metadata": {},
     "output_type": "display_data"
    },
    {
     "name": "stdout",
     "output_type": "stream",
     "text": [
      "Fold 1\n",
      "-------\n",
      "Test set: Average loss: 0.4338, Accuracy: 36/85 (42.35%)\n",
      "\n",
      "Fold 2\n",
      "-------\n",
      "Test set: Average loss: 0.4888, Accuracy: 30/85 (35.29%)\n",
      "\n",
      "Fold 3\n",
      "-------\n",
      "Test set: Average loss: 0.4281, Accuracy: 37/85 (43.53%)\n",
      "\n",
      "--------------------------------------\n"
     ]
    },
    {
     "name": "stderr",
     "output_type": "stream",
     "text": [
      "wandb: WARNING Source type is set to 'repo' but some required information is missing from the environment. A job will not be created from this run. See https://docs.wandb.ai/guides/launch/create-job\n"
     ]
    },
    {
     "data": {
      "application/vnd.jupyter.widget-view+json": {
       "model_id": "98690f44603b4c3990e629c758ee37ce",
       "version_major": 2,
       "version_minor": 0
      },
      "text/plain": [
       "VBox(children=(Label(value='0.001 MB of 0.004 MB uploaded\\r'), FloatProgress(value=0.34865798564974754, max=1.…"
      ]
     },
     "metadata": {},
     "output_type": "display_data"
    },
    {
     "data": {
      "text/html": [
       "<style>\n",
       "    table.wandb td:nth-child(1) { padding: 0 10px; text-align: left ; width: auto;} td:nth-child(2) {text-align: left ; width: 100%}\n",
       "    .wandb-row { display: flex; flex-direction: row; flex-wrap: wrap; justify-content: flex-start; width: 100% }\n",
       "    .wandb-col { display: flex; flex-direction: column; flex-basis: 100%; flex: 1; padding: 10px; }\n",
       "    </style>\n",
       "<div class=\"wandb-row\"><div class=\"wandb-col\"><h3>Run history:</h3><br/><table class=\"wandb\"><tr><td>test accuracy</td><td>▁</td></tr><tr><td>test loss</td><td>▁</td></tr><tr><td>train accuracy</td><td>▁</td></tr><tr><td>train loss</td><td>▁</td></tr></table><br/></div><div class=\"wandb-col\"><h3>Run summary:</h3><br/><table class=\"wandb\"><tr><td>test accuracy</td><td>0.40392</td></tr><tr><td>test loss</td><td>0.45024</td></tr><tr><td>train accuracy</td><td>0.6128</td></tr><tr><td>train loss</td><td>0.1671</td></tr></table><br/></div></div>"
      ],
      "text/plain": [
       "<IPython.core.display.HTML object>"
      ]
     },
     "metadata": {},
     "output_type": "display_data"
    },
    {
     "data": {
      "text/html": [
       " View run <strong style=\"color:#cdcd00\">bumbling-thunder-48</strong> at: <a href='https://wandb.ai/oriane-cavrois/brain_image_architecture_optimization_3/runs/kffgndrk' target=\"_blank\">https://wandb.ai/oriane-cavrois/brain_image_architecture_optimization_3/runs/kffgndrk</a><br/>Synced 5 W&B file(s), 0 media file(s), 0 artifact file(s) and 0 other file(s)"
      ],
      "text/plain": [
       "<IPython.core.display.HTML object>"
      ]
     },
     "metadata": {},
     "output_type": "display_data"
    },
    {
     "data": {
      "text/html": [
       "Find logs at: <code>./wandb/run-20240206_195237-kffgndrk/logs</code>"
      ],
      "text/plain": [
       "<IPython.core.display.HTML object>"
      ]
     },
     "metadata": {},
     "output_type": "display_data"
    },
    {
     "name": "stdout",
     "output_type": "stream",
     "text": [
      "Iteration 32\n",
      "Architecture: large\n",
      "Number of epochs: 35\n",
      "(35, 0.0078000000000000005, 5, 'large', 0.75)\n"
     ]
    },
    {
     "data": {
      "application/vnd.jupyter.widget-view+json": {
       "model_id": "d043a641e8d047a28b75a277e533524d",
       "version_major": 2,
       "version_minor": 0
      },
      "text/plain": [
       "VBox(children=(Label(value='Waiting for wandb.init()...\\r'), FloatProgress(value=0.011167455555550987, max=1.0…"
      ]
     },
     "metadata": {},
     "output_type": "display_data"
    },
    {
     "data": {
      "text/html": [
       "wandb version 0.16.3 is available!  To upgrade, please run:\n",
       " $ pip install wandb --upgrade"
      ],
      "text/plain": [
       "<IPython.core.display.HTML object>"
      ]
     },
     "metadata": {},
     "output_type": "display_data"
    },
    {
     "data": {
      "text/html": [
       "Tracking run with wandb version 0.16.2"
      ],
      "text/plain": [
       "<IPython.core.display.HTML object>"
      ]
     },
     "metadata": {},
     "output_type": "display_data"
    },
    {
     "data": {
      "text/html": [
       "Run data is saved locally in <code>/Users/orianecavrois/Documents/Perso/MachineLearning/Github/Brain-tumor-image-classification/wandb/run-20240206_195325-6gs5s69n</code>"
      ],
      "text/plain": [
       "<IPython.core.display.HTML object>"
      ]
     },
     "metadata": {},
     "output_type": "display_data"
    },
    {
     "data": {
      "text/html": [
       "Syncing run <strong><a href='https://wandb.ai/oriane-cavrois/brain_image_architecture_optimization_3/runs/6gs5s69n' target=\"_blank\">cool-grass-49</a></strong> to <a href='https://wandb.ai/oriane-cavrois/brain_image_architecture_optimization_3' target=\"_blank\">Weights & Biases</a> (<a href='https://wandb.me/run' target=\"_blank\">docs</a>)<br/>"
      ],
      "text/plain": [
       "<IPython.core.display.HTML object>"
      ]
     },
     "metadata": {},
     "output_type": "display_data"
    },
    {
     "data": {
      "text/html": [
       " View project at <a href='https://wandb.ai/oriane-cavrois/brain_image_architecture_optimization_3' target=\"_blank\">https://wandb.ai/oriane-cavrois/brain_image_architecture_optimization_3</a>"
      ],
      "text/plain": [
       "<IPython.core.display.HTML object>"
      ]
     },
     "metadata": {},
     "output_type": "display_data"
    },
    {
     "data": {
      "text/html": [
       " View run at <a href='https://wandb.ai/oriane-cavrois/brain_image_architecture_optimization_3/runs/6gs5s69n' target=\"_blank\">https://wandb.ai/oriane-cavrois/brain_image_architecture_optimization_3/runs/6gs5s69n</a>"
      ],
      "text/plain": [
       "<IPython.core.display.HTML object>"
      ]
     },
     "metadata": {},
     "output_type": "display_data"
    },
    {
     "name": "stdout",
     "output_type": "stream",
     "text": [
      "Fold 1\n",
      "-------\n",
      "Test set: Average loss: 120.6580, Accuracy: 47/85 (55.29%)\n",
      "\n",
      "Fold 2\n",
      "-------\n",
      "Test set: Average loss: 6.1653, Accuracy: 55/85 (64.71%)\n",
      "\n",
      "Fold 3\n",
      "-------\n",
      "Test set: Average loss: 15.9061, Accuracy: 54/85 (63.53%)\n",
      "\n",
      "--------------------------------------\n"
     ]
    },
    {
     "name": "stderr",
     "output_type": "stream",
     "text": [
      "wandb: WARNING Source type is set to 'repo' but some required information is missing from the environment. A job will not be created from this run. See https://docs.wandb.ai/guides/launch/create-job\n"
     ]
    },
    {
     "data": {
      "application/vnd.jupyter.widget-view+json": {
       "model_id": "607e22eaf2634095883253754dc780a1",
       "version_major": 2,
       "version_minor": 0
      },
      "text/plain": [
       "VBox(children=(Label(value='0.001 MB of 0.002 MB uploaded\\r'), FloatProgress(value=0.5053929121725732, max=1.0…"
      ]
     },
     "metadata": {},
     "output_type": "display_data"
    },
    {
     "data": {
      "text/html": [
       "<style>\n",
       "    table.wandb td:nth-child(1) { padding: 0 10px; text-align: left ; width: auto;} td:nth-child(2) {text-align: left ; width: 100%}\n",
       "    .wandb-row { display: flex; flex-direction: row; flex-wrap: wrap; justify-content: flex-start; width: 100% }\n",
       "    .wandb-col { display: flex; flex-direction: column; flex-basis: 100%; flex: 1; padding: 10px; }\n",
       "    </style>\n",
       "<div class=\"wandb-row\"><div class=\"wandb-col\"><h3>Run history:</h3><br/><table class=\"wandb\"><tr><td>test accuracy</td><td>▁</td></tr><tr><td>test loss</td><td>▁</td></tr><tr><td>train accuracy</td><td>▁</td></tr><tr><td>train loss</td><td>▁</td></tr></table><br/></div><div class=\"wandb-col\"><h3>Run summary:</h3><br/><table class=\"wandb\"><tr><td>test accuracy</td><td>0.61176</td></tr><tr><td>test loss</td><td>47.57646</td></tr><tr><td>train accuracy</td><td>0.95757</td></tr><tr><td>train loss</td><td>23.13525</td></tr></table><br/></div></div>"
      ],
      "text/plain": [
       "<IPython.core.display.HTML object>"
      ]
     },
     "metadata": {},
     "output_type": "display_data"
    },
    {
     "data": {
      "text/html": [
       " View run <strong style=\"color:#cdcd00\">cool-grass-49</strong> at: <a href='https://wandb.ai/oriane-cavrois/brain_image_architecture_optimization_3/runs/6gs5s69n' target=\"_blank\">https://wandb.ai/oriane-cavrois/brain_image_architecture_optimization_3/runs/6gs5s69n</a><br/>Synced 5 W&B file(s), 0 media file(s), 0 artifact file(s) and 0 other file(s)"
      ],
      "text/plain": [
       "<IPython.core.display.HTML object>"
      ]
     },
     "metadata": {},
     "output_type": "display_data"
    },
    {
     "data": {
      "text/html": [
       "Find logs at: <code>./wandb/run-20240206_195325-6gs5s69n/logs</code>"
      ],
      "text/plain": [
       "<IPython.core.display.HTML object>"
      ]
     },
     "metadata": {},
     "output_type": "display_data"
    },
    {
     "name": "stdout",
     "output_type": "stream",
     "text": [
      "Iteration 33\n",
      "Architecture: large\n",
      "Number of epochs: 5\n",
      "(5, 0.00725, 8, 'large', 0.7000000000000001)\n"
     ]
    },
    {
     "data": {
      "application/vnd.jupyter.widget-view+json": {
       "model_id": "bfd3818127b5464ea9219e422494ba5f",
       "version_major": 2,
       "version_minor": 0
      },
      "text/plain": [
       "VBox(children=(Label(value='Waiting for wandb.init()...\\r'), FloatProgress(value=0.011167705555554778, max=1.0…"
      ]
     },
     "metadata": {},
     "output_type": "display_data"
    },
    {
     "data": {
      "text/html": [
       "wandb version 0.16.3 is available!  To upgrade, please run:\n",
       " $ pip install wandb --upgrade"
      ],
      "text/plain": [
       "<IPython.core.display.HTML object>"
      ]
     },
     "metadata": {},
     "output_type": "display_data"
    },
    {
     "data": {
      "text/html": [
       "Tracking run with wandb version 0.16.2"
      ],
      "text/plain": [
       "<IPython.core.display.HTML object>"
      ]
     },
     "metadata": {},
     "output_type": "display_data"
    },
    {
     "data": {
      "text/html": [
       "Run data is saved locally in <code>/Users/orianecavrois/Documents/Perso/MachineLearning/Github/Brain-tumor-image-classification/wandb/run-20240206_195432-y1liti78</code>"
      ],
      "text/plain": [
       "<IPython.core.display.HTML object>"
      ]
     },
     "metadata": {},
     "output_type": "display_data"
    },
    {
     "data": {
      "text/html": [
       "Syncing run <strong><a href='https://wandb.ai/oriane-cavrois/brain_image_architecture_optimization_3/runs/y1liti78' target=\"_blank\">light-firebrand-50</a></strong> to <a href='https://wandb.ai/oriane-cavrois/brain_image_architecture_optimization_3' target=\"_blank\">Weights & Biases</a> (<a href='https://wandb.me/run' target=\"_blank\">docs</a>)<br/>"
      ],
      "text/plain": [
       "<IPython.core.display.HTML object>"
      ]
     },
     "metadata": {},
     "output_type": "display_data"
    },
    {
     "data": {
      "text/html": [
       " View project at <a href='https://wandb.ai/oriane-cavrois/brain_image_architecture_optimization_3' target=\"_blank\">https://wandb.ai/oriane-cavrois/brain_image_architecture_optimization_3</a>"
      ],
      "text/plain": [
       "<IPython.core.display.HTML object>"
      ]
     },
     "metadata": {},
     "output_type": "display_data"
    },
    {
     "data": {
      "text/html": [
       " View run at <a href='https://wandb.ai/oriane-cavrois/brain_image_architecture_optimization_3/runs/y1liti78' target=\"_blank\">https://wandb.ai/oriane-cavrois/brain_image_architecture_optimization_3/runs/y1liti78</a>"
      ],
      "text/plain": [
       "<IPython.core.display.HTML object>"
      ]
     },
     "metadata": {},
     "output_type": "display_data"
    },
    {
     "name": "stdout",
     "output_type": "stream",
     "text": [
      "Fold 1\n",
      "-------\n",
      "Test set: Average loss: 204.2873, Accuracy: 36/85 (42.35%)\n",
      "\n",
      "Fold 2\n",
      "-------\n",
      "Test set: Average loss: 3.6262, Accuracy: 53/85 (62.35%)\n",
      "\n",
      "Fold 3\n",
      "-------\n",
      "Test set: Average loss: 9.6106, Accuracy: 53/85 (62.35%)\n",
      "\n",
      "--------------------------------------\n"
     ]
    },
    {
     "name": "stderr",
     "output_type": "stream",
     "text": [
      "wandb: WARNING Source type is set to 'repo' but some required information is missing from the environment. A job will not be created from this run. See https://docs.wandb.ai/guides/launch/create-job\n"
     ]
    },
    {
     "data": {
      "application/vnd.jupyter.widget-view+json": {
       "model_id": "e5d4ba62987142c29d37893750549229",
       "version_major": 2,
       "version_minor": 0
      },
      "text/plain": [
       "VBox(children=(Label(value='0.001 MB of 0.001 MB uploaded\\r'), FloatProgress(value=1.0, max=1.0)))"
      ]
     },
     "metadata": {},
     "output_type": "display_data"
    },
    {
     "data": {
      "text/html": [
       "<style>\n",
       "    table.wandb td:nth-child(1) { padding: 0 10px; text-align: left ; width: auto;} td:nth-child(2) {text-align: left ; width: 100%}\n",
       "    .wandb-row { display: flex; flex-direction: row; flex-wrap: wrap; justify-content: flex-start; width: 100% }\n",
       "    .wandb-col { display: flex; flex-direction: column; flex-basis: 100%; flex: 1; padding: 10px; }\n",
       "    </style>\n",
       "<div class=\"wandb-row\"><div class=\"wandb-col\"><h3>Run history:</h3><br/><table class=\"wandb\"><tr><td>test accuracy</td><td>▁</td></tr><tr><td>test loss</td><td>▁</td></tr><tr><td>train accuracy</td><td>▁</td></tr><tr><td>train loss</td><td>▁</td></tr></table><br/></div><div class=\"wandb-col\"><h3>Run summary:</h3><br/><table class=\"wandb\"><tr><td>test accuracy</td><td>0.55686</td></tr><tr><td>test loss</td><td>72.50802</td></tr><tr><td>train accuracy</td><td>0.80298</td></tr><tr><td>train loss</td><td>107.23861</td></tr></table><br/></div></div>"
      ],
      "text/plain": [
       "<IPython.core.display.HTML object>"
      ]
     },
     "metadata": {},
     "output_type": "display_data"
    },
    {
     "data": {
      "text/html": [
       " View run <strong style=\"color:#cdcd00\">light-firebrand-50</strong> at: <a href='https://wandb.ai/oriane-cavrois/brain_image_architecture_optimization_3/runs/y1liti78' target=\"_blank\">https://wandb.ai/oriane-cavrois/brain_image_architecture_optimization_3/runs/y1liti78</a><br/>Synced 5 W&B file(s), 0 media file(s), 0 artifact file(s) and 0 other file(s)"
      ],
      "text/plain": [
       "<IPython.core.display.HTML object>"
      ]
     },
     "metadata": {},
     "output_type": "display_data"
    },
    {
     "data": {
      "text/html": [
       "Find logs at: <code>./wandb/run-20240206_195432-y1liti78/logs</code>"
      ],
      "text/plain": [
       "<IPython.core.display.HTML object>"
      ]
     },
     "metadata": {},
     "output_type": "display_data"
    },
    {
     "name": "stdout",
     "output_type": "stream",
     "text": [
      "Iteration 34\n",
      "Architecture: large\n",
      "Number of epochs: 30\n",
      "(30, 0.00175, 4, 'large', 0.9)\n"
     ]
    },
    {
     "data": {
      "application/vnd.jupyter.widget-view+json": {
       "model_id": "3d26b6de95ae405f869f1532ef8dc7be",
       "version_major": 2,
       "version_minor": 0
      },
      "text/plain": [
       "VBox(children=(Label(value='Waiting for wandb.init()...\\r'), FloatProgress(value=0.011167313888896994, max=1.0…"
      ]
     },
     "metadata": {},
     "output_type": "display_data"
    },
    {
     "data": {
      "text/html": [
       "wandb version 0.16.3 is available!  To upgrade, please run:\n",
       " $ pip install wandb --upgrade"
      ],
      "text/plain": [
       "<IPython.core.display.HTML object>"
      ]
     },
     "metadata": {},
     "output_type": "display_data"
    },
    {
     "data": {
      "text/html": [
       "Tracking run with wandb version 0.16.2"
      ],
      "text/plain": [
       "<IPython.core.display.HTML object>"
      ]
     },
     "metadata": {},
     "output_type": "display_data"
    },
    {
     "data": {
      "text/html": [
       "Run data is saved locally in <code>/Users/orianecavrois/Documents/Perso/MachineLearning/Github/Brain-tumor-image-classification/wandb/run-20240206_195447-fcg8chnr</code>"
      ],
      "text/plain": [
       "<IPython.core.display.HTML object>"
      ]
     },
     "metadata": {},
     "output_type": "display_data"
    },
    {
     "data": {
      "text/html": [
       "Syncing run <strong><a href='https://wandb.ai/oriane-cavrois/brain_image_architecture_optimization_3/runs/fcg8chnr' target=\"_blank\">colorful-plasma-51</a></strong> to <a href='https://wandb.ai/oriane-cavrois/brain_image_architecture_optimization_3' target=\"_blank\">Weights & Biases</a> (<a href='https://wandb.me/run' target=\"_blank\">docs</a>)<br/>"
      ],
      "text/plain": [
       "<IPython.core.display.HTML object>"
      ]
     },
     "metadata": {},
     "output_type": "display_data"
    },
    {
     "data": {
      "text/html": [
       " View project at <a href='https://wandb.ai/oriane-cavrois/brain_image_architecture_optimization_3' target=\"_blank\">https://wandb.ai/oriane-cavrois/brain_image_architecture_optimization_3</a>"
      ],
      "text/plain": [
       "<IPython.core.display.HTML object>"
      ]
     },
     "metadata": {},
     "output_type": "display_data"
    },
    {
     "data": {
      "text/html": [
       " View run at <a href='https://wandb.ai/oriane-cavrois/brain_image_architecture_optimization_3/runs/fcg8chnr' target=\"_blank\">https://wandb.ai/oriane-cavrois/brain_image_architecture_optimization_3/runs/fcg8chnr</a>"
      ],
      "text/plain": [
       "<IPython.core.display.HTML object>"
      ]
     },
     "metadata": {},
     "output_type": "display_data"
    },
    {
     "name": "stdout",
     "output_type": "stream",
     "text": [
      "Fold 1\n",
      "-------\n",
      "Test set: Average loss: 186.8532, Accuracy: 43/85 (50.59%)\n",
      "\n",
      "Fold 2\n",
      "-------\n",
      "Test set: Average loss: 102.4672, Accuracy: 49/85 (57.65%)\n",
      "\n",
      "Fold 3\n",
      "-------\n",
      "Test set: Average loss: 0.0000, Accuracy: 56/85 (65.88%)\n",
      "\n",
      "--------------------------------------\n"
     ]
    },
    {
     "name": "stderr",
     "output_type": "stream",
     "text": [
      "wandb: WARNING Source type is set to 'repo' but some required information is missing from the environment. A job will not be created from this run. See https://docs.wandb.ai/guides/launch/create-job\n"
     ]
    },
    {
     "data": {
      "application/vnd.jupyter.widget-view+json": {
       "model_id": "b3d0b46f8ff245c7808d3e67f31c55e2",
       "version_major": 2,
       "version_minor": 0
      },
      "text/plain": [
       "VBox(children=(Label(value='0.001 MB of 0.001 MB uploaded\\r'), FloatProgress(value=1.0, max=1.0)))"
      ]
     },
     "metadata": {},
     "output_type": "display_data"
    },
    {
     "data": {
      "text/html": [
       "<style>\n",
       "    table.wandb td:nth-child(1) { padding: 0 10px; text-align: left ; width: auto;} td:nth-child(2) {text-align: left ; width: 100%}\n",
       "    .wandb-row { display: flex; flex-direction: row; flex-wrap: wrap; justify-content: flex-start; width: 100% }\n",
       "    .wandb-col { display: flex; flex-direction: column; flex-basis: 100%; flex: 1; padding: 10px; }\n",
       "    </style>\n",
       "<div class=\"wandb-row\"><div class=\"wandb-col\"><h3>Run history:</h3><br/><table class=\"wandb\"><tr><td>test accuracy</td><td>▁</td></tr><tr><td>test loss</td><td>▁</td></tr><tr><td>train accuracy</td><td>▁</td></tr><tr><td>train loss</td><td>▁</td></tr></table><br/></div><div class=\"wandb-col\"><h3>Run summary:</h3><br/><table class=\"wandb\"><tr><td>test accuracy</td><td>0.58039</td></tr><tr><td>test loss</td><td>96.44013</td></tr><tr><td>train accuracy</td><td>0.92937</td></tr><tr><td>train loss</td><td>16.93811</td></tr></table><br/></div></div>"
      ],
      "text/plain": [
       "<IPython.core.display.HTML object>"
      ]
     },
     "metadata": {},
     "output_type": "display_data"
    },
    {
     "data": {
      "text/html": [
       " View run <strong style=\"color:#cdcd00\">colorful-plasma-51</strong> at: <a href='https://wandb.ai/oriane-cavrois/brain_image_architecture_optimization_3/runs/fcg8chnr' target=\"_blank\">https://wandb.ai/oriane-cavrois/brain_image_architecture_optimization_3/runs/fcg8chnr</a><br/>Synced 5 W&B file(s), 0 media file(s), 0 artifact file(s) and 0 other file(s)"
      ],
      "text/plain": [
       "<IPython.core.display.HTML object>"
      ]
     },
     "metadata": {},
     "output_type": "display_data"
    },
    {
     "data": {
      "text/html": [
       "Find logs at: <code>./wandb/run-20240206_195447-fcg8chnr/logs</code>"
      ],
      "text/plain": [
       "<IPython.core.display.HTML object>"
      ]
     },
     "metadata": {},
     "output_type": "display_data"
    },
    {
     "name": "stdout",
     "output_type": "stream",
     "text": [
      "Iteration 35\n",
      "Architecture: pyramid\n",
      "Number of epochs: 15\n",
      "(15, 0.0067, 7, 'pyramid', 0.55)\n"
     ]
    },
    {
     "data": {
      "application/vnd.jupyter.widget-view+json": {
       "model_id": "d2ab22e9f3814f2b89af6413c7d1b603",
       "version_major": 2,
       "version_minor": 0
      },
      "text/plain": [
       "VBox(children=(Label(value='Waiting for wandb.init()...\\r'), FloatProgress(value=0.011167215277762606, max=1.0…"
      ]
     },
     "metadata": {},
     "output_type": "display_data"
    },
    {
     "data": {
      "text/html": [
       "wandb version 0.16.3 is available!  To upgrade, please run:\n",
       " $ pip install wandb --upgrade"
      ],
      "text/plain": [
       "<IPython.core.display.HTML object>"
      ]
     },
     "metadata": {},
     "output_type": "display_data"
    },
    {
     "data": {
      "text/html": [
       "Tracking run with wandb version 0.16.2"
      ],
      "text/plain": [
       "<IPython.core.display.HTML object>"
      ]
     },
     "metadata": {},
     "output_type": "display_data"
    },
    {
     "data": {
      "text/html": [
       "Run data is saved locally in <code>/Users/orianecavrois/Documents/Perso/MachineLearning/Github/Brain-tumor-image-classification/wandb/run-20240206_195551-c9r1ekia</code>"
      ],
      "text/plain": [
       "<IPython.core.display.HTML object>"
      ]
     },
     "metadata": {},
     "output_type": "display_data"
    },
    {
     "data": {
      "text/html": [
       "Syncing run <strong><a href='https://wandb.ai/oriane-cavrois/brain_image_architecture_optimization_3/runs/c9r1ekia' target=\"_blank\">easy-dawn-52</a></strong> to <a href='https://wandb.ai/oriane-cavrois/brain_image_architecture_optimization_3' target=\"_blank\">Weights & Biases</a> (<a href='https://wandb.me/run' target=\"_blank\">docs</a>)<br/>"
      ],
      "text/plain": [
       "<IPython.core.display.HTML object>"
      ]
     },
     "metadata": {},
     "output_type": "display_data"
    },
    {
     "data": {
      "text/html": [
       " View project at <a href='https://wandb.ai/oriane-cavrois/brain_image_architecture_optimization_3' target=\"_blank\">https://wandb.ai/oriane-cavrois/brain_image_architecture_optimization_3</a>"
      ],
      "text/plain": [
       "<IPython.core.display.HTML object>"
      ]
     },
     "metadata": {},
     "output_type": "display_data"
    },
    {
     "data": {
      "text/html": [
       " View run at <a href='https://wandb.ai/oriane-cavrois/brain_image_architecture_optimization_3/runs/c9r1ekia' target=\"_blank\">https://wandb.ai/oriane-cavrois/brain_image_architecture_optimization_3/runs/c9r1ekia</a>"
      ],
      "text/plain": [
       "<IPython.core.display.HTML object>"
      ]
     },
     "metadata": {},
     "output_type": "display_data"
    },
    {
     "name": "stdout",
     "output_type": "stream",
     "text": [
      "Fold 1\n",
      "-------\n",
      "Test set: Average loss: 2.3591, Accuracy: 41/85 (48.24%)\n",
      "\n",
      "Fold 2\n",
      "-------\n",
      "Test set: Average loss: 0.8066, Accuracy: 31/85 (36.47%)\n",
      "\n",
      "Fold 3\n",
      "-------\n",
      "Test set: Average loss: 0.8614, Accuracy: 31/85 (36.47%)\n",
      "\n",
      "--------------------------------------\n"
     ]
    },
    {
     "name": "stderr",
     "output_type": "stream",
     "text": [
      "wandb: WARNING Source type is set to 'repo' but some required information is missing from the environment. A job will not be created from this run. See https://docs.wandb.ai/guides/launch/create-job\n"
     ]
    },
    {
     "data": {
      "application/vnd.jupyter.widget-view+json": {
       "model_id": "d626e7eeeabf414f97f9d8f2110f0ac4",
       "version_major": 2,
       "version_minor": 0
      },
      "text/plain": [
       "VBox(children=(Label(value='0.001 MB of 0.001 MB uploaded\\r'), FloatProgress(value=1.0, max=1.0)))"
      ]
     },
     "metadata": {},
     "output_type": "display_data"
    },
    {
     "data": {
      "text/html": [
       "<style>\n",
       "    table.wandb td:nth-child(1) { padding: 0 10px; text-align: left ; width: auto;} td:nth-child(2) {text-align: left ; width: 100%}\n",
       "    .wandb-row { display: flex; flex-direction: row; flex-wrap: wrap; justify-content: flex-start; width: 100% }\n",
       "    .wandb-col { display: flex; flex-direction: column; flex-basis: 100%; flex: 1; padding: 10px; }\n",
       "    </style>\n",
       "<div class=\"wandb-row\"><div class=\"wandb-col\"><h3>Run history:</h3><br/><table class=\"wandb\"><tr><td>test accuracy</td><td>▁</td></tr><tr><td>test loss</td><td>▁</td></tr><tr><td>train accuracy</td><td>▁</td></tr><tr><td>train loss</td><td>▁</td></tr></table><br/></div><div class=\"wandb-col\"><h3>Run summary:</h3><br/><table class=\"wandb\"><tr><td>test accuracy</td><td>0.40392</td></tr><tr><td>test loss</td><td>1.34239</td></tr><tr><td>train accuracy</td><td>0.59286</td></tr><tr><td>train loss</td><td>3.47532</td></tr></table><br/></div></div>"
      ],
      "text/plain": [
       "<IPython.core.display.HTML object>"
      ]
     },
     "metadata": {},
     "output_type": "display_data"
    },
    {
     "data": {
      "text/html": [
       " View run <strong style=\"color:#cdcd00\">easy-dawn-52</strong> at: <a href='https://wandb.ai/oriane-cavrois/brain_image_architecture_optimization_3/runs/c9r1ekia' target=\"_blank\">https://wandb.ai/oriane-cavrois/brain_image_architecture_optimization_3/runs/c9r1ekia</a><br/>Synced 5 W&B file(s), 0 media file(s), 0 artifact file(s) and 0 other file(s)"
      ],
      "text/plain": [
       "<IPython.core.display.HTML object>"
      ]
     },
     "metadata": {},
     "output_type": "display_data"
    },
    {
     "data": {
      "text/html": [
       "Find logs at: <code>./wandb/run-20240206_195551-c9r1ekia/logs</code>"
      ],
      "text/plain": [
       "<IPython.core.display.HTML object>"
      ]
     },
     "metadata": {},
     "output_type": "display_data"
    },
    {
     "name": "stdout",
     "output_type": "stream",
     "text": [
      "Iteration 36\n",
      "Architecture: deep\n",
      "Number of epochs: 10\n",
      "(10, 0.0078000000000000005, 5, 'deep', 0.05)\n"
     ]
    },
    {
     "data": {
      "application/vnd.jupyter.widget-view+json": {
       "model_id": "1eb6efd200604223ab3f35b783f89375",
       "version_major": 2,
       "version_minor": 0
      },
      "text/plain": [
       "VBox(children=(Label(value='Waiting for wandb.init()...\\r'), FloatProgress(value=0.01116723055553545, max=1.0)…"
      ]
     },
     "metadata": {},
     "output_type": "display_data"
    },
    {
     "data": {
      "text/html": [
       "wandb version 0.16.3 is available!  To upgrade, please run:\n",
       " $ pip install wandb --upgrade"
      ],
      "text/plain": [
       "<IPython.core.display.HTML object>"
      ]
     },
     "metadata": {},
     "output_type": "display_data"
    },
    {
     "data": {
      "text/html": [
       "Tracking run with wandb version 0.16.2"
      ],
      "text/plain": [
       "<IPython.core.display.HTML object>"
      ]
     },
     "metadata": {},
     "output_type": "display_data"
    },
    {
     "data": {
      "text/html": [
       "Run data is saved locally in <code>/Users/orianecavrois/Documents/Perso/MachineLearning/Github/Brain-tumor-image-classification/wandb/run-20240206_195626-ba47qefx</code>"
      ],
      "text/plain": [
       "<IPython.core.display.HTML object>"
      ]
     },
     "metadata": {},
     "output_type": "display_data"
    },
    {
     "data": {
      "text/html": [
       "Syncing run <strong><a href='https://wandb.ai/oriane-cavrois/brain_image_architecture_optimization_3/runs/ba47qefx' target=\"_blank\">rosy-serenity-53</a></strong> to <a href='https://wandb.ai/oriane-cavrois/brain_image_architecture_optimization_3' target=\"_blank\">Weights & Biases</a> (<a href='https://wandb.me/run' target=\"_blank\">docs</a>)<br/>"
      ],
      "text/plain": [
       "<IPython.core.display.HTML object>"
      ]
     },
     "metadata": {},
     "output_type": "display_data"
    },
    {
     "data": {
      "text/html": [
       " View project at <a href='https://wandb.ai/oriane-cavrois/brain_image_architecture_optimization_3' target=\"_blank\">https://wandb.ai/oriane-cavrois/brain_image_architecture_optimization_3</a>"
      ],
      "text/plain": [
       "<IPython.core.display.HTML object>"
      ]
     },
     "metadata": {},
     "output_type": "display_data"
    },
    {
     "data": {
      "text/html": [
       " View run at <a href='https://wandb.ai/oriane-cavrois/brain_image_architecture_optimization_3/runs/ba47qefx' target=\"_blank\">https://wandb.ai/oriane-cavrois/brain_image_architecture_optimization_3/runs/ba47qefx</a>"
      ],
      "text/plain": [
       "<IPython.core.display.HTML object>"
      ]
     },
     "metadata": {},
     "output_type": "display_data"
    },
    {
     "name": "stdout",
     "output_type": "stream",
     "text": [
      "Fold 1\n",
      "-------\n",
      "Test set: Average loss: 0.4544, Accuracy: 39/85 (45.88%)\n",
      "\n",
      "Fold 2\n",
      "-------\n",
      "Test set: Average loss: 0.4522, Accuracy: 43/85 (50.59%)\n",
      "\n",
      "Fold 3\n",
      "-------\n",
      "Test set: Average loss: 0.5605, Accuracy: 42/85 (49.41%)\n",
      "\n",
      "--------------------------------------\n"
     ]
    },
    {
     "name": "stderr",
     "output_type": "stream",
     "text": [
      "wandb: WARNING Source type is set to 'repo' but some required information is missing from the environment. A job will not be created from this run. See https://docs.wandb.ai/guides/launch/create-job\n"
     ]
    },
    {
     "data": {
      "application/vnd.jupyter.widget-view+json": {
       "model_id": "4c444dd05e464e9ba490c20c03a9d2ea",
       "version_major": 2,
       "version_minor": 0
      },
      "text/plain": [
       "VBox(children=(Label(value='0.001 MB of 0.001 MB uploaded\\r'), FloatProgress(value=1.0, max=1.0)))"
      ]
     },
     "metadata": {},
     "output_type": "display_data"
    },
    {
     "data": {
      "text/html": [
       "<style>\n",
       "    table.wandb td:nth-child(1) { padding: 0 10px; text-align: left ; width: auto;} td:nth-child(2) {text-align: left ; width: 100%}\n",
       "    .wandb-row { display: flex; flex-direction: row; flex-wrap: wrap; justify-content: flex-start; width: 100% }\n",
       "    .wandb-col { display: flex; flex-direction: column; flex-basis: 100%; flex: 1; padding: 10px; }\n",
       "    </style>\n",
       "<div class=\"wandb-row\"><div class=\"wandb-col\"><h3>Run history:</h3><br/><table class=\"wandb\"><tr><td>test accuracy</td><td>▁</td></tr><tr><td>test loss</td><td>▁</td></tr><tr><td>train accuracy</td><td>▁</td></tr><tr><td>train loss</td><td>▁</td></tr></table><br/></div><div class=\"wandb-col\"><h3>Run summary:</h3><br/><table class=\"wandb\"><tr><td>test accuracy</td><td>0.48627</td></tr><tr><td>test loss</td><td>0.48905</td></tr><tr><td>train accuracy</td><td>0.77738</td></tr><tr><td>train loss</td><td>0.6341</td></tr></table><br/></div></div>"
      ],
      "text/plain": [
       "<IPython.core.display.HTML object>"
      ]
     },
     "metadata": {},
     "output_type": "display_data"
    },
    {
     "data": {
      "text/html": [
       " View run <strong style=\"color:#cdcd00\">rosy-serenity-53</strong> at: <a href='https://wandb.ai/oriane-cavrois/brain_image_architecture_optimization_3/runs/ba47qefx' target=\"_blank\">https://wandb.ai/oriane-cavrois/brain_image_architecture_optimization_3/runs/ba47qefx</a><br/>Synced 5 W&B file(s), 0 media file(s), 0 artifact file(s) and 0 other file(s)"
      ],
      "text/plain": [
       "<IPython.core.display.HTML object>"
      ]
     },
     "metadata": {},
     "output_type": "display_data"
    },
    {
     "data": {
      "text/html": [
       "Find logs at: <code>./wandb/run-20240206_195626-ba47qefx/logs</code>"
      ],
      "text/plain": [
       "<IPython.core.display.HTML object>"
      ]
     },
     "metadata": {},
     "output_type": "display_data"
    },
    {
     "name": "stdout",
     "output_type": "stream",
     "text": [
      "Iteration 37\n",
      "Architecture: large\n",
      "Number of epochs: 10\n",
      "(10, 0.0012000000000000001, 5, 'large', 0.6000000000000001)\n"
     ]
    },
    {
     "data": {
      "application/vnd.jupyter.widget-view+json": {
       "model_id": "b8fe86e4abd14351b54c9186f778cd73",
       "version_major": 2,
       "version_minor": 0
      },
      "text/plain": [
       "VBox(children=(Label(value='Waiting for wandb.init()...\\r'), FloatProgress(value=0.011128012044476538, max=1.0…"
      ]
     },
     "metadata": {},
     "output_type": "display_data"
    },
    {
     "data": {
      "text/html": [
       "wandb version 0.16.3 is available!  To upgrade, please run:\n",
       " $ pip install wandb --upgrade"
      ],
      "text/plain": [
       "<IPython.core.display.HTML object>"
      ]
     },
     "metadata": {},
     "output_type": "display_data"
    },
    {
     "data": {
      "text/html": [
       "Tracking run with wandb version 0.16.2"
      ],
      "text/plain": [
       "<IPython.core.display.HTML object>"
      ]
     },
     "metadata": {},
     "output_type": "display_data"
    },
    {
     "data": {
      "text/html": [
       "Run data is saved locally in <code>/Users/orianecavrois/Documents/Perso/MachineLearning/Github/Brain-tumor-image-classification/wandb/run-20240206_195653-udqws1v0</code>"
      ],
      "text/plain": [
       "<IPython.core.display.HTML object>"
      ]
     },
     "metadata": {},
     "output_type": "display_data"
    },
    {
     "data": {
      "text/html": [
       "Syncing run <strong><a href='https://wandb.ai/oriane-cavrois/brain_image_architecture_optimization_3/runs/udqws1v0' target=\"_blank\">classic-wildflower-54</a></strong> to <a href='https://wandb.ai/oriane-cavrois/brain_image_architecture_optimization_3' target=\"_blank\">Weights & Biases</a> (<a href='https://wandb.me/run' target=\"_blank\">docs</a>)<br/>"
      ],
      "text/plain": [
       "<IPython.core.display.HTML object>"
      ]
     },
     "metadata": {},
     "output_type": "display_data"
    },
    {
     "data": {
      "text/html": [
       " View project at <a href='https://wandb.ai/oriane-cavrois/brain_image_architecture_optimization_3' target=\"_blank\">https://wandb.ai/oriane-cavrois/brain_image_architecture_optimization_3</a>"
      ],
      "text/plain": [
       "<IPython.core.display.HTML object>"
      ]
     },
     "metadata": {},
     "output_type": "display_data"
    },
    {
     "data": {
      "text/html": [
       " View run at <a href='https://wandb.ai/oriane-cavrois/brain_image_architecture_optimization_3/runs/udqws1v0' target=\"_blank\">https://wandb.ai/oriane-cavrois/brain_image_architecture_optimization_3/runs/udqws1v0</a>"
      ],
      "text/plain": [
       "<IPython.core.display.HTML object>"
      ]
     },
     "metadata": {},
     "output_type": "display_data"
    },
    {
     "name": "stdout",
     "output_type": "stream",
     "text": [
      "Fold 1\n",
      "-------\n",
      "Test set: Average loss: 12.1678, Accuracy: 49/85 (57.65%)\n",
      "\n",
      "Fold 2\n",
      "-------\n",
      "Test set: Average loss: 13.0244, Accuracy: 51/85 (60.00%)\n",
      "\n",
      "Fold 3\n",
      "-------\n",
      "Test set: Average loss: 0.0000, Accuracy: 56/85 (65.88%)\n",
      "\n",
      "--------------------------------------\n"
     ]
    },
    {
     "data": {
      "application/vnd.jupyter.widget-view+json": {
       "model_id": "e0cd8ba5b0f44c6f801034b365f0941f",
       "version_major": 2,
       "version_minor": 0
      },
      "text/plain": [
       "VBox(children=(Label(value='0.001 MB of 0.001 MB uploaded\\r'), FloatProgress(value=1.0, max=1.0)))"
      ]
     },
     "metadata": {},
     "output_type": "display_data"
    },
    {
     "name": "stderr",
     "output_type": "stream",
     "text": [
      "wandb: WARNING Source type is set to 'repo' but some required information is missing from the environment. A job will not be created from this run. See https://docs.wandb.ai/guides/launch/create-job\n"
     ]
    },
    {
     "data": {
      "text/html": [
       "<style>\n",
       "    table.wandb td:nth-child(1) { padding: 0 10px; text-align: left ; width: auto;} td:nth-child(2) {text-align: left ; width: 100%}\n",
       "    .wandb-row { display: flex; flex-direction: row; flex-wrap: wrap; justify-content: flex-start; width: 100% }\n",
       "    .wandb-col { display: flex; flex-direction: column; flex-basis: 100%; flex: 1; padding: 10px; }\n",
       "    </style>\n",
       "<div class=\"wandb-row\"><div class=\"wandb-col\"><h3>Run history:</h3><br/><table class=\"wandb\"><tr><td>test accuracy</td><td>▁</td></tr><tr><td>test loss</td><td>▁</td></tr><tr><td>train accuracy</td><td>▁</td></tr><tr><td>train loss</td><td>▁</td></tr></table><br/></div><div class=\"wandb-col\"><h3>Run summary:</h3><br/><table class=\"wandb\"><tr><td>test accuracy</td><td>0.61176</td></tr><tr><td>test loss</td><td>8.39742</td></tr><tr><td>train accuracy</td><td>0.91845</td></tr><tr><td>train loss</td><td>42.25113</td></tr></table><br/></div></div>"
      ],
      "text/plain": [
       "<IPython.core.display.HTML object>"
      ]
     },
     "metadata": {},
     "output_type": "display_data"
    },
    {
     "data": {
      "text/html": [
       " View run <strong style=\"color:#cdcd00\">classic-wildflower-54</strong> at: <a href='https://wandb.ai/oriane-cavrois/brain_image_architecture_optimization_3/runs/udqws1v0' target=\"_blank\">https://wandb.ai/oriane-cavrois/brain_image_architecture_optimization_3/runs/udqws1v0</a><br/>Synced 5 W&B file(s), 0 media file(s), 0 artifact file(s) and 0 other file(s)"
      ],
      "text/plain": [
       "<IPython.core.display.HTML object>"
      ]
     },
     "metadata": {},
     "output_type": "display_data"
    },
    {
     "data": {
      "text/html": [
       "Find logs at: <code>./wandb/run-20240206_195653-udqws1v0/logs</code>"
      ],
      "text/plain": [
       "<IPython.core.display.HTML object>"
      ]
     },
     "metadata": {},
     "output_type": "display_data"
    },
    {
     "name": "stdout",
     "output_type": "stream",
     "text": [
      "Iteration 38\n",
      "Architecture: deep\n",
      "Number of epochs: 5\n",
      "(5, 0.00835, 4, 'deep', 0.5)\n"
     ]
    },
    {
     "data": {
      "application/vnd.jupyter.widget-view+json": {
       "model_id": "2428dfd1b00244bca166455e195064fb",
       "version_major": 2,
       "version_minor": 0
      },
      "text/plain": [
       "VBox(children=(Label(value='Waiting for wandb.init()...\\r'), FloatProgress(value=0.011130154633348058, max=1.0…"
      ]
     },
     "metadata": {},
     "output_type": "display_data"
    },
    {
     "data": {
      "text/html": [
       "wandb version 0.16.3 is available!  To upgrade, please run:\n",
       " $ pip install wandb --upgrade"
      ],
      "text/plain": [
       "<IPython.core.display.HTML object>"
      ]
     },
     "metadata": {},
     "output_type": "display_data"
    },
    {
     "data": {
      "text/html": [
       "Tracking run with wandb version 0.16.2"
      ],
      "text/plain": [
       "<IPython.core.display.HTML object>"
      ]
     },
     "metadata": {},
     "output_type": "display_data"
    },
    {
     "data": {
      "text/html": [
       "Run data is saved locally in <code>/Users/orianecavrois/Documents/Perso/MachineLearning/Github/Brain-tumor-image-classification/wandb/run-20240206_195718-7c5clfd9</code>"
      ],
      "text/plain": [
       "<IPython.core.display.HTML object>"
      ]
     },
     "metadata": {},
     "output_type": "display_data"
    },
    {
     "data": {
      "text/html": [
       "Syncing run <strong><a href='https://wandb.ai/oriane-cavrois/brain_image_architecture_optimization_3/runs/7c5clfd9' target=\"_blank\">deft-bush-55</a></strong> to <a href='https://wandb.ai/oriane-cavrois/brain_image_architecture_optimization_3' target=\"_blank\">Weights & Biases</a> (<a href='https://wandb.me/run' target=\"_blank\">docs</a>)<br/>"
      ],
      "text/plain": [
       "<IPython.core.display.HTML object>"
      ]
     },
     "metadata": {},
     "output_type": "display_data"
    },
    {
     "data": {
      "text/html": [
       " View project at <a href='https://wandb.ai/oriane-cavrois/brain_image_architecture_optimization_3' target=\"_blank\">https://wandb.ai/oriane-cavrois/brain_image_architecture_optimization_3</a>"
      ],
      "text/plain": [
       "<IPython.core.display.HTML object>"
      ]
     },
     "metadata": {},
     "output_type": "display_data"
    },
    {
     "data": {
      "text/html": [
       " View run at <a href='https://wandb.ai/oriane-cavrois/brain_image_architecture_optimization_3/runs/7c5clfd9' target=\"_blank\">https://wandb.ai/oriane-cavrois/brain_image_architecture_optimization_3/runs/7c5clfd9</a>"
      ],
      "text/plain": [
       "<IPython.core.display.HTML object>"
      ]
     },
     "metadata": {},
     "output_type": "display_data"
    },
    {
     "name": "stdout",
     "output_type": "stream",
     "text": [
      "Fold 1\n",
      "-------\n",
      "Test set: Average loss: 0.4579, Accuracy: 31/85 (36.47%)\n",
      "\n",
      "Fold 2\n",
      "-------\n",
      "Test set: Average loss: 0.4576, Accuracy: 29/85 (34.12%)\n",
      "\n",
      "Fold 3\n",
      "-------\n",
      "Test set: Average loss: 0.4047, Accuracy: 42/85 (49.41%)\n",
      "\n",
      "--------------------------------------\n"
     ]
    },
    {
     "name": "stderr",
     "output_type": "stream",
     "text": [
      "wandb: WARNING Source type is set to 'repo' but some required information is missing from the environment. A job will not be created from this run. See https://docs.wandb.ai/guides/launch/create-job\n"
     ]
    },
    {
     "data": {
      "application/vnd.jupyter.widget-view+json": {
       "model_id": "a623923bc29946a28e2d14dc2fca9931",
       "version_major": 2,
       "version_minor": 0
      },
      "text/plain": [
       "VBox(children=(Label(value='0.001 MB of 0.001 MB uploaded\\r'), FloatProgress(value=1.0, max=1.0)))"
      ]
     },
     "metadata": {},
     "output_type": "display_data"
    },
    {
     "data": {
      "text/html": [
       "<style>\n",
       "    table.wandb td:nth-child(1) { padding: 0 10px; text-align: left ; width: auto;} td:nth-child(2) {text-align: left ; width: 100%}\n",
       "    .wandb-row { display: flex; flex-direction: row; flex-wrap: wrap; justify-content: flex-start; width: 100% }\n",
       "    .wandb-col { display: flex; flex-direction: column; flex-basis: 100%; flex: 1; padding: 10px; }\n",
       "    </style>\n",
       "<div class=\"wandb-row\"><div class=\"wandb-col\"><h3>Run history:</h3><br/><table class=\"wandb\"><tr><td>test accuracy</td><td>▁</td></tr><tr><td>test loss</td><td>▁</td></tr><tr><td>train accuracy</td><td>▁</td></tr><tr><td>train loss</td><td>▁</td></tr></table><br/></div><div class=\"wandb-col\"><h3>Run summary:</h3><br/><table class=\"wandb\"><tr><td>test accuracy</td><td>0.4</td></tr><tr><td>test loss</td><td>0.44008</td></tr><tr><td>train accuracy</td><td>0.6</td></tr><tr><td>train loss</td><td>1.17698</td></tr></table><br/></div></div>"
      ],
      "text/plain": [
       "<IPython.core.display.HTML object>"
      ]
     },
     "metadata": {},
     "output_type": "display_data"
    },
    {
     "data": {
      "text/html": [
       " View run <strong style=\"color:#cdcd00\">deft-bush-55</strong> at: <a href='https://wandb.ai/oriane-cavrois/brain_image_architecture_optimization_3/runs/7c5clfd9' target=\"_blank\">https://wandb.ai/oriane-cavrois/brain_image_architecture_optimization_3/runs/7c5clfd9</a><br/>Synced 5 W&B file(s), 0 media file(s), 0 artifact file(s) and 0 other file(s)"
      ],
      "text/plain": [
       "<IPython.core.display.HTML object>"
      ]
     },
     "metadata": {},
     "output_type": "display_data"
    },
    {
     "data": {
      "text/html": [
       "Find logs at: <code>./wandb/run-20240206_195718-7c5clfd9/logs</code>"
      ],
      "text/plain": [
       "<IPython.core.display.HTML object>"
      ]
     },
     "metadata": {},
     "output_type": "display_data"
    },
    {
     "name": "stdout",
     "output_type": "stream",
     "text": [
      "Iteration 39\n",
      "Architecture: deep\n",
      "Number of epochs: 15\n",
      "(15, 0.0067, 6, 'deep', 0.35000000000000003)\n"
     ]
    },
    {
     "data": {
      "application/vnd.jupyter.widget-view+json": {
       "model_id": "712a1f3dd4f64a19b3804110b43b0868",
       "version_major": 2,
       "version_minor": 0
      },
      "text/plain": [
       "VBox(children=(Label(value='Waiting for wandb.init()...\\r'), FloatProgress(value=0.011123200466681738, max=1.0…"
      ]
     },
     "metadata": {},
     "output_type": "display_data"
    },
    {
     "data": {
      "text/html": [
       "wandb version 0.16.3 is available!  To upgrade, please run:\n",
       " $ pip install wandb --upgrade"
      ],
      "text/plain": [
       "<IPython.core.display.HTML object>"
      ]
     },
     "metadata": {},
     "output_type": "display_data"
    },
    {
     "data": {
      "text/html": [
       "Tracking run with wandb version 0.16.2"
      ],
      "text/plain": [
       "<IPython.core.display.HTML object>"
      ]
     },
     "metadata": {},
     "output_type": "display_data"
    },
    {
     "data": {
      "text/html": [
       "Run data is saved locally in <code>/Users/orianecavrois/Documents/Perso/MachineLearning/Github/Brain-tumor-image-classification/wandb/run-20240206_195735-sumr0ky6</code>"
      ],
      "text/plain": [
       "<IPython.core.display.HTML object>"
      ]
     },
     "metadata": {},
     "output_type": "display_data"
    },
    {
     "data": {
      "text/html": [
       "Syncing run <strong><a href='https://wandb.ai/oriane-cavrois/brain_image_architecture_optimization_3/runs/sumr0ky6' target=\"_blank\">zesty-energy-56</a></strong> to <a href='https://wandb.ai/oriane-cavrois/brain_image_architecture_optimization_3' target=\"_blank\">Weights & Biases</a> (<a href='https://wandb.me/run' target=\"_blank\">docs</a>)<br/>"
      ],
      "text/plain": [
       "<IPython.core.display.HTML object>"
      ]
     },
     "metadata": {},
     "output_type": "display_data"
    },
    {
     "data": {
      "text/html": [
       " View project at <a href='https://wandb.ai/oriane-cavrois/brain_image_architecture_optimization_3' target=\"_blank\">https://wandb.ai/oriane-cavrois/brain_image_architecture_optimization_3</a>"
      ],
      "text/plain": [
       "<IPython.core.display.HTML object>"
      ]
     },
     "metadata": {},
     "output_type": "display_data"
    },
    {
     "data": {
      "text/html": [
       " View run at <a href='https://wandb.ai/oriane-cavrois/brain_image_architecture_optimization_3/runs/sumr0ky6' target=\"_blank\">https://wandb.ai/oriane-cavrois/brain_image_architecture_optimization_3/runs/sumr0ky6</a>"
      ],
      "text/plain": [
       "<IPython.core.display.HTML object>"
      ]
     },
     "metadata": {},
     "output_type": "display_data"
    },
    {
     "name": "stdout",
     "output_type": "stream",
     "text": [
      "Fold 1\n",
      "-------\n",
      "Test set: Average loss: 0.3408, Accuracy: 44/85 (51.76%)\n",
      "\n",
      "Fold 2\n",
      "-------\n",
      "Test set: Average loss: 0.6098, Accuracy: 32/85 (37.65%)\n",
      "\n",
      "Fold 3\n",
      "-------\n"
     ]
    },
    {
     "name": "stderr",
     "output_type": "stream",
     "text": [
      "Traceback (most recent call last):\n",
      "  File \"/var/folders/kk/6q2jd0hj56z_vzsn0nsr_bf40000gn/T/ipykernel_11824/1241207746.py\", line 81, in <module>\n",
      "    loss_train, acc_train = train(conv_class, train_loader_cv, loss_fn, optimizer_cl, epoch, verbose=False)\n",
      "                            ^^^^^^^^^^^^^^^^^^^^^^^^^^^^^^^^^^^^^^^^^^^^^^^^^^^^^^^^^^^^^^^^^^^^^^^^^^^^^^^\n",
      "  File \"/var/folders/kk/6q2jd0hj56z_vzsn0nsr_bf40000gn/T/ipykernel_11824/3720327875.py\", line 11, in train\n",
      "    for data in data_loader:\n",
      "  File \"/Users/orianecavrois/Documents/Perso/MachineLearning/Github/.venv/lib/python3.11/site-packages/torch/utils/data/dataloader.py\", line 631, in __next__\n",
      "    data = self._next_data()\n",
      "           ^^^^^^^^^^^^^^^^^\n",
      "  File \"/Users/orianecavrois/Documents/Perso/MachineLearning/Github/.venv/lib/python3.11/site-packages/torch/utils/data/dataloader.py\", line 675, in _next_data\n",
      "    data = self._dataset_fetcher.fetch(index)  # may raise StopIteration\n",
      "           ^^^^^^^^^^^^^^^^^^^^^^^^^^^^^^^^^^\n",
      "  File \"/Users/orianecavrois/Documents/Perso/MachineLearning/Github/.venv/lib/python3.11/site-packages/torch/utils/data/_utils/fetch.py\", line 51, in fetch\n",
      "    data = [self.dataset[idx] for idx in possibly_batched_index]\n",
      "           ^^^^^^^^^^^^^^^^^^^^^^^^^^^^^^^^^^^^^^^^^^^^^^^^^^^^^\n",
      "  File \"/Users/orianecavrois/Documents/Perso/MachineLearning/Github/.venv/lib/python3.11/site-packages/torch/utils/data/_utils/fetch.py\", line 51, in <listcomp>\n",
      "    data = [self.dataset[idx] for idx in possibly_batched_index]\n",
      "            ~~~~~~~~~~~~^^^^^\n",
      "  File \"/Users/orianecavrois/Documents/Perso/MachineLearning/Github/.venv/lib/python3.11/site-packages/torchvision/datasets/folder.py\", line 229, in __getitem__\n",
      "    sample = self.loader(path)\n",
      "             ^^^^^^^^^^^^^^^^^\n",
      "  File \"/Users/orianecavrois/Documents/Perso/MachineLearning/Github/.venv/lib/python3.11/site-packages/torchvision/datasets/folder.py\", line 268, in default_loader\n",
      "    return pil_loader(path)\n",
      "           ^^^^^^^^^^^^^^^^\n",
      "  File \"/Users/orianecavrois/Documents/Perso/MachineLearning/Github/.venv/lib/python3.11/site-packages/torchvision/datasets/folder.py\", line 246, in pil_loader\n",
      "    with open(path, \"rb\") as f:\n",
      "         ^^^^^^^^^^^^^^^^\n",
      "KeyboardInterrupt\n",
      "wandb: WARNING Source type is set to 'repo' but some required information is missing from the environment. A job will not be created from this run. See https://docs.wandb.ai/guides/launch/create-job\n"
     ]
    },
    {
     "data": {
      "application/vnd.jupyter.widget-view+json": {
       "model_id": "1443331048124ad8ab563bdb3b71a199",
       "version_major": 2,
       "version_minor": 0
      },
      "text/plain": [
       "VBox(children=(Label(value='0.001 MB of 0.001 MB uploaded\\r'), FloatProgress(value=1.0, max=1.0)))"
      ]
     },
     "metadata": {},
     "output_type": "display_data"
    },
    {
     "data": {
      "text/html": [
       " View run <strong style=\"color:#cdcd00\">zesty-energy-56</strong> at: <a href='https://wandb.ai/oriane-cavrois/brain_image_architecture_optimization_3/runs/sumr0ky6' target=\"_blank\">https://wandb.ai/oriane-cavrois/brain_image_architecture_optimization_3/runs/sumr0ky6</a><br/>Synced 5 W&B file(s), 0 media file(s), 0 artifact file(s) and 0 other file(s)"
      ],
      "text/plain": [
       "<IPython.core.display.HTML object>"
      ]
     },
     "metadata": {},
     "output_type": "display_data"
    },
    {
     "data": {
      "text/html": [
       "Find logs at: <code>./wandb/run-20240206_195735-sumr0ky6/logs</code>"
      ],
      "text/plain": [
       "<IPython.core.display.HTML object>"
      ]
     },
     "metadata": {},
     "output_type": "display_data"
    },
    {
     "ename": "KeyboardInterrupt",
     "evalue": "",
     "output_type": "error",
     "traceback": [
      "\u001b[0;31m---------------------------------------------------------------------------\u001b[0m",
      "\u001b[0;31mKeyboardInterrupt\u001b[0m                         Traceback (most recent call last)",
      "Cell \u001b[0;32mIn[18], line 81\u001b[0m\n\u001b[1;32m     74\u001b[0m test_loader_cv \u001b[38;5;241m=\u001b[39m torch\u001b[38;5;241m.\u001b[39mutils\u001b[38;5;241m.\u001b[39mdata\u001b[38;5;241m.\u001b[39mDataLoader(\n\u001b[1;32m     75\u001b[0m     dataset\u001b[38;5;241m=\u001b[39mdsets[\u001b[38;5;124m'\u001b[39m\u001b[38;5;124mtrain\u001b[39m\u001b[38;5;124m'\u001b[39m],\n\u001b[1;32m     76\u001b[0m     batch_size\u001b[38;5;241m=\u001b[39mbatch_size,\n\u001b[1;32m     77\u001b[0m     sampler\u001b[38;5;241m=\u001b[39mtorch\u001b[38;5;241m.\u001b[39mutils\u001b[38;5;241m.\u001b[39mdata\u001b[38;5;241m.\u001b[39mSubsetRandomSampler(test_idx),\n\u001b[1;32m     78\u001b[0m )\n\u001b[1;32m     80\u001b[0m \u001b[38;5;66;03m# Train the model on the current fold\u001b[39;00m\n\u001b[0;32m---> 81\u001b[0m loss_train, acc_train \u001b[38;5;241m=\u001b[39m \u001b[43mtrain\u001b[49m\u001b[43m(\u001b[49m\u001b[43mconv_class\u001b[49m\u001b[43m,\u001b[49m\u001b[43m \u001b[49m\u001b[43mtrain_loader_cv\u001b[49m\u001b[43m,\u001b[49m\u001b[43m \u001b[49m\u001b[43mloss_fn\u001b[49m\u001b[43m,\u001b[49m\u001b[43m \u001b[49m\u001b[43moptimizer_cl\u001b[49m\u001b[43m,\u001b[49m\u001b[43m \u001b[49m\u001b[43mepoch\u001b[49m\u001b[43m,\u001b[49m\u001b[43m \u001b[49m\u001b[43mverbose\u001b[49m\u001b[38;5;241;43m=\u001b[39;49m\u001b[38;5;28;43;01mFalse\u001b[39;49;00m\u001b[43m)\u001b[49m\n\u001b[1;32m     83\u001b[0m loss_train_iter\u001b[38;5;241m.\u001b[39mappend(loss_train)\n\u001b[1;32m     84\u001b[0m acc_train_iter\u001b[38;5;241m.\u001b[39mappend(acc_train)\n",
      "Cell \u001b[0;32mIn[7], line 11\u001b[0m, in \u001b[0;36mtrain\u001b[0;34m(model, data_loader, loss_fn, optimizer, n_epochs, verbose)\u001b[0m\n\u001b[1;32m      8\u001b[0m running_loss \u001b[38;5;241m=\u001b[39m \u001b[38;5;241m0.0\u001b[39m\n\u001b[1;32m      9\u001b[0m size \u001b[38;5;241m=\u001b[39m \u001b[38;5;241m0\u001b[39m\n\u001b[0;32m---> 11\u001b[0m \u001b[43m\u001b[49m\u001b[38;5;28;43;01mfor\u001b[39;49;00m\u001b[43m \u001b[49m\u001b[43mdata\u001b[49m\u001b[43m \u001b[49m\u001b[38;5;129;43;01min\u001b[39;49;00m\u001b[43m \u001b[49m\u001b[43mdata_loader\u001b[49m\u001b[43m:\u001b[49m\n\u001b[1;32m     12\u001b[0m \u001b[43m    \u001b[49m\u001b[43minputs\u001b[49m\u001b[43m,\u001b[49m\u001b[43m \u001b[49m\u001b[43mlabels\u001b[49m\u001b[43m \u001b[49m\u001b[38;5;241;43m=\u001b[39;49m\u001b[43m \u001b[49m\u001b[43mdata\u001b[49m\n\u001b[1;32m     13\u001b[0m \u001b[43m    \u001b[49m\u001b[43minputs\u001b[49m\u001b[43m \u001b[49m\u001b[38;5;241;43m=\u001b[39;49m\u001b[43m \u001b[49m\u001b[43minputs\u001b[49m\u001b[38;5;241;43m.\u001b[39;49m\u001b[43mto\u001b[49m\u001b[43m(\u001b[49m\u001b[43mdevice\u001b[49m\u001b[43m)\u001b[49m\n",
      "File \u001b[0;32m~/Documents/Perso/MachineLearning/Github/.venv/lib/python3.11/site-packages/torch/utils/data/dataloader.py:631\u001b[0m, in \u001b[0;36m_BaseDataLoaderIter.__next__\u001b[0;34m(self)\u001b[0m\n\u001b[1;32m    628\u001b[0m \u001b[38;5;28;01mif\u001b[39;00m \u001b[38;5;28mself\u001b[39m\u001b[38;5;241m.\u001b[39m_sampler_iter \u001b[38;5;129;01mis\u001b[39;00m \u001b[38;5;28;01mNone\u001b[39;00m:\n\u001b[1;32m    629\u001b[0m     \u001b[38;5;66;03m# TODO(https://github.com/pytorch/pytorch/issues/76750)\u001b[39;00m\n\u001b[1;32m    630\u001b[0m     \u001b[38;5;28mself\u001b[39m\u001b[38;5;241m.\u001b[39m_reset()  \u001b[38;5;66;03m# type: ignore[call-arg]\u001b[39;00m\n\u001b[0;32m--> 631\u001b[0m data \u001b[38;5;241m=\u001b[39m \u001b[38;5;28;43mself\u001b[39;49m\u001b[38;5;241;43m.\u001b[39;49m\u001b[43m_next_data\u001b[49m\u001b[43m(\u001b[49m\u001b[43m)\u001b[49m\n\u001b[1;32m    632\u001b[0m \u001b[38;5;28mself\u001b[39m\u001b[38;5;241m.\u001b[39m_num_yielded \u001b[38;5;241m+\u001b[39m\u001b[38;5;241m=\u001b[39m \u001b[38;5;241m1\u001b[39m\n\u001b[1;32m    633\u001b[0m \u001b[38;5;28;01mif\u001b[39;00m \u001b[38;5;28mself\u001b[39m\u001b[38;5;241m.\u001b[39m_dataset_kind \u001b[38;5;241m==\u001b[39m _DatasetKind\u001b[38;5;241m.\u001b[39mIterable \u001b[38;5;129;01mand\u001b[39;00m \\\n\u001b[1;32m    634\u001b[0m         \u001b[38;5;28mself\u001b[39m\u001b[38;5;241m.\u001b[39m_IterableDataset_len_called \u001b[38;5;129;01mis\u001b[39;00m \u001b[38;5;129;01mnot\u001b[39;00m \u001b[38;5;28;01mNone\u001b[39;00m \u001b[38;5;129;01mand\u001b[39;00m \\\n\u001b[1;32m    635\u001b[0m         \u001b[38;5;28mself\u001b[39m\u001b[38;5;241m.\u001b[39m_num_yielded \u001b[38;5;241m>\u001b[39m \u001b[38;5;28mself\u001b[39m\u001b[38;5;241m.\u001b[39m_IterableDataset_len_called:\n",
      "File \u001b[0;32m~/Documents/Perso/MachineLearning/Github/.venv/lib/python3.11/site-packages/torch/utils/data/dataloader.py:675\u001b[0m, in \u001b[0;36m_SingleProcessDataLoaderIter._next_data\u001b[0;34m(self)\u001b[0m\n\u001b[1;32m    673\u001b[0m \u001b[38;5;28;01mdef\u001b[39;00m \u001b[38;5;21m_next_data\u001b[39m(\u001b[38;5;28mself\u001b[39m):\n\u001b[1;32m    674\u001b[0m     index \u001b[38;5;241m=\u001b[39m \u001b[38;5;28mself\u001b[39m\u001b[38;5;241m.\u001b[39m_next_index()  \u001b[38;5;66;03m# may raise StopIteration\u001b[39;00m\n\u001b[0;32m--> 675\u001b[0m     data \u001b[38;5;241m=\u001b[39m \u001b[38;5;28;43mself\u001b[39;49m\u001b[38;5;241;43m.\u001b[39;49m\u001b[43m_dataset_fetcher\u001b[49m\u001b[38;5;241;43m.\u001b[39;49m\u001b[43mfetch\u001b[49m\u001b[43m(\u001b[49m\u001b[43mindex\u001b[49m\u001b[43m)\u001b[49m  \u001b[38;5;66;03m# may raise StopIteration\u001b[39;00m\n\u001b[1;32m    676\u001b[0m     \u001b[38;5;28;01mif\u001b[39;00m \u001b[38;5;28mself\u001b[39m\u001b[38;5;241m.\u001b[39m_pin_memory:\n\u001b[1;32m    677\u001b[0m         data \u001b[38;5;241m=\u001b[39m _utils\u001b[38;5;241m.\u001b[39mpin_memory\u001b[38;5;241m.\u001b[39mpin_memory(data, \u001b[38;5;28mself\u001b[39m\u001b[38;5;241m.\u001b[39m_pin_memory_device)\n",
      "File \u001b[0;32m~/Documents/Perso/MachineLearning/Github/.venv/lib/python3.11/site-packages/torch/utils/data/_utils/fetch.py:51\u001b[0m, in \u001b[0;36m_MapDatasetFetcher.fetch\u001b[0;34m(self, possibly_batched_index)\u001b[0m\n\u001b[1;32m     49\u001b[0m         data \u001b[38;5;241m=\u001b[39m \u001b[38;5;28mself\u001b[39m\u001b[38;5;241m.\u001b[39mdataset\u001b[38;5;241m.\u001b[39m__getitems__(possibly_batched_index)\n\u001b[1;32m     50\u001b[0m     \u001b[38;5;28;01melse\u001b[39;00m:\n\u001b[0;32m---> 51\u001b[0m         data \u001b[38;5;241m=\u001b[39m \u001b[43m[\u001b[49m\u001b[38;5;28;43mself\u001b[39;49m\u001b[38;5;241;43m.\u001b[39;49m\u001b[43mdataset\u001b[49m\u001b[43m[\u001b[49m\u001b[43midx\u001b[49m\u001b[43m]\u001b[49m\u001b[43m \u001b[49m\u001b[38;5;28;43;01mfor\u001b[39;49;00m\u001b[43m \u001b[49m\u001b[43midx\u001b[49m\u001b[43m \u001b[49m\u001b[38;5;129;43;01min\u001b[39;49;00m\u001b[43m \u001b[49m\u001b[43mpossibly_batched_index\u001b[49m\u001b[43m]\u001b[49m\n\u001b[1;32m     52\u001b[0m \u001b[38;5;28;01melse\u001b[39;00m:\n\u001b[1;32m     53\u001b[0m     data \u001b[38;5;241m=\u001b[39m \u001b[38;5;28mself\u001b[39m\u001b[38;5;241m.\u001b[39mdataset[possibly_batched_index]\n",
      "File \u001b[0;32m~/Documents/Perso/MachineLearning/Github/.venv/lib/python3.11/site-packages/torch/utils/data/_utils/fetch.py:51\u001b[0m, in \u001b[0;36m<listcomp>\u001b[0;34m(.0)\u001b[0m\n\u001b[1;32m     49\u001b[0m         data \u001b[38;5;241m=\u001b[39m \u001b[38;5;28mself\u001b[39m\u001b[38;5;241m.\u001b[39mdataset\u001b[38;5;241m.\u001b[39m__getitems__(possibly_batched_index)\n\u001b[1;32m     50\u001b[0m     \u001b[38;5;28;01melse\u001b[39;00m:\n\u001b[0;32m---> 51\u001b[0m         data \u001b[38;5;241m=\u001b[39m [\u001b[38;5;28;43mself\u001b[39;49m\u001b[38;5;241;43m.\u001b[39;49m\u001b[43mdataset\u001b[49m\u001b[43m[\u001b[49m\u001b[43midx\u001b[49m\u001b[43m]\u001b[49m \u001b[38;5;28;01mfor\u001b[39;00m idx \u001b[38;5;129;01min\u001b[39;00m possibly_batched_index]\n\u001b[1;32m     52\u001b[0m \u001b[38;5;28;01melse\u001b[39;00m:\n\u001b[1;32m     53\u001b[0m     data \u001b[38;5;241m=\u001b[39m \u001b[38;5;28mself\u001b[39m\u001b[38;5;241m.\u001b[39mdataset[possibly_batched_index]\n",
      "File \u001b[0;32m~/Documents/Perso/MachineLearning/Github/.venv/lib/python3.11/site-packages/torchvision/datasets/folder.py:229\u001b[0m, in \u001b[0;36mDatasetFolder.__getitem__\u001b[0;34m(self, index)\u001b[0m\n\u001b[1;32m    221\u001b[0m \u001b[38;5;250m\u001b[39m\u001b[38;5;124;03m\"\"\"\u001b[39;00m\n\u001b[1;32m    222\u001b[0m \u001b[38;5;124;03mArgs:\u001b[39;00m\n\u001b[1;32m    223\u001b[0m \u001b[38;5;124;03m    index (int): Index\u001b[39;00m\n\u001b[0;32m   (...)\u001b[0m\n\u001b[1;32m    226\u001b[0m \u001b[38;5;124;03m    tuple: (sample, target) where target is class_index of the target class.\u001b[39;00m\n\u001b[1;32m    227\u001b[0m \u001b[38;5;124;03m\"\"\"\u001b[39;00m\n\u001b[1;32m    228\u001b[0m path, target \u001b[38;5;241m=\u001b[39m \u001b[38;5;28mself\u001b[39m\u001b[38;5;241m.\u001b[39msamples[index]\n\u001b[0;32m--> 229\u001b[0m sample \u001b[38;5;241m=\u001b[39m \u001b[38;5;28;43mself\u001b[39;49m\u001b[38;5;241;43m.\u001b[39;49m\u001b[43mloader\u001b[49m\u001b[43m(\u001b[49m\u001b[43mpath\u001b[49m\u001b[43m)\u001b[49m\n\u001b[1;32m    230\u001b[0m \u001b[38;5;28;01mif\u001b[39;00m \u001b[38;5;28mself\u001b[39m\u001b[38;5;241m.\u001b[39mtransform \u001b[38;5;129;01mis\u001b[39;00m \u001b[38;5;129;01mnot\u001b[39;00m \u001b[38;5;28;01mNone\u001b[39;00m:\n\u001b[1;32m    231\u001b[0m     sample \u001b[38;5;241m=\u001b[39m \u001b[38;5;28mself\u001b[39m\u001b[38;5;241m.\u001b[39mtransform(sample)\n",
      "File \u001b[0;32m~/Documents/Perso/MachineLearning/Github/.venv/lib/python3.11/site-packages/torchvision/datasets/folder.py:268\u001b[0m, in \u001b[0;36mdefault_loader\u001b[0;34m(path)\u001b[0m\n\u001b[1;32m    266\u001b[0m     \u001b[38;5;28;01mreturn\u001b[39;00m accimage_loader(path)\n\u001b[1;32m    267\u001b[0m \u001b[38;5;28;01melse\u001b[39;00m:\n\u001b[0;32m--> 268\u001b[0m     \u001b[38;5;28;01mreturn\u001b[39;00m \u001b[43mpil_loader\u001b[49m\u001b[43m(\u001b[49m\u001b[43mpath\u001b[49m\u001b[43m)\u001b[49m\n",
      "File \u001b[0;32m~/Documents/Perso/MachineLearning/Github/.venv/lib/python3.11/site-packages/torchvision/datasets/folder.py:246\u001b[0m, in \u001b[0;36mpil_loader\u001b[0;34m(path)\u001b[0m\n\u001b[1;32m    244\u001b[0m \u001b[38;5;28;01mdef\u001b[39;00m \u001b[38;5;21mpil_loader\u001b[39m(path: \u001b[38;5;28mstr\u001b[39m) \u001b[38;5;241m-\u001b[39m\u001b[38;5;241m>\u001b[39m Image\u001b[38;5;241m.\u001b[39mImage:\n\u001b[1;32m    245\u001b[0m     \u001b[38;5;66;03m# open path as file to avoid ResourceWarning (https://github.com/python-pillow/Pillow/issues/835)\u001b[39;00m\n\u001b[0;32m--> 246\u001b[0m     \u001b[38;5;28;01mwith\u001b[39;00m \u001b[38;5;28mopen\u001b[39m(path, \u001b[38;5;124m\"\u001b[39m\u001b[38;5;124mrb\u001b[39m\u001b[38;5;124m\"\u001b[39m) \u001b[38;5;28;01mas\u001b[39;00m f:\n\u001b[1;32m    247\u001b[0m         img \u001b[38;5;241m=\u001b[39m Image\u001b[38;5;241m.\u001b[39mopen(f)\n\u001b[1;32m    248\u001b[0m         \u001b[38;5;28;01mreturn\u001b[39;00m img\u001b[38;5;241m.\u001b[39mconvert(\u001b[38;5;124m\"\u001b[39m\u001b[38;5;124mRGB\u001b[39m\u001b[38;5;124m\"\u001b[39m)\n",
      "\u001b[0;31mKeyboardInterrupt\u001b[0m: "
     ]
    }
   ],
   "source": [
    "# Define the number of folds and batch size\n",
    "k_folds = 3\n",
    "\n",
    "# Count the number of iterations\n",
    "iterations = 50\n",
    "\n",
    "# Initialize the k-fold cross validation\n",
    "kf = KFold(n_splits=k_folds, shuffle=True)\n",
    "\n",
    "# Hyperparameters distribution\n",
    "epochs_distrib = [5,10,15,20,25,30,35,40]\n",
    "lr_distrib = np.linspace(1e-4, 1e-2, 19)\n",
    "batch_size_distrib = np.arange(3,12)\n",
    "architecture_distrib = ['large','deep','pyramid']\n",
    "dropout_rate_distrib = np.linspace(0, 1, 21)\n",
    "\n",
    "params = {}\n",
    "loss_train_dict = {}\n",
    "acc_train_dict = {}\n",
    "test_loss_dict = {}\n",
    "test_acc_dict = {}\n",
    "\n",
    "# Select randomly value from the distribution\n",
    "for i in range(iterations):\n",
    "    print('Iteration', i+1)\n",
    "    epoch = random.choice(epochs_distrib)\n",
    "    lr = random.choice(lr_distrib)\n",
    "    batch_size = int(random.choice(batch_size_distrib))\n",
    "    architecture = random.choice(architecture_distrib)\n",
    "    dropout_rate = random.choice(dropout_rate_distrib)\n",
    "    \n",
    "    # Initialize the model and optimizer\n",
    "    if architecture == 'large':\n",
    "        conv_class = classifier_large(dropout_rate)\n",
    "        \n",
    "    elif architecture == 'deep':\n",
    "        conv_class = classifier_deep(dropout_rate)\n",
    "        \n",
    "    elif architecture == 'pyramid':\n",
    "        conv_class = classifier_pyramid(dropout_rate)\n",
    "        \n",
    "    params[i] = (epoch, lr, batch_size, architecture, dropout_rate)\n",
    "    \n",
    "    loss_fn = nn.NLLLoss()\n",
    "    learning_rate = lr\n",
    "    optimizer_cl = torch.optim.RMSprop(conv_class.parameters())\n",
    "    \n",
    "    loss_train_iter = []\n",
    "    acc_train_iter = []\n",
    "    test_loss_iter = []\n",
    "    test_acc_iter = []\n",
    "    print('Architecture:',architecture)\n",
    "    print('Number of epochs:',epoch)\n",
    "    print(params[i])\n",
    "    \n",
    "    run = wandb.init(\n",
    "        # Set the project where this run will be logged\n",
    "        project=\"brain_image_architecture_optimization_3\",\n",
    "        # Track hyperparameters and run metadata\n",
    "        config={\"epochs\": epoch, \"learning_rate\": lr, \"batch size\": batch_size, \"architecture\": architecture, \"drop out\": dropout_rate}\n",
    "    )\n",
    "    with run:\n",
    "        # Loop through each fold\n",
    "        for fold, (train_idx, test_idx) in enumerate(kf.split(dsets['train'])):\n",
    "            print(f\"Fold {fold + 1}\")\n",
    "            print(\"-------\")\n",
    "\n",
    "            # Define the data loaders for the current fold\n",
    "            train_loader_cv = torch.utils.data.DataLoader(\n",
    "                dataset=dsets['train'],\n",
    "                batch_size=batch_size,\n",
    "                sampler=torch.utils.data.SubsetRandomSampler(train_idx),\n",
    "            )\n",
    "            test_loader_cv = torch.utils.data.DataLoader(\n",
    "                dataset=dsets['train'],\n",
    "                batch_size=batch_size,\n",
    "                sampler=torch.utils.data.SubsetRandomSampler(test_idx),\n",
    "            )\n",
    "\n",
    "            # Train the model on the current fold\n",
    "            loss_train, acc_train = train(conv_class, train_loader_cv, loss_fn, optimizer_cl, epoch, verbose=False)\n",
    "\n",
    "            loss_train_iter.append(loss_train)\n",
    "            acc_train_iter.append(acc_train)\n",
    "            # Evaluate the model on the test set\n",
    "            conv_class.eval()\n",
    "            test_loss = 0\n",
    "            correct = 0\n",
    "            with torch.no_grad():\n",
    "                for data, target in test_loader_cv:\n",
    "                    data, target = data.to(device), target.to(device)\n",
    "                    output = conv_class(data)\n",
    "                    test_loss += nn.functional.nll_loss(output, target, reduction=\"sum\").item()\n",
    "                    pred = output.max(1, keepdim=True)[1]\n",
    "                    correct += pred.eq(target.view_as(pred)).sum().item()\n",
    "\n",
    "            test_loss /= len(test_loader.dataset)\n",
    "            test_loss_iter.append(test_loss)\n",
    "            accuracy = 100.0 * correct / len(test_loader.dataset)\n",
    "            test_acc_iter.append(correct / len(test_loader.dataset))\n",
    "\n",
    "            # Print the results for the current fold\n",
    "            print(f\"Test set: Average loss: {test_loss:.4f}, Accuracy: {correct}/{len(test_loader.dataset)} ({accuracy:.2f}%)\\n\")\n",
    "            \n",
    "        loss_train_dict[i] = np.mean(loss_train_iter)\n",
    "        acc_train_dict[i] = np.mean(acc_train_iter)\n",
    "        test_loss_dict[i] = np.mean(test_loss_iter)\n",
    "        test_acc_dict[i] = np.mean(test_acc_iter)\n",
    "        \n",
    "        wandb.log({\"train accuracy\": acc_train_dict[i], \"train loss\": loss_train_dict[i], \"test accuracy\": test_acc_dict[i], \"test loss\": test_loss_dict[i]})\n",
    "        \n",
    "        print(\"--------------------------------------\")"
   ]
  },
  {
   "cell_type": "markdown",
   "metadata": {},
   "source": [
    "### Results of the hyper parameter optimization\n",
    "\n",
    "Results here: https://wandb.ai/oriane-cavrois/brain_image_architecture_optimization_3/\n",
    "\n",
    "Clearly, the \"large\" architecture dominates here as the 19 models out of the 56 tested with the best test accuracy are models with a large architecture.\n",
    "The best hyperparameters found are: \n",
    "- epochs = 25\n",
    "- batch size = 4 \n",
    "- learning rate = 0.0012\n",
    "- drop out rate = 0.5"
   ]
  },
  {
   "cell_type": "code",
   "execution_count": 57,
   "metadata": {},
   "outputs": [],
   "source": [
    "class classifier_large_best(nn.Module):\n",
    "\n",
    "    def __init__(self, dropout_rate):\n",
    "        super(classifier_large_best, self).__init__()\n",
    "        self.conv1 = nn.Conv2d(in_channels=3, out_channels=50, kernel_size=5, padding=2)\n",
    "        self.dropout1 = nn.Dropout(dropout_rate)\n",
    "        self.fc = nn.Linear(in_features=50*75*75, out_features=2)\n",
    "\n",
    "    def forward(self,x):\n",
    "        x = self.conv1(x)\n",
    "        x = F.max_pool2d(x, kernel_size=2, padding=0)\n",
    "        x = self.dropout1(x)\n",
    "        \n",
    "        flat = nn.Flatten(1,3)\n",
    "        x = flat(x)\n",
    "        x = self.fc(x)\n",
    "        x = F.log_softmax(x,1)\n",
    "        \n",
    "        return x"
   ]
  },
  {
   "cell_type": "code",
   "execution_count": 58,
   "metadata": {},
   "outputs": [
    {
     "name": "stderr",
     "output_type": "stream",
     "text": [
      "  0%|          | 0/25 [00:00<?, ?it/s]"
     ]
    },
    {
     "name": "stdout",
     "output_type": "stream",
     "text": [
      "Train - Loss: 396.6281 Acc: 0.6131\n"
     ]
    },
    {
     "name": "stderr",
     "output_type": "stream",
     "text": [
      "  4%|▍         | 1/25 [00:25<10:22, 25.95s/it]"
     ]
    },
    {
     "name": "stdout",
     "output_type": "stream",
     "text": [
      "Test - Loss: 13.3911 Acc: 0.6706\n",
      "Train - Loss: 9.3288 Acc: 0.7679\n"
     ]
    },
    {
     "name": "stderr",
     "output_type": "stream",
     "text": [
      "  8%|▊         | 2/25 [00:51<09:52, 25.76s/it]"
     ]
    },
    {
     "name": "stdout",
     "output_type": "stream",
     "text": [
      "Test - Loss: 40.8726 Acc: 0.5176\n",
      "Train - Loss: 12.5418 Acc: 0.8274\n"
     ]
    },
    {
     "name": "stderr",
     "output_type": "stream",
     "text": [
      " 12%|█▏        | 3/25 [01:17<09:26, 25.75s/it]"
     ]
    },
    {
     "name": "stdout",
     "output_type": "stream",
     "text": [
      "Test - Loss: 15.3139 Acc: 0.7412\n",
      "Train - Loss: 1.3254 Acc: 0.9286\n"
     ]
    },
    {
     "name": "stderr",
     "output_type": "stream",
     "text": [
      " 16%|█▌        | 4/25 [01:43<09:05, 25.99s/it]"
     ]
    },
    {
     "name": "stdout",
     "output_type": "stream",
     "text": [
      "Test - Loss: 41.2372 Acc: 0.6706\n",
      "Train - Loss: 3.3401 Acc: 0.9048\n"
     ]
    },
    {
     "name": "stderr",
     "output_type": "stream",
     "text": [
      " 20%|██        | 5/25 [02:09<08:40, 26.01s/it]"
     ]
    },
    {
     "name": "stdout",
     "output_type": "stream",
     "text": [
      "Test - Loss: 20.6056 Acc: 0.7412\n",
      "Train - Loss: 4.2632 Acc: 0.9107\n"
     ]
    },
    {
     "name": "stderr",
     "output_type": "stream",
     "text": [
      " 24%|██▍       | 6/25 [02:35<08:12, 25.93s/it]"
     ]
    },
    {
     "name": "stdout",
     "output_type": "stream",
     "text": [
      "Test - Loss: 38.2235 Acc: 0.6941\n",
      "Train - Loss: 24.3917 Acc: 0.9167\n"
     ]
    },
    {
     "name": "stderr",
     "output_type": "stream",
     "text": [
      " 28%|██▊       | 7/25 [03:02<07:50, 26.12s/it]"
     ]
    },
    {
     "name": "stdout",
     "output_type": "stream",
     "text": [
      "Test - Loss: 53.3565 Acc: 0.5765\n",
      "Train - Loss: 4.2597 Acc: 0.9167\n"
     ]
    },
    {
     "name": "stderr",
     "output_type": "stream",
     "text": [
      " 32%|███▏      | 8/25 [03:27<07:20, 25.91s/it]"
     ]
    },
    {
     "name": "stdout",
     "output_type": "stream",
     "text": [
      "Test - Loss: 26.9647 Acc: 0.7412\n",
      "Train - Loss: 2.2537 Acc: 0.9524\n"
     ]
    },
    {
     "name": "stderr",
     "output_type": "stream",
     "text": [
      " 36%|███▌      | 9/25 [03:53<06:56, 26.02s/it]"
     ]
    },
    {
     "name": "stdout",
     "output_type": "stream",
     "text": [
      "Test - Loss: 39.2043 Acc: 0.6941\n",
      "Train - Loss: 81.1633 Acc: 0.8512\n"
     ]
    },
    {
     "name": "stderr",
     "output_type": "stream",
     "text": [
      " 40%|████      | 10/25 [04:19<06:29, 25.97s/it]"
     ]
    },
    {
     "name": "stdout",
     "output_type": "stream",
     "text": [
      "Test - Loss: 46.4201 Acc: 0.6941\n",
      "Train - Loss: 8.8692 Acc: 0.9405\n"
     ]
    },
    {
     "name": "stderr",
     "output_type": "stream",
     "text": [
      " 44%|████▍     | 11/25 [04:45<06:04, 26.01s/it]"
     ]
    },
    {
     "name": "stdout",
     "output_type": "stream",
     "text": [
      "Test - Loss: 51.4024 Acc: 0.7176\n",
      "Train - Loss: 0.0000 Acc: 1.0000\n"
     ]
    },
    {
     "name": "stderr",
     "output_type": "stream",
     "text": [
      " 48%|████▊     | 12/25 [05:11<05:37, 25.95s/it]"
     ]
    },
    {
     "name": "stdout",
     "output_type": "stream",
     "text": [
      "Test - Loss: 53.8688 Acc: 0.7059\n",
      "Train - Loss: 0.0000 Acc: 1.0000\n"
     ]
    },
    {
     "name": "stderr",
     "output_type": "stream",
     "text": [
      " 52%|█████▏    | 13/25 [05:38<05:13, 26.12s/it]"
     ]
    },
    {
     "name": "stdout",
     "output_type": "stream",
     "text": [
      "Test - Loss: 52.6405 Acc: 0.6941\n",
      "Train - Loss: 0.0000 Acc: 1.0000\n"
     ]
    },
    {
     "name": "stderr",
     "output_type": "stream",
     "text": [
      " 56%|█████▌    | 14/25 [06:04<04:49, 26.35s/it]"
     ]
    },
    {
     "name": "stdout",
     "output_type": "stream",
     "text": [
      "Test - Loss: 56.3070 Acc: 0.7176\n",
      "Train - Loss: 0.0000 Acc: 1.0000\n"
     ]
    },
    {
     "name": "stderr",
     "output_type": "stream",
     "text": [
      " 60%|██████    | 15/25 [06:31<04:24, 26.49s/it]"
     ]
    },
    {
     "name": "stdout",
     "output_type": "stream",
     "text": [
      "Test - Loss: 53.8495 Acc: 0.7176\n",
      "Train - Loss: 0.0000 Acc: 1.0000\n"
     ]
    },
    {
     "name": "stderr",
     "output_type": "stream",
     "text": [
      " 64%|██████▍   | 16/25 [06:57<03:57, 26.39s/it]"
     ]
    },
    {
     "name": "stdout",
     "output_type": "stream",
     "text": [
      "Test - Loss: 54.8079 Acc: 0.7294\n",
      "Train - Loss: 537.4462 Acc: 0.8988\n"
     ]
    },
    {
     "name": "stderr",
     "output_type": "stream",
     "text": [
      " 68%|██████▊   | 17/25 [07:24<03:31, 26.44s/it]"
     ]
    },
    {
     "name": "stdout",
     "output_type": "stream",
     "text": [
      "Test - Loss: 1154.4015 Acc: 0.3882\n",
      "Train - Loss: 25.2553 Acc: 0.9524\n"
     ]
    },
    {
     "name": "stderr",
     "output_type": "stream",
     "text": [
      " 72%|███████▏  | 18/25 [07:50<03:03, 26.28s/it]"
     ]
    },
    {
     "name": "stdout",
     "output_type": "stream",
     "text": [
      "Test - Loss: 95.0396 Acc: 0.6588\n",
      "Train - Loss: 2.9642 Acc: 0.9762\n"
     ]
    },
    {
     "name": "stderr",
     "output_type": "stream",
     "text": [
      " 76%|███████▌  | 19/25 [08:16<02:38, 26.37s/it]"
     ]
    },
    {
     "name": "stdout",
     "output_type": "stream",
     "text": [
      "Test - Loss: 89.3334 Acc: 0.7176\n",
      "Train - Loss: 1.8737 Acc: 0.9643\n"
     ]
    },
    {
     "name": "stderr",
     "output_type": "stream",
     "text": [
      " 80%|████████  | 20/25 [08:43<02:11, 26.30s/it]"
     ]
    },
    {
     "name": "stdout",
     "output_type": "stream",
     "text": [
      "Test - Loss: 98.3694 Acc: 0.7176\n",
      "Train - Loss: 0.1639 Acc: 0.9940\n"
     ]
    },
    {
     "name": "stderr",
     "output_type": "stream",
     "text": [
      " 84%|████████▍ | 21/25 [09:09<01:45, 26.28s/it]"
     ]
    },
    {
     "name": "stdout",
     "output_type": "stream",
     "text": [
      "Test - Loss: 77.8330 Acc: 0.6941\n",
      "Train - Loss: 0.0000 Acc: 1.0000\n"
     ]
    },
    {
     "name": "stderr",
     "output_type": "stream",
     "text": [
      " 88%|████████▊ | 22/25 [09:35<01:18, 26.17s/it]"
     ]
    },
    {
     "name": "stdout",
     "output_type": "stream",
     "text": [
      "Test - Loss: 78.8028 Acc: 0.6941\n",
      "Train - Loss: 0.0000 Acc: 1.0000\n"
     ]
    },
    {
     "name": "stderr",
     "output_type": "stream",
     "text": [
      " 92%|█████████▏| 23/25 [10:00<00:52, 26.06s/it]"
     ]
    },
    {
     "name": "stdout",
     "output_type": "stream",
     "text": [
      "Test - Loss: 78.7399 Acc: 0.6941\n",
      "Train - Loss: 0.0000 Acc: 1.0000\n"
     ]
    },
    {
     "name": "stderr",
     "output_type": "stream",
     "text": [
      " 96%|█████████▌| 24/25 [10:26<00:25, 25.94s/it]"
     ]
    },
    {
     "name": "stdout",
     "output_type": "stream",
     "text": [
      "Test - Loss: 82.8180 Acc: 0.7059\n",
      "Train - Loss: 0.0000 Acc: 1.0000\n"
     ]
    },
    {
     "name": "stderr",
     "output_type": "stream",
     "text": [
      "100%|██████████| 25/25 [10:53<00:00, 26.12s/it]"
     ]
    },
    {
     "name": "stdout",
     "output_type": "stream",
     "text": [
      "Test - Loss: 76.6627 Acc: 0.7059\n"
     ]
    },
    {
     "name": "stderr",
     "output_type": "stream",
     "text": [
      "\n"
     ]
    }
   ],
   "source": [
    "train_loader_best = torch.utils.data.DataLoader(dsets['train'], batch_size=4, shuffle=True, num_workers=2)\n",
    "test_loader_best = torch.utils.data.DataLoader(dsets['test'], batch_size=4, shuffle=False, num_workers=2)\n",
    "\n",
    "conv_class = classifier_large_best(0.5)\n",
    "\n",
    "loss_fn = nn.NLLLoss()\n",
    "learning_rate = 0.0012\n",
    "optimizer_cl = torch.optim.RMSprop(conv_class.parameters())\n",
    "\n",
    "loss_train, acc_train, loss_test, acc_test = train_and_test(conv_class, train_loader_best, test_loader_best, loss_fn, optimizer_cl, 25)"
   ]
  },
  {
   "cell_type": "code",
   "execution_count": 59,
   "metadata": {},
   "outputs": [
    {
     "data": {
      "image/png": "[encoded data removed]",
      "text/plain": [
       "<Figure size 640x480 with 1 Axes>"
      ]
     },
     "metadata": {},
     "output_type": "display_data"
    },
    {
     "name": "stderr",
     "output_type": "stream",
     "text": [
      "/var/folders/kk/6q2jd0hj56z_vzsn0nsr_bf40000gn/T/ipykernel_1048/593280641.py:10: RuntimeWarning: divide by zero encountered in log\n",
      "  plt.plot(np.arange(1,len(loss_train)+1), np.log(loss_train), label='Loss train')\n"
     ]
    },
    {
     "data": {
      "image/png": "[encoded data removed]",
      "text/plain": [
       "<Figure size 640x480 with 1 Axes>"
      ]
     },
     "metadata": {},
     "output_type": "display_data"
    },
    {
     "data": {
      "image/png": "[encoded data removed]",
      "text/plain": [
       "<Figure size 640x480 with 1 Axes>"
      ]
     },
     "metadata": {},
     "output_type": "display_data"
    },
    {
     "name": "stdout",
     "output_type": "stream",
     "text": [
      "Confusion Matrix, Without Normalization\n"
     ]
    },
    {
     "data": {
      "image/png": "[encoded data removed]",
      "text/plain": [
       "<Figure size 400x400 with 2 Axes>"
      ]
     },
     "metadata": {},
     "output_type": "display_data"
    },
    {
     "name": "stdout",
     "output_type": "stream",
     "text": [
      "              precision    recall  f1-score   support\n",
      "\n",
      "         yes       0.64      0.55      0.59        33\n",
      "          no       0.74      0.81      0.77        52\n",
      "\n",
      "    accuracy                           0.71        85\n",
      "   macro avg       0.69      0.68      0.68        85\n",
      "weighted avg       0.70      0.71      0.70        85\n",
      "\n"
     ]
    }
   ],
   "source": [
    "evaluation_plots(conv_class, test_loader_best, loss_train, acc_train, loss_test, acc_test)"
   ]
  },
  {
   "cell_type": "code",
   "execution_count": 60,
   "metadata": {},
   "outputs": [],
   "source": [
    "results = {'Accuracy':[accuracy_score(predict(conv_class, test_loader)[0],predict(conv_class, test_loader)[1])],\n",
    "           \n",
    "           'Precision':[precision_score(predict(conv_class, test_loader)[0],predict(conv_class, test_loader)[1])],\n",
    "           \n",
    "           'Recall':[recall_score(predict(conv_class, test_loader)[0],predict(conv_class, test_loader)[1])],\n",
    "           \n",
    "           'F1-score':[f1_score(predict(conv_class, test_loader)[0],predict(conv_class, test_loader)[1])]}\n",
    "\n",
    "class_results = pd.DataFrame(results, index=['Classifier wide 1'])"
   ]
  },
  {
   "cell_type": "code",
   "execution_count": 51,
   "metadata": {},
   "outputs": [
    {
     "data": {
      "text/plain": [
       "0.7411764705882353"
      ]
     },
     "execution_count": 51,
     "metadata": {},
     "output_type": "execute_result"
    }
   ],
   "source": [
    "accuracy_score(predict(conv_class, test_loader)[0],predict(conv_class, test_loader)[1])"
   ]
  },
  {
   "cell_type": "code",
   "execution_count": 61,
   "metadata": {},
   "outputs": [
    {
     "data": {
      "text/html": [
       "<div>\n",
       "<style scoped>\n",
       "    .dataframe tbody tr th:only-of-type {\n",
       "        vertical-align: middle;\n",
       "    }\n",
       "\n",
       "    .dataframe tbody tr th {\n",
       "        vertical-align: top;\n",
       "    }\n",
       "\n",
       "    .dataframe thead th {\n",
       "        text-align: right;\n",
       "    }\n",
       "</style>\n",
       "<table border=\"1\" class=\"dataframe\">\n",
       "  <thead>\n",
       "    <tr style=\"text-align: right;\">\n",
       "      <th></th>\n",
       "      <th>Accuracy</th>\n",
       "      <th>Precision</th>\n",
       "      <th>Recall</th>\n",
       "      <th>F1-score</th>\n",
       "    </tr>\n",
       "  </thead>\n",
       "  <tbody>\n",
       "    <tr>\n",
       "      <th>Classifier wide 1</th>\n",
       "      <td>0.705882</td>\n",
       "      <td>0.736842</td>\n",
       "      <td>0.807692</td>\n",
       "      <td>0.770642</td>\n",
       "    </tr>\n",
       "  </tbody>\n",
       "</table>\n",
       "</div>"
      ],
      "text/plain": [
       "                   Accuracy  Precision    Recall  F1-score\n",
       "Classifier wide 1  0.705882   0.736842  0.807692  0.770642"
      ]
     },
     "execution_count": 61,
     "metadata": {},
     "output_type": "execute_result"
    }
   ],
   "source": [
    "class_results"
   ]
  },
  {
   "cell_type": "markdown",
   "metadata": {},
   "source": [
    "### Optimization of the wide architecture\n",
    "\n",
    "Weights and biases project: https://wandb.ai/oriane-cavrois/brain_image_large_archi_optimization_4"
   ]
  },
  {
   "cell_type": "code",
   "execution_count": 30,
   "metadata": {},
   "outputs": [],
   "source": [
    "class classifier_large_optim(nn.Module):\n",
    "\n",
    "    def __init__(self, nb_kernel, conv_kernel_size, maxpool_kernel_size, dropout_rate):\n",
    "        super(classifier_large_optim, self).__init__()\n",
    "        self.conv1 = nn.Conv2d(in_channels=3, out_channels=nb_kernel, kernel_size=conv_kernel_size, padding=int((conv_kernel_size - 1)/2))\n",
    "        self.dropout1 = nn.Dropout(dropout_rate)\n",
    "        self.fc = nn.Linear(in_features=nb_kernel*(150 // maxpool_kernel_size)**2, out_features=2)\n",
    "\n",
    "    def forward(self,x):\n",
    "        x = self.conv1(x)\n",
    "        x = F.max_pool2d(x, kernel_size=maxpool_kernel_size, padding=0)\n",
    "        x = self.dropout1(x)\n",
    "        \n",
    "        flat = nn.Flatten(1,3)\n",
    "        x = flat(x)\n",
    "        x = self.fc(x)\n",
    "        x = F.log_softmax(x,1)\n",
    "        \n",
    "        return x"
   ]
  },
  {
   "cell_type": "code",
   "execution_count": 20,
   "metadata": {},
   "outputs": [
    {
     "name": "stdout",
     "output_type": "stream",
     "text": [
      "Iteration 1\n",
      "Number of epochs: 30\n",
      "(30, 0.0089, 9, 25, 7, 6, 0.4)\n"
     ]
    },
    {
     "data": {
      "text/html": [
       "wandb version 0.16.3 is available!  To upgrade, please run:\n",
       " $ pip install wandb --upgrade"
      ],
      "text/plain": [
       "<IPython.core.display.HTML object>"
      ]
     },
     "metadata": {},
     "output_type": "display_data"
    },
    {
     "data": {
      "text/html": [
       "Tracking run with wandb version 0.16.2"
      ],
      "text/plain": [
       "<IPython.core.display.HTML object>"
      ]
     },
     "metadata": {},
     "output_type": "display_data"
    },
    {
     "data": {
      "text/html": [
       "Run data is saved locally in <code>/Users/orianecavrois/Documents/Perso/MachineLearning/Github/Brain-tumor-image-classification/wandb/run-20240208_181256-lfz0rmg3</code>"
      ],
      "text/plain": [
       "<IPython.core.display.HTML object>"
      ]
     },
     "metadata": {},
     "output_type": "display_data"
    },
    {
     "data": {
      "text/html": [
       "Syncing run <strong><a href='https://wandb.ai/oriane-cavrois/brain_image_large_archi_optimization_4/runs/lfz0rmg3' target=\"_blank\">morning-totem-2</a></strong> to <a href='https://wandb.ai/oriane-cavrois/brain_image_large_archi_optimization_4' target=\"_blank\">Weights & Biases</a> (<a href='https://wandb.me/run' target=\"_blank\">docs</a>)<br/>"
      ],
      "text/plain": [
       "<IPython.core.display.HTML object>"
      ]
     },
     "metadata": {},
     "output_type": "display_data"
    },
    {
     "data": {
      "text/html": [
       " View project at <a href='https://wandb.ai/oriane-cavrois/brain_image_large_archi_optimization_4' target=\"_blank\">https://wandb.ai/oriane-cavrois/brain_image_large_archi_optimization_4</a>"
      ],
      "text/plain": [
       "<IPython.core.display.HTML object>"
      ]
     },
     "metadata": {},
     "output_type": "display_data"
    },
    {
     "data": {
      "text/html": [
       " View run at <a href='https://wandb.ai/oriane-cavrois/brain_image_large_archi_optimization_4/runs/lfz0rmg3' target=\"_blank\">https://wandb.ai/oriane-cavrois/brain_image_large_archi_optimization_4/runs/lfz0rmg3</a>"
      ],
      "text/plain": [
       "<IPython.core.display.HTML object>"
      ]
     },
     "metadata": {},
     "output_type": "display_data"
    },
    {
     "name": "stdout",
     "output_type": "stream",
     "text": [
      "Fold 1\n",
      "-------\n",
      "Test set: Average loss: 19.5985, Accuracy: 41/85 (48.24%)\n",
      "\n",
      "Fold 2\n",
      "-------\n",
      "Test set: Average loss: 10.2880, Accuracy: 43/85 (50.59%)\n",
      "\n",
      "Fold 3\n",
      "-------\n",
      "Test set: Average loss: 4.2216, Accuracy: 53/85 (62.35%)\n",
      "\n",
      "--------------------------------------\n"
     ]
    },
    {
     "name": "stderr",
     "output_type": "stream",
     "text": [
      "wandb: WARNING Source type is set to 'repo' but some required information is missing from the environment. A job will not be created from this run. See https://docs.wandb.ai/guides/launch/create-job\n"
     ]
    },
    {
     "data": {
      "application/vnd.jupyter.widget-view+json": {
       "model_id": "440ca2ec44964075a4d6f16e24844004",
       "version_major": 2,
       "version_minor": 0
      },
      "text/plain": [
       "VBox(children=(Label(value='0.001 MB of 0.001 MB uploaded\\r'), FloatProgress(value=1.0, max=1.0)))"
      ]
     },
     "metadata": {},
     "output_type": "display_data"
    },
    {
     "data": {
      "text/html": [
       "<style>\n",
       "    table.wandb td:nth-child(1) { padding: 0 10px; text-align: left ; width: auto;} td:nth-child(2) {text-align: left ; width: 100%}\n",
       "    .wandb-row { display: flex; flex-direction: row; flex-wrap: wrap; justify-content: flex-start; width: 100% }\n",
       "    .wandb-col { display: flex; flex-direction: column; flex-basis: 100%; flex: 1; padding: 10px; }\n",
       "    </style>\n",
       "<div class=\"wandb-row\"><div class=\"wandb-col\"><h3>Run history:</h3><br/><table class=\"wandb\"><tr><td>test accuracy</td><td>▁</td></tr><tr><td>test loss</td><td>▁</td></tr><tr><td>train accuracy</td><td>▁</td></tr><tr><td>train loss</td><td>▁</td></tr></table><br/></div><div class=\"wandb-col\"><h3>Run summary:</h3><br/><table class=\"wandb\"><tr><td>test accuracy</td><td>0.53725</td></tr><tr><td>test loss</td><td>11.36937</td></tr><tr><td>train accuracy</td><td>0.92937</td></tr><tr><td>train loss</td><td>2.44413</td></tr></table><br/></div></div>"
      ],
      "text/plain": [
       "<IPython.core.display.HTML object>"
      ]
     },
     "metadata": {},
     "output_type": "display_data"
    },
    {
     "data": {
      "text/html": [
       " View run <strong style=\"color:#cdcd00\">morning-totem-2</strong> at: <a href='https://wandb.ai/oriane-cavrois/brain_image_large_archi_optimization_4/runs/lfz0rmg3' target=\"_blank\">https://wandb.ai/oriane-cavrois/brain_image_large_archi_optimization_4/runs/lfz0rmg3</a><br/>Synced 5 W&B file(s), 0 media file(s), 0 artifact file(s) and 0 other file(s)"
      ],
      "text/plain": [
       "<IPython.core.display.HTML object>"
      ]
     },
     "metadata": {},
     "output_type": "display_data"
    },
    {
     "data": {
      "text/html": [
       "Find logs at: <code>./wandb/run-20240208_181256-lfz0rmg3/logs</code>"
      ],
      "text/plain": [
       "<IPython.core.display.HTML object>"
      ]
     },
     "metadata": {},
     "output_type": "display_data"
    },
    {
     "name": "stdout",
     "output_type": "stream",
     "text": [
      "Iteration 2\n",
      "Number of epochs: 30\n",
      "(30, 0.00835, 3, 65, 3, 7, 0.8500000000000001)\n"
     ]
    },
    {
     "data": {
      "application/vnd.jupyter.widget-view+json": {
       "model_id": "2a2cffe2322846d488ed238947ecdf81",
       "version_major": 2,
       "version_minor": 0
      },
      "text/plain": [
       "VBox(children=(Label(value='Waiting for wandb.init()...\\r'), FloatProgress(value=0.011168636111122194, max=1.0…"
      ]
     },
     "metadata": {},
     "output_type": "display_data"
    },
    {
     "data": {
      "text/html": [
       "wandb version 0.16.3 is available!  To upgrade, please run:\n",
       " $ pip install wandb --upgrade"
      ],
      "text/plain": [
       "<IPython.core.display.HTML object>"
      ]
     },
     "metadata": {},
     "output_type": "display_data"
    },
    {
     "data": {
      "text/html": [
       "Tracking run with wandb version 0.16.2"
      ],
      "text/plain": [
       "<IPython.core.display.HTML object>"
      ]
     },
     "metadata": {},
     "output_type": "display_data"
    },
    {
     "data": {
      "text/html": [
       "Run data is saved locally in <code>/Users/orianecavrois/Documents/Perso/MachineLearning/Github/Brain-tumor-image-classification/wandb/run-20240208_181348-e7pd3o8w</code>"
      ],
      "text/plain": [
       "<IPython.core.display.HTML object>"
      ]
     },
     "metadata": {},
     "output_type": "display_data"
    },
    {
     "data": {
      "text/html": [
       "Syncing run <strong><a href='https://wandb.ai/oriane-cavrois/brain_image_large_archi_optimization_4/runs/e7pd3o8w' target=\"_blank\">fresh-dragon-3</a></strong> to <a href='https://wandb.ai/oriane-cavrois/brain_image_large_archi_optimization_4' target=\"_blank\">Weights & Biases</a> (<a href='https://wandb.me/run' target=\"_blank\">docs</a>)<br/>"
      ],
      "text/plain": [
       "<IPython.core.display.HTML object>"
      ]
     },
     "metadata": {},
     "output_type": "display_data"
    },
    {
     "data": {
      "text/html": [
       " View project at <a href='https://wandb.ai/oriane-cavrois/brain_image_large_archi_optimization_4' target=\"_blank\">https://wandb.ai/oriane-cavrois/brain_image_large_archi_optimization_4</a>"
      ],
      "text/plain": [
       "<IPython.core.display.HTML object>"
      ]
     },
     "metadata": {},
     "output_type": "display_data"
    },
    {
     "data": {
      "text/html": [
       " View run at <a href='https://wandb.ai/oriane-cavrois/brain_image_large_archi_optimization_4/runs/e7pd3o8w' target=\"_blank\">https://wandb.ai/oriane-cavrois/brain_image_large_archi_optimization_4/runs/e7pd3o8w</a>"
      ],
      "text/plain": [
       "<IPython.core.display.HTML object>"
      ]
     },
     "metadata": {},
     "output_type": "display_data"
    },
    {
     "name": "stdout",
     "output_type": "stream",
     "text": [
      "Fold 1\n",
      "-------\n",
      "Test set: Average loss: 7.4222, Accuracy: 50/85 (58.82%)\n",
      "\n",
      "Fold 2\n",
      "-------\n",
      "Test set: Average loss: 2.9559, Accuracy: 53/85 (62.35%)\n",
      "\n",
      "Fold 3\n",
      "-------\n",
      "Test set: Average loss: 3.3635, Accuracy: 54/85 (63.53%)\n",
      "\n",
      "--------------------------------------\n"
     ]
    },
    {
     "name": "stderr",
     "output_type": "stream",
     "text": [
      "wandb: WARNING Source type is set to 'repo' but some required information is missing from the environment. A job will not be created from this run. See https://docs.wandb.ai/guides/launch/create-job\n"
     ]
    },
    {
     "data": {
      "application/vnd.jupyter.widget-view+json": {
       "model_id": "6035ab50d68d4307addaa3cc0c91f804",
       "version_major": 2,
       "version_minor": 0
      },
      "text/plain": [
       "VBox(children=(Label(value='0.001 MB of 0.001 MB uploaded\\r'), FloatProgress(value=1.0, max=1.0)))"
      ]
     },
     "metadata": {},
     "output_type": "display_data"
    },
    {
     "data": {
      "text/html": [
       "<style>\n",
       "    table.wandb td:nth-child(1) { padding: 0 10px; text-align: left ; width: auto;} td:nth-child(2) {text-align: left ; width: 100%}\n",
       "    .wandb-row { display: flex; flex-direction: row; flex-wrap: wrap; justify-content: flex-start; width: 100% }\n",
       "    .wandb-col { display: flex; flex-direction: column; flex-basis: 100%; flex: 1; padding: 10px; }\n",
       "    </style>\n",
       "<div class=\"wandb-row\"><div class=\"wandb-col\"><h3>Run history:</h3><br/><table class=\"wandb\"><tr><td>test accuracy</td><td>▁</td></tr><tr><td>test loss</td><td>▁</td></tr><tr><td>train accuracy</td><td>▁</td></tr><tr><td>train loss</td><td>▁</td></tr></table><br/></div><div class=\"wandb-col\"><h3>Run summary:</h3><br/><table class=\"wandb\"><tr><td>test accuracy</td><td>0.61569</td></tr><tr><td>test loss</td><td>4.58055</td></tr><tr><td>train accuracy</td><td>0.86786</td></tr><tr><td>train loss</td><td>4.4881</td></tr></table><br/></div></div>"
      ],
      "text/plain": [
       "<IPython.core.display.HTML object>"
      ]
     },
     "metadata": {},
     "output_type": "display_data"
    },
    {
     "data": {
      "text/html": [
       " View run <strong style=\"color:#cdcd00\">fresh-dragon-3</strong> at: <a href='https://wandb.ai/oriane-cavrois/brain_image_large_archi_optimization_4/runs/e7pd3o8w' target=\"_blank\">https://wandb.ai/oriane-cavrois/brain_image_large_archi_optimization_4/runs/e7pd3o8w</a><br/>Synced 5 W&B file(s), 0 media file(s), 0 artifact file(s) and 0 other file(s)"
      ],
      "text/plain": [
       "<IPython.core.display.HTML object>"
      ]
     },
     "metadata": {},
     "output_type": "display_data"
    },
    {
     "data": {
      "text/html": [
       "Find logs at: <code>./wandb/run-20240208_181348-e7pd3o8w/logs</code>"
      ],
      "text/plain": [
       "<IPython.core.display.HTML object>"
      ]
     },
     "metadata": {},
     "output_type": "display_data"
    },
    {
     "name": "stdout",
     "output_type": "stream",
     "text": [
      "Iteration 3\n",
      "Number of epochs: 35\n",
      "(35, 0.00725, 8, 30, 7, 2, 0.9)\n"
     ]
    },
    {
     "data": {
      "application/vnd.jupyter.widget-view+json": {
       "model_id": "abda806745d7494fbfe4a7e60279093e",
       "version_major": 2,
       "version_minor": 0
      },
      "text/plain": [
       "VBox(children=(Label(value='Waiting for wandb.init()...\\r'), FloatProgress(value=0.01114614628887567, max=1.0)…"
      ]
     },
     "metadata": {},
     "output_type": "display_data"
    },
    {
     "data": {
      "text/html": [
       "wandb version 0.16.3 is available!  To upgrade, please run:\n",
       " $ pip install wandb --upgrade"
      ],
      "text/plain": [
       "<IPython.core.display.HTML object>"
      ]
     },
     "metadata": {},
     "output_type": "display_data"
    },
    {
     "data": {
      "text/html": [
       "Tracking run with wandb version 0.16.2"
      ],
      "text/plain": [
       "<IPython.core.display.HTML object>"
      ]
     },
     "metadata": {},
     "output_type": "display_data"
    },
    {
     "data": {
      "text/html": [
       "Run data is saved locally in <code>/Users/orianecavrois/Documents/Perso/MachineLearning/Github/Brain-tumor-image-classification/wandb/run-20240208_181452-jkjz6c76</code>"
      ],
      "text/plain": [
       "<IPython.core.display.HTML object>"
      ]
     },
     "metadata": {},
     "output_type": "display_data"
    },
    {
     "data": {
      "text/html": [
       "Syncing run <strong><a href='https://wandb.ai/oriane-cavrois/brain_image_large_archi_optimization_4/runs/jkjz6c76' target=\"_blank\">zany-cherry-4</a></strong> to <a href='https://wandb.ai/oriane-cavrois/brain_image_large_archi_optimization_4' target=\"_blank\">Weights & Biases</a> (<a href='https://wandb.me/run' target=\"_blank\">docs</a>)<br/>"
      ],
      "text/plain": [
       "<IPython.core.display.HTML object>"
      ]
     },
     "metadata": {},
     "output_type": "display_data"
    },
    {
     "data": {
      "text/html": [
       " View project at <a href='https://wandb.ai/oriane-cavrois/brain_image_large_archi_optimization_4' target=\"_blank\">https://wandb.ai/oriane-cavrois/brain_image_large_archi_optimization_4</a>"
      ],
      "text/plain": [
       "<IPython.core.display.HTML object>"
      ]
     },
     "metadata": {},
     "output_type": "display_data"
    },
    {
     "data": {
      "text/html": [
       " View run at <a href='https://wandb.ai/oriane-cavrois/brain_image_large_archi_optimization_4/runs/jkjz6c76' target=\"_blank\">https://wandb.ai/oriane-cavrois/brain_image_large_archi_optimization_4/runs/jkjz6c76</a>"
      ],
      "text/plain": [
       "<IPython.core.display.HTML object>"
      ]
     },
     "metadata": {},
     "output_type": "display_data"
    },
    {
     "name": "stdout",
     "output_type": "stream",
     "text": [
      "Fold 1\n",
      "-------\n",
      "Test set: Average loss: 155.5494, Accuracy: 42/85 (49.41%)\n",
      "\n",
      "Fold 2\n",
      "-------\n",
      "Test set: Average loss: 14.5188, Accuracy: 53/85 (62.35%)\n",
      "\n",
      "Fold 3\n",
      "-------\n",
      "Test set: Average loss: 14.6825, Accuracy: 55/85 (64.71%)\n",
      "\n",
      "--------------------------------------\n"
     ]
    },
    {
     "name": "stderr",
     "output_type": "stream",
     "text": [
      "wandb: WARNING Source type is set to 'repo' but some required information is missing from the environment. A job will not be created from this run. See https://docs.wandb.ai/guides/launch/create-job\n"
     ]
    },
    {
     "data": {
      "application/vnd.jupyter.widget-view+json": {
       "model_id": "8d7c54dd42474788a38e3cbce02af747",
       "version_major": 2,
       "version_minor": 0
      },
      "text/plain": [
       "VBox(children=(Label(value='0.001 MB of 0.001 MB uploaded\\r'), FloatProgress(value=1.0, max=1.0)))"
      ]
     },
     "metadata": {},
     "output_type": "display_data"
    },
    {
     "data": {
      "text/html": [
       "<style>\n",
       "    table.wandb td:nth-child(1) { padding: 0 10px; text-align: left ; width: auto;} td:nth-child(2) {text-align: left ; width: 100%}\n",
       "    .wandb-row { display: flex; flex-direction: row; flex-wrap: wrap; justify-content: flex-start; width: 100% }\n",
       "    .wandb-col { display: flex; flex-direction: column; flex-basis: 100%; flex: 1; padding: 10px; }\n",
       "    </style>\n",
       "<div class=\"wandb-row\"><div class=\"wandb-col\"><h3>Run history:</h3><br/><table class=\"wandb\"><tr><td>test accuracy</td><td>▁</td></tr><tr><td>test loss</td><td>▁</td></tr><tr><td>train accuracy</td><td>▁</td></tr><tr><td>train loss</td><td>▁</td></tr></table><br/></div><div class=\"wandb-col\"><h3>Run summary:</h3><br/><table class=\"wandb\"><tr><td>test accuracy</td><td>0.58824</td></tr><tr><td>test loss</td><td>61.58354</td></tr><tr><td>train accuracy</td><td>0.92577</td></tr><tr><td>train loss</td><td>11.56011</td></tr></table><br/></div></div>"
      ],
      "text/plain": [
       "<IPython.core.display.HTML object>"
      ]
     },
     "metadata": {},
     "output_type": "display_data"
    },
    {
     "data": {
      "text/html": [
       " View run <strong style=\"color:#cdcd00\">zany-cherry-4</strong> at: <a href='https://wandb.ai/oriane-cavrois/brain_image_large_archi_optimization_4/runs/jkjz6c76' target=\"_blank\">https://wandb.ai/oriane-cavrois/brain_image_large_archi_optimization_4/runs/jkjz6c76</a><br/>Synced 5 W&B file(s), 0 media file(s), 0 artifact file(s) and 0 other file(s)"
      ],
      "text/plain": [
       "<IPython.core.display.HTML object>"
      ]
     },
     "metadata": {},
     "output_type": "display_data"
    },
    {
     "data": {
      "text/html": [
       "Find logs at: <code>./wandb/run-20240208_181452-jkjz6c76/logs</code>"
      ],
      "text/plain": [
       "<IPython.core.display.HTML object>"
      ]
     },
     "metadata": {},
     "output_type": "display_data"
    },
    {
     "name": "stdout",
     "output_type": "stream",
     "text": [
      "Iteration 4\n",
      "Number of epochs: 10\n",
      "(10, 0.0089, 4, 35, 5, 4, 0.65)\n"
     ]
    },
    {
     "data": {
      "application/vnd.jupyter.widget-view+json": {
       "model_id": "3d1113d02ac4401ca6802f2743faff22",
       "version_major": 2,
       "version_minor": 0
      },
      "text/plain": [
       "VBox(children=(Label(value='Waiting for wandb.init()...\\r'), FloatProgress(value=0.0111677379555153, max=1.0))…"
      ]
     },
     "metadata": {},
     "output_type": "display_data"
    },
    {
     "data": {
      "text/html": [
       "wandb version 0.16.3 is available!  To upgrade, please run:\n",
       " $ pip install wandb --upgrade"
      ],
      "text/plain": [
       "<IPython.core.display.HTML object>"
      ]
     },
     "metadata": {},
     "output_type": "display_data"
    },
    {
     "data": {
      "text/html": [
       "Tracking run with wandb version 0.16.2"
      ],
      "text/plain": [
       "<IPython.core.display.HTML object>"
      ]
     },
     "metadata": {},
     "output_type": "display_data"
    },
    {
     "data": {
      "text/html": [
       "Run data is saved locally in <code>/Users/orianecavrois/Documents/Perso/MachineLearning/Github/Brain-tumor-image-classification/wandb/run-20240208_181555-3xgvc8a4</code>"
      ],
      "text/plain": [
       "<IPython.core.display.HTML object>"
      ]
     },
     "metadata": {},
     "output_type": "display_data"
    },
    {
     "data": {
      "text/html": [
       "Syncing run <strong><a href='https://wandb.ai/oriane-cavrois/brain_image_large_archi_optimization_4/runs/3xgvc8a4' target=\"_blank\">glowing-wildflower-5</a></strong> to <a href='https://wandb.ai/oriane-cavrois/brain_image_large_archi_optimization_4' target=\"_blank\">Weights & Biases</a> (<a href='https://wandb.me/run' target=\"_blank\">docs</a>)<br/>"
      ],
      "text/plain": [
       "<IPython.core.display.HTML object>"
      ]
     },
     "metadata": {},
     "output_type": "display_data"
    },
    {
     "data": {
      "text/html": [
       " View project at <a href='https://wandb.ai/oriane-cavrois/brain_image_large_archi_optimization_4' target=\"_blank\">https://wandb.ai/oriane-cavrois/brain_image_large_archi_optimization_4</a>"
      ],
      "text/plain": [
       "<IPython.core.display.HTML object>"
      ]
     },
     "metadata": {},
     "output_type": "display_data"
    },
    {
     "data": {
      "text/html": [
       " View run at <a href='https://wandb.ai/oriane-cavrois/brain_image_large_archi_optimization_4/runs/3xgvc8a4' target=\"_blank\">https://wandb.ai/oriane-cavrois/brain_image_large_archi_optimization_4/runs/3xgvc8a4</a>"
      ],
      "text/plain": [
       "<IPython.core.display.HTML object>"
      ]
     },
     "metadata": {},
     "output_type": "display_data"
    },
    {
     "name": "stdout",
     "output_type": "stream",
     "text": [
      "Fold 1\n",
      "-------\n",
      "Test set: Average loss: 20.0765, Accuracy: 44/85 (51.76%)\n",
      "\n",
      "Fold 2\n",
      "-------\n",
      "Test set: Average loss: 169.7820, Accuracy: 16/85 (18.82%)\n",
      "\n",
      "Fold 3\n",
      "-------\n",
      "Test set: Average loss: 12.2055, Accuracy: 51/85 (60.00%)\n",
      "\n",
      "--------------------------------------\n"
     ]
    },
    {
     "name": "stderr",
     "output_type": "stream",
     "text": [
      "wandb: WARNING Source type is set to 'repo' but some required information is missing from the environment. A job will not be created from this run. See https://docs.wandb.ai/guides/launch/create-job\n"
     ]
    },
    {
     "data": {
      "application/vnd.jupyter.widget-view+json": {
       "model_id": "f984746edb5a4227a47087171ce8b2e2",
       "version_major": 2,
       "version_minor": 0
      },
      "text/plain": [
       "VBox(children=(Label(value='0.001 MB of 0.004 MB uploaded\\r'), FloatProgress(value=0.340956340956341, max=1.0)…"
      ]
     },
     "metadata": {},
     "output_type": "display_data"
    },
    {
     "data": {
      "text/html": [
       "<style>\n",
       "    table.wandb td:nth-child(1) { padding: 0 10px; text-align: left ; width: auto;} td:nth-child(2) {text-align: left ; width: 100%}\n",
       "    .wandb-row { display: flex; flex-direction: row; flex-wrap: wrap; justify-content: flex-start; width: 100% }\n",
       "    .wandb-col { display: flex; flex-direction: column; flex-basis: 100%; flex: 1; padding: 10px; }\n",
       "    </style>\n",
       "<div class=\"wandb-row\"><div class=\"wandb-col\"><h3>Run history:</h3><br/><table class=\"wandb\"><tr><td>test accuracy</td><td>▁</td></tr><tr><td>test loss</td><td>▁</td></tr><tr><td>train accuracy</td><td>▁</td></tr><tr><td>train loss</td><td>▁</td></tr></table><br/></div><div class=\"wandb-col\"><h3>Run summary:</h3><br/><table class=\"wandb\"><tr><td>test accuracy</td><td>0.43529</td></tr><tr><td>test loss</td><td>67.3547</td></tr><tr><td>train accuracy</td><td>0.87708</td></tr><tr><td>train loss</td><td>7.97641</td></tr></table><br/></div></div>"
      ],
      "text/plain": [
       "<IPython.core.display.HTML object>"
      ]
     },
     "metadata": {},
     "output_type": "display_data"
    },
    {
     "data": {
      "text/html": [
       " View run <strong style=\"color:#cdcd00\">glowing-wildflower-5</strong> at: <a href='https://wandb.ai/oriane-cavrois/brain_image_large_archi_optimization_4/runs/3xgvc8a4' target=\"_blank\">https://wandb.ai/oriane-cavrois/brain_image_large_archi_optimization_4/runs/3xgvc8a4</a><br/>Synced 5 W&B file(s), 0 media file(s), 0 artifact file(s) and 0 other file(s)"
      ],
      "text/plain": [
       "<IPython.core.display.HTML object>"
      ]
     },
     "metadata": {},
     "output_type": "display_data"
    },
    {
     "data": {
      "text/html": [
       "Find logs at: <code>./wandb/run-20240208_181555-3xgvc8a4/logs</code>"
      ],
      "text/plain": [
       "<IPython.core.display.HTML object>"
      ]
     },
     "metadata": {},
     "output_type": "display_data"
    },
    {
     "name": "stdout",
     "output_type": "stream",
     "text": [
      "Iteration 5\n",
      "Number of epochs: 5\n",
      "(5, 0.006150000000000001, 11, 55, 7, 8, 0.2)\n"
     ]
    },
    {
     "data": {
      "application/vnd.jupyter.widget-view+json": {
       "model_id": "883709c59f7f4cd6be9f719a12d91257",
       "version_major": 2,
       "version_minor": 0
      },
      "text/plain": [
       "VBox(children=(Label(value='Waiting for wandb.init()...\\r'), FloatProgress(value=0.011180946755565755, max=1.0…"
      ]
     },
     "metadata": {},
     "output_type": "display_data"
    },
    {
     "data": {
      "text/html": [
       "wandb version 0.16.3 is available!  To upgrade, please run:\n",
       " $ pip install wandb --upgrade"
      ],
      "text/plain": [
       "<IPython.core.display.HTML object>"
      ]
     },
     "metadata": {},
     "output_type": "display_data"
    },
    {
     "data": {
      "text/html": [
       "Tracking run with wandb version 0.16.2"
      ],
      "text/plain": [
       "<IPython.core.display.HTML object>"
      ]
     },
     "metadata": {},
     "output_type": "display_data"
    },
    {
     "data": {
      "text/html": [
       "Run data is saved locally in <code>/Users/orianecavrois/Documents/Perso/MachineLearning/Github/Brain-tumor-image-classification/wandb/run-20240208_181620-esemh0c7</code>"
      ],
      "text/plain": [
       "<IPython.core.display.HTML object>"
      ]
     },
     "metadata": {},
     "output_type": "display_data"
    },
    {
     "data": {
      "text/html": [
       "Syncing run <strong><a href='https://wandb.ai/oriane-cavrois/brain_image_large_archi_optimization_4/runs/esemh0c7' target=\"_blank\">radiant-deluge-6</a></strong> to <a href='https://wandb.ai/oriane-cavrois/brain_image_large_archi_optimization_4' target=\"_blank\">Weights & Biases</a> (<a href='https://wandb.me/run' target=\"_blank\">docs</a>)<br/>"
      ],
      "text/plain": [
       "<IPython.core.display.HTML object>"
      ]
     },
     "metadata": {},
     "output_type": "display_data"
    },
    {
     "data": {
      "text/html": [
       " View project at <a href='https://wandb.ai/oriane-cavrois/brain_image_large_archi_optimization_4' target=\"_blank\">https://wandb.ai/oriane-cavrois/brain_image_large_archi_optimization_4</a>"
      ],
      "text/plain": [
       "<IPython.core.display.HTML object>"
      ]
     },
     "metadata": {},
     "output_type": "display_data"
    },
    {
     "data": {
      "text/html": [
       " View run at <a href='https://wandb.ai/oriane-cavrois/brain_image_large_archi_optimization_4/runs/esemh0c7' target=\"_blank\">https://wandb.ai/oriane-cavrois/brain_image_large_archi_optimization_4/runs/esemh0c7</a>"
      ],
      "text/plain": [
       "<IPython.core.display.HTML object>"
      ]
     },
     "metadata": {},
     "output_type": "display_data"
    },
    {
     "name": "stdout",
     "output_type": "stream",
     "text": [
      "Fold 1\n",
      "-------\n",
      "Test set: Average loss: 59.6505, Accuracy: 43/85 (50.59%)\n",
      "\n",
      "Fold 2\n",
      "-------\n",
      "Test set: Average loss: 10.1883, Accuracy: 46/85 (54.12%)\n",
      "\n",
      "Fold 3\n",
      "-------\n",
      "Test set: Average loss: 1.0051, Accuracy: 53/85 (62.35%)\n",
      "\n",
      "--------------------------------------\n"
     ]
    },
    {
     "name": "stderr",
     "output_type": "stream",
     "text": [
      "wandb: WARNING Source type is set to 'repo' but some required information is missing from the environment. A job will not be created from this run. See https://docs.wandb.ai/guides/launch/create-job\n"
     ]
    },
    {
     "data": {
      "application/vnd.jupyter.widget-view+json": {
       "model_id": "7d983ef2e37746889fee0c9e1a0fc782",
       "version_major": 2,
       "version_minor": 0
      },
      "text/plain": [
       "VBox(children=(Label(value='0.001 MB of 0.004 MB uploaded\\r'), FloatProgress(value=0.3398083398083398, max=1.0…"
      ]
     },
     "metadata": {},
     "output_type": "display_data"
    },
    {
     "data": {
      "text/html": [
       "<style>\n",
       "    table.wandb td:nth-child(1) { padding: 0 10px; text-align: left ; width: auto;} td:nth-child(2) {text-align: left ; width: 100%}\n",
       "    .wandb-row { display: flex; flex-direction: row; flex-wrap: wrap; justify-content: flex-start; width: 100% }\n",
       "    .wandb-col { display: flex; flex-direction: column; flex-basis: 100%; flex: 1; padding: 10px; }\n",
       "    </style>\n",
       "<div class=\"wandb-row\"><div class=\"wandb-col\"><h3>Run history:</h3><br/><table class=\"wandb\"><tr><td>test accuracy</td><td>▁</td></tr><tr><td>test loss</td><td>▁</td></tr><tr><td>train accuracy</td><td>▁</td></tr><tr><td>train loss</td><td>▁</td></tr></table><br/></div><div class=\"wandb-col\"><h3>Run summary:</h3><br/><table class=\"wandb\"><tr><td>test accuracy</td><td>0.55686</td></tr><tr><td>test loss</td><td>23.61464</td></tr><tr><td>train accuracy</td><td>0.79226</td></tr><tr><td>train loss</td><td>12.62931</td></tr></table><br/></div></div>"
      ],
      "text/plain": [
       "<IPython.core.display.HTML object>"
      ]
     },
     "metadata": {},
     "output_type": "display_data"
    },
    {
     "data": {
      "text/html": [
       " View run <strong style=\"color:#cdcd00\">radiant-deluge-6</strong> at: <a href='https://wandb.ai/oriane-cavrois/brain_image_large_archi_optimization_4/runs/esemh0c7' target=\"_blank\">https://wandb.ai/oriane-cavrois/brain_image_large_archi_optimization_4/runs/esemh0c7</a><br/>Synced 5 W&B file(s), 0 media file(s), 0 artifact file(s) and 0 other file(s)"
      ],
      "text/plain": [
       "<IPython.core.display.HTML object>"
      ]
     },
     "metadata": {},
     "output_type": "display_data"
    },
    {
     "data": {
      "text/html": [
       "Find logs at: <code>./wandb/run-20240208_181620-esemh0c7/logs</code>"
      ],
      "text/plain": [
       "<IPython.core.display.HTML object>"
      ]
     },
     "metadata": {},
     "output_type": "display_data"
    },
    {
     "name": "stdout",
     "output_type": "stream",
     "text": [
      "Iteration 6\n",
      "Number of epochs: 35\n",
      "(35, 0.005600000000000001, 8, 50, 1, 3, 0.8500000000000001)\n"
     ]
    },
    {
     "data": {
      "application/vnd.jupyter.widget-view+json": {
       "model_id": "d8145f534eeb471588cf94f36e33c637",
       "version_major": 2,
       "version_minor": 0
      },
      "text/plain": [
       "VBox(children=(Label(value='Waiting for wandb.init()...\\r'), FloatProgress(value=0.011131905555521371, max=1.0…"
      ]
     },
     "metadata": {},
     "output_type": "display_data"
    },
    {
     "data": {
      "text/html": [
       "wandb version 0.16.3 is available!  To upgrade, please run:\n",
       " $ pip install wandb --upgrade"
      ],
      "text/plain": [
       "<IPython.core.display.HTML object>"
      ]
     },
     "metadata": {},
     "output_type": "display_data"
    },
    {
     "data": {
      "text/html": [
       "Tracking run with wandb version 0.16.2"
      ],
      "text/plain": [
       "<IPython.core.display.HTML object>"
      ]
     },
     "metadata": {},
     "output_type": "display_data"
    },
    {
     "data": {
      "text/html": [
       "Run data is saved locally in <code>/Users/orianecavrois/Documents/Perso/MachineLearning/Github/Brain-tumor-image-classification/wandb/run-20240208_181637-zvfjgzhm</code>"
      ],
      "text/plain": [
       "<IPython.core.display.HTML object>"
      ]
     },
     "metadata": {},
     "output_type": "display_data"
    },
    {
     "data": {
      "text/html": [
       "Syncing run <strong><a href='https://wandb.ai/oriane-cavrois/brain_image_large_archi_optimization_4/runs/zvfjgzhm' target=\"_blank\">giddy-fog-7</a></strong> to <a href='https://wandb.ai/oriane-cavrois/brain_image_large_archi_optimization_4' target=\"_blank\">Weights & Biases</a> (<a href='https://wandb.me/run' target=\"_blank\">docs</a>)<br/>"
      ],
      "text/plain": [
       "<IPython.core.display.HTML object>"
      ]
     },
     "metadata": {},
     "output_type": "display_data"
    },
    {
     "data": {
      "text/html": [
       " View project at <a href='https://wandb.ai/oriane-cavrois/brain_image_large_archi_optimization_4' target=\"_blank\">https://wandb.ai/oriane-cavrois/brain_image_large_archi_optimization_4</a>"
      ],
      "text/plain": [
       "<IPython.core.display.HTML object>"
      ]
     },
     "metadata": {},
     "output_type": "display_data"
    },
    {
     "data": {
      "text/html": [
       " View run at <a href='https://wandb.ai/oriane-cavrois/brain_image_large_archi_optimization_4/runs/zvfjgzhm' target=\"_blank\">https://wandb.ai/oriane-cavrois/brain_image_large_archi_optimization_4/runs/zvfjgzhm</a>"
      ],
      "text/plain": [
       "<IPython.core.display.HTML object>"
      ]
     },
     "metadata": {},
     "output_type": "display_data"
    },
    {
     "name": "stdout",
     "output_type": "stream",
     "text": [
      "Fold 1\n",
      "-------\n",
      "Test set: Average loss: 9.9037, Accuracy: 45/85 (52.94%)\n",
      "\n",
      "Fold 2\n",
      "-------\n",
      "Test set: Average loss: 9.1785, Accuracy: 48/85 (56.47%)\n",
      "\n",
      "Fold 3\n",
      "-------\n",
      "Test set: Average loss: 0.0444, Accuracy: 55/85 (64.71%)\n",
      "\n",
      "--------------------------------------\n"
     ]
    },
    {
     "data": {
      "application/vnd.jupyter.widget-view+json": {
       "model_id": "38d2eef86eb240d6983c5d4e2c19da48",
       "version_major": 2,
       "version_minor": 0
      },
      "text/plain": [
       "VBox(children=(Label(value='0.001 MB of 0.001 MB uploaded\\r'), FloatProgress(value=1.0, max=1.0)))"
      ]
     },
     "metadata": {},
     "output_type": "display_data"
    },
    {
     "name": "stderr",
     "output_type": "stream",
     "text": [
      "wandb: WARNING Source type is set to 'repo' but some required information is missing from the environment. A job will not be created from this run. See https://docs.wandb.ai/guides/launch/create-job\n"
     ]
    },
    {
     "data": {
      "text/html": [
       "<style>\n",
       "    table.wandb td:nth-child(1) { padding: 0 10px; text-align: left ; width: auto;} td:nth-child(2) {text-align: left ; width: 100%}\n",
       "    .wandb-row { display: flex; flex-direction: row; flex-wrap: wrap; justify-content: flex-start; width: 100% }\n",
       "    .wandb-col { display: flex; flex-direction: column; flex-basis: 100%; flex: 1; padding: 10px; }\n",
       "    </style>\n",
       "<div class=\"wandb-row\"><div class=\"wandb-col\"><h3>Run history:</h3><br/><table class=\"wandb\"><tr><td>test accuracy</td><td>▁</td></tr><tr><td>test loss</td><td>▁</td></tr><tr><td>train accuracy</td><td>▁</td></tr><tr><td>train loss</td><td>▁</td></tr></table><br/></div><div class=\"wandb-col\"><h3>Run summary:</h3><br/><table class=\"wandb\"><tr><td>test accuracy</td><td>0.58039</td></tr><tr><td>test loss</td><td>6.37554</td></tr><tr><td>train accuracy</td><td>0.93325</td></tr><tr><td>train loss</td><td>0.64231</td></tr></table><br/></div></div>"
      ],
      "text/plain": [
       "<IPython.core.display.HTML object>"
      ]
     },
     "metadata": {},
     "output_type": "display_data"
    },
    {
     "data": {
      "text/html": [
       " View run <strong style=\"color:#cdcd00\">giddy-fog-7</strong> at: <a href='https://wandb.ai/oriane-cavrois/brain_image_large_archi_optimization_4/runs/zvfjgzhm' target=\"_blank\">https://wandb.ai/oriane-cavrois/brain_image_large_archi_optimization_4/runs/zvfjgzhm</a><br/>Synced 5 W&B file(s), 0 media file(s), 0 artifact file(s) and 0 other file(s)"
      ],
      "text/plain": [
       "<IPython.core.display.HTML object>"
      ]
     },
     "metadata": {},
     "output_type": "display_data"
    },
    {
     "data": {
      "text/html": [
       "Find logs at: <code>./wandb/run-20240208_181637-zvfjgzhm/logs</code>"
      ],
      "text/plain": [
       "<IPython.core.display.HTML object>"
      ]
     },
     "metadata": {},
     "output_type": "display_data"
    },
    {
     "name": "stdout",
     "output_type": "stream",
     "text": [
      "Iteration 7\n",
      "Number of epochs: 15\n",
      "(15, 0.00945, 11, 55, 5, 5, 0.2)\n"
     ]
    },
    {
     "data": {
      "application/vnd.jupyter.widget-view+json": {
       "model_id": "15b0bd0525784c35a303efbeb9c54c5b",
       "version_major": 2,
       "version_minor": 0
      },
      "text/plain": [
       "VBox(children=(Label(value='Waiting for wandb.init()...\\r'), FloatProgress(value=0.011168479633326771, max=1.0…"
      ]
     },
     "metadata": {},
     "output_type": "display_data"
    },
    {
     "data": {
      "text/html": [
       "wandb version 0.16.3 is available!  To upgrade, please run:\n",
       " $ pip install wandb --upgrade"
      ],
      "text/plain": [
       "<IPython.core.display.HTML object>"
      ]
     },
     "metadata": {},
     "output_type": "display_data"
    },
    {
     "data": {
      "text/html": [
       "Tracking run with wandb version 0.16.2"
      ],
      "text/plain": [
       "<IPython.core.display.HTML object>"
      ]
     },
     "metadata": {},
     "output_type": "display_data"
    },
    {
     "data": {
      "text/html": [
       "Run data is saved locally in <code>/Users/orianecavrois/Documents/Perso/MachineLearning/Github/Brain-tumor-image-classification/wandb/run-20240208_181738-4w7cn2se</code>"
      ],
      "text/plain": [
       "<IPython.core.display.HTML object>"
      ]
     },
     "metadata": {},
     "output_type": "display_data"
    },
    {
     "data": {
      "text/html": [
       "Syncing run <strong><a href='https://wandb.ai/oriane-cavrois/brain_image_large_archi_optimization_4/runs/4w7cn2se' target=\"_blank\">resilient-morning-8</a></strong> to <a href='https://wandb.ai/oriane-cavrois/brain_image_large_archi_optimization_4' target=\"_blank\">Weights & Biases</a> (<a href='https://wandb.me/run' target=\"_blank\">docs</a>)<br/>"
      ],
      "text/plain": [
       "<IPython.core.display.HTML object>"
      ]
     },
     "metadata": {},
     "output_type": "display_data"
    },
    {
     "data": {
      "text/html": [
       " View project at <a href='https://wandb.ai/oriane-cavrois/brain_image_large_archi_optimization_4' target=\"_blank\">https://wandb.ai/oriane-cavrois/brain_image_large_archi_optimization_4</a>"
      ],
      "text/plain": [
       "<IPython.core.display.HTML object>"
      ]
     },
     "metadata": {},
     "output_type": "display_data"
    },
    {
     "data": {
      "text/html": [
       " View run at <a href='https://wandb.ai/oriane-cavrois/brain_image_large_archi_optimization_4/runs/4w7cn2se' target=\"_blank\">https://wandb.ai/oriane-cavrois/brain_image_large_archi_optimization_4/runs/4w7cn2se</a>"
      ],
      "text/plain": [
       "<IPython.core.display.HTML object>"
      ]
     },
     "metadata": {},
     "output_type": "display_data"
    },
    {
     "name": "stdout",
     "output_type": "stream",
     "text": [
      "Fold 1\n",
      "-------\n",
      "Test set: Average loss: 9.2984, Accuracy: 43/85 (50.59%)\n",
      "\n",
      "Fold 2\n",
      "-------\n",
      "Test set: Average loss: 1.3083, Accuracy: 54/85 (63.53%)\n",
      "\n",
      "Fold 3\n",
      "-------\n",
      "Test set: Average loss: 0.0557, Accuracy: 54/85 (63.53%)\n",
      "\n",
      "--------------------------------------\n"
     ]
    },
    {
     "data": {
      "application/vnd.jupyter.widget-view+json": {
       "model_id": "168f9a5cefc94ca68c652b10f5eda480",
       "version_major": 2,
       "version_minor": 0
      },
      "text/plain": [
       "VBox(children=(Label(value='0.001 MB of 0.001 MB uploaded\\r'), FloatProgress(value=1.0, max=1.0)))"
      ]
     },
     "metadata": {},
     "output_type": "display_data"
    },
    {
     "name": "stderr",
     "output_type": "stream",
     "text": [
      "wandb: WARNING Source type is set to 'repo' but some required information is missing from the environment. A job will not be created from this run. See https://docs.wandb.ai/guides/launch/create-job\n"
     ]
    },
    {
     "data": {
      "text/html": [
       "<style>\n",
       "    table.wandb td:nth-child(1) { padding: 0 10px; text-align: left ; width: auto;} td:nth-child(2) {text-align: left ; width: 100%}\n",
       "    .wandb-row { display: flex; flex-direction: row; flex-wrap: wrap; justify-content: flex-start; width: 100% }\n",
       "    .wandb-col { display: flex; flex-direction: column; flex-basis: 100%; flex: 1; padding: 10px; }\n",
       "    </style>\n",
       "<div class=\"wandb-row\"><div class=\"wandb-col\"><h3>Run history:</h3><br/><table class=\"wandb\"><tr><td>test accuracy</td><td>▁</td></tr><tr><td>test loss</td><td>▁</td></tr><tr><td>train accuracy</td><td>▁</td></tr><tr><td>train loss</td><td>▁</td></tr></table><br/></div><div class=\"wandb-col\"><h3>Run summary:</h3><br/><table class=\"wandb\"><tr><td>test accuracy</td><td>0.59216</td></tr><tr><td>test loss</td><td>3.55413</td></tr><tr><td>train accuracy</td><td>0.9123</td></tr><tr><td>train loss</td><td>5.22964</td></tr></table><br/></div></div>"
      ],
      "text/plain": [
       "<IPython.core.display.HTML object>"
      ]
     },
     "metadata": {},
     "output_type": "display_data"
    },
    {
     "data": {
      "text/html": [
       " View run <strong style=\"color:#cdcd00\">resilient-morning-8</strong> at: <a href='https://wandb.ai/oriane-cavrois/brain_image_large_archi_optimization_4/runs/4w7cn2se' target=\"_blank\">https://wandb.ai/oriane-cavrois/brain_image_large_archi_optimization_4/runs/4w7cn2se</a><br/>Synced 5 W&B file(s), 0 media file(s), 0 artifact file(s) and 0 other file(s)"
      ],
      "text/plain": [
       "<IPython.core.display.HTML object>"
      ]
     },
     "metadata": {},
     "output_type": "display_data"
    },
    {
     "data": {
      "text/html": [
       "Find logs at: <code>./wandb/run-20240208_181738-4w7cn2se/logs</code>"
      ],
      "text/plain": [
       "<IPython.core.display.HTML object>"
      ]
     },
     "metadata": {},
     "output_type": "display_data"
    },
    {
     "name": "stdout",
     "output_type": "stream",
     "text": [
      "Iteration 8\n",
      "Number of epochs: 5\n",
      "(5, 0.00285, 11, 45, 7, 7, 1.0)\n"
     ]
    },
    {
     "data": {
      "application/vnd.jupyter.widget-view+json": {
       "model_id": "9060029ab57741cfb9da71679dfa2032",
       "version_major": 2,
       "version_minor": 0
      },
      "text/plain": [
       "VBox(children=(Label(value='Waiting for wandb.init()...\\r'), FloatProgress(value=0.011166795366605382, max=1.0…"
      ]
     },
     "metadata": {},
     "output_type": "display_data"
    },
    {
     "data": {
      "text/html": [
       "wandb version 0.16.3 is available!  To upgrade, please run:\n",
       " $ pip install wandb --upgrade"
      ],
      "text/plain": [
       "<IPython.core.display.HTML object>"
      ]
     },
     "metadata": {},
     "output_type": "display_data"
    },
    {
     "data": {
      "text/html": [
       "Tracking run with wandb version 0.16.2"
      ],
      "text/plain": [
       "<IPython.core.display.HTML object>"
      ]
     },
     "metadata": {},
     "output_type": "display_data"
    },
    {
     "data": {
      "text/html": [
       "Run data is saved locally in <code>/Users/orianecavrois/Documents/Perso/MachineLearning/Github/Brain-tumor-image-classification/wandb/run-20240208_181813-cxt5090z</code>"
      ],
      "text/plain": [
       "<IPython.core.display.HTML object>"
      ]
     },
     "metadata": {},
     "output_type": "display_data"
    },
    {
     "data": {
      "text/html": [
       "Syncing run <strong><a href='https://wandb.ai/oriane-cavrois/brain_image_large_archi_optimization_4/runs/cxt5090z' target=\"_blank\">curious-morning-9</a></strong> to <a href='https://wandb.ai/oriane-cavrois/brain_image_large_archi_optimization_4' target=\"_blank\">Weights & Biases</a> (<a href='https://wandb.me/run' target=\"_blank\">docs</a>)<br/>"
      ],
      "text/plain": [
       "<IPython.core.display.HTML object>"
      ]
     },
     "metadata": {},
     "output_type": "display_data"
    },
    {
     "data": {
      "text/html": [
       " View project at <a href='https://wandb.ai/oriane-cavrois/brain_image_large_archi_optimization_4' target=\"_blank\">https://wandb.ai/oriane-cavrois/brain_image_large_archi_optimization_4</a>"
      ],
      "text/plain": [
       "<IPython.core.display.HTML object>"
      ]
     },
     "metadata": {},
     "output_type": "display_data"
    },
    {
     "data": {
      "text/html": [
       " View run at <a href='https://wandb.ai/oriane-cavrois/brain_image_large_archi_optimization_4/runs/cxt5090z' target=\"_blank\">https://wandb.ai/oriane-cavrois/brain_image_large_archi_optimization_4/runs/cxt5090z</a>"
      ],
      "text/plain": [
       "<IPython.core.display.HTML object>"
      ]
     },
     "metadata": {},
     "output_type": "display_data"
    },
    {
     "name": "stdout",
     "output_type": "stream",
     "text": [
      "Fold 1\n",
      "-------\n",
      "Test set: Average loss: 0.4620, Accuracy: 32/85 (37.65%)\n",
      "\n",
      "Fold 2\n",
      "-------\n",
      "Test set: Average loss: 0.4203, Accuracy: 39/85 (45.88%)\n",
      "\n",
      "Fold 3\n",
      "-------\n",
      "Test set: Average loss: 0.4516, Accuracy: 32/85 (37.65%)\n",
      "\n",
      "--------------------------------------\n"
     ]
    },
    {
     "name": "stderr",
     "output_type": "stream",
     "text": [
      "wandb: WARNING Source type is set to 'repo' but some required information is missing from the environment. A job will not be created from this run. See https://docs.wandb.ai/guides/launch/create-job\n"
     ]
    },
    {
     "data": {
      "application/vnd.jupyter.widget-view+json": {
       "model_id": "0c5fb67cda754602bd1bfde8ae345693",
       "version_major": 2,
       "version_minor": 0
      },
      "text/plain": [
       "VBox(children=(Label(value='0.001 MB of 0.001 MB uploaded\\r'), FloatProgress(value=1.0, max=1.0)))"
      ]
     },
     "metadata": {},
     "output_type": "display_data"
    },
    {
     "data": {
      "text/html": [
       "<style>\n",
       "    table.wandb td:nth-child(1) { padding: 0 10px; text-align: left ; width: auto;} td:nth-child(2) {text-align: left ; width: 100%}\n",
       "    .wandb-row { display: flex; flex-direction: row; flex-wrap: wrap; justify-content: flex-start; width: 100% }\n",
       "    .wandb-col { display: flex; flex-direction: column; flex-basis: 100%; flex: 1; padding: 10px; }\n",
       "    </style>\n",
       "<div class=\"wandb-row\"><div class=\"wandb-col\"><h3>Run history:</h3><br/><table class=\"wandb\"><tr><td>test accuracy</td><td>▁</td></tr><tr><td>test loss</td><td>▁</td></tr><tr><td>train accuracy</td><td>▁</td></tr><tr><td>train loss</td><td>▁</td></tr></table><br/></div><div class=\"wandb-col\"><h3>Run summary:</h3><br/><table class=\"wandb\"><tr><td>test accuracy</td><td>0.40392</td></tr><tr><td>test loss</td><td>0.44461</td></tr><tr><td>train accuracy</td><td>0.6131</td></tr><tr><td>train loss</td><td>0.06589</td></tr></table><br/></div></div>"
      ],
      "text/plain": [
       "<IPython.core.display.HTML object>"
      ]
     },
     "metadata": {},
     "output_type": "display_data"
    },
    {
     "data": {
      "text/html": [
       " View run <strong style=\"color:#cdcd00\">curious-morning-9</strong> at: <a href='https://wandb.ai/oriane-cavrois/brain_image_large_archi_optimization_4/runs/cxt5090z' target=\"_blank\">https://wandb.ai/oriane-cavrois/brain_image_large_archi_optimization_4/runs/cxt5090z</a><br/>Synced 5 W&B file(s), 0 media file(s), 0 artifact file(s) and 0 other file(s)"
      ],
      "text/plain": [
       "<IPython.core.display.HTML object>"
      ]
     },
     "metadata": {},
     "output_type": "display_data"
    },
    {
     "data": {
      "text/html": [
       "Find logs at: <code>./wandb/run-20240208_181813-cxt5090z/logs</code>"
      ],
      "text/plain": [
       "<IPython.core.display.HTML object>"
      ]
     },
     "metadata": {},
     "output_type": "display_data"
    },
    {
     "name": "stdout",
     "output_type": "stream",
     "text": [
      "Iteration 9\n",
      "Number of epochs: 5\n",
      "(5, 0.0045000000000000005, 4, 60, 5, 6, 0.6000000000000001)\n"
     ]
    },
    {
     "data": {
      "application/vnd.jupyter.widget-view+json": {
       "model_id": "0147c176cb5d4624b8aa525798225921",
       "version_major": 2,
       "version_minor": 0
      },
      "text/plain": [
       "VBox(children=(Label(value='Waiting for wandb.init()...\\r'), FloatProgress(value=0.011162443055541694, max=1.0…"
      ]
     },
     "metadata": {},
     "output_type": "display_data"
    },
    {
     "data": {
      "text/html": [
       "wandb version 0.16.3 is available!  To upgrade, please run:\n",
       " $ pip install wandb --upgrade"
      ],
      "text/plain": [
       "<IPython.core.display.HTML object>"
      ]
     },
     "metadata": {},
     "output_type": "display_data"
    },
    {
     "data": {
      "text/html": [
       "Tracking run with wandb version 0.16.2"
      ],
      "text/plain": [
       "<IPython.core.display.HTML object>"
      ]
     },
     "metadata": {},
     "output_type": "display_data"
    },
    {
     "data": {
      "text/html": [
       "Run data is saved locally in <code>/Users/orianecavrois/Documents/Perso/MachineLearning/Github/Brain-tumor-image-classification/wandb/run-20240208_181828-gfpuxyit</code>"
      ],
      "text/plain": [
       "<IPython.core.display.HTML object>"
      ]
     },
     "metadata": {},
     "output_type": "display_data"
    },
    {
     "data": {
      "text/html": [
       "Syncing run <strong><a href='https://wandb.ai/oriane-cavrois/brain_image_large_archi_optimization_4/runs/gfpuxyit' target=\"_blank\">atomic-pyramid-10</a></strong> to <a href='https://wandb.ai/oriane-cavrois/brain_image_large_archi_optimization_4' target=\"_blank\">Weights & Biases</a> (<a href='https://wandb.me/run' target=\"_blank\">docs</a>)<br/>"
      ],
      "text/plain": [
       "<IPython.core.display.HTML object>"
      ]
     },
     "metadata": {},
     "output_type": "display_data"
    },
    {
     "data": {
      "text/html": [
       " View project at <a href='https://wandb.ai/oriane-cavrois/brain_image_large_archi_optimization_4' target=\"_blank\">https://wandb.ai/oriane-cavrois/brain_image_large_archi_optimization_4</a>"
      ],
      "text/plain": [
       "<IPython.core.display.HTML object>"
      ]
     },
     "metadata": {},
     "output_type": "display_data"
    },
    {
     "data": {
      "text/html": [
       " View run at <a href='https://wandb.ai/oriane-cavrois/brain_image_large_archi_optimization_4/runs/gfpuxyit' target=\"_blank\">https://wandb.ai/oriane-cavrois/brain_image_large_archi_optimization_4/runs/gfpuxyit</a>"
      ],
      "text/plain": [
       "<IPython.core.display.HTML object>"
      ]
     },
     "metadata": {},
     "output_type": "display_data"
    },
    {
     "name": "stdout",
     "output_type": "stream",
     "text": [
      "Fold 1\n",
      "-------\n",
      "Test set: Average loss: 12.5106, Accuracy: 48/85 (56.47%)\n",
      "\n",
      "Fold 2\n",
      "-------\n",
      "Test set: Average loss: 4.2650, Accuracy: 47/85 (55.29%)\n",
      "\n",
      "Fold 3\n",
      "-------\n",
      "Test set: Average loss: 4.4821, Accuracy: 48/85 (56.47%)\n",
      "\n",
      "--------------------------------------\n"
     ]
    },
    {
     "name": "stderr",
     "output_type": "stream",
     "text": [
      "wandb: WARNING Source type is set to 'repo' but some required information is missing from the environment. A job will not be created from this run. See https://docs.wandb.ai/guides/launch/create-job\n"
     ]
    },
    {
     "data": {
      "application/vnd.jupyter.widget-view+json": {
       "model_id": "e4bd97cc44fe4848a30ec8697a274497",
       "version_major": 2,
       "version_minor": 0
      },
      "text/plain": [
       "VBox(children=(Label(value='0.001 MB of 0.001 MB uploaded\\r'), FloatProgress(value=1.0, max=1.0)))"
      ]
     },
     "metadata": {},
     "output_type": "display_data"
    },
    {
     "data": {
      "text/html": [
       "<style>\n",
       "    table.wandb td:nth-child(1) { padding: 0 10px; text-align: left ; width: auto;} td:nth-child(2) {text-align: left ; width: 100%}\n",
       "    .wandb-row { display: flex; flex-direction: row; flex-wrap: wrap; justify-content: flex-start; width: 100% }\n",
       "    .wandb-col { display: flex; flex-direction: column; flex-basis: 100%; flex: 1; padding: 10px; }\n",
       "    </style>\n",
       "<div class=\"wandb-row\"><div class=\"wandb-col\"><h3>Run history:</h3><br/><table class=\"wandb\"><tr><td>test accuracy</td><td>▁</td></tr><tr><td>test loss</td><td>▁</td></tr><tr><td>train accuracy</td><td>▁</td></tr><tr><td>train loss</td><td>▁</td></tr></table><br/></div><div class=\"wandb-col\"><h3>Run summary:</h3><br/><table class=\"wandb\"><tr><td>test accuracy</td><td>0.56078</td></tr><tr><td>test loss</td><td>7.08591</td></tr><tr><td>train accuracy</td><td>0.79821</td></tr><tr><td>train loss</td><td>12.32058</td></tr></table><br/></div></div>"
      ],
      "text/plain": [
       "<IPython.core.display.HTML object>"
      ]
     },
     "metadata": {},
     "output_type": "display_data"
    },
    {
     "data": {
      "text/html": [
       " View run <strong style=\"color:#cdcd00\">atomic-pyramid-10</strong> at: <a href='https://wandb.ai/oriane-cavrois/brain_image_large_archi_optimization_4/runs/gfpuxyit' target=\"_blank\">https://wandb.ai/oriane-cavrois/brain_image_large_archi_optimization_4/runs/gfpuxyit</a><br/>Synced 5 W&B file(s), 0 media file(s), 0 artifact file(s) and 0 other file(s)"
      ],
      "text/plain": [
       "<IPython.core.display.HTML object>"
      ]
     },
     "metadata": {},
     "output_type": "display_data"
    },
    {
     "data": {
      "text/html": [
       "Find logs at: <code>./wandb/run-20240208_181828-gfpuxyit/logs</code>"
      ],
      "text/plain": [
       "<IPython.core.display.HTML object>"
      ]
     },
     "metadata": {},
     "output_type": "display_data"
    },
    {
     "name": "stdout",
     "output_type": "stream",
     "text": [
      "Iteration 10\n",
      "Number of epochs: 5\n",
      "(5, 0.0023, 5, 55, 5, 4, 0.65)\n"
     ]
    },
    {
     "data": {
      "application/vnd.jupyter.widget-view+json": {
       "model_id": "41f22a2806f648ae99cfcc6146229174",
       "version_major": 2,
       "version_minor": 0
      },
      "text/plain": [
       "VBox(children=(Label(value='Waiting for wandb.init()...\\r'), FloatProgress(value=0.011147059722214988, max=1.0…"
      ]
     },
     "metadata": {},
     "output_type": "display_data"
    },
    {
     "data": {
      "text/html": [
       "wandb version 0.16.3 is available!  To upgrade, please run:\n",
       " $ pip install wandb --upgrade"
      ],
      "text/plain": [
       "<IPython.core.display.HTML object>"
      ]
     },
     "metadata": {},
     "output_type": "display_data"
    },
    {
     "data": {
      "text/html": [
       "Tracking run with wandb version 0.16.2"
      ],
      "text/plain": [
       "<IPython.core.display.HTML object>"
      ]
     },
     "metadata": {},
     "output_type": "display_data"
    },
    {
     "data": {
      "text/html": [
       "Run data is saved locally in <code>/Users/orianecavrois/Documents/Perso/MachineLearning/Github/Brain-tumor-image-classification/wandb/run-20240208_181845-4yl73p0u</code>"
      ],
      "text/plain": [
       "<IPython.core.display.HTML object>"
      ]
     },
     "metadata": {},
     "output_type": "display_data"
    },
    {
     "data": {
      "text/html": [
       "Syncing run <strong><a href='https://wandb.ai/oriane-cavrois/brain_image_large_archi_optimization_4/runs/4yl73p0u' target=\"_blank\">woven-night-11</a></strong> to <a href='https://wandb.ai/oriane-cavrois/brain_image_large_archi_optimization_4' target=\"_blank\">Weights & Biases</a> (<a href='https://wandb.me/run' target=\"_blank\">docs</a>)<br/>"
      ],
      "text/plain": [
       "<IPython.core.display.HTML object>"
      ]
     },
     "metadata": {},
     "output_type": "display_data"
    },
    {
     "data": {
      "text/html": [
       " View project at <a href='https://wandb.ai/oriane-cavrois/brain_image_large_archi_optimization_4' target=\"_blank\">https://wandb.ai/oriane-cavrois/brain_image_large_archi_optimization_4</a>"
      ],
      "text/plain": [
       "<IPython.core.display.HTML object>"
      ]
     },
     "metadata": {},
     "output_type": "display_data"
    },
    {
     "data": {
      "text/html": [
       " View run at <a href='https://wandb.ai/oriane-cavrois/brain_image_large_archi_optimization_4/runs/4yl73p0u' target=\"_blank\">https://wandb.ai/oriane-cavrois/brain_image_large_archi_optimization_4/runs/4yl73p0u</a>"
      ],
      "text/plain": [
       "<IPython.core.display.HTML object>"
      ]
     },
     "metadata": {},
     "output_type": "display_data"
    },
    {
     "name": "stdout",
     "output_type": "stream",
     "text": [
      "Fold 1\n",
      "-------\n",
      "Test set: Average loss: 17.2838, Accuracy: 40/85 (47.06%)\n",
      "\n",
      "Fold 2\n",
      "-------\n",
      "Test set: Average loss: 43.8983, Accuracy: 40/85 (47.06%)\n",
      "\n",
      "Fold 3\n",
      "-------\n",
      "Test set: Average loss: 1.2567, Accuracy: 53/85 (62.35%)\n",
      "\n",
      "--------------------------------------\n"
     ]
    },
    {
     "name": "stderr",
     "output_type": "stream",
     "text": [
      "wandb: WARNING Source type is set to 'repo' but some required information is missing from the environment. A job will not be created from this run. See https://docs.wandb.ai/guides/launch/create-job\n"
     ]
    },
    {
     "data": {
      "application/vnd.jupyter.widget-view+json": {
       "model_id": "5ad35c82b7454a7686102506324df173",
       "version_major": 2,
       "version_minor": 0
      },
      "text/plain": [
       "VBox(children=(Label(value='0.001 MB of 0.001 MB uploaded\\r'), FloatProgress(value=1.0, max=1.0)))"
      ]
     },
     "metadata": {},
     "output_type": "display_data"
    },
    {
     "data": {
      "text/html": [
       "<style>\n",
       "    table.wandb td:nth-child(1) { padding: 0 10px; text-align: left ; width: auto;} td:nth-child(2) {text-align: left ; width: 100%}\n",
       "    .wandb-row { display: flex; flex-direction: row; flex-wrap: wrap; justify-content: flex-start; width: 100% }\n",
       "    .wandb-col { display: flex; flex-direction: column; flex-basis: 100%; flex: 1; padding: 10px; }\n",
       "    </style>\n",
       "<div class=\"wandb-row\"><div class=\"wandb-col\"><h3>Run history:</h3><br/><table class=\"wandb\"><tr><td>test accuracy</td><td>▁</td></tr><tr><td>test loss</td><td>▁</td></tr><tr><td>train accuracy</td><td>▁</td></tr><tr><td>train loss</td><td>▁</td></tr></table><br/></div><div class=\"wandb-col\"><h3>Run summary:</h3><br/><table class=\"wandb\"><tr><td>test accuracy</td><td>0.52157</td></tr><tr><td>test loss</td><td>20.81296</td></tr><tr><td>train accuracy</td><td>0.82024</td></tr><tr><td>train loss</td><td>13.94929</td></tr></table><br/></div></div>"
      ],
      "text/plain": [
       "<IPython.core.display.HTML object>"
      ]
     },
     "metadata": {},
     "output_type": "display_data"
    },
    {
     "data": {
      "text/html": [
       " View run <strong style=\"color:#cdcd00\">woven-night-11</strong> at: <a href='https://wandb.ai/oriane-cavrois/brain_image_large_archi_optimization_4/runs/4yl73p0u' target=\"_blank\">https://wandb.ai/oriane-cavrois/brain_image_large_archi_optimization_4/runs/4yl73p0u</a><br/>Synced 5 W&B file(s), 0 media file(s), 0 artifact file(s) and 0 other file(s)"
      ],
      "text/plain": [
       "<IPython.core.display.HTML object>"
      ]
     },
     "metadata": {},
     "output_type": "display_data"
    },
    {
     "data": {
      "text/html": [
       "Find logs at: <code>./wandb/run-20240208_181845-4yl73p0u/logs</code>"
      ],
      "text/plain": [
       "<IPython.core.display.HTML object>"
      ]
     },
     "metadata": {},
     "output_type": "display_data"
    },
    {
     "name": "stdout",
     "output_type": "stream",
     "text": [
      "Iteration 11\n",
      "Number of epochs: 10\n",
      "(10, 0.0045000000000000005, 11, 55, 3, 4, 0.9)\n"
     ]
    },
    {
     "data": {
      "application/vnd.jupyter.widget-view+json": {
       "model_id": "102e296d8de8482aa1f27a462ea9df20",
       "version_major": 2,
       "version_minor": 0
      },
      "text/plain": [
       "VBox(children=(Label(value='Waiting for wandb.init()...\\r'), FloatProgress(value=0.011163982411138326, max=1.0…"
      ]
     },
     "metadata": {},
     "output_type": "display_data"
    },
    {
     "data": {
      "text/html": [
       "wandb version 0.16.3 is available!  To upgrade, please run:\n",
       " $ pip install wandb --upgrade"
      ],
      "text/plain": [
       "<IPython.core.display.HTML object>"
      ]
     },
     "metadata": {},
     "output_type": "display_data"
    },
    {
     "data": {
      "text/html": [
       "Tracking run with wandb version 0.16.2"
      ],
      "text/plain": [
       "<IPython.core.display.HTML object>"
      ]
     },
     "metadata": {},
     "output_type": "display_data"
    },
    {
     "data": {
      "text/html": [
       "Run data is saved locally in <code>/Users/orianecavrois/Documents/Perso/MachineLearning/Github/Brain-tumor-image-classification/wandb/run-20240208_181906-hert5zl9</code>"
      ],
      "text/plain": [
       "<IPython.core.display.HTML object>"
      ]
     },
     "metadata": {},
     "output_type": "display_data"
    },
    {
     "data": {
      "text/html": [
       "Syncing run <strong><a href='https://wandb.ai/oriane-cavrois/brain_image_large_archi_optimization_4/runs/hert5zl9' target=\"_blank\">treasured-sea-12</a></strong> to <a href='https://wandb.ai/oriane-cavrois/brain_image_large_archi_optimization_4' target=\"_blank\">Weights & Biases</a> (<a href='https://wandb.me/run' target=\"_blank\">docs</a>)<br/>"
      ],
      "text/plain": [
       "<IPython.core.display.HTML object>"
      ]
     },
     "metadata": {},
     "output_type": "display_data"
    },
    {
     "data": {
      "text/html": [
       " View project at <a href='https://wandb.ai/oriane-cavrois/brain_image_large_archi_optimization_4' target=\"_blank\">https://wandb.ai/oriane-cavrois/brain_image_large_archi_optimization_4</a>"
      ],
      "text/plain": [
       "<IPython.core.display.HTML object>"
      ]
     },
     "metadata": {},
     "output_type": "display_data"
    },
    {
     "data": {
      "text/html": [
       " View run at <a href='https://wandb.ai/oriane-cavrois/brain_image_large_archi_optimization_4/runs/hert5zl9' target=\"_blank\">https://wandb.ai/oriane-cavrois/brain_image_large_archi_optimization_4/runs/hert5zl9</a>"
      ],
      "text/plain": [
       "<IPython.core.display.HTML object>"
      ]
     },
     "metadata": {},
     "output_type": "display_data"
    },
    {
     "name": "stdout",
     "output_type": "stream",
     "text": [
      "Fold 1\n",
      "-------\n",
      "Test set: Average loss: 6.6628, Accuracy: 43/85 (50.59%)\n",
      "\n",
      "Fold 2\n",
      "-------\n",
      "Test set: Average loss: 1.0136, Accuracy: 53/85 (62.35%)\n",
      "\n",
      "Fold 3\n",
      "-------\n",
      "Test set: Average loss: 24.6524, Accuracy: 41/85 (48.24%)\n",
      "\n",
      "--------------------------------------\n"
     ]
    },
    {
     "name": "stderr",
     "output_type": "stream",
     "text": [
      "wandb: WARNING Source type is set to 'repo' but some required information is missing from the environment. A job will not be created from this run. See https://docs.wandb.ai/guides/launch/create-job\n"
     ]
    },
    {
     "data": {
      "application/vnd.jupyter.widget-view+json": {
       "model_id": "b353f6fa7afe4eeb9081f1900e8a0940",
       "version_major": 2,
       "version_minor": 0
      },
      "text/plain": [
       "VBox(children=(Label(value='0.002 MB of 0.004 MB uploaded\\r'), FloatProgress(value=0.6727131381186836, max=1.0…"
      ]
     },
     "metadata": {},
     "output_type": "display_data"
    },
    {
     "data": {
      "text/html": [
       "<style>\n",
       "    table.wandb td:nth-child(1) { padding: 0 10px; text-align: left ; width: auto;} td:nth-child(2) {text-align: left ; width: 100%}\n",
       "    .wandb-row { display: flex; flex-direction: row; flex-wrap: wrap; justify-content: flex-start; width: 100% }\n",
       "    .wandb-col { display: flex; flex-direction: column; flex-basis: 100%; flex: 1; padding: 10px; }\n",
       "    </style>\n",
       "<div class=\"wandb-row\"><div class=\"wandb-col\"><h3>Run history:</h3><br/><table class=\"wandb\"><tr><td>test accuracy</td><td>▁</td></tr><tr><td>test loss</td><td>▁</td></tr><tr><td>train accuracy</td><td>▁</td></tr><tr><td>train loss</td><td>▁</td></tr></table><br/></div><div class=\"wandb-col\"><h3>Run summary:</h3><br/><table class=\"wandb\"><tr><td>test accuracy</td><td>0.53725</td></tr><tr><td>test loss</td><td>10.77628</td></tr><tr><td>train accuracy</td><td>0.77946</td></tr><tr><td>train loss</td><td>2.77912</td></tr></table><br/></div></div>"
      ],
      "text/plain": [
       "<IPython.core.display.HTML object>"
      ]
     },
     "metadata": {},
     "output_type": "display_data"
    },
    {
     "data": {
      "text/html": [
       " View run <strong style=\"color:#cdcd00\">treasured-sea-12</strong> at: <a href='https://wandb.ai/oriane-cavrois/brain_image_large_archi_optimization_4/runs/hert5zl9' target=\"_blank\">https://wandb.ai/oriane-cavrois/brain_image_large_archi_optimization_4/runs/hert5zl9</a><br/>Synced 5 W&B file(s), 0 media file(s), 0 artifact file(s) and 0 other file(s)"
      ],
      "text/plain": [
       "<IPython.core.display.HTML object>"
      ]
     },
     "metadata": {},
     "output_type": "display_data"
    },
    {
     "data": {
      "text/html": [
       "Find logs at: <code>./wandb/run-20240208_181906-hert5zl9/logs</code>"
      ],
      "text/plain": [
       "<IPython.core.display.HTML object>"
      ]
     },
     "metadata": {},
     "output_type": "display_data"
    },
    {
     "name": "stdout",
     "output_type": "stream",
     "text": [
      "Iteration 12\n",
      "Number of epochs: 40\n",
      "(40, 0.00395, 4, 60, 7, 5, 0.75)\n"
     ]
    },
    {
     "data": {
      "application/vnd.jupyter.widget-view+json": {
       "model_id": "47cefdd3be114edeba368dedc6dd470d",
       "version_major": 2,
       "version_minor": 0
      },
      "text/plain": [
       "VBox(children=(Label(value='Waiting for wandb.init()...\\r'), FloatProgress(value=0.011117631944378243, max=1.0…"
      ]
     },
     "metadata": {},
     "output_type": "display_data"
    },
    {
     "data": {
      "text/html": [
       "wandb version 0.16.3 is available!  To upgrade, please run:\n",
       " $ pip install wandb --upgrade"
      ],
      "text/plain": [
       "<IPython.core.display.HTML object>"
      ]
     },
     "metadata": {},
     "output_type": "display_data"
    },
    {
     "data": {
      "text/html": [
       "Tracking run with wandb version 0.16.2"
      ],
      "text/plain": [
       "<IPython.core.display.HTML object>"
      ]
     },
     "metadata": {},
     "output_type": "display_data"
    },
    {
     "data": {
      "text/html": [
       "Run data is saved locally in <code>/Users/orianecavrois/Documents/Perso/MachineLearning/Github/Brain-tumor-image-classification/wandb/run-20240208_181929-c44s0vkz</code>"
      ],
      "text/plain": [
       "<IPython.core.display.HTML object>"
      ]
     },
     "metadata": {},
     "output_type": "display_data"
    },
    {
     "data": {
      "text/html": [
       "Syncing run <strong><a href='https://wandb.ai/oriane-cavrois/brain_image_large_archi_optimization_4/runs/c44s0vkz' target=\"_blank\">hardy-bird-13</a></strong> to <a href='https://wandb.ai/oriane-cavrois/brain_image_large_archi_optimization_4' target=\"_blank\">Weights & Biases</a> (<a href='https://wandb.me/run' target=\"_blank\">docs</a>)<br/>"
      ],
      "text/plain": [
       "<IPython.core.display.HTML object>"
      ]
     },
     "metadata": {},
     "output_type": "display_data"
    },
    {
     "data": {
      "text/html": [
       " View project at <a href='https://wandb.ai/oriane-cavrois/brain_image_large_archi_optimization_4' target=\"_blank\">https://wandb.ai/oriane-cavrois/brain_image_large_archi_optimization_4</a>"
      ],
      "text/plain": [
       "<IPython.core.display.HTML object>"
      ]
     },
     "metadata": {},
     "output_type": "display_data"
    },
    {
     "data": {
      "text/html": [
       " View run at <a href='https://wandb.ai/oriane-cavrois/brain_image_large_archi_optimization_4/runs/c44s0vkz' target=\"_blank\">https://wandb.ai/oriane-cavrois/brain_image_large_archi_optimization_4/runs/c44s0vkz</a>"
      ],
      "text/plain": [
       "<IPython.core.display.HTML object>"
      ]
     },
     "metadata": {},
     "output_type": "display_data"
    },
    {
     "name": "stdout",
     "output_type": "stream",
     "text": [
      "Fold 1\n",
      "-------\n",
      "Test set: Average loss: 83.6354, Accuracy: 43/85 (50.59%)\n",
      "\n",
      "Fold 2\n",
      "-------\n",
      "Test set: Average loss: 59.5535, Accuracy: 51/85 (60.00%)\n",
      "\n",
      "Fold 3\n",
      "-------\n",
      "Test set: Average loss: 0.0000, Accuracy: 56/85 (65.88%)\n",
      "\n",
      "--------------------------------------\n"
     ]
    },
    {
     "name": "stderr",
     "output_type": "stream",
     "text": [
      "wandb: WARNING Source type is set to 'repo' but some required information is missing from the environment. A job will not be created from this run. See https://docs.wandb.ai/guides/launch/create-job\n"
     ]
    },
    {
     "data": {
      "application/vnd.jupyter.widget-view+json": {
       "model_id": "eeacafc2a8f143b8a76c4c74f397e315",
       "version_major": 2,
       "version_minor": 0
      },
      "text/plain": [
       "VBox(children=(Label(value='0.001 MB of 0.003 MB uploaded\\r'), FloatProgress(value=0.4600280504908836, max=1.0…"
      ]
     },
     "metadata": {},
     "output_type": "display_data"
    },
    {
     "data": {
      "text/html": [
       "<style>\n",
       "    table.wandb td:nth-child(1) { padding: 0 10px; text-align: left ; width: auto;} td:nth-child(2) {text-align: left ; width: 100%}\n",
       "    .wandb-row { display: flex; flex-direction: row; flex-wrap: wrap; justify-content: flex-start; width: 100% }\n",
       "    .wandb-col { display: flex; flex-direction: column; flex-basis: 100%; flex: 1; padding: 10px; }\n",
       "    </style>\n",
       "<div class=\"wandb-row\"><div class=\"wandb-col\"><h3>Run history:</h3><br/><table class=\"wandb\"><tr><td>test accuracy</td><td>▁</td></tr><tr><td>test loss</td><td>▁</td></tr><tr><td>train accuracy</td><td>▁</td></tr><tr><td>train loss</td><td>▁</td></tr></table><br/></div><div class=\"wandb-col\"><h3>Run summary:</h3><br/><table class=\"wandb\"><tr><td>test accuracy</td><td>0.58824</td></tr><tr><td>test loss</td><td>47.72965</td></tr><tr><td>train accuracy</td><td>0.94464</td></tr><tr><td>train loss</td><td>7.78004</td></tr></table><br/></div></div>"
      ],
      "text/plain": [
       "<IPython.core.display.HTML object>"
      ]
     },
     "metadata": {},
     "output_type": "display_data"
    },
    {
     "data": {
      "text/html": [
       " View run <strong style=\"color:#cdcd00\">hardy-bird-13</strong> at: <a href='https://wandb.ai/oriane-cavrois/brain_image_large_archi_optimization_4/runs/c44s0vkz' target=\"_blank\">https://wandb.ai/oriane-cavrois/brain_image_large_archi_optimization_4/runs/c44s0vkz</a><br/>Synced 5 W&B file(s), 0 media file(s), 0 artifact file(s) and 0 other file(s)"
      ],
      "text/plain": [
       "<IPython.core.display.HTML object>"
      ]
     },
     "metadata": {},
     "output_type": "display_data"
    },
    {
     "data": {
      "text/html": [
       "Find logs at: <code>./wandb/run-20240208_181929-c44s0vkz/logs</code>"
      ],
      "text/plain": [
       "<IPython.core.display.HTML object>"
      ]
     },
     "metadata": {},
     "output_type": "display_data"
    },
    {
     "name": "stdout",
     "output_type": "stream",
     "text": [
      "Iteration 13\n",
      "Number of epochs: 5\n",
      "(5, 0.0001, 7, 30, 5, 3, 0.2)\n"
     ]
    },
    {
     "data": {
      "application/vnd.jupyter.widget-view+json": {
       "model_id": "0c968f40d16a491081457aa1d7fb577e",
       "version_major": 2,
       "version_minor": 0
      },
      "text/plain": [
       "VBox(children=(Label(value='Waiting for wandb.init()...\\r'), FloatProgress(value=0.011169173144460526, max=1.0…"
      ]
     },
     "metadata": {},
     "output_type": "display_data"
    },
    {
     "data": {
      "text/html": [
       "wandb version 0.16.3 is available!  To upgrade, please run:\n",
       " $ pip install wandb --upgrade"
      ],
      "text/plain": [
       "<IPython.core.display.HTML object>"
      ]
     },
     "metadata": {},
     "output_type": "display_data"
    },
    {
     "data": {
      "text/html": [
       "Tracking run with wandb version 0.16.2"
      ],
      "text/plain": [
       "<IPython.core.display.HTML object>"
      ]
     },
     "metadata": {},
     "output_type": "display_data"
    },
    {
     "data": {
      "text/html": [
       "Run data is saved locally in <code>/Users/orianecavrois/Documents/Perso/MachineLearning/Github/Brain-tumor-image-classification/wandb/run-20240208_182053-nhppyge1</code>"
      ],
      "text/plain": [
       "<IPython.core.display.HTML object>"
      ]
     },
     "metadata": {},
     "output_type": "display_data"
    },
    {
     "data": {
      "text/html": [
       "Syncing run <strong><a href='https://wandb.ai/oriane-cavrois/brain_image_large_archi_optimization_4/runs/nhppyge1' target=\"_blank\">honest-leaf-14</a></strong> to <a href='https://wandb.ai/oriane-cavrois/brain_image_large_archi_optimization_4' target=\"_blank\">Weights & Biases</a> (<a href='https://wandb.me/run' target=\"_blank\">docs</a>)<br/>"
      ],
      "text/plain": [
       "<IPython.core.display.HTML object>"
      ]
     },
     "metadata": {},
     "output_type": "display_data"
    },
    {
     "data": {
      "text/html": [
       " View project at <a href='https://wandb.ai/oriane-cavrois/brain_image_large_archi_optimization_4' target=\"_blank\">https://wandb.ai/oriane-cavrois/brain_image_large_archi_optimization_4</a>"
      ],
      "text/plain": [
       "<IPython.core.display.HTML object>"
      ]
     },
     "metadata": {},
     "output_type": "display_data"
    },
    {
     "data": {
      "text/html": [
       " View run at <a href='https://wandb.ai/oriane-cavrois/brain_image_large_archi_optimization_4/runs/nhppyge1' target=\"_blank\">https://wandb.ai/oriane-cavrois/brain_image_large_archi_optimization_4/runs/nhppyge1</a>"
      ],
      "text/plain": [
       "<IPython.core.display.HTML object>"
      ]
     },
     "metadata": {},
     "output_type": "display_data"
    },
    {
     "name": "stdout",
     "output_type": "stream",
     "text": [
      "Fold 1\n",
      "-------\n",
      "Test set: Average loss: 19.4904, Accuracy: 43/85 (50.59%)\n",
      "\n",
      "Fold 2\n",
      "-------\n",
      "Test set: Average loss: 5.6745, Accuracy: 46/85 (54.12%)\n",
      "\n",
      "Fold 3\n",
      "-------\n",
      "Test set: Average loss: 0.6141, Accuracy: 54/85 (63.53%)\n",
      "\n",
      "--------------------------------------\n"
     ]
    },
    {
     "name": "stderr",
     "output_type": "stream",
     "text": [
      "wandb: WARNING Source type is set to 'repo' but some required information is missing from the environment. A job will not be created from this run. See https://docs.wandb.ai/guides/launch/create-job\n"
     ]
    },
    {
     "data": {
      "application/vnd.jupyter.widget-view+json": {
       "model_id": "d72fe58f2cc244c6aa85be8d5c1420db",
       "version_major": 2,
       "version_minor": 0
      },
      "text/plain": [
       "VBox(children=(Label(value='0.001 MB of 0.003 MB uploaded\\r'), FloatProgress(value=0.4601894072255349, max=1.0…"
      ]
     },
     "metadata": {},
     "output_type": "display_data"
    },
    {
     "data": {
      "text/html": [
       "<style>\n",
       "    table.wandb td:nth-child(1) { padding: 0 10px; text-align: left ; width: auto;} td:nth-child(2) {text-align: left ; width: 100%}\n",
       "    .wandb-row { display: flex; flex-direction: row; flex-wrap: wrap; justify-content: flex-start; width: 100% }\n",
       "    .wandb-col { display: flex; flex-direction: column; flex-basis: 100%; flex: 1; padding: 10px; }\n",
       "    </style>\n",
       "<div class=\"wandb-row\"><div class=\"wandb-col\"><h3>Run history:</h3><br/><table class=\"wandb\"><tr><td>test accuracy</td><td>▁</td></tr><tr><td>test loss</td><td>▁</td></tr><tr><td>train accuracy</td><td>▁</td></tr><tr><td>train loss</td><td>▁</td></tr></table><br/></div><div class=\"wandb-col\"><h3>Run summary:</h3><br/><table class=\"wandb\"><tr><td>test accuracy</td><td>0.56078</td></tr><tr><td>test loss</td><td>8.593</td></tr><tr><td>train accuracy</td><td>0.83333</td></tr><tr><td>train loss</td><td>29.39837</td></tr></table><br/></div></div>"
      ],
      "text/plain": [
       "<IPython.core.display.HTML object>"
      ]
     },
     "metadata": {},
     "output_type": "display_data"
    },
    {
     "data": {
      "text/html": [
       " View run <strong style=\"color:#cdcd00\">honest-leaf-14</strong> at: <a href='https://wandb.ai/oriane-cavrois/brain_image_large_archi_optimization_4/runs/nhppyge1' target=\"_blank\">https://wandb.ai/oriane-cavrois/brain_image_large_archi_optimization_4/runs/nhppyge1</a><br/>Synced 5 W&B file(s), 0 media file(s), 0 artifact file(s) and 0 other file(s)"
      ],
      "text/plain": [
       "<IPython.core.display.HTML object>"
      ]
     },
     "metadata": {},
     "output_type": "display_data"
    },
    {
     "data": {
      "text/html": [
       "Find logs at: <code>./wandb/run-20240208_182053-nhppyge1/logs</code>"
      ],
      "text/plain": [
       "<IPython.core.display.HTML object>"
      ]
     },
     "metadata": {},
     "output_type": "display_data"
    },
    {
     "name": "stdout",
     "output_type": "stream",
     "text": [
      "Iteration 14\n",
      "Number of epochs: 25\n",
      "(25, 0.005050000000000001, 5, 75, 5, 4, 0.65)\n"
     ]
    },
    {
     "data": {
      "application/vnd.jupyter.widget-view+json": {
       "model_id": "2b585a82b3dc41b585599c1c3c7b99a5",
       "version_major": 2,
       "version_minor": 0
      },
      "text/plain": [
       "VBox(children=(Label(value='Waiting for wandb.init()...\\r'), FloatProgress(value=0.011169548611117837, max=1.0…"
      ]
     },
     "metadata": {},
     "output_type": "display_data"
    },
    {
     "data": {
      "text/html": [
       "wandb version 0.16.3 is available!  To upgrade, please run:\n",
       " $ pip install wandb --upgrade"
      ],
      "text/plain": [
       "<IPython.core.display.HTML object>"
      ]
     },
     "metadata": {},
     "output_type": "display_data"
    },
    {
     "data": {
      "text/html": [
       "Tracking run with wandb version 0.16.2"
      ],
      "text/plain": [
       "<IPython.core.display.HTML object>"
      ]
     },
     "metadata": {},
     "output_type": "display_data"
    },
    {
     "data": {
      "text/html": [
       "Run data is saved locally in <code>/Users/orianecavrois/Documents/Perso/MachineLearning/Github/Brain-tumor-image-classification/wandb/run-20240208_182109-v6oa4505</code>"
      ],
      "text/plain": [
       "<IPython.core.display.HTML object>"
      ]
     },
     "metadata": {},
     "output_type": "display_data"
    },
    {
     "data": {
      "text/html": [
       "Syncing run <strong><a href='https://wandb.ai/oriane-cavrois/brain_image_large_archi_optimization_4/runs/v6oa4505' target=\"_blank\">winter-dawn-15</a></strong> to <a href='https://wandb.ai/oriane-cavrois/brain_image_large_archi_optimization_4' target=\"_blank\">Weights & Biases</a> (<a href='https://wandb.me/run' target=\"_blank\">docs</a>)<br/>"
      ],
      "text/plain": [
       "<IPython.core.display.HTML object>"
      ]
     },
     "metadata": {},
     "output_type": "display_data"
    },
    {
     "data": {
      "text/html": [
       " View project at <a href='https://wandb.ai/oriane-cavrois/brain_image_large_archi_optimization_4' target=\"_blank\">https://wandb.ai/oriane-cavrois/brain_image_large_archi_optimization_4</a>"
      ],
      "text/plain": [
       "<IPython.core.display.HTML object>"
      ]
     },
     "metadata": {},
     "output_type": "display_data"
    },
    {
     "data": {
      "text/html": [
       " View run at <a href='https://wandb.ai/oriane-cavrois/brain_image_large_archi_optimization_4/runs/v6oa4505' target=\"_blank\">https://wandb.ai/oriane-cavrois/brain_image_large_archi_optimization_4/runs/v6oa4505</a>"
      ],
      "text/plain": [
       "<IPython.core.display.HTML object>"
      ]
     },
     "metadata": {},
     "output_type": "display_data"
    },
    {
     "name": "stdout",
     "output_type": "stream",
     "text": [
      "Fold 1\n",
      "-------\n",
      "Test set: Average loss: 77.7994, Accuracy: 38/85 (44.71%)\n",
      "\n",
      "Fold 2\n",
      "-------\n",
      "Test set: Average loss: 13.6244, Accuracy: 52/85 (61.18%)\n",
      "\n",
      "Fold 3\n",
      "-------\n",
      "Test set: Average loss: 29.3711, Accuracy: 53/85 (62.35%)\n",
      "\n",
      "--------------------------------------\n"
     ]
    },
    {
     "data": {
      "application/vnd.jupyter.widget-view+json": {
       "model_id": "c9fca9a195994ebf957bc63476414824",
       "version_major": 2,
       "version_minor": 0
      },
      "text/plain": [
       "VBox(children=(Label(value='0.001 MB of 0.001 MB uploaded\\r'), FloatProgress(value=1.0, max=1.0)))"
      ]
     },
     "metadata": {},
     "output_type": "display_data"
    },
    {
     "name": "stderr",
     "output_type": "stream",
     "text": [
      "wandb: WARNING Source type is set to 'repo' but some required information is missing from the environment. A job will not be created from this run. See https://docs.wandb.ai/guides/launch/create-job\n"
     ]
    },
    {
     "data": {
      "text/html": [
       "<style>\n",
       "    table.wandb td:nth-child(1) { padding: 0 10px; text-align: left ; width: auto;} td:nth-child(2) {text-align: left ; width: 100%}\n",
       "    .wandb-row { display: flex; flex-direction: row; flex-wrap: wrap; justify-content: flex-start; width: 100% }\n",
       "    .wandb-col { display: flex; flex-direction: column; flex-basis: 100%; flex: 1; padding: 10px; }\n",
       "    </style>\n",
       "<div class=\"wandb-row\"><div class=\"wandb-col\"><h3>Run history:</h3><br/><table class=\"wandb\"><tr><td>test accuracy</td><td>▁</td></tr><tr><td>test loss</td><td>▁</td></tr><tr><td>train accuracy</td><td>▁</td></tr><tr><td>train loss</td><td>▁</td></tr></table><br/></div><div class=\"wandb-col\"><h3>Run summary:</h3><br/><table class=\"wandb\"><tr><td>test accuracy</td><td>0.56078</td></tr><tr><td>test loss</td><td>40.265</td></tr><tr><td>train accuracy</td><td>0.94202</td></tr><tr><td>train loss</td><td>8.53346</td></tr></table><br/></div></div>"
      ],
      "text/plain": [
       "<IPython.core.display.HTML object>"
      ]
     },
     "metadata": {},
     "output_type": "display_data"
    },
    {
     "data": {
      "text/html": [
       " View run <strong style=\"color:#cdcd00\">winter-dawn-15</strong> at: <a href='https://wandb.ai/oriane-cavrois/brain_image_large_archi_optimization_4/runs/v6oa4505' target=\"_blank\">https://wandb.ai/oriane-cavrois/brain_image_large_archi_optimization_4/runs/v6oa4505</a><br/>Synced 5 W&B file(s), 0 media file(s), 0 artifact file(s) and 0 other file(s)"
      ],
      "text/plain": [
       "<IPython.core.display.HTML object>"
      ]
     },
     "metadata": {},
     "output_type": "display_data"
    },
    {
     "data": {
      "text/html": [
       "Find logs at: <code>./wandb/run-20240208_182109-v6oa4505/logs</code>"
      ],
      "text/plain": [
       "<IPython.core.display.HTML object>"
      ]
     },
     "metadata": {},
     "output_type": "display_data"
    },
    {
     "name": "stdout",
     "output_type": "stream",
     "text": [
      "Iteration 15\n",
      "Number of epochs: 15\n",
      "(15, 0.006150000000000001, 10, 75, 1, 6, 0.9500000000000001)\n"
     ]
    },
    {
     "data": {
      "text/html": [
       "wandb version 0.16.3 is available!  To upgrade, please run:\n",
       " $ pip install wandb --upgrade"
      ],
      "text/plain": [
       "<IPython.core.display.HTML object>"
      ]
     },
     "metadata": {},
     "output_type": "display_data"
    },
    {
     "data": {
      "text/html": [
       "Tracking run with wandb version 0.16.2"
      ],
      "text/plain": [
       "<IPython.core.display.HTML object>"
      ]
     },
     "metadata": {},
     "output_type": "display_data"
    },
    {
     "data": {
      "text/html": [
       "Run data is saved locally in <code>/Users/orianecavrois/Documents/Perso/MachineLearning/Github/Brain-tumor-image-classification/wandb/run-20240208_182210-16vtzd9c</code>"
      ],
      "text/plain": [
       "<IPython.core.display.HTML object>"
      ]
     },
     "metadata": {},
     "output_type": "display_data"
    },
    {
     "data": {
      "text/html": [
       "Syncing run <strong><a href='https://wandb.ai/oriane-cavrois/brain_image_large_archi_optimization_4/runs/16vtzd9c' target=\"_blank\">frosty-darkness-16</a></strong> to <a href='https://wandb.ai/oriane-cavrois/brain_image_large_archi_optimization_4' target=\"_blank\">Weights & Biases</a> (<a href='https://wandb.me/run' target=\"_blank\">docs</a>)<br/>"
      ],
      "text/plain": [
       "<IPython.core.display.HTML object>"
      ]
     },
     "metadata": {},
     "output_type": "display_data"
    },
    {
     "data": {
      "text/html": [
       " View project at <a href='https://wandb.ai/oriane-cavrois/brain_image_large_archi_optimization_4' target=\"_blank\">https://wandb.ai/oriane-cavrois/brain_image_large_archi_optimization_4</a>"
      ],
      "text/plain": [
       "<IPython.core.display.HTML object>"
      ]
     },
     "metadata": {},
     "output_type": "display_data"
    },
    {
     "data": {
      "text/html": [
       " View run at <a href='https://wandb.ai/oriane-cavrois/brain_image_large_archi_optimization_4/runs/16vtzd9c' target=\"_blank\">https://wandb.ai/oriane-cavrois/brain_image_large_archi_optimization_4/runs/16vtzd9c</a>"
      ],
      "text/plain": [
       "<IPython.core.display.HTML object>"
      ]
     },
     "metadata": {},
     "output_type": "display_data"
    },
    {
     "name": "stdout",
     "output_type": "stream",
     "text": [
      "Fold 1\n",
      "-------\n",
      "Test set: Average loss: 8.2841, Accuracy: 29/85 (34.12%)\n",
      "\n",
      "Fold 2\n",
      "-------\n",
      "Test set: Average loss: 1.1861, Accuracy: 47/85 (55.29%)\n",
      "\n",
      "Fold 3\n",
      "-------\n",
      "Test set: Average loss: 0.2524, Accuracy: 51/85 (60.00%)\n",
      "\n",
      "--------------------------------------\n"
     ]
    },
    {
     "name": "stderr",
     "output_type": "stream",
     "text": [
      "wandb: WARNING Source type is set to 'repo' but some required information is missing from the environment. A job will not be created from this run. See https://docs.wandb.ai/guides/launch/create-job\n"
     ]
    },
    {
     "data": {
      "application/vnd.jupyter.widget-view+json": {
       "model_id": "ca23d7701d6c4743acaf14a903d49227",
       "version_major": 2,
       "version_minor": 0
      },
      "text/plain": [
       "VBox(children=(Label(value='0.001 MB of 0.001 MB uploaded\\r'), FloatProgress(value=1.0, max=1.0)))"
      ]
     },
     "metadata": {},
     "output_type": "display_data"
    },
    {
     "data": {
      "text/html": [
       "<style>\n",
       "    table.wandb td:nth-child(1) { padding: 0 10px; text-align: left ; width: auto;} td:nth-child(2) {text-align: left ; width: 100%}\n",
       "    .wandb-row { display: flex; flex-direction: row; flex-wrap: wrap; justify-content: flex-start; width: 100% }\n",
       "    .wandb-col { display: flex; flex-direction: column; flex-basis: 100%; flex: 1; padding: 10px; }\n",
       "    </style>\n",
       "<div class=\"wandb-row\"><div class=\"wandb-col\"><h3>Run history:</h3><br/><table class=\"wandb\"><tr><td>test accuracy</td><td>▁</td></tr><tr><td>test loss</td><td>▁</td></tr><tr><td>train accuracy</td><td>▁</td></tr><tr><td>train loss</td><td>▁</td></tr></table><br/></div><div class=\"wandb-col\"><h3>Run summary:</h3><br/><table class=\"wandb\"><tr><td>test accuracy</td><td>0.49804</td></tr><tr><td>test loss</td><td>3.24087</td></tr><tr><td>train accuracy</td><td>0.74048</td></tr><tr><td>train loss</td><td>0.97077</td></tr></table><br/></div></div>"
      ],
      "text/plain": [
       "<IPython.core.display.HTML object>"
      ]
     },
     "metadata": {},
     "output_type": "display_data"
    },
    {
     "data": {
      "text/html": [
       " View run <strong style=\"color:#cdcd00\">frosty-darkness-16</strong> at: <a href='https://wandb.ai/oriane-cavrois/brain_image_large_archi_optimization_4/runs/16vtzd9c' target=\"_blank\">https://wandb.ai/oriane-cavrois/brain_image_large_archi_optimization_4/runs/16vtzd9c</a><br/>Synced 5 W&B file(s), 0 media file(s), 0 artifact file(s) and 0 other file(s)"
      ],
      "text/plain": [
       "<IPython.core.display.HTML object>"
      ]
     },
     "metadata": {},
     "output_type": "display_data"
    },
    {
     "data": {
      "text/html": [
       "Find logs at: <code>./wandb/run-20240208_182210-16vtzd9c/logs</code>"
      ],
      "text/plain": [
       "<IPython.core.display.HTML object>"
      ]
     },
     "metadata": {},
     "output_type": "display_data"
    },
    {
     "name": "stdout",
     "output_type": "stream",
     "text": [
      "Iteration 16\n",
      "Number of epochs: 40\n",
      "(40, 0.00395, 3, 40, 5, 3, 1.0)\n"
     ]
    },
    {
     "data": {
      "application/vnd.jupyter.widget-view+json": {
       "model_id": "cf12cdf584894f53bb8b866b06367c73",
       "version_major": 2,
       "version_minor": 0
      },
      "text/plain": [
       "VBox(children=(Label(value='Waiting for wandb.init()...\\r'), FloatProgress(value=0.011149522222209877, max=1.0…"
      ]
     },
     "metadata": {},
     "output_type": "display_data"
    },
    {
     "data": {
      "text/html": [
       "wandb version 0.16.3 is available!  To upgrade, please run:\n",
       " $ pip install wandb --upgrade"
      ],
      "text/plain": [
       "<IPython.core.display.HTML object>"
      ]
     },
     "metadata": {},
     "output_type": "display_data"
    },
    {
     "data": {
      "text/html": [
       "Tracking run with wandb version 0.16.2"
      ],
      "text/plain": [
       "<IPython.core.display.HTML object>"
      ]
     },
     "metadata": {},
     "output_type": "display_data"
    },
    {
     "data": {
      "text/html": [
       "Run data is saved locally in <code>/Users/orianecavrois/Documents/Perso/MachineLearning/Github/Brain-tumor-image-classification/wandb/run-20240208_182242-l8vfs09d</code>"
      ],
      "text/plain": [
       "<IPython.core.display.HTML object>"
      ]
     },
     "metadata": {},
     "output_type": "display_data"
    },
    {
     "data": {
      "text/html": [
       "Syncing run <strong><a href='https://wandb.ai/oriane-cavrois/brain_image_large_archi_optimization_4/runs/l8vfs09d' target=\"_blank\">genial-wood-17</a></strong> to <a href='https://wandb.ai/oriane-cavrois/brain_image_large_archi_optimization_4' target=\"_blank\">Weights & Biases</a> (<a href='https://wandb.me/run' target=\"_blank\">docs</a>)<br/>"
      ],
      "text/plain": [
       "<IPython.core.display.HTML object>"
      ]
     },
     "metadata": {},
     "output_type": "display_data"
    },
    {
     "data": {
      "text/html": [
       " View project at <a href='https://wandb.ai/oriane-cavrois/brain_image_large_archi_optimization_4' target=\"_blank\">https://wandb.ai/oriane-cavrois/brain_image_large_archi_optimization_4</a>"
      ],
      "text/plain": [
       "<IPython.core.display.HTML object>"
      ]
     },
     "metadata": {},
     "output_type": "display_data"
    },
    {
     "data": {
      "text/html": [
       " View run at <a href='https://wandb.ai/oriane-cavrois/brain_image_large_archi_optimization_4/runs/l8vfs09d' target=\"_blank\">https://wandb.ai/oriane-cavrois/brain_image_large_archi_optimization_4/runs/l8vfs09d</a>"
      ],
      "text/plain": [
       "<IPython.core.display.HTML object>"
      ]
     },
     "metadata": {},
     "output_type": "display_data"
    },
    {
     "name": "stdout",
     "output_type": "stream",
     "text": [
      "Fold 1\n",
      "-------\n",
      "Test set: Average loss: 0.4274, Accuracy: 36/85 (42.35%)\n",
      "\n",
      "Fold 2\n",
      "-------\n",
      "Test set: Average loss: 0.4311, Accuracy: 36/85 (42.35%)\n",
      "\n",
      "Fold 3\n",
      "-------\n",
      "Test set: Average loss: 0.4737, Accuracy: 31/85 (36.47%)\n",
      "\n",
      "--------------------------------------\n"
     ]
    },
    {
     "name": "stderr",
     "output_type": "stream",
     "text": [
      "wandb: WARNING Source type is set to 'repo' but some required information is missing from the environment. A job will not be created from this run. See https://docs.wandb.ai/guides/launch/create-job\n"
     ]
    },
    {
     "data": {
      "application/vnd.jupyter.widget-view+json": {
       "model_id": "4731203b07db4a83a7eb0b77f717ce2e",
       "version_major": 2,
       "version_minor": 0
      },
      "text/plain": [
       "VBox(children=(Label(value='0.001 MB of 0.001 MB uploaded\\r'), FloatProgress(value=1.0, max=1.0)))"
      ]
     },
     "metadata": {},
     "output_type": "display_data"
    },
    {
     "data": {
      "text/html": [
       "<style>\n",
       "    table.wandb td:nth-child(1) { padding: 0 10px; text-align: left ; width: auto;} td:nth-child(2) {text-align: left ; width: 100%}\n",
       "    .wandb-row { display: flex; flex-direction: row; flex-wrap: wrap; justify-content: flex-start; width: 100% }\n",
       "    .wandb-col { display: flex; flex-direction: column; flex-basis: 100%; flex: 1; padding: 10px; }\n",
       "    </style>\n",
       "<div class=\"wandb-row\"><div class=\"wandb-col\"><h3>Run history:</h3><br/><table class=\"wandb\"><tr><td>test accuracy</td><td>▁</td></tr><tr><td>test loss</td><td>▁</td></tr><tr><td>train accuracy</td><td>▁</td></tr><tr><td>train loss</td><td>▁</td></tr></table><br/></div><div class=\"wandb-col\"><h3>Run summary:</h3><br/><table class=\"wandb\"><tr><td>test accuracy</td><td>0.40392</td></tr><tr><td>test loss</td><td>0.44404</td></tr><tr><td>train accuracy</td><td>0.61302</td></tr><tr><td>train loss</td><td>0.22684</td></tr></table><br/></div></div>"
      ],
      "text/plain": [
       "<IPython.core.display.HTML object>"
      ]
     },
     "metadata": {},
     "output_type": "display_data"
    },
    {
     "data": {
      "text/html": [
       " View run <strong style=\"color:#cdcd00\">genial-wood-17</strong> at: <a href='https://wandb.ai/oriane-cavrois/brain_image_large_archi_optimization_4/runs/l8vfs09d' target=\"_blank\">https://wandb.ai/oriane-cavrois/brain_image_large_archi_optimization_4/runs/l8vfs09d</a><br/>Synced 5 W&B file(s), 0 media file(s), 0 artifact file(s) and 0 other file(s)"
      ],
      "text/plain": [
       "<IPython.core.display.HTML object>"
      ]
     },
     "metadata": {},
     "output_type": "display_data"
    },
    {
     "data": {
      "text/html": [
       "Find logs at: <code>./wandb/run-20240208_182242-l8vfs09d/logs</code>"
      ],
      "text/plain": [
       "<IPython.core.display.HTML object>"
      ]
     },
     "metadata": {},
     "output_type": "display_data"
    },
    {
     "name": "stdout",
     "output_type": "stream",
     "text": [
      "Iteration 17\n",
      "Number of epochs: 30\n",
      "(30, 0.005050000000000001, 8, 35, 3, 3, 0.2)\n"
     ]
    },
    {
     "data": {
      "application/vnd.jupyter.widget-view+json": {
       "model_id": "a838b788e0204d74bea88a24cbdbbc67",
       "version_major": 2,
       "version_minor": 0
      },
      "text/plain": [
       "VBox(children=(Label(value='Waiting for wandb.init()...\\r'), FloatProgress(value=0.011248393511050381, max=1.0…"
      ]
     },
     "metadata": {},
     "output_type": "display_data"
    },
    {
     "data": {
      "text/html": [
       "wandb version 0.16.3 is available!  To upgrade, please run:\n",
       " $ pip install wandb --upgrade"
      ],
      "text/plain": [
       "<IPython.core.display.HTML object>"
      ]
     },
     "metadata": {},
     "output_type": "display_data"
    },
    {
     "data": {
      "text/html": [
       "Tracking run with wandb version 0.16.2"
      ],
      "text/plain": [
       "<IPython.core.display.HTML object>"
      ]
     },
     "metadata": {},
     "output_type": "display_data"
    },
    {
     "data": {
      "text/html": [
       "Run data is saved locally in <code>/Users/orianecavrois/Documents/Perso/MachineLearning/Github/Brain-tumor-image-classification/wandb/run-20240208_182412-q11f9e1h</code>"
      ],
      "text/plain": [
       "<IPython.core.display.HTML object>"
      ]
     },
     "metadata": {},
     "output_type": "display_data"
    },
    {
     "data": {
      "text/html": [
       "Syncing run <strong><a href='https://wandb.ai/oriane-cavrois/brain_image_large_archi_optimization_4/runs/q11f9e1h' target=\"_blank\">twilight-spaceship-18</a></strong> to <a href='https://wandb.ai/oriane-cavrois/brain_image_large_archi_optimization_4' target=\"_blank\">Weights & Biases</a> (<a href='https://wandb.me/run' target=\"_blank\">docs</a>)<br/>"
      ],
      "text/plain": [
       "<IPython.core.display.HTML object>"
      ]
     },
     "metadata": {},
     "output_type": "display_data"
    },
    {
     "data": {
      "text/html": [
       " View project at <a href='https://wandb.ai/oriane-cavrois/brain_image_large_archi_optimization_4' target=\"_blank\">https://wandb.ai/oriane-cavrois/brain_image_large_archi_optimization_4</a>"
      ],
      "text/plain": [
       "<IPython.core.display.HTML object>"
      ]
     },
     "metadata": {},
     "output_type": "display_data"
    },
    {
     "data": {
      "text/html": [
       " View run at <a href='https://wandb.ai/oriane-cavrois/brain_image_large_archi_optimization_4/runs/q11f9e1h' target=\"_blank\">https://wandb.ai/oriane-cavrois/brain_image_large_archi_optimization_4/runs/q11f9e1h</a>"
      ],
      "text/plain": [
       "<IPython.core.display.HTML object>"
      ]
     },
     "metadata": {},
     "output_type": "display_data"
    },
    {
     "name": "stdout",
     "output_type": "stream",
     "text": [
      "Fold 1\n",
      "-------\n",
      "Test set: Average loss: 13.3553, Accuracy: 46/85 (54.12%)\n",
      "\n",
      "Fold 2\n",
      "-------\n",
      "Test set: Average loss: 1.1402, Accuracy: 54/85 (63.53%)\n",
      "\n",
      "Fold 3\n",
      "-------\n",
      "Test set: Average loss: 0.6701, Accuracy: 54/85 (63.53%)\n",
      "\n",
      "--------------------------------------\n"
     ]
    },
    {
     "name": "stderr",
     "output_type": "stream",
     "text": [
      "wandb: WARNING Source type is set to 'repo' but some required information is missing from the environment. A job will not be created from this run. See https://docs.wandb.ai/guides/launch/create-job\n"
     ]
    },
    {
     "data": {
      "application/vnd.jupyter.widget-view+json": {
       "model_id": "525a6589ac5c446984d4bed78855b8f5",
       "version_major": 2,
       "version_minor": 0
      },
      "text/plain": [
       "VBox(children=(Label(value='0.001 MB of 0.001 MB uploaded\\r'), FloatProgress(value=1.0, max=1.0)))"
      ]
     },
     "metadata": {},
     "output_type": "display_data"
    },
    {
     "data": {
      "text/html": [
       "<style>\n",
       "    table.wandb td:nth-child(1) { padding: 0 10px; text-align: left ; width: auto;} td:nth-child(2) {text-align: left ; width: 100%}\n",
       "    .wandb-row { display: flex; flex-direction: row; flex-wrap: wrap; justify-content: flex-start; width: 100% }\n",
       "    .wandb-col { display: flex; flex-direction: column; flex-basis: 100%; flex: 1; padding: 10px; }\n",
       "    </style>\n",
       "<div class=\"wandb-row\"><div class=\"wandb-col\"><h3>Run history:</h3><br/><table class=\"wandb\"><tr><td>test accuracy</td><td>▁</td></tr><tr><td>test loss</td><td>▁</td></tr><tr><td>train accuracy</td><td>▁</td></tr><tr><td>train loss</td><td>▁</td></tr></table><br/></div><div class=\"wandb-col\"><h3>Run summary:</h3><br/><table class=\"wandb\"><tr><td>test accuracy</td><td>0.60392</td></tr><tr><td>test loss</td><td>5.05519</td></tr><tr><td>train accuracy</td><td>0.95883</td></tr><tr><td>train loss</td><td>2.73221</td></tr></table><br/></div></div>"
      ],
      "text/plain": [
       "<IPython.core.display.HTML object>"
      ]
     },
     "metadata": {},
     "output_type": "display_data"
    },
    {
     "data": {
      "text/html": [
       " View run <strong style=\"color:#cdcd00\">twilight-spaceship-18</strong> at: <a href='https://wandb.ai/oriane-cavrois/brain_image_large_archi_optimization_4/runs/q11f9e1h' target=\"_blank\">https://wandb.ai/oriane-cavrois/brain_image_large_archi_optimization_4/runs/q11f9e1h</a><br/>Synced 5 W&B file(s), 0 media file(s), 0 artifact file(s) and 0 other file(s)"
      ],
      "text/plain": [
       "<IPython.core.display.HTML object>"
      ]
     },
     "metadata": {},
     "output_type": "display_data"
    },
    {
     "data": {
      "text/html": [
       "Find logs at: <code>./wandb/run-20240208_182412-q11f9e1h/logs</code>"
      ],
      "text/plain": [
       "<IPython.core.display.HTML object>"
      ]
     },
     "metadata": {},
     "output_type": "display_data"
    },
    {
     "name": "stdout",
     "output_type": "stream",
     "text": [
      "Iteration 18\n",
      "Number of epochs: 40\n",
      "(40, 0.01, 6, 55, 1, 7, 0.15000000000000002)\n"
     ]
    },
    {
     "data": {
      "application/vnd.jupyter.widget-view+json": {
       "model_id": "afd5d40626db41e299167905724da87c",
       "version_major": 2,
       "version_minor": 0
      },
      "text/plain": [
       "VBox(children=(Label(value='Waiting for wandb.init()...\\r'), FloatProgress(value=0.011143761111129101, max=1.0…"
      ]
     },
     "metadata": {},
     "output_type": "display_data"
    },
    {
     "data": {
      "text/html": [
       "wandb version 0.16.3 is available!  To upgrade, please run:\n",
       " $ pip install wandb --upgrade"
      ],
      "text/plain": [
       "<IPython.core.display.HTML object>"
      ]
     },
     "metadata": {},
     "output_type": "display_data"
    },
    {
     "data": {
      "text/html": [
       "Tracking run with wandb version 0.16.2"
      ],
      "text/plain": [
       "<IPython.core.display.HTML object>"
      ]
     },
     "metadata": {},
     "output_type": "display_data"
    },
    {
     "data": {
      "text/html": [
       "Run data is saved locally in <code>/Users/orianecavrois/Documents/Perso/MachineLearning/Github/Brain-tumor-image-classification/wandb/run-20240208_182510-xu0hhbs6</code>"
      ],
      "text/plain": [
       "<IPython.core.display.HTML object>"
      ]
     },
     "metadata": {},
     "output_type": "display_data"
    },
    {
     "data": {
      "text/html": [
       "Syncing run <strong><a href='https://wandb.ai/oriane-cavrois/brain_image_large_archi_optimization_4/runs/xu0hhbs6' target=\"_blank\">summer-sea-19</a></strong> to <a href='https://wandb.ai/oriane-cavrois/brain_image_large_archi_optimization_4' target=\"_blank\">Weights & Biases</a> (<a href='https://wandb.me/run' target=\"_blank\">docs</a>)<br/>"
      ],
      "text/plain": [
       "<IPython.core.display.HTML object>"
      ]
     },
     "metadata": {},
     "output_type": "display_data"
    },
    {
     "data": {
      "text/html": [
       " View project at <a href='https://wandb.ai/oriane-cavrois/brain_image_large_archi_optimization_4' target=\"_blank\">https://wandb.ai/oriane-cavrois/brain_image_large_archi_optimization_4</a>"
      ],
      "text/plain": [
       "<IPython.core.display.HTML object>"
      ]
     },
     "metadata": {},
     "output_type": "display_data"
    },
    {
     "data": {
      "text/html": [
       " View run at <a href='https://wandb.ai/oriane-cavrois/brain_image_large_archi_optimization_4/runs/xu0hhbs6' target=\"_blank\">https://wandb.ai/oriane-cavrois/brain_image_large_archi_optimization_4/runs/xu0hhbs6</a>"
      ],
      "text/plain": [
       "<IPython.core.display.HTML object>"
      ]
     },
     "metadata": {},
     "output_type": "display_data"
    },
    {
     "name": "stdout",
     "output_type": "stream",
     "text": [
      "Fold 1\n",
      "-------\n",
      "Test set: Average loss: 3.9927, Accuracy: 39/85 (45.88%)\n",
      "\n",
      "Fold 2\n",
      "-------\n",
      "Test set: Average loss: 0.2333, Accuracy: 52/85 (61.18%)\n",
      "\n",
      "Fold 3\n",
      "-------\n",
      "Test set: Average loss: 0.8452, Accuracy: 53/85 (62.35%)\n",
      "\n",
      "--------------------------------------\n"
     ]
    },
    {
     "name": "stderr",
     "output_type": "stream",
     "text": [
      "wandb: WARNING Source type is set to 'repo' but some required information is missing from the environment. A job will not be created from this run. See https://docs.wandb.ai/guides/launch/create-job\n"
     ]
    },
    {
     "data": {
      "application/vnd.jupyter.widget-view+json": {
       "model_id": "16540f82bc1e41ba9d41231c68b719fa",
       "version_major": 2,
       "version_minor": 0
      },
      "text/plain": [
       "VBox(children=(Label(value='0.001 MB of 0.001 MB uploaded\\r'), FloatProgress(value=1.0, max=1.0)))"
      ]
     },
     "metadata": {},
     "output_type": "display_data"
    },
    {
     "data": {
      "text/html": [
       "<style>\n",
       "    table.wandb td:nth-child(1) { padding: 0 10px; text-align: left ; width: auto;} td:nth-child(2) {text-align: left ; width: 100%}\n",
       "    .wandb-row { display: flex; flex-direction: row; flex-wrap: wrap; justify-content: flex-start; width: 100% }\n",
       "    .wandb-col { display: flex; flex-direction: column; flex-basis: 100%; flex: 1; padding: 10px; }\n",
       "    </style>\n",
       "<div class=\"wandb-row\"><div class=\"wandb-col\"><h3>Run history:</h3><br/><table class=\"wandb\"><tr><td>test accuracy</td><td>▁</td></tr><tr><td>test loss</td><td>▁</td></tr><tr><td>train accuracy</td><td>▁</td></tr><tr><td>train loss</td><td>▁</td></tr></table><br/></div><div class=\"wandb-col\"><h3>Run summary:</h3><br/><table class=\"wandb\"><tr><td>test accuracy</td><td>0.56471</td></tr><tr><td>test loss</td><td>1.69041</td></tr><tr><td>train accuracy</td><td>0.96719</td></tr><tr><td>train loss</td><td>0.27409</td></tr></table><br/></div></div>"
      ],
      "text/plain": [
       "<IPython.core.display.HTML object>"
      ]
     },
     "metadata": {},
     "output_type": "display_data"
    },
    {
     "data": {
      "text/html": [
       " View run <strong style=\"color:#cdcd00\">summer-sea-19</strong> at: <a href='https://wandb.ai/oriane-cavrois/brain_image_large_archi_optimization_4/runs/xu0hhbs6' target=\"_blank\">https://wandb.ai/oriane-cavrois/brain_image_large_archi_optimization_4/runs/xu0hhbs6</a><br/>Synced 5 W&B file(s), 0 media file(s), 0 artifact file(s) and 0 other file(s)"
      ],
      "text/plain": [
       "<IPython.core.display.HTML object>"
      ]
     },
     "metadata": {},
     "output_type": "display_data"
    },
    {
     "data": {
      "text/html": [
       "Find logs at: <code>./wandb/run-20240208_182510-xu0hhbs6/logs</code>"
      ],
      "text/plain": [
       "<IPython.core.display.HTML object>"
      ]
     },
     "metadata": {},
     "output_type": "display_data"
    },
    {
     "name": "stdout",
     "output_type": "stream",
     "text": [
      "Iteration 19\n",
      "Number of epochs: 35\n",
      "(35, 0.0045000000000000005, 3, 40, 7, 3, 0.35000000000000003)\n"
     ]
    },
    {
     "data": {
      "application/vnd.jupyter.widget-view+json": {
       "model_id": "ab98cf101bb7451b9f8f11b2e1d5acbb",
       "version_major": 2,
       "version_minor": 0
      },
      "text/plain": [
       "VBox(children=(Label(value='Waiting for wandb.init()...\\r'), FloatProgress(value=0.011115983799956868, max=1.0…"
      ]
     },
     "metadata": {},
     "output_type": "display_data"
    },
    {
     "data": {
      "text/html": [
       "wandb version 0.16.3 is available!  To upgrade, please run:\n",
       " $ pip install wandb --upgrade"
      ],
      "text/plain": [
       "<IPython.core.display.HTML object>"
      ]
     },
     "metadata": {},
     "output_type": "display_data"
    },
    {
     "data": {
      "text/html": [
       "Tracking run with wandb version 0.16.2"
      ],
      "text/plain": [
       "<IPython.core.display.HTML object>"
      ]
     },
     "metadata": {},
     "output_type": "display_data"
    },
    {
     "data": {
      "text/html": [
       "Run data is saved locally in <code>/Users/orianecavrois/Documents/Perso/MachineLearning/Github/Brain-tumor-image-classification/wandb/run-20240208_182627-tl3fmrp1</code>"
      ],
      "text/plain": [
       "<IPython.core.display.HTML object>"
      ]
     },
     "metadata": {},
     "output_type": "display_data"
    },
    {
     "data": {
      "text/html": [
       "Syncing run <strong><a href='https://wandb.ai/oriane-cavrois/brain_image_large_archi_optimization_4/runs/tl3fmrp1' target=\"_blank\">robust-meadow-20</a></strong> to <a href='https://wandb.ai/oriane-cavrois/brain_image_large_archi_optimization_4' target=\"_blank\">Weights & Biases</a> (<a href='https://wandb.me/run' target=\"_blank\">docs</a>)<br/>"
      ],
      "text/plain": [
       "<IPython.core.display.HTML object>"
      ]
     },
     "metadata": {},
     "output_type": "display_data"
    },
    {
     "data": {
      "text/html": [
       " View project at <a href='https://wandb.ai/oriane-cavrois/brain_image_large_archi_optimization_4' target=\"_blank\">https://wandb.ai/oriane-cavrois/brain_image_large_archi_optimization_4</a>"
      ],
      "text/plain": [
       "<IPython.core.display.HTML object>"
      ]
     },
     "metadata": {},
     "output_type": "display_data"
    },
    {
     "data": {
      "text/html": [
       " View run at <a href='https://wandb.ai/oriane-cavrois/brain_image_large_archi_optimization_4/runs/tl3fmrp1' target=\"_blank\">https://wandb.ai/oriane-cavrois/brain_image_large_archi_optimization_4/runs/tl3fmrp1</a>"
      ],
      "text/plain": [
       "<IPython.core.display.HTML object>"
      ]
     },
     "metadata": {},
     "output_type": "display_data"
    },
    {
     "name": "stdout",
     "output_type": "stream",
     "text": [
      "Fold 1\n",
      "-------\n",
      "Test set: Average loss: 135.4227, Accuracy: 44/85 (51.76%)\n",
      "\n",
      "Fold 2\n",
      "-------\n",
      "Test set: Average loss: 41.4038, Accuracy: 52/85 (61.18%)\n",
      "\n",
      "Fold 3\n",
      "-------\n",
      "Test set: Average loss: 0.0000, Accuracy: 56/85 (65.88%)\n",
      "\n",
      "--------------------------------------\n"
     ]
    },
    {
     "name": "stderr",
     "output_type": "stream",
     "text": [
      "wandb: WARNING Source type is set to 'repo' but some required information is missing from the environment. A job will not be created from this run. See https://docs.wandb.ai/guides/launch/create-job\n"
     ]
    },
    {
     "data": {
      "application/vnd.jupyter.widget-view+json": {
       "model_id": "7cce2670536a4db398a36870fc0bc9e6",
       "version_major": 2,
       "version_minor": 0
      },
      "text/plain": [
       "VBox(children=(Label(value='0.001 MB of 0.001 MB uploaded\\r'), FloatProgress(value=1.0, max=1.0)))"
      ]
     },
     "metadata": {},
     "output_type": "display_data"
    },
    {
     "data": {
      "text/html": [
       "<style>\n",
       "    table.wandb td:nth-child(1) { padding: 0 10px; text-align: left ; width: auto;} td:nth-child(2) {text-align: left ; width: 100%}\n",
       "    .wandb-row { display: flex; flex-direction: row; flex-wrap: wrap; justify-content: flex-start; width: 100% }\n",
       "    .wandb-col { display: flex; flex-direction: column; flex-basis: 100%; flex: 1; padding: 10px; }\n",
       "    </style>\n",
       "<div class=\"wandb-row\"><div class=\"wandb-col\"><h3>Run history:</h3><br/><table class=\"wandb\"><tr><td>test accuracy</td><td>▁</td></tr><tr><td>test loss</td><td>▁</td></tr><tr><td>train accuracy</td><td>▁</td></tr><tr><td>train loss</td><td>▁</td></tr></table><br/></div><div class=\"wandb-col\"><h3>Run summary:</h3><br/><table class=\"wandb\"><tr><td>test accuracy</td><td>0.59608</td></tr><tr><td>test loss</td><td>58.94219</td></tr><tr><td>train accuracy</td><td>0.96726</td></tr><tr><td>train loss</td><td>24.08918</td></tr></table><br/></div></div>"
      ],
      "text/plain": [
       "<IPython.core.display.HTML object>"
      ]
     },
     "metadata": {},
     "output_type": "display_data"
    },
    {
     "data": {
      "text/html": [
       " View run <strong style=\"color:#cdcd00\">robust-meadow-20</strong> at: <a href='https://wandb.ai/oriane-cavrois/brain_image_large_archi_optimization_4/runs/tl3fmrp1' target=\"_blank\">https://wandb.ai/oriane-cavrois/brain_image_large_archi_optimization_4/runs/tl3fmrp1</a><br/>Synced 5 W&B file(s), 0 media file(s), 0 artifact file(s) and 0 other file(s)"
      ],
      "text/plain": [
       "<IPython.core.display.HTML object>"
      ]
     },
     "metadata": {},
     "output_type": "display_data"
    },
    {
     "data": {
      "text/html": [
       "Find logs at: <code>./wandb/run-20240208_182627-tl3fmrp1/logs</code>"
      ],
      "text/plain": [
       "<IPython.core.display.HTML object>"
      ]
     },
     "metadata": {},
     "output_type": "display_data"
    },
    {
     "name": "stdout",
     "output_type": "stream",
     "text": [
      "Iteration 20\n",
      "Number of epochs: 35\n",
      "(35, 0.005600000000000001, 5, 50, 5, 4, 0.35000000000000003)\n"
     ]
    },
    {
     "data": {
      "application/vnd.jupyter.widget-view+json": {
       "model_id": "a1a596dab20649f2a091dcd6bfaeb7ab",
       "version_major": 2,
       "version_minor": 0
      },
      "text/plain": [
       "VBox(children=(Label(value='Waiting for wandb.init()...\\r'), FloatProgress(value=0.011209158788874952, max=1.0…"
      ]
     },
     "metadata": {},
     "output_type": "display_data"
    },
    {
     "data": {
      "text/html": [
       "wandb version 0.16.3 is available!  To upgrade, please run:\n",
       " $ pip install wandb --upgrade"
      ],
      "text/plain": [
       "<IPython.core.display.HTML object>"
      ]
     },
     "metadata": {},
     "output_type": "display_data"
    },
    {
     "data": {
      "text/html": [
       "Tracking run with wandb version 0.16.2"
      ],
      "text/plain": [
       "<IPython.core.display.HTML object>"
      ]
     },
     "metadata": {},
     "output_type": "display_data"
    },
    {
     "data": {
      "text/html": [
       "Run data is saved locally in <code>/Users/orianecavrois/Documents/Perso/MachineLearning/Github/Brain-tumor-image-classification/wandb/run-20240208_182747-92fv6n3f</code>"
      ],
      "text/plain": [
       "<IPython.core.display.HTML object>"
      ]
     },
     "metadata": {},
     "output_type": "display_data"
    },
    {
     "data": {
      "text/html": [
       "Syncing run <strong><a href='https://wandb.ai/oriane-cavrois/brain_image_large_archi_optimization_4/runs/92fv6n3f' target=\"_blank\">drawn-moon-21</a></strong> to <a href='https://wandb.ai/oriane-cavrois/brain_image_large_archi_optimization_4' target=\"_blank\">Weights & Biases</a> (<a href='https://wandb.me/run' target=\"_blank\">docs</a>)<br/>"
      ],
      "text/plain": [
       "<IPython.core.display.HTML object>"
      ]
     },
     "metadata": {},
     "output_type": "display_data"
    },
    {
     "data": {
      "text/html": [
       " View project at <a href='https://wandb.ai/oriane-cavrois/brain_image_large_archi_optimization_4' target=\"_blank\">https://wandb.ai/oriane-cavrois/brain_image_large_archi_optimization_4</a>"
      ],
      "text/plain": [
       "<IPython.core.display.HTML object>"
      ]
     },
     "metadata": {},
     "output_type": "display_data"
    },
    {
     "data": {
      "text/html": [
       " View run at <a href='https://wandb.ai/oriane-cavrois/brain_image_large_archi_optimization_4/runs/92fv6n3f' target=\"_blank\">https://wandb.ai/oriane-cavrois/brain_image_large_archi_optimization_4/runs/92fv6n3f</a>"
      ],
      "text/plain": [
       "<IPython.core.display.HTML object>"
      ]
     },
     "metadata": {},
     "output_type": "display_data"
    },
    {
     "name": "stdout",
     "output_type": "stream",
     "text": [
      "Fold 1\n",
      "-------\n",
      "Test set: Average loss: 9.1630, Accuracy: 44/85 (51.76%)\n",
      "\n",
      "Fold 2\n",
      "-------\n",
      "Test set: Average loss: 12.7770, Accuracy: 49/85 (57.65%)\n",
      "\n",
      "Fold 3\n",
      "-------\n",
      "Test set: Average loss: 0.0000, Accuracy: 56/85 (65.88%)\n",
      "\n",
      "--------------------------------------\n"
     ]
    },
    {
     "name": "stderr",
     "output_type": "stream",
     "text": [
      "wandb: WARNING Source type is set to 'repo' but some required information is missing from the environment. A job will not be created from this run. See https://docs.wandb.ai/guides/launch/create-job\n"
     ]
    },
    {
     "data": {
      "application/vnd.jupyter.widget-view+json": {
       "model_id": "e0dbbb05e3ec4d7a8e0982a55e5dfd78",
       "version_major": 2,
       "version_minor": 0
      },
      "text/plain": [
       "VBox(children=(Label(value='0.001 MB of 0.001 MB uploaded\\r'), FloatProgress(value=1.0, max=1.0)))"
      ]
     },
     "metadata": {},
     "output_type": "display_data"
    },
    {
     "data": {
      "text/html": [
       "<style>\n",
       "    table.wandb td:nth-child(1) { padding: 0 10px; text-align: left ; width: auto;} td:nth-child(2) {text-align: left ; width: 100%}\n",
       "    .wandb-row { display: flex; flex-direction: row; flex-wrap: wrap; justify-content: flex-start; width: 100% }\n",
       "    .wandb-col { display: flex; flex-direction: column; flex-basis: 100%; flex: 1; padding: 10px; }\n",
       "    </style>\n",
       "<div class=\"wandb-row\"><div class=\"wandb-col\"><h3>Run history:</h3><br/><table class=\"wandb\"><tr><td>test accuracy</td><td>▁</td></tr><tr><td>test loss</td><td>▁</td></tr><tr><td>train accuracy</td><td>▁</td></tr><tr><td>train loss</td><td>▁</td></tr></table><br/></div><div class=\"wandb-col\"><h3>Run summary:</h3><br/><table class=\"wandb\"><tr><td>test accuracy</td><td>0.58431</td></tr><tr><td>test loss</td><td>7.31331</td></tr><tr><td>train accuracy</td><td>0.96029</td></tr><tr><td>train loss</td><td>8.00826</td></tr></table><br/></div></div>"
      ],
      "text/plain": [
       "<IPython.core.display.HTML object>"
      ]
     },
     "metadata": {},
     "output_type": "display_data"
    },
    {
     "data": {
      "text/html": [
       " View run <strong style=\"color:#cdcd00\">drawn-moon-21</strong> at: <a href='https://wandb.ai/oriane-cavrois/brain_image_large_archi_optimization_4/runs/92fv6n3f' target=\"_blank\">https://wandb.ai/oriane-cavrois/brain_image_large_archi_optimization_4/runs/92fv6n3f</a><br/>Synced 5 W&B file(s), 0 media file(s), 0 artifact file(s) and 0 other file(s)"
      ],
      "text/plain": [
       "<IPython.core.display.HTML object>"
      ]
     },
     "metadata": {},
     "output_type": "display_data"
    },
    {
     "data": {
      "text/html": [
       "Find logs at: <code>./wandb/run-20240208_182747-92fv6n3f/logs</code>"
      ],
      "text/plain": [
       "<IPython.core.display.HTML object>"
      ]
     },
     "metadata": {},
     "output_type": "display_data"
    },
    {
     "name": "stdout",
     "output_type": "stream",
     "text": [
      "Iteration 21\n",
      "Number of epochs: 5\n",
      "(5, 0.0089, 11, 70, 5, 6, 0.8500000000000001)\n"
     ]
    },
    {
     "data": {
      "application/vnd.jupyter.widget-view+json": {
       "model_id": "e3fbc091bca548638c411079a456eed9",
       "version_major": 2,
       "version_minor": 0
      },
      "text/plain": [
       "VBox(children=(Label(value='Waiting for wandb.init()...\\r'), FloatProgress(value=0.011179809255554573, max=1.0…"
      ]
     },
     "metadata": {},
     "output_type": "display_data"
    },
    {
     "data": {
      "text/html": [
       "wandb version 0.16.3 is available!  To upgrade, please run:\n",
       " $ pip install wandb --upgrade"
      ],
      "text/plain": [
       "<IPython.core.display.HTML object>"
      ]
     },
     "metadata": {},
     "output_type": "display_data"
    },
    {
     "data": {
      "text/html": [
       "Tracking run with wandb version 0.16.2"
      ],
      "text/plain": [
       "<IPython.core.display.HTML object>"
      ]
     },
     "metadata": {},
     "output_type": "display_data"
    },
    {
     "data": {
      "text/html": [
       "Run data is saved locally in <code>/Users/orianecavrois/Documents/Perso/MachineLearning/Github/Brain-tumor-image-classification/wandb/run-20240208_182856-afeulen9</code>"
      ],
      "text/plain": [
       "<IPython.core.display.HTML object>"
      ]
     },
     "metadata": {},
     "output_type": "display_data"
    },
    {
     "data": {
      "text/html": [
       "Syncing run <strong><a href='https://wandb.ai/oriane-cavrois/brain_image_large_archi_optimization_4/runs/afeulen9' target=\"_blank\">astral-planet-22</a></strong> to <a href='https://wandb.ai/oriane-cavrois/brain_image_large_archi_optimization_4' target=\"_blank\">Weights & Biases</a> (<a href='https://wandb.me/run' target=\"_blank\">docs</a>)<br/>"
      ],
      "text/plain": [
       "<IPython.core.display.HTML object>"
      ]
     },
     "metadata": {},
     "output_type": "display_data"
    },
    {
     "data": {
      "text/html": [
       " View project at <a href='https://wandb.ai/oriane-cavrois/brain_image_large_archi_optimization_4' target=\"_blank\">https://wandb.ai/oriane-cavrois/brain_image_large_archi_optimization_4</a>"
      ],
      "text/plain": [
       "<IPython.core.display.HTML object>"
      ]
     },
     "metadata": {},
     "output_type": "display_data"
    },
    {
     "data": {
      "text/html": [
       " View run at <a href='https://wandb.ai/oriane-cavrois/brain_image_large_archi_optimization_4/runs/afeulen9' target=\"_blank\">https://wandb.ai/oriane-cavrois/brain_image_large_archi_optimization_4/runs/afeulen9</a>"
      ],
      "text/plain": [
       "<IPython.core.display.HTML object>"
      ]
     },
     "metadata": {},
     "output_type": "display_data"
    },
    {
     "name": "stdout",
     "output_type": "stream",
     "text": [
      "Fold 1\n",
      "-------\n",
      "Test set: Average loss: 45.2601, Accuracy: 29/85 (34.12%)\n",
      "\n",
      "Fold 2\n",
      "-------\n",
      "Test set: Average loss: 8.1764, Accuracy: 48/85 (56.47%)\n",
      "\n",
      "Fold 3\n",
      "-------\n",
      "Test set: Average loss: 3.7829, Accuracy: 50/85 (58.82%)\n",
      "\n",
      "--------------------------------------\n"
     ]
    },
    {
     "name": "stderr",
     "output_type": "stream",
     "text": [
      "wandb: WARNING Source type is set to 'repo' but some required information is missing from the environment. A job will not be created from this run. See https://docs.wandb.ai/guides/launch/create-job\n"
     ]
    },
    {
     "data": {
      "application/vnd.jupyter.widget-view+json": {
       "model_id": "0540e93d4f664da897af68589e31bc9d",
       "version_major": 2,
       "version_minor": 0
      },
      "text/plain": [
       "VBox(children=(Label(value='0.001 MB of 0.004 MB uploaded\\r'), FloatProgress(value=0.33998445193055193, max=1.…"
      ]
     },
     "metadata": {},
     "output_type": "display_data"
    },
    {
     "data": {
      "text/html": [
       "<style>\n",
       "    table.wandb td:nth-child(1) { padding: 0 10px; text-align: left ; width: auto;} td:nth-child(2) {text-align: left ; width: 100%}\n",
       "    .wandb-row { display: flex; flex-direction: row; flex-wrap: wrap; justify-content: flex-start; width: 100% }\n",
       "    .wandb-col { display: flex; flex-direction: column; flex-basis: 100%; flex: 1; padding: 10px; }\n",
       "    </style>\n",
       "<div class=\"wandb-row\"><div class=\"wandb-col\"><h3>Run history:</h3><br/><table class=\"wandb\"><tr><td>test accuracy</td><td>▁</td></tr><tr><td>test loss</td><td>▁</td></tr><tr><td>train accuracy</td><td>▁</td></tr><tr><td>train loss</td><td>▁</td></tr></table><br/></div><div class=\"wandb-col\"><h3>Run summary:</h3><br/><table class=\"wandb\"><tr><td>test accuracy</td><td>0.49804</td></tr><tr><td>test loss</td><td>19.0731</td></tr><tr><td>train accuracy</td><td>0.73452</td></tr><tr><td>train loss</td><td>8.42683</td></tr></table><br/></div></div>"
      ],
      "text/plain": [
       "<IPython.core.display.HTML object>"
      ]
     },
     "metadata": {},
     "output_type": "display_data"
    },
    {
     "data": {
      "text/html": [
       " View run <strong style=\"color:#cdcd00\">astral-planet-22</strong> at: <a href='https://wandb.ai/oriane-cavrois/brain_image_large_archi_optimization_4/runs/afeulen9' target=\"_blank\">https://wandb.ai/oriane-cavrois/brain_image_large_archi_optimization_4/runs/afeulen9</a><br/>Synced 5 W&B file(s), 0 media file(s), 0 artifact file(s) and 0 other file(s)"
      ],
      "text/plain": [
       "<IPython.core.display.HTML object>"
      ]
     },
     "metadata": {},
     "output_type": "display_data"
    },
    {
     "data": {
      "text/html": [
       "Find logs at: <code>./wandb/run-20240208_182856-afeulen9/logs</code>"
      ],
      "text/plain": [
       "<IPython.core.display.HTML object>"
      ]
     },
     "metadata": {},
     "output_type": "display_data"
    },
    {
     "name": "stdout",
     "output_type": "stream",
     "text": [
      "Iteration 22\n",
      "Number of epochs: 35\n",
      "(35, 0.005050000000000001, 6, 30, 5, 7, 0.9)\n"
     ]
    },
    {
     "data": {
      "application/vnd.jupyter.widget-view+json": {
       "model_id": "c008da3739184bfd96428acfa6b3d299",
       "version_major": 2,
       "version_minor": 0
      },
      "text/plain": [
       "VBox(children=(Label(value='Waiting for wandb.init()...\\r'), FloatProgress(value=0.011123737033307811, max=1.0…"
      ]
     },
     "metadata": {},
     "output_type": "display_data"
    },
    {
     "data": {
      "text/html": [
       "wandb version 0.16.3 is available!  To upgrade, please run:\n",
       " $ pip install wandb --upgrade"
      ],
      "text/plain": [
       "<IPython.core.display.HTML object>"
      ]
     },
     "metadata": {},
     "output_type": "display_data"
    },
    {
     "data": {
      "text/html": [
       "Tracking run with wandb version 0.16.2"
      ],
      "text/plain": [
       "<IPython.core.display.HTML object>"
      ]
     },
     "metadata": {},
     "output_type": "display_data"
    },
    {
     "data": {
      "text/html": [
       "Run data is saved locally in <code>/Users/orianecavrois/Documents/Perso/MachineLearning/Github/Brain-tumor-image-classification/wandb/run-20240208_182911-5te95oi5</code>"
      ],
      "text/plain": [
       "<IPython.core.display.HTML object>"
      ]
     },
     "metadata": {},
     "output_type": "display_data"
    },
    {
     "data": {
      "text/html": [
       "Syncing run <strong><a href='https://wandb.ai/oriane-cavrois/brain_image_large_archi_optimization_4/runs/5te95oi5' target=\"_blank\">genial-lake-23</a></strong> to <a href='https://wandb.ai/oriane-cavrois/brain_image_large_archi_optimization_4' target=\"_blank\">Weights & Biases</a> (<a href='https://wandb.me/run' target=\"_blank\">docs</a>)<br/>"
      ],
      "text/plain": [
       "<IPython.core.display.HTML object>"
      ]
     },
     "metadata": {},
     "output_type": "display_data"
    },
    {
     "data": {
      "text/html": [
       " View project at <a href='https://wandb.ai/oriane-cavrois/brain_image_large_archi_optimization_4' target=\"_blank\">https://wandb.ai/oriane-cavrois/brain_image_large_archi_optimization_4</a>"
      ],
      "text/plain": [
       "<IPython.core.display.HTML object>"
      ]
     },
     "metadata": {},
     "output_type": "display_data"
    },
    {
     "data": {
      "text/html": [
       " View run at <a href='https://wandb.ai/oriane-cavrois/brain_image_large_archi_optimization_4/runs/5te95oi5' target=\"_blank\">https://wandb.ai/oriane-cavrois/brain_image_large_archi_optimization_4/runs/5te95oi5</a>"
      ],
      "text/plain": [
       "<IPython.core.display.HTML object>"
      ]
     },
     "metadata": {},
     "output_type": "display_data"
    },
    {
     "name": "stdout",
     "output_type": "stream",
     "text": [
      "Fold 1\n",
      "-------\n",
      "Test set: Average loss: 11.0968, Accuracy: 48/85 (56.47%)\n",
      "\n",
      "Fold 2\n",
      "-------\n",
      "Test set: Average loss: 1.1560, Accuracy: 53/85 (62.35%)\n",
      "\n",
      "Fold 3\n",
      "-------\n",
      "Test set: Average loss: 13.7227, Accuracy: 50/85 (58.82%)\n",
      "\n",
      "--------------------------------------\n"
     ]
    },
    {
     "name": "stderr",
     "output_type": "stream",
     "text": [
      "wandb: WARNING Source type is set to 'repo' but some required information is missing from the environment. A job will not be created from this run. See https://docs.wandb.ai/guides/launch/create-job\n"
     ]
    },
    {
     "data": {
      "application/vnd.jupyter.widget-view+json": {
       "model_id": "4625725ef1714db49f1112109432997f",
       "version_major": 2,
       "version_minor": 0
      },
      "text/plain": [
       "VBox(children=(Label(value='0.001 MB of 0.001 MB uploaded\\r'), FloatProgress(value=1.0, max=1.0)))"
      ]
     },
     "metadata": {},
     "output_type": "display_data"
    },
    {
     "data": {
      "text/html": [
       "<style>\n",
       "    table.wandb td:nth-child(1) { padding: 0 10px; text-align: left ; width: auto;} td:nth-child(2) {text-align: left ; width: 100%}\n",
       "    .wandb-row { display: flex; flex-direction: row; flex-wrap: wrap; justify-content: flex-start; width: 100% }\n",
       "    .wandb-col { display: flex; flex-direction: column; flex-basis: 100%; flex: 1; padding: 10px; }\n",
       "    </style>\n",
       "<div class=\"wandb-row\"><div class=\"wandb-col\"><h3>Run history:</h3><br/><table class=\"wandb\"><tr><td>test accuracy</td><td>▁</td></tr><tr><td>test loss</td><td>▁</td></tr><tr><td>train accuracy</td><td>▁</td></tr><tr><td>train loss</td><td>▁</td></tr></table><br/></div><div class=\"wandb-col\"><h3>Run summary:</h3><br/><table class=\"wandb\"><tr><td>test accuracy</td><td>0.59216</td></tr><tr><td>test loss</td><td>8.6585</td></tr><tr><td>train accuracy</td><td>0.82577</td></tr><tr><td>train loss</td><td>2.99335</td></tr></table><br/></div></div>"
      ],
      "text/plain": [
       "<IPython.core.display.HTML object>"
      ]
     },
     "metadata": {},
     "output_type": "display_data"
    },
    {
     "data": {
      "text/html": [
       " View run <strong style=\"color:#cdcd00\">genial-lake-23</strong> at: <a href='https://wandb.ai/oriane-cavrois/brain_image_large_archi_optimization_4/runs/5te95oi5' target=\"_blank\">https://wandb.ai/oriane-cavrois/brain_image_large_archi_optimization_4/runs/5te95oi5</a><br/>Synced 5 W&B file(s), 0 media file(s), 0 artifact file(s) and 0 other file(s)"
      ],
      "text/plain": [
       "<IPython.core.display.HTML object>"
      ]
     },
     "metadata": {},
     "output_type": "display_data"
    },
    {
     "data": {
      "text/html": [
       "Find logs at: <code>./wandb/run-20240208_182911-5te95oi5/logs</code>"
      ],
      "text/plain": [
       "<IPython.core.display.HTML object>"
      ]
     },
     "metadata": {},
     "output_type": "display_data"
    },
    {
     "name": "stdout",
     "output_type": "stream",
     "text": [
      "Iteration 23\n",
      "Number of epochs: 20\n",
      "(20, 0.00175, 8, 60, 5, 6, 0.8500000000000001)\n"
     ]
    },
    {
     "data": {
      "application/vnd.jupyter.widget-view+json": {
       "model_id": "2bae7636eff443fbaf0dca4716c91438",
       "version_major": 2,
       "version_minor": 0
      },
      "text/plain": [
       "VBox(children=(Label(value='Waiting for wandb.init()...\\r'), FloatProgress(value=0.011137023611081532, max=1.0…"
      ]
     },
     "metadata": {},
     "output_type": "display_data"
    },
    {
     "data": {
      "text/html": [
       "wandb version 0.16.3 is available!  To upgrade, please run:\n",
       " $ pip install wandb --upgrade"
      ],
      "text/plain": [
       "<IPython.core.display.HTML object>"
      ]
     },
     "metadata": {},
     "output_type": "display_data"
    },
    {
     "data": {
      "text/html": [
       "Tracking run with wandb version 0.16.2"
      ],
      "text/plain": [
       "<IPython.core.display.HTML object>"
      ]
     },
     "metadata": {},
     "output_type": "display_data"
    },
    {
     "data": {
      "text/html": [
       "Run data is saved locally in <code>/Users/orianecavrois/Documents/Perso/MachineLearning/Github/Brain-tumor-image-classification/wandb/run-20240208_183021-4f47jdzj</code>"
      ],
      "text/plain": [
       "<IPython.core.display.HTML object>"
      ]
     },
     "metadata": {},
     "output_type": "display_data"
    },
    {
     "data": {
      "text/html": [
       "Syncing run <strong><a href='https://wandb.ai/oriane-cavrois/brain_image_large_archi_optimization_4/runs/4f47jdzj' target=\"_blank\">usual-salad-24</a></strong> to <a href='https://wandb.ai/oriane-cavrois/brain_image_large_archi_optimization_4' target=\"_blank\">Weights & Biases</a> (<a href='https://wandb.me/run' target=\"_blank\">docs</a>)<br/>"
      ],
      "text/plain": [
       "<IPython.core.display.HTML object>"
      ]
     },
     "metadata": {},
     "output_type": "display_data"
    },
    {
     "data": {
      "text/html": [
       " View project at <a href='https://wandb.ai/oriane-cavrois/brain_image_large_archi_optimization_4' target=\"_blank\">https://wandb.ai/oriane-cavrois/brain_image_large_archi_optimization_4</a>"
      ],
      "text/plain": [
       "<IPython.core.display.HTML object>"
      ]
     },
     "metadata": {},
     "output_type": "display_data"
    },
    {
     "data": {
      "text/html": [
       " View run at <a href='https://wandb.ai/oriane-cavrois/brain_image_large_archi_optimization_4/runs/4f47jdzj' target=\"_blank\">https://wandb.ai/oriane-cavrois/brain_image_large_archi_optimization_4/runs/4f47jdzj</a>"
      ],
      "text/plain": [
       "<IPython.core.display.HTML object>"
      ]
     },
     "metadata": {},
     "output_type": "display_data"
    },
    {
     "name": "stdout",
     "output_type": "stream",
     "text": [
      "Fold 1\n",
      "-------\n",
      "Test set: Average loss: 46.7510, Accuracy: 42/85 (49.41%)\n",
      "\n",
      "Fold 2\n",
      "-------\n",
      "Test set: Average loss: 18.9015, Accuracy: 44/85 (51.76%)\n",
      "\n",
      "Fold 3\n",
      "-------\n",
      "Test set: Average loss: 5.2711, Accuracy: 52/85 (61.18%)\n",
      "\n",
      "--------------------------------------\n"
     ]
    },
    {
     "name": "stderr",
     "output_type": "stream",
     "text": [
      "wandb: WARNING Source type is set to 'repo' but some required information is missing from the environment. A job will not be created from this run. See https://docs.wandb.ai/guides/launch/create-job\n"
     ]
    },
    {
     "data": {
      "application/vnd.jupyter.widget-view+json": {
       "model_id": "474b70b1bec14ef0818a6e910c0e1ce5",
       "version_major": 2,
       "version_minor": 0
      },
      "text/plain": [
       "VBox(children=(Label(value='0.001 MB of 0.001 MB uploaded\\r'), FloatProgress(value=1.0, max=1.0)))"
      ]
     },
     "metadata": {},
     "output_type": "display_data"
    },
    {
     "data": {
      "text/html": [
       "<style>\n",
       "    table.wandb td:nth-child(1) { padding: 0 10px; text-align: left ; width: auto;} td:nth-child(2) {text-align: left ; width: 100%}\n",
       "    .wandb-row { display: flex; flex-direction: row; flex-wrap: wrap; justify-content: flex-start; width: 100% }\n",
       "    .wandb-col { display: flex; flex-direction: column; flex-basis: 100%; flex: 1; padding: 10px; }\n",
       "    </style>\n",
       "<div class=\"wandb-row\"><div class=\"wandb-col\"><h3>Run history:</h3><br/><table class=\"wandb\"><tr><td>test accuracy</td><td>▁</td></tr><tr><td>test loss</td><td>▁</td></tr><tr><td>train accuracy</td><td>▁</td></tr><tr><td>train loss</td><td>▁</td></tr></table><br/></div><div class=\"wandb-col\"><h3>Run summary:</h3><br/><table class=\"wandb\"><tr><td>test accuracy</td><td>0.54118</td></tr><tr><td>test loss</td><td>23.6412</td></tr><tr><td>train accuracy</td><td>0.85967</td></tr><tr><td>train loss</td><td>3.18845</td></tr></table><br/></div></div>"
      ],
      "text/plain": [
       "<IPython.core.display.HTML object>"
      ]
     },
     "metadata": {},
     "output_type": "display_data"
    },
    {
     "data": {
      "text/html": [
       " View run <strong style=\"color:#cdcd00\">usual-salad-24</strong> at: <a href='https://wandb.ai/oriane-cavrois/brain_image_large_archi_optimization_4/runs/4f47jdzj' target=\"_blank\">https://wandb.ai/oriane-cavrois/brain_image_large_archi_optimization_4/runs/4f47jdzj</a><br/>Synced 5 W&B file(s), 0 media file(s), 0 artifact file(s) and 0 other file(s)"
      ],
      "text/plain": [
       "<IPython.core.display.HTML object>"
      ]
     },
     "metadata": {},
     "output_type": "display_data"
    },
    {
     "data": {
      "text/html": [
       "Find logs at: <code>./wandb/run-20240208_183021-4f47jdzj/logs</code>"
      ],
      "text/plain": [
       "<IPython.core.display.HTML object>"
      ]
     },
     "metadata": {},
     "output_type": "display_data"
    },
    {
     "name": "stdout",
     "output_type": "stream",
     "text": [
      "Iteration 24\n",
      "Number of epochs: 10\n",
      "(10, 0.0012000000000000001, 7, 45, 5, 2, 0.4)\n"
     ]
    },
    {
     "data": {
      "application/vnd.jupyter.widget-view+json": {
       "model_id": "38b5675681f54a899806daff4a3792e2",
       "version_major": 2,
       "version_minor": 0
      },
      "text/plain": [
       "VBox(children=(Label(value='Waiting for wandb.init()...\\r'), FloatProgress(value=0.011256626855578765, max=1.0…"
      ]
     },
     "metadata": {},
     "output_type": "display_data"
    },
    {
     "data": {
      "text/html": [
       "wandb version 0.16.3 is available!  To upgrade, please run:\n",
       " $ pip install wandb --upgrade"
      ],
      "text/plain": [
       "<IPython.core.display.HTML object>"
      ]
     },
     "metadata": {},
     "output_type": "display_data"
    },
    {
     "data": {
      "text/html": [
       "Tracking run with wandb version 0.16.2"
      ],
      "text/plain": [
       "<IPython.core.display.HTML object>"
      ]
     },
     "metadata": {},
     "output_type": "display_data"
    },
    {
     "data": {
      "text/html": [
       "Run data is saved locally in <code>/Users/orianecavrois/Documents/Perso/MachineLearning/Github/Brain-tumor-image-classification/wandb/run-20240208_183106-tfz33a9c</code>"
      ],
      "text/plain": [
       "<IPython.core.display.HTML object>"
      ]
     },
     "metadata": {},
     "output_type": "display_data"
    },
    {
     "data": {
      "text/html": [
       "Syncing run <strong><a href='https://wandb.ai/oriane-cavrois/brain_image_large_archi_optimization_4/runs/tfz33a9c' target=\"_blank\">breezy-fog-25</a></strong> to <a href='https://wandb.ai/oriane-cavrois/brain_image_large_archi_optimization_4' target=\"_blank\">Weights & Biases</a> (<a href='https://wandb.me/run' target=\"_blank\">docs</a>)<br/>"
      ],
      "text/plain": [
       "<IPython.core.display.HTML object>"
      ]
     },
     "metadata": {},
     "output_type": "display_data"
    },
    {
     "data": {
      "text/html": [
       " View project at <a href='https://wandb.ai/oriane-cavrois/brain_image_large_archi_optimization_4' target=\"_blank\">https://wandb.ai/oriane-cavrois/brain_image_large_archi_optimization_4</a>"
      ],
      "text/plain": [
       "<IPython.core.display.HTML object>"
      ]
     },
     "metadata": {},
     "output_type": "display_data"
    },
    {
     "data": {
      "text/html": [
       " View run at <a href='https://wandb.ai/oriane-cavrois/brain_image_large_archi_optimization_4/runs/tfz33a9c' target=\"_blank\">https://wandb.ai/oriane-cavrois/brain_image_large_archi_optimization_4/runs/tfz33a9c</a>"
      ],
      "text/plain": [
       "<IPython.core.display.HTML object>"
      ]
     },
     "metadata": {},
     "output_type": "display_data"
    },
    {
     "name": "stdout",
     "output_type": "stream",
     "text": [
      "Fold 1\n",
      "-------\n",
      "Test set: Average loss: 31.6520, Accuracy: 46/85 (54.12%)\n",
      "\n",
      "Fold 2\n",
      "-------\n",
      "Test set: Average loss: 13.5676, Accuracy: 51/85 (60.00%)\n",
      "\n",
      "Fold 3\n",
      "-------\n",
      "Test set: Average loss: 2.4810, Accuracy: 54/85 (63.53%)\n",
      "\n",
      "--------------------------------------\n"
     ]
    },
    {
     "name": "stderr",
     "output_type": "stream",
     "text": [
      "wandb: WARNING Source type is set to 'repo' but some required information is missing from the environment. A job will not be created from this run. See https://docs.wandb.ai/guides/launch/create-job\n"
     ]
    },
    {
     "data": {
      "application/vnd.jupyter.widget-view+json": {
       "model_id": "34c86ab0ac12418d95561735bf24e418",
       "version_major": 2,
       "version_minor": 0
      },
      "text/plain": [
       "VBox(children=(Label(value='0.001 MB of 0.001 MB uploaded\\r'), FloatProgress(value=1.0, max=1.0)))"
      ]
     },
     "metadata": {},
     "output_type": "display_data"
    },
    {
     "data": {
      "text/html": [
       "<style>\n",
       "    table.wandb td:nth-child(1) { padding: 0 10px; text-align: left ; width: auto;} td:nth-child(2) {text-align: left ; width: 100%}\n",
       "    .wandb-row { display: flex; flex-direction: row; flex-wrap: wrap; justify-content: flex-start; width: 100% }\n",
       "    .wandb-col { display: flex; flex-direction: column; flex-basis: 100%; flex: 1; padding: 10px; }\n",
       "    </style>\n",
       "<div class=\"wandb-row\"><div class=\"wandb-col\"><h3>Run history:</h3><br/><table class=\"wandb\"><tr><td>test accuracy</td><td>▁</td></tr><tr><td>test loss</td><td>▁</td></tr><tr><td>train accuracy</td><td>▁</td></tr><tr><td>train loss</td><td>▁</td></tr></table><br/></div><div class=\"wandb-col\"><h3>Run summary:</h3><br/><table class=\"wandb\"><tr><td>test accuracy</td><td>0.59216</td></tr><tr><td>test loss</td><td>15.90022</td></tr><tr><td>train accuracy</td><td>0.90298</td></tr><tr><td>train loss</td><td>49.89066</td></tr></table><br/></div></div>"
      ],
      "text/plain": [
       "<IPython.core.display.HTML object>"
      ]
     },
     "metadata": {},
     "output_type": "display_data"
    },
    {
     "data": {
      "text/html": [
       " View run <strong style=\"color:#cdcd00\">breezy-fog-25</strong> at: <a href='https://wandb.ai/oriane-cavrois/brain_image_large_archi_optimization_4/runs/tfz33a9c' target=\"_blank\">https://wandb.ai/oriane-cavrois/brain_image_large_archi_optimization_4/runs/tfz33a9c</a><br/>Synced 5 W&B file(s), 0 media file(s), 0 artifact file(s) and 0 other file(s)"
      ],
      "text/plain": [
       "<IPython.core.display.HTML object>"
      ]
     },
     "metadata": {},
     "output_type": "display_data"
    },
    {
     "data": {
      "text/html": [
       "Find logs at: <code>./wandb/run-20240208_183106-tfz33a9c/logs</code>"
      ],
      "text/plain": [
       "<IPython.core.display.HTML object>"
      ]
     },
     "metadata": {},
     "output_type": "display_data"
    },
    {
     "name": "stdout",
     "output_type": "stream",
     "text": [
      "Iteration 25\n",
      "Number of epochs: 10\n",
      "(10, 0.00835, 10, 65, 3, 3, 0.9500000000000001)\n"
     ]
    },
    {
     "data": {
      "application/vnd.jupyter.widget-view+json": {
       "model_id": "56b5078f702044cf983e81413ec95937",
       "version_major": 2,
       "version_minor": 0
      },
      "text/plain": [
       "VBox(children=(Label(value='Waiting for wandb.init()...\\r'), FloatProgress(value=0.011151396299990464, max=1.0…"
      ]
     },
     "metadata": {},
     "output_type": "display_data"
    },
    {
     "data": {
      "text/html": [
       "wandb version 0.16.3 is available!  To upgrade, please run:\n",
       " $ pip install wandb --upgrade"
      ],
      "text/plain": [
       "<IPython.core.display.HTML object>"
      ]
     },
     "metadata": {},
     "output_type": "display_data"
    },
    {
     "data": {
      "text/html": [
       "Tracking run with wandb version 0.16.2"
      ],
      "text/plain": [
       "<IPython.core.display.HTML object>"
      ]
     },
     "metadata": {},
     "output_type": "display_data"
    },
    {
     "data": {
      "text/html": [
       "Run data is saved locally in <code>/Users/orianecavrois/Documents/Perso/MachineLearning/Github/Brain-tumor-image-classification/wandb/run-20240208_183131-n10osgir</code>"
      ],
      "text/plain": [
       "<IPython.core.display.HTML object>"
      ]
     },
     "metadata": {},
     "output_type": "display_data"
    },
    {
     "data": {
      "text/html": [
       "Syncing run <strong><a href='https://wandb.ai/oriane-cavrois/brain_image_large_archi_optimization_4/runs/n10osgir' target=\"_blank\">spring-forest-26</a></strong> to <a href='https://wandb.ai/oriane-cavrois/brain_image_large_archi_optimization_4' target=\"_blank\">Weights & Biases</a> (<a href='https://wandb.me/run' target=\"_blank\">docs</a>)<br/>"
      ],
      "text/plain": [
       "<IPython.core.display.HTML object>"
      ]
     },
     "metadata": {},
     "output_type": "display_data"
    },
    {
     "data": {
      "text/html": [
       " View project at <a href='https://wandb.ai/oriane-cavrois/brain_image_large_archi_optimization_4' target=\"_blank\">https://wandb.ai/oriane-cavrois/brain_image_large_archi_optimization_4</a>"
      ],
      "text/plain": [
       "<IPython.core.display.HTML object>"
      ]
     },
     "metadata": {},
     "output_type": "display_data"
    },
    {
     "data": {
      "text/html": [
       " View run at <a href='https://wandb.ai/oriane-cavrois/brain_image_large_archi_optimization_4/runs/n10osgir' target=\"_blank\">https://wandb.ai/oriane-cavrois/brain_image_large_archi_optimization_4/runs/n10osgir</a>"
      ],
      "text/plain": [
       "<IPython.core.display.HTML object>"
      ]
     },
     "metadata": {},
     "output_type": "display_data"
    },
    {
     "name": "stdout",
     "output_type": "stream",
     "text": [
      "Fold 1\n",
      "-------\n",
      "Test set: Average loss: 23.7646, Accuracy: 39/85 (45.88%)\n",
      "\n",
      "Fold 2\n",
      "-------\n",
      "Test set: Average loss: 21.0946, Accuracy: 44/85 (51.76%)\n",
      "\n",
      "Fold 3\n",
      "-------\n",
      "Test set: Average loss: 16.2201, Accuracy: 44/85 (51.76%)\n",
      "\n",
      "--------------------------------------\n"
     ]
    },
    {
     "name": "stderr",
     "output_type": "stream",
     "text": [
      "wandb: WARNING Source type is set to 'repo' but some required information is missing from the environment. A job will not be created from this run. See https://docs.wandb.ai/guides/launch/create-job\n"
     ]
    },
    {
     "data": {
      "application/vnd.jupyter.widget-view+json": {
       "model_id": "959b72abbf684e92a625bbc73e4137f4",
       "version_major": 2,
       "version_minor": 0
      },
      "text/plain": [
       "VBox(children=(Label(value='0.001 MB of 0.001 MB uploaded\\r'), FloatProgress(value=1.0, max=1.0)))"
      ]
     },
     "metadata": {},
     "output_type": "display_data"
    },
    {
     "data": {
      "text/html": [
       "<style>\n",
       "    table.wandb td:nth-child(1) { padding: 0 10px; text-align: left ; width: auto;} td:nth-child(2) {text-align: left ; width: 100%}\n",
       "    .wandb-row { display: flex; flex-direction: row; flex-wrap: wrap; justify-content: flex-start; width: 100% }\n",
       "    .wandb-col { display: flex; flex-direction: column; flex-basis: 100%; flex: 1; padding: 10px; }\n",
       "    </style>\n",
       "<div class=\"wandb-row\"><div class=\"wandb-col\"><h3>Run history:</h3><br/><table class=\"wandb\"><tr><td>test accuracy</td><td>▁</td></tr><tr><td>test loss</td><td>▁</td></tr><tr><td>train accuracy</td><td>▁</td></tr><tr><td>train loss</td><td>▁</td></tr></table><br/></div><div class=\"wandb-col\"><h3>Run summary:</h3><br/><table class=\"wandb\"><tr><td>test accuracy</td><td>0.49804</td></tr><tr><td>test loss</td><td>20.35976</td></tr><tr><td>train accuracy</td><td>0.71905</td></tr><tr><td>train loss</td><td>7.39808</td></tr></table><br/></div></div>"
      ],
      "text/plain": [
       "<IPython.core.display.HTML object>"
      ]
     },
     "metadata": {},
     "output_type": "display_data"
    },
    {
     "data": {
      "text/html": [
       " View run <strong style=\"color:#cdcd00\">spring-forest-26</strong> at: <a href='https://wandb.ai/oriane-cavrois/brain_image_large_archi_optimization_4/runs/n10osgir' target=\"_blank\">https://wandb.ai/oriane-cavrois/brain_image_large_archi_optimization_4/runs/n10osgir</a><br/>Synced 5 W&B file(s), 0 media file(s), 0 artifact file(s) and 0 other file(s)"
      ],
      "text/plain": [
       "<IPython.core.display.HTML object>"
      ]
     },
     "metadata": {},
     "output_type": "display_data"
    },
    {
     "data": {
      "text/html": [
       "Find logs at: <code>./wandb/run-20240208_183131-n10osgir/logs</code>"
      ],
      "text/plain": [
       "<IPython.core.display.HTML object>"
      ]
     },
     "metadata": {},
     "output_type": "display_data"
    },
    {
     "name": "stdout",
     "output_type": "stream",
     "text": [
      "Iteration 26\n",
      "Number of epochs: 5\n",
      "(5, 0.00835, 6, 55, 1, 7, 0.15000000000000002)\n"
     ]
    },
    {
     "data": {
      "application/vnd.jupyter.widget-view+json": {
       "model_id": "799c423b1b54407ba25675788b249c3d",
       "version_major": 2,
       "version_minor": 0
      },
      "text/plain": [
       "VBox(children=(Label(value='Waiting for wandb.init()...\\r'), FloatProgress(value=0.01113314444446587, max=1.0)…"
      ]
     },
     "metadata": {},
     "output_type": "display_data"
    },
    {
     "data": {
      "text/html": [
       "wandb version 0.16.3 is available!  To upgrade, please run:\n",
       " $ pip install wandb --upgrade"
      ],
      "text/plain": [
       "<IPython.core.display.HTML object>"
      ]
     },
     "metadata": {},
     "output_type": "display_data"
    },
    {
     "data": {
      "text/html": [
       "Tracking run with wandb version 0.16.2"
      ],
      "text/plain": [
       "<IPython.core.display.HTML object>"
      ]
     },
     "metadata": {},
     "output_type": "display_data"
    },
    {
     "data": {
      "text/html": [
       "Run data is saved locally in <code>/Users/orianecavrois/Documents/Perso/MachineLearning/Github/Brain-tumor-image-classification/wandb/run-20240208_183155-nv98zzcb</code>"
      ],
      "text/plain": [
       "<IPython.core.display.HTML object>"
      ]
     },
     "metadata": {},
     "output_type": "display_data"
    },
    {
     "data": {
      "text/html": [
       "Syncing run <strong><a href='https://wandb.ai/oriane-cavrois/brain_image_large_archi_optimization_4/runs/nv98zzcb' target=\"_blank\">spring-fire-27</a></strong> to <a href='https://wandb.ai/oriane-cavrois/brain_image_large_archi_optimization_4' target=\"_blank\">Weights & Biases</a> (<a href='https://wandb.me/run' target=\"_blank\">docs</a>)<br/>"
      ],
      "text/plain": [
       "<IPython.core.display.HTML object>"
      ]
     },
     "metadata": {},
     "output_type": "display_data"
    },
    {
     "data": {
      "text/html": [
       " View project at <a href='https://wandb.ai/oriane-cavrois/brain_image_large_archi_optimization_4' target=\"_blank\">https://wandb.ai/oriane-cavrois/brain_image_large_archi_optimization_4</a>"
      ],
      "text/plain": [
       "<IPython.core.display.HTML object>"
      ]
     },
     "metadata": {},
     "output_type": "display_data"
    },
    {
     "data": {
      "text/html": [
       " View run at <a href='https://wandb.ai/oriane-cavrois/brain_image_large_archi_optimization_4/runs/nv98zzcb' target=\"_blank\">https://wandb.ai/oriane-cavrois/brain_image_large_archi_optimization_4/runs/nv98zzcb</a>"
      ],
      "text/plain": [
       "<IPython.core.display.HTML object>"
      ]
     },
     "metadata": {},
     "output_type": "display_data"
    },
    {
     "name": "stdout",
     "output_type": "stream",
     "text": [
      "Fold 1\n",
      "-------\n",
      "Test set: Average loss: 4.9009, Accuracy: 36/85 (42.35%)\n",
      "\n",
      "Fold 2\n",
      "-------\n",
      "Test set: Average loss: 0.0556, Accuracy: 53/85 (62.35%)\n",
      "\n",
      "Fold 3\n",
      "-------\n",
      "Test set: Average loss: 0.0325, Accuracy: 54/85 (63.53%)\n",
      "\n",
      "--------------------------------------\n"
     ]
    },
    {
     "name": "stderr",
     "output_type": "stream",
     "text": [
      "wandb: WARNING Source type is set to 'repo' but some required information is missing from the environment. A job will not be created from this run. See https://docs.wandb.ai/guides/launch/create-job\n"
     ]
    },
    {
     "data": {
      "application/vnd.jupyter.widget-view+json": {
       "model_id": "e9c148f880ce410bb764ae023cb2c4dc",
       "version_major": 2,
       "version_minor": 0
      },
      "text/plain": [
       "VBox(children=(Label(value='0.001 MB of 0.001 MB uploaded\\r'), FloatProgress(value=1.0, max=1.0)))"
      ]
     },
     "metadata": {},
     "output_type": "display_data"
    },
    {
     "data": {
      "text/html": [
       "<style>\n",
       "    table.wandb td:nth-child(1) { padding: 0 10px; text-align: left ; width: auto;} td:nth-child(2) {text-align: left ; width: 100%}\n",
       "    .wandb-row { display: flex; flex-direction: row; flex-wrap: wrap; justify-content: flex-start; width: 100% }\n",
       "    .wandb-col { display: flex; flex-direction: column; flex-basis: 100%; flex: 1; padding: 10px; }\n",
       "    </style>\n",
       "<div class=\"wandb-row\"><div class=\"wandb-col\"><h3>Run history:</h3><br/><table class=\"wandb\"><tr><td>test accuracy</td><td>▁</td></tr><tr><td>test loss</td><td>▁</td></tr><tr><td>train accuracy</td><td>▁</td></tr><tr><td>train loss</td><td>▁</td></tr></table><br/></div><div class=\"wandb-col\"><h3>Run summary:</h3><br/><table class=\"wandb\"><tr><td>test accuracy</td><td>0.56078</td></tr><tr><td>test loss</td><td>1.66301</td></tr><tr><td>train accuracy</td><td>0.86488</td></tr><tr><td>train loss</td><td>1.08185</td></tr></table><br/></div></div>"
      ],
      "text/plain": [
       "<IPython.core.display.HTML object>"
      ]
     },
     "metadata": {},
     "output_type": "display_data"
    },
    {
     "data": {
      "text/html": [
       " View run <strong style=\"color:#cdcd00\">spring-fire-27</strong> at: <a href='https://wandb.ai/oriane-cavrois/brain_image_large_archi_optimization_4/runs/nv98zzcb' target=\"_blank\">https://wandb.ai/oriane-cavrois/brain_image_large_archi_optimization_4/runs/nv98zzcb</a><br/>Synced 5 W&B file(s), 0 media file(s), 0 artifact file(s) and 0 other file(s)"
      ],
      "text/plain": [
       "<IPython.core.display.HTML object>"
      ]
     },
     "metadata": {},
     "output_type": "display_data"
    },
    {
     "data": {
      "text/html": [
       "Find logs at: <code>./wandb/run-20240208_183155-nv98zzcb/logs</code>"
      ],
      "text/plain": [
       "<IPython.core.display.HTML object>"
      ]
     },
     "metadata": {},
     "output_type": "display_data"
    },
    {
     "name": "stdout",
     "output_type": "stream",
     "text": [
      "Iteration 27\n",
      "Number of epochs: 30\n",
      "(30, 0.0001, 7, 60, 1, 5, 0.55)\n"
     ]
    },
    {
     "data": {
      "application/vnd.jupyter.widget-view+json": {
       "model_id": "1826a7942b33473590bf5a5a8a82ba8c",
       "version_major": 2,
       "version_minor": 0
      },
      "text/plain": [
       "VBox(children=(Label(value='Waiting for wandb.init()...\\r'), FloatProgress(value=0.011181421288913244, max=1.0…"
      ]
     },
     "metadata": {},
     "output_type": "display_data"
    },
    {
     "data": {
      "text/html": [
       "wandb version 0.16.3 is available!  To upgrade, please run:\n",
       " $ pip install wandb --upgrade"
      ],
      "text/plain": [
       "<IPython.core.display.HTML object>"
      ]
     },
     "metadata": {},
     "output_type": "display_data"
    },
    {
     "data": {
      "text/html": [
       "Tracking run with wandb version 0.16.2"
      ],
      "text/plain": [
       "<IPython.core.display.HTML object>"
      ]
     },
     "metadata": {},
     "output_type": "display_data"
    },
    {
     "data": {
      "text/html": [
       "Run data is saved locally in <code>/Users/orianecavrois/Documents/Perso/MachineLearning/Github/Brain-tumor-image-classification/wandb/run-20240208_183212-djfyn164</code>"
      ],
      "text/plain": [
       "<IPython.core.display.HTML object>"
      ]
     },
     "metadata": {},
     "output_type": "display_data"
    },
    {
     "data": {
      "text/html": [
       "Syncing run <strong><a href='https://wandb.ai/oriane-cavrois/brain_image_large_archi_optimization_4/runs/djfyn164' target=\"_blank\">feasible-sea-28</a></strong> to <a href='https://wandb.ai/oriane-cavrois/brain_image_large_archi_optimization_4' target=\"_blank\">Weights & Biases</a> (<a href='https://wandb.me/run' target=\"_blank\">docs</a>)<br/>"
      ],
      "text/plain": [
       "<IPython.core.display.HTML object>"
      ]
     },
     "metadata": {},
     "output_type": "display_data"
    },
    {
     "data": {
      "text/html": [
       " View project at <a href='https://wandb.ai/oriane-cavrois/brain_image_large_archi_optimization_4' target=\"_blank\">https://wandb.ai/oriane-cavrois/brain_image_large_archi_optimization_4</a>"
      ],
      "text/plain": [
       "<IPython.core.display.HTML object>"
      ]
     },
     "metadata": {},
     "output_type": "display_data"
    },
    {
     "data": {
      "text/html": [
       " View run at <a href='https://wandb.ai/oriane-cavrois/brain_image_large_archi_optimization_4/runs/djfyn164' target=\"_blank\">https://wandb.ai/oriane-cavrois/brain_image_large_archi_optimization_4/runs/djfyn164</a>"
      ],
      "text/plain": [
       "<IPython.core.display.HTML object>"
      ]
     },
     "metadata": {},
     "output_type": "display_data"
    },
    {
     "name": "stdout",
     "output_type": "stream",
     "text": [
      "Fold 1\n",
      "-------\n",
      "Test set: Average loss: 5.5697, Accuracy: 45/85 (52.94%)\n",
      "\n",
      "Fold 2\n",
      "-------\n",
      "Test set: Average loss: 2.8815, Accuracy: 47/85 (55.29%)\n",
      "\n",
      "Fold 3\n",
      "-------\n",
      "Test set: Average loss: 1.3688, Accuracy: 54/85 (63.53%)\n",
      "\n",
      "--------------------------------------\n"
     ]
    },
    {
     "name": "stderr",
     "output_type": "stream",
     "text": [
      "wandb: WARNING Source type is set to 'repo' but some required information is missing from the environment. A job will not be created from this run. See https://docs.wandb.ai/guides/launch/create-job\n"
     ]
    },
    {
     "data": {
      "application/vnd.jupyter.widget-view+json": {
       "model_id": "99407cfe96e54ab3a419f02fd786a824",
       "version_major": 2,
       "version_minor": 0
      },
      "text/plain": [
       "VBox(children=(Label(value='0.001 MB of 0.001 MB uploaded\\r'), FloatProgress(value=1.0, max=1.0)))"
      ]
     },
     "metadata": {},
     "output_type": "display_data"
    },
    {
     "data": {
      "text/html": [
       "<style>\n",
       "    table.wandb td:nth-child(1) { padding: 0 10px; text-align: left ; width: auto;} td:nth-child(2) {text-align: left ; width: 100%}\n",
       "    .wandb-row { display: flex; flex-direction: row; flex-wrap: wrap; justify-content: flex-start; width: 100% }\n",
       "    .wandb-col { display: flex; flex-direction: column; flex-basis: 100%; flex: 1; padding: 10px; }\n",
       "    </style>\n",
       "<div class=\"wandb-row\"><div class=\"wandb-col\"><h3>Run history:</h3><br/><table class=\"wandb\"><tr><td>test accuracy</td><td>▁</td></tr><tr><td>test loss</td><td>▁</td></tr><tr><td>train accuracy</td><td>▁</td></tr><tr><td>train loss</td><td>▁</td></tr></table><br/></div><div class=\"wandb-col\"><h3>Run summary:</h3><br/><table class=\"wandb\"><tr><td>test accuracy</td><td>0.57255</td></tr><tr><td>test loss</td><td>3.27335</td></tr><tr><td>train accuracy</td><td>0.94087</td></tr><tr><td>train loss</td><td>0.60792</td></tr></table><br/></div></div>"
      ],
      "text/plain": [
       "<IPython.core.display.HTML object>"
      ]
     },
     "metadata": {},
     "output_type": "display_data"
    },
    {
     "data": {
      "text/html": [
       " View run <strong style=\"color:#cdcd00\">feasible-sea-28</strong> at: <a href='https://wandb.ai/oriane-cavrois/brain_image_large_archi_optimization_4/runs/djfyn164' target=\"_blank\">https://wandb.ai/oriane-cavrois/brain_image_large_archi_optimization_4/runs/djfyn164</a><br/>Synced 5 W&B file(s), 0 media file(s), 0 artifact file(s) and 0 other file(s)"
      ],
      "text/plain": [
       "<IPython.core.display.HTML object>"
      ]
     },
     "metadata": {},
     "output_type": "display_data"
    },
    {
     "data": {
      "text/html": [
       "Find logs at: <code>./wandb/run-20240208_183212-djfyn164/logs</code>"
      ],
      "text/plain": [
       "<IPython.core.display.HTML object>"
      ]
     },
     "metadata": {},
     "output_type": "display_data"
    },
    {
     "name": "stdout",
     "output_type": "stream",
     "text": [
      "Iteration 28\n",
      "Number of epochs: 30\n",
      "(30, 0.00725, 5, 30, 3, 5, 0.4)\n"
     ]
    },
    {
     "data": {
      "application/vnd.jupyter.widget-view+json": {
       "model_id": "079db29e4b9e4d4b80a292a023432397",
       "version_major": 2,
       "version_minor": 0
      },
      "text/plain": [
       "VBox(children=(Label(value='Waiting for wandb.init()...\\r'), FloatProgress(value=0.011224466666640688, max=1.0…"
      ]
     },
     "metadata": {},
     "output_type": "display_data"
    },
    {
     "data": {
      "text/html": [
       "wandb version 0.16.3 is available!  To upgrade, please run:\n",
       " $ pip install wandb --upgrade"
      ],
      "text/plain": [
       "<IPython.core.display.HTML object>"
      ]
     },
     "metadata": {},
     "output_type": "display_data"
    },
    {
     "data": {
      "text/html": [
       "Tracking run with wandb version 0.16.2"
      ],
      "text/plain": [
       "<IPython.core.display.HTML object>"
      ]
     },
     "metadata": {},
     "output_type": "display_data"
    },
    {
     "data": {
      "text/html": [
       "Run data is saved locally in <code>/Users/orianecavrois/Documents/Perso/MachineLearning/Github/Brain-tumor-image-classification/wandb/run-20240208_183309-r7lbkk94</code>"
      ],
      "text/plain": [
       "<IPython.core.display.HTML object>"
      ]
     },
     "metadata": {},
     "output_type": "display_data"
    },
    {
     "data": {
      "text/html": [
       "Syncing run <strong><a href='https://wandb.ai/oriane-cavrois/brain_image_large_archi_optimization_4/runs/r7lbkk94' target=\"_blank\">scarlet-smoke-29</a></strong> to <a href='https://wandb.ai/oriane-cavrois/brain_image_large_archi_optimization_4' target=\"_blank\">Weights & Biases</a> (<a href='https://wandb.me/run' target=\"_blank\">docs</a>)<br/>"
      ],
      "text/plain": [
       "<IPython.core.display.HTML object>"
      ]
     },
     "metadata": {},
     "output_type": "display_data"
    },
    {
     "data": {
      "text/html": [
       " View project at <a href='https://wandb.ai/oriane-cavrois/brain_image_large_archi_optimization_4' target=\"_blank\">https://wandb.ai/oriane-cavrois/brain_image_large_archi_optimization_4</a>"
      ],
      "text/plain": [
       "<IPython.core.display.HTML object>"
      ]
     },
     "metadata": {},
     "output_type": "display_data"
    },
    {
     "data": {
      "text/html": [
       " View run at <a href='https://wandb.ai/oriane-cavrois/brain_image_large_archi_optimization_4/runs/r7lbkk94' target=\"_blank\">https://wandb.ai/oriane-cavrois/brain_image_large_archi_optimization_4/runs/r7lbkk94</a>"
      ],
      "text/plain": [
       "<IPython.core.display.HTML object>"
      ]
     },
     "metadata": {},
     "output_type": "display_data"
    },
    {
     "name": "stdout",
     "output_type": "stream",
     "text": [
      "Fold 1\n",
      "-------\n",
      "Test set: Average loss: 1.2257, Accuracy: 52/85 (61.18%)\n",
      "\n",
      "Fold 2\n",
      "-------\n",
      "Test set: Average loss: 4.3398, Accuracy: 48/85 (56.47%)\n",
      "\n",
      "Fold 3\n",
      "-------\n",
      "Test set: Average loss: 5.0157, Accuracy: 48/85 (56.47%)\n",
      "\n",
      "--------------------------------------\n"
     ]
    },
    {
     "name": "stderr",
     "output_type": "stream",
     "text": [
      "wandb: WARNING Source type is set to 'repo' but some required information is missing from the environment. A job will not be created from this run. See https://docs.wandb.ai/guides/launch/create-job\n"
     ]
    },
    {
     "data": {
      "application/vnd.jupyter.widget-view+json": {
       "model_id": "8b606e7c91e84a65bf7ec1842c634f38",
       "version_major": 2,
       "version_minor": 0
      },
      "text/plain": [
       "VBox(children=(Label(value='0.001 MB of 0.004 MB uploaded\\r'), FloatProgress(value=0.34139994795732503, max=1.…"
      ]
     },
     "metadata": {},
     "output_type": "display_data"
    },
    {
     "data": {
      "text/html": [
       "<style>\n",
       "    table.wandb td:nth-child(1) { padding: 0 10px; text-align: left ; width: auto;} td:nth-child(2) {text-align: left ; width: 100%}\n",
       "    .wandb-row { display: flex; flex-direction: row; flex-wrap: wrap; justify-content: flex-start; width: 100% }\n",
       "    .wandb-col { display: flex; flex-direction: column; flex-basis: 100%; flex: 1; padding: 10px; }\n",
       "    </style>\n",
       "<div class=\"wandb-row\"><div class=\"wandb-col\"><h3>Run history:</h3><br/><table class=\"wandb\"><tr><td>test accuracy</td><td>▁</td></tr><tr><td>test loss</td><td>▁</td></tr><tr><td>train accuracy</td><td>▁</td></tr><tr><td>train loss</td><td>▁</td></tr></table><br/></div><div class=\"wandb-col\"><h3>Run summary:</h3><br/><table class=\"wandb\"><tr><td>test accuracy</td><td>0.58039</td></tr><tr><td>test loss</td><td>3.52708</td></tr><tr><td>train accuracy</td><td>0.94583</td></tr><tr><td>train loss</td><td>1.73955</td></tr></table><br/></div></div>"
      ],
      "text/plain": [
       "<IPython.core.display.HTML object>"
      ]
     },
     "metadata": {},
     "output_type": "display_data"
    },
    {
     "data": {
      "text/html": [
       " View run <strong style=\"color:#cdcd00\">scarlet-smoke-29</strong> at: <a href='https://wandb.ai/oriane-cavrois/brain_image_large_archi_optimization_4/runs/r7lbkk94' target=\"_blank\">https://wandb.ai/oriane-cavrois/brain_image_large_archi_optimization_4/runs/r7lbkk94</a><br/>Synced 5 W&B file(s), 0 media file(s), 0 artifact file(s) and 0 other file(s)"
      ],
      "text/plain": [
       "<IPython.core.display.HTML object>"
      ]
     },
     "metadata": {},
     "output_type": "display_data"
    },
    {
     "data": {
      "text/html": [
       "Find logs at: <code>./wandb/run-20240208_183309-r7lbkk94/logs</code>"
      ],
      "text/plain": [
       "<IPython.core.display.HTML object>"
      ]
     },
     "metadata": {},
     "output_type": "display_data"
    },
    {
     "name": "stdout",
     "output_type": "stream",
     "text": [
      "Iteration 29\n",
      "Number of epochs: 10\n",
      "(10, 0.0023, 5, 40, 1, 5, 0.1)\n"
     ]
    },
    {
     "data": {
      "application/vnd.jupyter.widget-view+json": {
       "model_id": "04d27f4133a94e7fbf844186534dbb07",
       "version_major": 2,
       "version_minor": 0
      },
      "text/plain": [
       "VBox(children=(Label(value='Waiting for wandb.init()...\\r'), FloatProgress(value=0.011222111111096132, max=1.0…"
      ]
     },
     "metadata": {},
     "output_type": "display_data"
    },
    {
     "data": {
      "text/html": [
       "wandb version 0.16.3 is available!  To upgrade, please run:\n",
       " $ pip install wandb --upgrade"
      ],
      "text/plain": [
       "<IPython.core.display.HTML object>"
      ]
     },
     "metadata": {},
     "output_type": "display_data"
    },
    {
     "data": {
      "text/html": [
       "Tracking run with wandb version 0.16.2"
      ],
      "text/plain": [
       "<IPython.core.display.HTML object>"
      ]
     },
     "metadata": {},
     "output_type": "display_data"
    },
    {
     "data": {
      "text/html": [
       "Run data is saved locally in <code>/Users/orianecavrois/Documents/Perso/MachineLearning/Github/Brain-tumor-image-classification/wandb/run-20240208_183408-bjnihdxl</code>"
      ],
      "text/plain": [
       "<IPython.core.display.HTML object>"
      ]
     },
     "metadata": {},
     "output_type": "display_data"
    },
    {
     "data": {
      "text/html": [
       "Syncing run <strong><a href='https://wandb.ai/oriane-cavrois/brain_image_large_archi_optimization_4/runs/bjnihdxl' target=\"_blank\">earthy-butterfly-30</a></strong> to <a href='https://wandb.ai/oriane-cavrois/brain_image_large_archi_optimization_4' target=\"_blank\">Weights & Biases</a> (<a href='https://wandb.me/run' target=\"_blank\">docs</a>)<br/>"
      ],
      "text/plain": [
       "<IPython.core.display.HTML object>"
      ]
     },
     "metadata": {},
     "output_type": "display_data"
    },
    {
     "data": {
      "text/html": [
       " View project at <a href='https://wandb.ai/oriane-cavrois/brain_image_large_archi_optimization_4' target=\"_blank\">https://wandb.ai/oriane-cavrois/brain_image_large_archi_optimization_4</a>"
      ],
      "text/plain": [
       "<IPython.core.display.HTML object>"
      ]
     },
     "metadata": {},
     "output_type": "display_data"
    },
    {
     "data": {
      "text/html": [
       " View run at <a href='https://wandb.ai/oriane-cavrois/brain_image_large_archi_optimization_4/runs/bjnihdxl' target=\"_blank\">https://wandb.ai/oriane-cavrois/brain_image_large_archi_optimization_4/runs/bjnihdxl</a>"
      ],
      "text/plain": [
       "<IPython.core.display.HTML object>"
      ]
     },
     "metadata": {},
     "output_type": "display_data"
    },
    {
     "name": "stdout",
     "output_type": "stream",
     "text": [
      "Fold 1\n",
      "-------\n",
      "Test set: Average loss: 2.2058, Accuracy: 45/85 (52.94%)\n",
      "\n",
      "Fold 2\n",
      "-------\n",
      "Test set: Average loss: 0.3082, Accuracy: 53/85 (62.35%)\n",
      "\n",
      "Fold 3\n",
      "-------\n",
      "Test set: Average loss: 0.2090, Accuracy: 53/85 (62.35%)\n",
      "\n",
      "--------------------------------------\n"
     ]
    },
    {
     "data": {
      "application/vnd.jupyter.widget-view+json": {
       "model_id": "7bcde16c589f420c8761c11bbf714d25",
       "version_major": 2,
       "version_minor": 0
      },
      "text/plain": [
       "VBox(children=(Label(value='0.001 MB of 0.001 MB uploaded\\r'), FloatProgress(value=1.0, max=1.0)))"
      ]
     },
     "metadata": {},
     "output_type": "display_data"
    },
    {
     "name": "stderr",
     "output_type": "stream",
     "text": [
      "wandb: WARNING Source type is set to 'repo' but some required information is missing from the environment. A job will not be created from this run. See https://docs.wandb.ai/guides/launch/create-job\n"
     ]
    },
    {
     "data": {
      "text/html": [
       "<style>\n",
       "    table.wandb td:nth-child(1) { padding: 0 10px; text-align: left ; width: auto;} td:nth-child(2) {text-align: left ; width: 100%}\n",
       "    .wandb-row { display: flex; flex-direction: row; flex-wrap: wrap; justify-content: flex-start; width: 100% }\n",
       "    .wandb-col { display: flex; flex-direction: column; flex-basis: 100%; flex: 1; padding: 10px; }\n",
       "    </style>\n",
       "<div class=\"wandb-row\"><div class=\"wandb-col\"><h3>Run history:</h3><br/><table class=\"wandb\"><tr><td>test accuracy</td><td>▁</td></tr><tr><td>test loss</td><td>▁</td></tr><tr><td>train accuracy</td><td>▁</td></tr><tr><td>train loss</td><td>▁</td></tr></table><br/></div><div class=\"wandb-col\"><h3>Run summary:</h3><br/><table class=\"wandb\"><tr><td>test accuracy</td><td>0.59216</td></tr><tr><td>test loss</td><td>0.90766</td></tr><tr><td>train accuracy</td><td>0.91637</td></tr><tr><td>train loss</td><td>0.97703</td></tr></table><br/></div></div>"
      ],
      "text/plain": [
       "<IPython.core.display.HTML object>"
      ]
     },
     "metadata": {},
     "output_type": "display_data"
    },
    {
     "data": {
      "text/html": [
       " View run <strong style=\"color:#cdcd00\">earthy-butterfly-30</strong> at: <a href='https://wandb.ai/oriane-cavrois/brain_image_large_archi_optimization_4/runs/bjnihdxl' target=\"_blank\">https://wandb.ai/oriane-cavrois/brain_image_large_archi_optimization_4/runs/bjnihdxl</a><br/>Synced 5 W&B file(s), 0 media file(s), 0 artifact file(s) and 0 other file(s)"
      ],
      "text/plain": [
       "<IPython.core.display.HTML object>"
      ]
     },
     "metadata": {},
     "output_type": "display_data"
    },
    {
     "data": {
      "text/html": [
       "Find logs at: <code>./wandb/run-20240208_183408-bjnihdxl/logs</code>"
      ],
      "text/plain": [
       "<IPython.core.display.HTML object>"
      ]
     },
     "metadata": {},
     "output_type": "display_data"
    },
    {
     "name": "stdout",
     "output_type": "stream",
     "text": [
      "Iteration 30\n",
      "Number of epochs: 35\n",
      "(35, 0.0012000000000000001, 9, 70, 7, 7, 0.75)\n"
     ]
    },
    {
     "data": {
      "application/vnd.jupyter.widget-view+json": {
       "model_id": "ed38e476c0c04f24ac0661b3b077d322",
       "version_major": 2,
       "version_minor": 0
      },
      "text/plain": [
       "VBox(children=(Label(value='Waiting for wandb.init()...\\r'), FloatProgress(value=0.011122086577799766, max=1.0…"
      ]
     },
     "metadata": {},
     "output_type": "display_data"
    },
    {
     "data": {
      "text/html": [
       "wandb version 0.16.3 is available!  To upgrade, please run:\n",
       " $ pip install wandb --upgrade"
      ],
      "text/plain": [
       "<IPython.core.display.HTML object>"
      ]
     },
     "metadata": {},
     "output_type": "display_data"
    },
    {
     "data": {
      "text/html": [
       "Tracking run with wandb version 0.16.2"
      ],
      "text/plain": [
       "<IPython.core.display.HTML object>"
      ]
     },
     "metadata": {},
     "output_type": "display_data"
    },
    {
     "data": {
      "text/html": [
       "Run data is saved locally in <code>/Users/orianecavrois/Documents/Perso/MachineLearning/Github/Brain-tumor-image-classification/wandb/run-20240208_183437-4vh9f1g3</code>"
      ],
      "text/plain": [
       "<IPython.core.display.HTML object>"
      ]
     },
     "metadata": {},
     "output_type": "display_data"
    },
    {
     "data": {
      "text/html": [
       "Syncing run <strong><a href='https://wandb.ai/oriane-cavrois/brain_image_large_archi_optimization_4/runs/4vh9f1g3' target=\"_blank\">drawn-firebrand-31</a></strong> to <a href='https://wandb.ai/oriane-cavrois/brain_image_large_archi_optimization_4' target=\"_blank\">Weights & Biases</a> (<a href='https://wandb.me/run' target=\"_blank\">docs</a>)<br/>"
      ],
      "text/plain": [
       "<IPython.core.display.HTML object>"
      ]
     },
     "metadata": {},
     "output_type": "display_data"
    },
    {
     "data": {
      "text/html": [
       " View project at <a href='https://wandb.ai/oriane-cavrois/brain_image_large_archi_optimization_4' target=\"_blank\">https://wandb.ai/oriane-cavrois/brain_image_large_archi_optimization_4</a>"
      ],
      "text/plain": [
       "<IPython.core.display.HTML object>"
      ]
     },
     "metadata": {},
     "output_type": "display_data"
    },
    {
     "data": {
      "text/html": [
       " View run at <a href='https://wandb.ai/oriane-cavrois/brain_image_large_archi_optimization_4/runs/4vh9f1g3' target=\"_blank\">https://wandb.ai/oriane-cavrois/brain_image_large_archi_optimization_4/runs/4vh9f1g3</a>"
      ],
      "text/plain": [
       "<IPython.core.display.HTML object>"
      ]
     },
     "metadata": {},
     "output_type": "display_data"
    },
    {
     "name": "stdout",
     "output_type": "stream",
     "text": [
      "Fold 1\n",
      "-------\n",
      "Test set: Average loss: 18.9349, Accuracy: 45/85 (52.94%)\n",
      "\n",
      "Fold 2\n",
      "-------\n",
      "Test set: Average loss: 17.5478, Accuracy: 52/85 (61.18%)\n",
      "\n",
      "Fold 3\n",
      "-------\n",
      "Test set: Average loss: 1.6336, Accuracy: 55/85 (64.71%)\n",
      "\n",
      "--------------------------------------\n"
     ]
    },
    {
     "name": "stderr",
     "output_type": "stream",
     "text": [
      "wandb: WARNING Source type is set to 'repo' but some required information is missing from the environment. A job will not be created from this run. See https://docs.wandb.ai/guides/launch/create-job\n"
     ]
    },
    {
     "data": {
      "application/vnd.jupyter.widget-view+json": {
       "model_id": "fa887aa84b414911a9091b94b87810b9",
       "version_major": 2,
       "version_minor": 0
      },
      "text/plain": [
       "VBox(children=(Label(value='0.001 MB of 0.001 MB uploaded\\r'), FloatProgress(value=1.0, max=1.0)))"
      ]
     },
     "metadata": {},
     "output_type": "display_data"
    },
    {
     "data": {
      "text/html": [
       "<style>\n",
       "    table.wandb td:nth-child(1) { padding: 0 10px; text-align: left ; width: auto;} td:nth-child(2) {text-align: left ; width: 100%}\n",
       "    .wandb-row { display: flex; flex-direction: row; flex-wrap: wrap; justify-content: flex-start; width: 100% }\n",
       "    .wandb-col { display: flex; flex-direction: column; flex-basis: 100%; flex: 1; padding: 10px; }\n",
       "    </style>\n",
       "<div class=\"wandb-row\"><div class=\"wandb-col\"><h3>Run history:</h3><br/><table class=\"wandb\"><tr><td>test accuracy</td><td>▁</td></tr><tr><td>test loss</td><td>▁</td></tr><tr><td>train accuracy</td><td>▁</td></tr><tr><td>train loss</td><td>▁</td></tr></table><br/></div><div class=\"wandb-col\"><h3>Run summary:</h3><br/><table class=\"wandb\"><tr><td>test accuracy</td><td>0.59608</td></tr><tr><td>test loss</td><td>12.70544</td></tr><tr><td>train accuracy</td><td>0.91514</td></tr><tr><td>train loss</td><td>3.59698</td></tr></table><br/></div></div>"
      ],
      "text/plain": [
       "<IPython.core.display.HTML object>"
      ]
     },
     "metadata": {},
     "output_type": "display_data"
    },
    {
     "data": {
      "text/html": [
       " View run <strong style=\"color:#cdcd00\">drawn-firebrand-31</strong> at: <a href='https://wandb.ai/oriane-cavrois/brain_image_large_archi_optimization_4/runs/4vh9f1g3' target=\"_blank\">https://wandb.ai/oriane-cavrois/brain_image_large_archi_optimization_4/runs/4vh9f1g3</a><br/>Synced 5 W&B file(s), 0 media file(s), 0 artifact file(s) and 0 other file(s)"
      ],
      "text/plain": [
       "<IPython.core.display.HTML object>"
      ]
     },
     "metadata": {},
     "output_type": "display_data"
    },
    {
     "data": {
      "text/html": [
       "Find logs at: <code>./wandb/run-20240208_183437-4vh9f1g3/logs</code>"
      ],
      "text/plain": [
       "<IPython.core.display.HTML object>"
      ]
     },
     "metadata": {},
     "output_type": "display_data"
    },
    {
     "name": "stdout",
     "output_type": "stream",
     "text": [
      "Iteration 31\n",
      "Number of epochs: 30\n",
      "(30, 0.00395, 6, 40, 7, 3, 0.30000000000000004)\n"
     ]
    },
    {
     "data": {
      "application/vnd.jupyter.widget-view+json": {
       "model_id": "a21bce5135694debbc816b6970f5b2a3",
       "version_major": 2,
       "version_minor": 0
      },
      "text/plain": [
       "VBox(children=(Label(value='Waiting for wandb.init()...\\r'), FloatProgress(value=0.011216077777741399, max=1.0…"
      ]
     },
     "metadata": {},
     "output_type": "display_data"
    },
    {
     "data": {
      "text/html": [
       "wandb version 0.16.3 is available!  To upgrade, please run:\n",
       " $ pip install wandb --upgrade"
      ],
      "text/plain": [
       "<IPython.core.display.HTML object>"
      ]
     },
     "metadata": {},
     "output_type": "display_data"
    },
    {
     "data": {
      "text/html": [
       "Tracking run with wandb version 0.16.2"
      ],
      "text/plain": [
       "<IPython.core.display.HTML object>"
      ]
     },
     "metadata": {},
     "output_type": "display_data"
    },
    {
     "data": {
      "text/html": [
       "Run data is saved locally in <code>/Users/orianecavrois/Documents/Perso/MachineLearning/Github/Brain-tumor-image-classification/wandb/run-20240208_183544-itc5d9wr</code>"
      ],
      "text/plain": [
       "<IPython.core.display.HTML object>"
      ]
     },
     "metadata": {},
     "output_type": "display_data"
    },
    {
     "data": {
      "text/html": [
       "Syncing run <strong><a href='https://wandb.ai/oriane-cavrois/brain_image_large_archi_optimization_4/runs/itc5d9wr' target=\"_blank\">wild-wood-32</a></strong> to <a href='https://wandb.ai/oriane-cavrois/brain_image_large_archi_optimization_4' target=\"_blank\">Weights & Biases</a> (<a href='https://wandb.me/run' target=\"_blank\">docs</a>)<br/>"
      ],
      "text/plain": [
       "<IPython.core.display.HTML object>"
      ]
     },
     "metadata": {},
     "output_type": "display_data"
    },
    {
     "data": {
      "text/html": [
       " View project at <a href='https://wandb.ai/oriane-cavrois/brain_image_large_archi_optimization_4' target=\"_blank\">https://wandb.ai/oriane-cavrois/brain_image_large_archi_optimization_4</a>"
      ],
      "text/plain": [
       "<IPython.core.display.HTML object>"
      ]
     },
     "metadata": {},
     "output_type": "display_data"
    },
    {
     "data": {
      "text/html": [
       " View run at <a href='https://wandb.ai/oriane-cavrois/brain_image_large_archi_optimization_4/runs/itc5d9wr' target=\"_blank\">https://wandb.ai/oriane-cavrois/brain_image_large_archi_optimization_4/runs/itc5d9wr</a>"
      ],
      "text/plain": [
       "<IPython.core.display.HTML object>"
      ]
     },
     "metadata": {},
     "output_type": "display_data"
    },
    {
     "name": "stdout",
     "output_type": "stream",
     "text": [
      "Fold 1\n",
      "-------\n",
      "Test set: Average loss: 34.5812, Accuracy: 49/85 (57.65%)\n",
      "\n",
      "Fold 2\n",
      "-------\n",
      "Test set: Average loss: 8.5662, Accuracy: 55/85 (64.71%)\n",
      "\n",
      "Fold 3\n",
      "-------\n",
      "Test set: Average loss: 21.1482, Accuracy: 55/85 (64.71%)\n",
      "\n",
      "--------------------------------------\n"
     ]
    },
    {
     "name": "stderr",
     "output_type": "stream",
     "text": [
      "wandb: WARNING Source type is set to 'repo' but some required information is missing from the environment. A job will not be created from this run. See https://docs.wandb.ai/guides/launch/create-job\n"
     ]
    },
    {
     "data": {
      "application/vnd.jupyter.widget-view+json": {
       "model_id": "61dc417926974403bb8b469e112513f7",
       "version_major": 2,
       "version_minor": 0
      },
      "text/plain": [
       "VBox(children=(Label(value='0.001 MB of 0.001 MB uploaded\\r'), FloatProgress(value=1.0, max=1.0)))"
      ]
     },
     "metadata": {},
     "output_type": "display_data"
    },
    {
     "data": {
      "text/html": [
       "<style>\n",
       "    table.wandb td:nth-child(1) { padding: 0 10px; text-align: left ; width: auto;} td:nth-child(2) {text-align: left ; width: 100%}\n",
       "    .wandb-row { display: flex; flex-direction: row; flex-wrap: wrap; justify-content: flex-start; width: 100% }\n",
       "    .wandb-col { display: flex; flex-direction: column; flex-basis: 100%; flex: 1; padding: 10px; }\n",
       "    </style>\n",
       "<div class=\"wandb-row\"><div class=\"wandb-col\"><h3>Run history:</h3><br/><table class=\"wandb\"><tr><td>test accuracy</td><td>▁</td></tr><tr><td>test loss</td><td>▁</td></tr><tr><td>train accuracy</td><td>▁</td></tr><tr><td>train loss</td><td>▁</td></tr></table><br/></div><div class=\"wandb-col\"><h3>Run summary:</h3><br/><table class=\"wandb\"><tr><td>test accuracy</td><td>0.62353</td></tr><tr><td>test loss</td><td>21.4319</td></tr><tr><td>train accuracy</td><td>0.95139</td></tr><tr><td>train loss</td><td>20.4978</td></tr></table><br/></div></div>"
      ],
      "text/plain": [
       "<IPython.core.display.HTML object>"
      ]
     },
     "metadata": {},
     "output_type": "display_data"
    },
    {
     "data": {
      "text/html": [
       " View run <strong style=\"color:#cdcd00\">wild-wood-32</strong> at: <a href='https://wandb.ai/oriane-cavrois/brain_image_large_archi_optimization_4/runs/itc5d9wr' target=\"_blank\">https://wandb.ai/oriane-cavrois/brain_image_large_archi_optimization_4/runs/itc5d9wr</a><br/>Synced 5 W&B file(s), 0 media file(s), 0 artifact file(s) and 0 other file(s)"
      ],
      "text/plain": [
       "<IPython.core.display.HTML object>"
      ]
     },
     "metadata": {},
     "output_type": "display_data"
    },
    {
     "data": {
      "text/html": [
       "Find logs at: <code>./wandb/run-20240208_183544-itc5d9wr/logs</code>"
      ],
      "text/plain": [
       "<IPython.core.display.HTML object>"
      ]
     },
     "metadata": {},
     "output_type": "display_data"
    },
    {
     "name": "stdout",
     "output_type": "stream",
     "text": [
      "Iteration 32\n",
      "Number of epochs: 15\n",
      "(15, 0.0001, 6, 35, 3, 7, 1.0)\n"
     ]
    },
    {
     "data": {
      "application/vnd.jupyter.widget-view+json": {
       "model_id": "10afca48d5a04376b12febacba9deeb5",
       "version_major": 2,
       "version_minor": 0
      },
      "text/plain": [
       "VBox(children=(Label(value='Waiting for wandb.init()...\\r'), FloatProgress(value=0.011146304166646182, max=1.0…"
      ]
     },
     "metadata": {},
     "output_type": "display_data"
    },
    {
     "data": {
      "text/html": [
       "wandb version 0.16.3 is available!  To upgrade, please run:\n",
       " $ pip install wandb --upgrade"
      ],
      "text/plain": [
       "<IPython.core.display.HTML object>"
      ]
     },
     "metadata": {},
     "output_type": "display_data"
    },
    {
     "data": {
      "text/html": [
       "Tracking run with wandb version 0.16.2"
      ],
      "text/plain": [
       "<IPython.core.display.HTML object>"
      ]
     },
     "metadata": {},
     "output_type": "display_data"
    },
    {
     "data": {
      "text/html": [
       "Run data is saved locally in <code>/Users/orianecavrois/Documents/Perso/MachineLearning/Github/Brain-tumor-image-classification/wandb/run-20240208_183643-3wdoo16o</code>"
      ],
      "text/plain": [
       "<IPython.core.display.HTML object>"
      ]
     },
     "metadata": {},
     "output_type": "display_data"
    },
    {
     "data": {
      "text/html": [
       "Syncing run <strong><a href='https://wandb.ai/oriane-cavrois/brain_image_large_archi_optimization_4/runs/3wdoo16o' target=\"_blank\">desert-valley-33</a></strong> to <a href='https://wandb.ai/oriane-cavrois/brain_image_large_archi_optimization_4' target=\"_blank\">Weights & Biases</a> (<a href='https://wandb.me/run' target=\"_blank\">docs</a>)<br/>"
      ],
      "text/plain": [
       "<IPython.core.display.HTML object>"
      ]
     },
     "metadata": {},
     "output_type": "display_data"
    },
    {
     "data": {
      "text/html": [
       " View project at <a href='https://wandb.ai/oriane-cavrois/brain_image_large_archi_optimization_4' target=\"_blank\">https://wandb.ai/oriane-cavrois/brain_image_large_archi_optimization_4</a>"
      ],
      "text/plain": [
       "<IPython.core.display.HTML object>"
      ]
     },
     "metadata": {},
     "output_type": "display_data"
    },
    {
     "data": {
      "text/html": [
       " View run at <a href='https://wandb.ai/oriane-cavrois/brain_image_large_archi_optimization_4/runs/3wdoo16o' target=\"_blank\">https://wandb.ai/oriane-cavrois/brain_image_large_archi_optimization_4/runs/3wdoo16o</a>"
      ],
      "text/plain": [
       "<IPython.core.display.HTML object>"
      ]
     },
     "metadata": {},
     "output_type": "display_data"
    },
    {
     "name": "stdout",
     "output_type": "stream",
     "text": [
      "Fold 1\n",
      "-------\n",
      "Test set: Average loss: 0.4793, Accuracy: 18/85 (21.18%)\n",
      "\n",
      "Fold 2\n",
      "-------\n",
      "Test set: Average loss: 0.4824, Accuracy: 18/85 (21.18%)\n",
      "\n",
      "Fold 3\n",
      "-------\n",
      "Test set: Average loss: 0.4695, Accuracy: 26/85 (30.59%)\n",
      "\n",
      "--------------------------------------\n"
     ]
    },
    {
     "name": "stderr",
     "output_type": "stream",
     "text": [
      "wandb: WARNING Source type is set to 'repo' but some required information is missing from the environment. A job will not be created from this run. See https://docs.wandb.ai/guides/launch/create-job\n"
     ]
    },
    {
     "data": {
      "application/vnd.jupyter.widget-view+json": {
       "model_id": "b71b85f6063a46c48b92da90c432f28e",
       "version_major": 2,
       "version_minor": 0
      },
      "text/plain": [
       "VBox(children=(Label(value='0.001 MB of 0.001 MB uploaded\\r'), FloatProgress(value=1.0, max=1.0)))"
      ]
     },
     "metadata": {},
     "output_type": "display_data"
    },
    {
     "data": {
      "text/html": [
       "<style>\n",
       "    table.wandb td:nth-child(1) { padding: 0 10px; text-align: left ; width: auto;} td:nth-child(2) {text-align: left ; width: 100%}\n",
       "    .wandb-row { display: flex; flex-direction: row; flex-wrap: wrap; justify-content: flex-start; width: 100% }\n",
       "    .wandb-col { display: flex; flex-direction: column; flex-basis: 100%; flex: 1; padding: 10px; }\n",
       "    </style>\n",
       "<div class=\"wandb-row\"><div class=\"wandb-col\"><h3>Run history:</h3><br/><table class=\"wandb\"><tr><td>test accuracy</td><td>▁</td></tr><tr><td>test loss</td><td>▁</td></tr><tr><td>train accuracy</td><td>▁</td></tr><tr><td>train loss</td><td>▁</td></tr></table><br/></div><div class=\"wandb-col\"><h3>Run summary:</h3><br/><table class=\"wandb\"><tr><td>test accuracy</td><td>0.24314</td></tr><tr><td>test loss</td><td>0.47707</td></tr><tr><td>train accuracy</td><td>0.6127</td></tr><tr><td>train loss</td><td>0.11341</td></tr></table><br/></div></div>"
      ],
      "text/plain": [
       "<IPython.core.display.HTML object>"
      ]
     },
     "metadata": {},
     "output_type": "display_data"
    },
    {
     "data": {
      "text/html": [
       " View run <strong style=\"color:#cdcd00\">desert-valley-33</strong> at: <a href='https://wandb.ai/oriane-cavrois/brain_image_large_archi_optimization_4/runs/3wdoo16o' target=\"_blank\">https://wandb.ai/oriane-cavrois/brain_image_large_archi_optimization_4/runs/3wdoo16o</a><br/>Synced 5 W&B file(s), 0 media file(s), 0 artifact file(s) and 0 other file(s)"
      ],
      "text/plain": [
       "<IPython.core.display.HTML object>"
      ]
     },
     "metadata": {},
     "output_type": "display_data"
    },
    {
     "data": {
      "text/html": [
       "Find logs at: <code>./wandb/run-20240208_183643-3wdoo16o/logs</code>"
      ],
      "text/plain": [
       "<IPython.core.display.HTML object>"
      ]
     },
     "metadata": {},
     "output_type": "display_data"
    },
    {
     "name": "stdout",
     "output_type": "stream",
     "text": [
      "Iteration 33\n",
      "Number of epochs: 5\n",
      "(5, 0.005050000000000001, 6, 60, 1, 4, 0.2)\n"
     ]
    },
    {
     "data": {
      "application/vnd.jupyter.widget-view+json": {
       "model_id": "3ad2e952627343939e34574626f4ecc0",
       "version_major": 2,
       "version_minor": 0
      },
      "text/plain": [
       "VBox(children=(Label(value='Waiting for wandb.init()...\\r'), FloatProgress(value=0.011274401388881314, max=1.0…"
      ]
     },
     "metadata": {},
     "output_type": "display_data"
    },
    {
     "data": {
      "text/html": [
       "wandb version 0.16.3 is available!  To upgrade, please run:\n",
       " $ pip install wandb --upgrade"
      ],
      "text/plain": [
       "<IPython.core.display.HTML object>"
      ]
     },
     "metadata": {},
     "output_type": "display_data"
    },
    {
     "data": {
      "text/html": [
       "Tracking run with wandb version 0.16.2"
      ],
      "text/plain": [
       "<IPython.core.display.HTML object>"
      ]
     },
     "metadata": {},
     "output_type": "display_data"
    },
    {
     "data": {
      "text/html": [
       "Run data is saved locally in <code>/Users/orianecavrois/Documents/Perso/MachineLearning/Github/Brain-tumor-image-classification/wandb/run-20240208_183717-nrxvissa</code>"
      ],
      "text/plain": [
       "<IPython.core.display.HTML object>"
      ]
     },
     "metadata": {},
     "output_type": "display_data"
    },
    {
     "data": {
      "text/html": [
       "Syncing run <strong><a href='https://wandb.ai/oriane-cavrois/brain_image_large_archi_optimization_4/runs/nrxvissa' target=\"_blank\">dry-lion-34</a></strong> to <a href='https://wandb.ai/oriane-cavrois/brain_image_large_archi_optimization_4' target=\"_blank\">Weights & Biases</a> (<a href='https://wandb.me/run' target=\"_blank\">docs</a>)<br/>"
      ],
      "text/plain": [
       "<IPython.core.display.HTML object>"
      ]
     },
     "metadata": {},
     "output_type": "display_data"
    },
    {
     "data": {
      "text/html": [
       " View project at <a href='https://wandb.ai/oriane-cavrois/brain_image_large_archi_optimization_4' target=\"_blank\">https://wandb.ai/oriane-cavrois/brain_image_large_archi_optimization_4</a>"
      ],
      "text/plain": [
       "<IPython.core.display.HTML object>"
      ]
     },
     "metadata": {},
     "output_type": "display_data"
    },
    {
     "data": {
      "text/html": [
       " View run at <a href='https://wandb.ai/oriane-cavrois/brain_image_large_archi_optimization_4/runs/nrxvissa' target=\"_blank\">https://wandb.ai/oriane-cavrois/brain_image_large_archi_optimization_4/runs/nrxvissa</a>"
      ],
      "text/plain": [
       "<IPython.core.display.HTML object>"
      ]
     },
     "metadata": {},
     "output_type": "display_data"
    },
    {
     "name": "stdout",
     "output_type": "stream",
     "text": [
      "Fold 1\n",
      "-------\n",
      "Test set: Average loss: 7.0040, Accuracy: 44/85 (51.76%)\n",
      "\n",
      "Fold 2\n",
      "-------\n",
      "Test set: Average loss: 1.9607, Accuracy: 51/85 (60.00%)\n",
      "\n",
      "Fold 3\n",
      "-------\n",
      "Test set: Average loss: 2.3781, Accuracy: 46/85 (54.12%)\n",
      "\n",
      "--------------------------------------\n"
     ]
    },
    {
     "name": "stderr",
     "output_type": "stream",
     "text": [
      "wandb: WARNING Source type is set to 'repo' but some required information is missing from the environment. A job will not be created from this run. See https://docs.wandb.ai/guides/launch/create-job\n"
     ]
    },
    {
     "data": {
      "application/vnd.jupyter.widget-view+json": {
       "model_id": "ee5308fa225f498d9e74904de63334a9",
       "version_major": 2,
       "version_minor": 0
      },
      "text/plain": [
       "VBox(children=(Label(value='0.001 MB of 0.004 MB uploaded\\r'), FloatProgress(value=0.34024896265560167, max=1.…"
      ]
     },
     "metadata": {},
     "output_type": "display_data"
    },
    {
     "data": {
      "text/html": [
       "<style>\n",
       "    table.wandb td:nth-child(1) { padding: 0 10px; text-align: left ; width: auto;} td:nth-child(2) {text-align: left ; width: 100%}\n",
       "    .wandb-row { display: flex; flex-direction: row; flex-wrap: wrap; justify-content: flex-start; width: 100% }\n",
       "    .wandb-col { display: flex; flex-direction: column; flex-basis: 100%; flex: 1; padding: 10px; }\n",
       "    </style>\n",
       "<div class=\"wandb-row\"><div class=\"wandb-col\"><h3>Run history:</h3><br/><table class=\"wandb\"><tr><td>test accuracy</td><td>▁</td></tr><tr><td>test loss</td><td>▁</td></tr><tr><td>train accuracy</td><td>▁</td></tr><tr><td>train loss</td><td>▁</td></tr></table><br/></div><div class=\"wandb-col\"><h3>Run summary:</h3><br/><table class=\"wandb\"><tr><td>test accuracy</td><td>0.55294</td></tr><tr><td>test loss</td><td>3.78095</td></tr><tr><td>train accuracy</td><td>0.87917</td></tr><tr><td>train loss</td><td>3.43179</td></tr></table><br/></div></div>"
      ],
      "text/plain": [
       "<IPython.core.display.HTML object>"
      ]
     },
     "metadata": {},
     "output_type": "display_data"
    },
    {
     "data": {
      "text/html": [
       " View run <strong style=\"color:#cdcd00\">dry-lion-34</strong> at: <a href='https://wandb.ai/oriane-cavrois/brain_image_large_archi_optimization_4/runs/nrxvissa' target=\"_blank\">https://wandb.ai/oriane-cavrois/brain_image_large_archi_optimization_4/runs/nrxvissa</a><br/>Synced 5 W&B file(s), 0 media file(s), 0 artifact file(s) and 0 other file(s)"
      ],
      "text/plain": [
       "<IPython.core.display.HTML object>"
      ]
     },
     "metadata": {},
     "output_type": "display_data"
    },
    {
     "data": {
      "text/html": [
       "Find logs at: <code>./wandb/run-20240208_183717-nrxvissa/logs</code>"
      ],
      "text/plain": [
       "<IPython.core.display.HTML object>"
      ]
     },
     "metadata": {},
     "output_type": "display_data"
    },
    {
     "name": "stdout",
     "output_type": "stream",
     "text": [
      "Iteration 34\n",
      "Number of epochs: 30\n",
      "(30, 0.006150000000000001, 9, 50, 7, 5, 0.35000000000000003)\n"
     ]
    },
    {
     "data": {
      "application/vnd.jupyter.widget-view+json": {
       "model_id": "a0b4a8bb03f64699bd68cea2dc8e0881",
       "version_major": 2,
       "version_minor": 0
      },
      "text/plain": [
       "VBox(children=(Label(value='Waiting for wandb.init()...\\r'), FloatProgress(value=0.011185703700013821, max=1.0…"
      ]
     },
     "metadata": {},
     "output_type": "display_data"
    },
    {
     "data": {
      "text/html": [
       "wandb version 0.16.3 is available!  To upgrade, please run:\n",
       " $ pip install wandb --upgrade"
      ],
      "text/plain": [
       "<IPython.core.display.HTML object>"
      ]
     },
     "metadata": {},
     "output_type": "display_data"
    },
    {
     "data": {
      "text/html": [
       "Tracking run with wandb version 0.16.2"
      ],
      "text/plain": [
       "<IPython.core.display.HTML object>"
      ]
     },
     "metadata": {},
     "output_type": "display_data"
    },
    {
     "data": {
      "text/html": [
       "Run data is saved locally in <code>/Users/orianecavrois/Documents/Perso/MachineLearning/Github/Brain-tumor-image-classification/wandb/run-20240208_183736-ilptixqn</code>"
      ],
      "text/plain": [
       "<IPython.core.display.HTML object>"
      ]
     },
     "metadata": {},
     "output_type": "display_data"
    },
    {
     "data": {
      "text/html": [
       "Syncing run <strong><a href='https://wandb.ai/oriane-cavrois/brain_image_large_archi_optimization_4/runs/ilptixqn' target=\"_blank\">dazzling-bird-35</a></strong> to <a href='https://wandb.ai/oriane-cavrois/brain_image_large_archi_optimization_4' target=\"_blank\">Weights & Biases</a> (<a href='https://wandb.me/run' target=\"_blank\">docs</a>)<br/>"
      ],
      "text/plain": [
       "<IPython.core.display.HTML object>"
      ]
     },
     "metadata": {},
     "output_type": "display_data"
    },
    {
     "data": {
      "text/html": [
       " View project at <a href='https://wandb.ai/oriane-cavrois/brain_image_large_archi_optimization_4' target=\"_blank\">https://wandb.ai/oriane-cavrois/brain_image_large_archi_optimization_4</a>"
      ],
      "text/plain": [
       "<IPython.core.display.HTML object>"
      ]
     },
     "metadata": {},
     "output_type": "display_data"
    },
    {
     "data": {
      "text/html": [
       " View run at <a href='https://wandb.ai/oriane-cavrois/brain_image_large_archi_optimization_4/runs/ilptixqn' target=\"_blank\">https://wandb.ai/oriane-cavrois/brain_image_large_archi_optimization_4/runs/ilptixqn</a>"
      ],
      "text/plain": [
       "<IPython.core.display.HTML object>"
      ]
     },
     "metadata": {},
     "output_type": "display_data"
    },
    {
     "name": "stdout",
     "output_type": "stream",
     "text": [
      "Fold 1\n",
      "-------\n",
      "Test set: Average loss: 16.7469, Accuracy: 45/85 (52.94%)\n",
      "\n",
      "Fold 2\n",
      "-------\n",
      "Test set: Average loss: 5.8411, Accuracy: 53/85 (62.35%)\n",
      "\n",
      "Fold 3\n",
      "-------\n",
      "Test set: Average loss: 0.1080, Accuracy: 55/85 (64.71%)\n",
      "\n",
      "--------------------------------------\n"
     ]
    },
    {
     "name": "stderr",
     "output_type": "stream",
     "text": [
      "wandb: WARNING Source type is set to 'repo' but some required information is missing from the environment. A job will not be created from this run. See https://docs.wandb.ai/guides/launch/create-job\n"
     ]
    },
    {
     "data": {
      "application/vnd.jupyter.widget-view+json": {
       "model_id": "07871765f3214fea8cec848df4565769",
       "version_major": 2,
       "version_minor": 0
      },
      "text/plain": [
       "VBox(children=(Label(value='0.002 MB of 0.004 MB uploaded\\r'), FloatProgress(value=0.6728875064800415, max=1.0…"
      ]
     },
     "metadata": {},
     "output_type": "display_data"
    },
    {
     "data": {
      "text/html": [
       "<style>\n",
       "    table.wandb td:nth-child(1) { padding: 0 10px; text-align: left ; width: auto;} td:nth-child(2) {text-align: left ; width: 100%}\n",
       "    .wandb-row { display: flex; flex-direction: row; flex-wrap: wrap; justify-content: flex-start; width: 100% }\n",
       "    .wandb-col { display: flex; flex-direction: column; flex-basis: 100%; flex: 1; padding: 10px; }\n",
       "    </style>\n",
       "<div class=\"wandb-row\"><div class=\"wandb-col\"><h3>Run history:</h3><br/><table class=\"wandb\"><tr><td>test accuracy</td><td>▁</td></tr><tr><td>test loss</td><td>▁</td></tr><tr><td>train accuracy</td><td>▁</td></tr><tr><td>train loss</td><td>▁</td></tr></table><br/></div><div class=\"wandb-col\"><h3>Run summary:</h3><br/><table class=\"wandb\"><tr><td>test accuracy</td><td>0.6</td></tr><tr><td>test loss</td><td>7.56532</td></tr><tr><td>train accuracy</td><td>0.93938</td></tr><tr><td>train loss</td><td>9.92507</td></tr></table><br/></div></div>"
      ],
      "text/plain": [
       "<IPython.core.display.HTML object>"
      ]
     },
     "metadata": {},
     "output_type": "display_data"
    },
    {
     "data": {
      "text/html": [
       " View run <strong style=\"color:#cdcd00\">dazzling-bird-35</strong> at: <a href='https://wandb.ai/oriane-cavrois/brain_image_large_archi_optimization_4/runs/ilptixqn' target=\"_blank\">https://wandb.ai/oriane-cavrois/brain_image_large_archi_optimization_4/runs/ilptixqn</a><br/>Synced 5 W&B file(s), 0 media file(s), 0 artifact file(s) and 0 other file(s)"
      ],
      "text/plain": [
       "<IPython.core.display.HTML object>"
      ]
     },
     "metadata": {},
     "output_type": "display_data"
    },
    {
     "data": {
      "text/html": [
       "Find logs at: <code>./wandb/run-20240208_183736-ilptixqn/logs</code>"
      ],
      "text/plain": [
       "<IPython.core.display.HTML object>"
      ]
     },
     "metadata": {},
     "output_type": "display_data"
    },
    {
     "name": "stdout",
     "output_type": "stream",
     "text": [
      "Iteration 35\n",
      "Number of epochs: 5\n",
      "(5, 0.00945, 6, 35, 3, 3, 0.0)\n"
     ]
    },
    {
     "data": {
      "application/vnd.jupyter.widget-view+json": {
       "model_id": "616ea51c5b7a4f0ca471de5bc222099d",
       "version_major": 2,
       "version_minor": 0
      },
      "text/plain": [
       "VBox(children=(Label(value='Waiting for wandb.init()...\\r'), FloatProgress(value=0.011120049999994485, max=1.0…"
      ]
     },
     "metadata": {},
     "output_type": "display_data"
    },
    {
     "data": {
      "text/html": [
       "wandb version 0.16.3 is available!  To upgrade, please run:\n",
       " $ pip install wandb --upgrade"
      ],
      "text/plain": [
       "<IPython.core.display.HTML object>"
      ]
     },
     "metadata": {},
     "output_type": "display_data"
    },
    {
     "data": {
      "text/html": [
       "Tracking run with wandb version 0.16.2"
      ],
      "text/plain": [
       "<IPython.core.display.HTML object>"
      ]
     },
     "metadata": {},
     "output_type": "display_data"
    },
    {
     "data": {
      "text/html": [
       "Run data is saved locally in <code>/Users/orianecavrois/Documents/Perso/MachineLearning/Github/Brain-tumor-image-classification/wandb/run-20240208_183832-l5b3j928</code>"
      ],
      "text/plain": [
       "<IPython.core.display.HTML object>"
      ]
     },
     "metadata": {},
     "output_type": "display_data"
    },
    {
     "data": {
      "text/html": [
       "Syncing run <strong><a href='https://wandb.ai/oriane-cavrois/brain_image_large_archi_optimization_4/runs/l5b3j928' target=\"_blank\">efficient-deluge-36</a></strong> to <a href='https://wandb.ai/oriane-cavrois/brain_image_large_archi_optimization_4' target=\"_blank\">Weights & Biases</a> (<a href='https://wandb.me/run' target=\"_blank\">docs</a>)<br/>"
      ],
      "text/plain": [
       "<IPython.core.display.HTML object>"
      ]
     },
     "metadata": {},
     "output_type": "display_data"
    },
    {
     "data": {
      "text/html": [
       " View project at <a href='https://wandb.ai/oriane-cavrois/brain_image_large_archi_optimization_4' target=\"_blank\">https://wandb.ai/oriane-cavrois/brain_image_large_archi_optimization_4</a>"
      ],
      "text/plain": [
       "<IPython.core.display.HTML object>"
      ]
     },
     "metadata": {},
     "output_type": "display_data"
    },
    {
     "data": {
      "text/html": [
       " View run at <a href='https://wandb.ai/oriane-cavrois/brain_image_large_archi_optimization_4/runs/l5b3j928' target=\"_blank\">https://wandb.ai/oriane-cavrois/brain_image_large_archi_optimization_4/runs/l5b3j928</a>"
      ],
      "text/plain": [
       "<IPython.core.display.HTML object>"
      ]
     },
     "metadata": {},
     "output_type": "display_data"
    },
    {
     "name": "stdout",
     "output_type": "stream",
     "text": [
      "Fold 1\n",
      "-------\n",
      "Test set: Average loss: 22.5295, Accuracy: 41/85 (48.24%)\n",
      "\n",
      "Fold 2\n",
      "-------\n",
      "Test set: Average loss: 0.0000, Accuracy: 56/85 (65.88%)\n",
      "\n",
      "Fold 3\n",
      "-------\n",
      "Test set: Average loss: 0.0000, Accuracy: 56/85 (65.88%)\n",
      "\n",
      "--------------------------------------\n"
     ]
    },
    {
     "name": "stderr",
     "output_type": "stream",
     "text": [
      "wandb: WARNING Source type is set to 'repo' but some required information is missing from the environment. A job will not be created from this run. See https://docs.wandb.ai/guides/launch/create-job\n"
     ]
    },
    {
     "data": {
      "application/vnd.jupyter.widget-view+json": {
       "model_id": "30b0261f7462452db150cafafb583151",
       "version_major": 2,
       "version_minor": 0
      },
      "text/plain": [
       "VBox(children=(Label(value='0.001 MB of 0.004 MB uploaded\\r'), FloatProgress(value=0.34273772204806685, max=1.…"
      ]
     },
     "metadata": {},
     "output_type": "display_data"
    },
    {
     "data": {
      "text/html": [
       "<style>\n",
       "    table.wandb td:nth-child(1) { padding: 0 10px; text-align: left ; width: auto;} td:nth-child(2) {text-align: left ; width: 100%}\n",
       "    .wandb-row { display: flex; flex-direction: row; flex-wrap: wrap; justify-content: flex-start; width: 100% }\n",
       "    .wandb-col { display: flex; flex-direction: column; flex-basis: 100%; flex: 1; padding: 10px; }\n",
       "    </style>\n",
       "<div class=\"wandb-row\"><div class=\"wandb-col\"><h3>Run history:</h3><br/><table class=\"wandb\"><tr><td>test accuracy</td><td>▁</td></tr><tr><td>test loss</td><td>▁</td></tr><tr><td>train accuracy</td><td>▁</td></tr><tr><td>train loss</td><td>▁</td></tr></table><br/></div><div class=\"wandb-col\"><h3>Run summary:</h3><br/><table class=\"wandb\"><tr><td>test accuracy</td><td>0.6</td></tr><tr><td>test loss</td><td>7.50984</td></tr><tr><td>train accuracy</td><td>0.89286</td></tr><tr><td>train loss</td><td>11.20018</td></tr></table><br/></div></div>"
      ],
      "text/plain": [
       "<IPython.core.display.HTML object>"
      ]
     },
     "metadata": {},
     "output_type": "display_data"
    },
    {
     "data": {
      "text/html": [
       " View run <strong style=\"color:#cdcd00\">efficient-deluge-36</strong> at: <a href='https://wandb.ai/oriane-cavrois/brain_image_large_archi_optimization_4/runs/l5b3j928' target=\"_blank\">https://wandb.ai/oriane-cavrois/brain_image_large_archi_optimization_4/runs/l5b3j928</a><br/>Synced 5 W&B file(s), 0 media file(s), 0 artifact file(s) and 0 other file(s)"
      ],
      "text/plain": [
       "<IPython.core.display.HTML object>"
      ]
     },
     "metadata": {},
     "output_type": "display_data"
    },
    {
     "data": {
      "text/html": [
       "Find logs at: <code>./wandb/run-20240208_183832-l5b3j928/logs</code>"
      ],
      "text/plain": [
       "<IPython.core.display.HTML object>"
      ]
     },
     "metadata": {},
     "output_type": "display_data"
    },
    {
     "name": "stdout",
     "output_type": "stream",
     "text": [
      "Iteration 36\n",
      "Number of epochs: 10\n",
      "(10, 0.0045000000000000005, 4, 70, 7, 8, 0.5)\n"
     ]
    },
    {
     "data": {
      "application/vnd.jupyter.widget-view+json": {
       "model_id": "4adfcad735274da3a3886fe310d0ed79",
       "version_major": 2,
       "version_minor": 0
      },
      "text/plain": [
       "VBox(children=(Label(value='Waiting for wandb.init()...\\r'), FloatProgress(value=0.011132246300015443, max=1.0…"
      ]
     },
     "metadata": {},
     "output_type": "display_data"
    },
    {
     "data": {
      "text/html": [
       "wandb version 0.16.3 is available!  To upgrade, please run:\n",
       " $ pip install wandb --upgrade"
      ],
      "text/plain": [
       "<IPython.core.display.HTML object>"
      ]
     },
     "metadata": {},
     "output_type": "display_data"
    },
    {
     "data": {
      "text/html": [
       "Tracking run with wandb version 0.16.2"
      ],
      "text/plain": [
       "<IPython.core.display.HTML object>"
      ]
     },
     "metadata": {},
     "output_type": "display_data"
    },
    {
     "data": {
      "text/html": [
       "Run data is saved locally in <code>/Users/orianecavrois/Documents/Perso/MachineLearning/Github/Brain-tumor-image-classification/wandb/run-20240208_183847-tj0iseyy</code>"
      ],
      "text/plain": [
       "<IPython.core.display.HTML object>"
      ]
     },
     "metadata": {},
     "output_type": "display_data"
    },
    {
     "data": {
      "text/html": [
       "Syncing run <strong><a href='https://wandb.ai/oriane-cavrois/brain_image_large_archi_optimization_4/runs/tj0iseyy' target=\"_blank\">dashing-glade-37</a></strong> to <a href='https://wandb.ai/oriane-cavrois/brain_image_large_archi_optimization_4' target=\"_blank\">Weights & Biases</a> (<a href='https://wandb.me/run' target=\"_blank\">docs</a>)<br/>"
      ],
      "text/plain": [
       "<IPython.core.display.HTML object>"
      ]
     },
     "metadata": {},
     "output_type": "display_data"
    },
    {
     "data": {
      "text/html": [
       " View project at <a href='https://wandb.ai/oriane-cavrois/brain_image_large_archi_optimization_4' target=\"_blank\">https://wandb.ai/oriane-cavrois/brain_image_large_archi_optimization_4</a>"
      ],
      "text/plain": [
       "<IPython.core.display.HTML object>"
      ]
     },
     "metadata": {},
     "output_type": "display_data"
    },
    {
     "data": {
      "text/html": [
       " View run at <a href='https://wandb.ai/oriane-cavrois/brain_image_large_archi_optimization_4/runs/tj0iseyy' target=\"_blank\">https://wandb.ai/oriane-cavrois/brain_image_large_archi_optimization_4/runs/tj0iseyy</a>"
      ],
      "text/plain": [
       "<IPython.core.display.HTML object>"
      ]
     },
     "metadata": {},
     "output_type": "display_data"
    },
    {
     "name": "stdout",
     "output_type": "stream",
     "text": [
      "Fold 1\n",
      "-------\n",
      "Test set: Average loss: 15.5959, Accuracy: 45/85 (52.94%)\n",
      "\n",
      "Fold 2\n",
      "-------\n",
      "Test set: Average loss: 18.0917, Accuracy: 47/85 (55.29%)\n",
      "\n",
      "Fold 3\n",
      "-------\n",
      "Test set: Average loss: 6.0696, Accuracy: 53/85 (62.35%)\n",
      "\n",
      "--------------------------------------\n"
     ]
    },
    {
     "name": "stderr",
     "output_type": "stream",
     "text": [
      "wandb: WARNING Source type is set to 'repo' but some required information is missing from the environment. A job will not be created from this run. See https://docs.wandb.ai/guides/launch/create-job\n"
     ]
    },
    {
     "data": {
      "application/vnd.jupyter.widget-view+json": {
       "model_id": "d235834cd0a24f97811e2248cdbfbb54",
       "version_major": 2,
       "version_minor": 0
      },
      "text/plain": [
       "VBox(children=(Label(value='0.001 MB of 0.001 MB uploaded\\r'), FloatProgress(value=1.0, max=1.0)))"
      ]
     },
     "metadata": {},
     "output_type": "display_data"
    },
    {
     "data": {
      "text/html": [
       "<style>\n",
       "    table.wandb td:nth-child(1) { padding: 0 10px; text-align: left ; width: auto;} td:nth-child(2) {text-align: left ; width: 100%}\n",
       "    .wandb-row { display: flex; flex-direction: row; flex-wrap: wrap; justify-content: flex-start; width: 100% }\n",
       "    .wandb-col { display: flex; flex-direction: column; flex-basis: 100%; flex: 1; padding: 10px; }\n",
       "    </style>\n",
       "<div class=\"wandb-row\"><div class=\"wandb-col\"><h3>Run history:</h3><br/><table class=\"wandb\"><tr><td>test accuracy</td><td>▁</td></tr><tr><td>test loss</td><td>▁</td></tr><tr><td>train accuracy</td><td>▁</td></tr><tr><td>train loss</td><td>▁</td></tr></table><br/></div><div class=\"wandb-col\"><h3>Run summary:</h3><br/><table class=\"wandb\"><tr><td>test accuracy</td><td>0.56863</td></tr><tr><td>test loss</td><td>13.25239</td></tr><tr><td>train accuracy</td><td>0.86012</td></tr><tr><td>train loss</td><td>10.85102</td></tr></table><br/></div></div>"
      ],
      "text/plain": [
       "<IPython.core.display.HTML object>"
      ]
     },
     "metadata": {},
     "output_type": "display_data"
    },
    {
     "data": {
      "text/html": [
       " View run <strong style=\"color:#cdcd00\">dashing-glade-37</strong> at: <a href='https://wandb.ai/oriane-cavrois/brain_image_large_archi_optimization_4/runs/tj0iseyy' target=\"_blank\">https://wandb.ai/oriane-cavrois/brain_image_large_archi_optimization_4/runs/tj0iseyy</a><br/>Synced 5 W&B file(s), 0 media file(s), 0 artifact file(s) and 0 other file(s)"
      ],
      "text/plain": [
       "<IPython.core.display.HTML object>"
      ]
     },
     "metadata": {},
     "output_type": "display_data"
    },
    {
     "data": {
      "text/html": [
       "Find logs at: <code>./wandb/run-20240208_183847-tj0iseyy/logs</code>"
      ],
      "text/plain": [
       "<IPython.core.display.HTML object>"
      ]
     },
     "metadata": {},
     "output_type": "display_data"
    },
    {
     "name": "stdout",
     "output_type": "stream",
     "text": [
      "Iteration 37\n",
      "Number of epochs: 15\n",
      "(15, 0.0078000000000000005, 8, 40, 1, 2, 0.2)\n"
     ]
    },
    {
     "data": {
      "application/vnd.jupyter.widget-view+json": {
       "model_id": "50d41eb5fc064532aa070a4bffa99236",
       "version_major": 2,
       "version_minor": 0
      },
      "text/plain": [
       "VBox(children=(Label(value='Waiting for wandb.init()...\\r'), FloatProgress(value=0.011149135655513318, max=1.0…"
      ]
     },
     "metadata": {},
     "output_type": "display_data"
    },
    {
     "data": {
      "text/html": [
       "wandb version 0.16.3 is available!  To upgrade, please run:\n",
       " $ pip install wandb --upgrade"
      ],
      "text/plain": [
       "<IPython.core.display.HTML object>"
      ]
     },
     "metadata": {},
     "output_type": "display_data"
    },
    {
     "data": {
      "text/html": [
       "Tracking run with wandb version 0.16.2"
      ],
      "text/plain": [
       "<IPython.core.display.HTML object>"
      ]
     },
     "metadata": {},
     "output_type": "display_data"
    },
    {
     "data": {
      "text/html": [
       "Run data is saved locally in <code>/Users/orianecavrois/Documents/Perso/MachineLearning/Github/Brain-tumor-image-classification/wandb/run-20240208_183914-ygfah1ep</code>"
      ],
      "text/plain": [
       "<IPython.core.display.HTML object>"
      ]
     },
     "metadata": {},
     "output_type": "display_data"
    },
    {
     "data": {
      "text/html": [
       "Syncing run <strong><a href='https://wandb.ai/oriane-cavrois/brain_image_large_archi_optimization_4/runs/ygfah1ep' target=\"_blank\">stellar-sky-38</a></strong> to <a href='https://wandb.ai/oriane-cavrois/brain_image_large_archi_optimization_4' target=\"_blank\">Weights & Biases</a> (<a href='https://wandb.me/run' target=\"_blank\">docs</a>)<br/>"
      ],
      "text/plain": [
       "<IPython.core.display.HTML object>"
      ]
     },
     "metadata": {},
     "output_type": "display_data"
    },
    {
     "data": {
      "text/html": [
       " View project at <a href='https://wandb.ai/oriane-cavrois/brain_image_large_archi_optimization_4' target=\"_blank\">https://wandb.ai/oriane-cavrois/brain_image_large_archi_optimization_4</a>"
      ],
      "text/plain": [
       "<IPython.core.display.HTML object>"
      ]
     },
     "metadata": {},
     "output_type": "display_data"
    },
    {
     "data": {
      "text/html": [
       " View run at <a href='https://wandb.ai/oriane-cavrois/brain_image_large_archi_optimization_4/runs/ygfah1ep' target=\"_blank\">https://wandb.ai/oriane-cavrois/brain_image_large_archi_optimization_4/runs/ygfah1ep</a>"
      ],
      "text/plain": [
       "<IPython.core.display.HTML object>"
      ]
     },
     "metadata": {},
     "output_type": "display_data"
    },
    {
     "name": "stdout",
     "output_type": "stream",
     "text": [
      "Fold 1\n",
      "-------\n",
      "Test set: Average loss: 21.1692, Accuracy: 46/85 (54.12%)\n",
      "\n",
      "Fold 2\n",
      "-------\n",
      "Test set: Average loss: 2.5788, Accuracy: 54/85 (63.53%)\n",
      "\n",
      "Fold 3\n",
      "-------\n",
      "Test set: Average loss: 0.8080, Accuracy: 54/85 (63.53%)\n",
      "\n",
      "--------------------------------------\n"
     ]
    },
    {
     "name": "stderr",
     "output_type": "stream",
     "text": [
      "wandb: WARNING Source type is set to 'repo' but some required information is missing from the environment. A job will not be created from this run. See https://docs.wandb.ai/guides/launch/create-job\n"
     ]
    },
    {
     "data": {
      "application/vnd.jupyter.widget-view+json": {
       "model_id": "b45ffe65e0f24cf3b6dd3d8a8a1a0987",
       "version_major": 2,
       "version_minor": 0
      },
      "text/plain": [
       "VBox(children=(Label(value='0.002 MB of 0.004 MB uploaded\\r'), FloatProgress(value=0.6723646723646723, max=1.0…"
      ]
     },
     "metadata": {},
     "output_type": "display_data"
    },
    {
     "data": {
      "text/html": [
       "<style>\n",
       "    table.wandb td:nth-child(1) { padding: 0 10px; text-align: left ; width: auto;} td:nth-child(2) {text-align: left ; width: 100%}\n",
       "    .wandb-row { display: flex; flex-direction: row; flex-wrap: wrap; justify-content: flex-start; width: 100% }\n",
       "    .wandb-col { display: flex; flex-direction: column; flex-basis: 100%; flex: 1; padding: 10px; }\n",
       "    </style>\n",
       "<div class=\"wandb-row\"><div class=\"wandb-col\"><h3>Run history:</h3><br/><table class=\"wandb\"><tr><td>test accuracy</td><td>▁</td></tr><tr><td>test loss</td><td>▁</td></tr><tr><td>train accuracy</td><td>▁</td></tr><tr><td>train loss</td><td>▁</td></tr></table><br/></div><div class=\"wandb-col\"><h3>Run summary:</h3><br/><table class=\"wandb\"><tr><td>test accuracy</td><td>0.60392</td></tr><tr><td>test loss</td><td>8.18537</td></tr><tr><td>train accuracy</td><td>0.94901</td></tr><tr><td>train loss</td><td>3.352</td></tr></table><br/></div></div>"
      ],
      "text/plain": [
       "<IPython.core.display.HTML object>"
      ]
     },
     "metadata": {},
     "output_type": "display_data"
    },
    {
     "data": {
      "text/html": [
       " View run <strong style=\"color:#cdcd00\">stellar-sky-38</strong> at: <a href='https://wandb.ai/oriane-cavrois/brain_image_large_archi_optimization_4/runs/ygfah1ep' target=\"_blank\">https://wandb.ai/oriane-cavrois/brain_image_large_archi_optimization_4/runs/ygfah1ep</a><br/>Synced 5 W&B file(s), 0 media file(s), 0 artifact file(s) and 0 other file(s)"
      ],
      "text/plain": [
       "<IPython.core.display.HTML object>"
      ]
     },
     "metadata": {},
     "output_type": "display_data"
    },
    {
     "data": {
      "text/html": [
       "Find logs at: <code>./wandb/run-20240208_183914-ygfah1ep/logs</code>"
      ],
      "text/plain": [
       "<IPython.core.display.HTML object>"
      ]
     },
     "metadata": {},
     "output_type": "display_data"
    },
    {
     "name": "stdout",
     "output_type": "stream",
     "text": [
      "Iteration 38\n",
      "Number of epochs: 15\n",
      "(15, 0.00285, 5, 40, 7, 6, 0.25)\n"
     ]
    },
    {
     "data": {
      "application/vnd.jupyter.widget-view+json": {
       "model_id": "96a92befce9842b49d9cd022ae5b34ae",
       "version_major": 2,
       "version_minor": 0
      },
      "text/plain": [
       "VBox(children=(Label(value='Waiting for wandb.init()...\\r'), FloatProgress(value=0.011223442588864903, max=1.0…"
      ]
     },
     "metadata": {},
     "output_type": "display_data"
    },
    {
     "data": {
      "text/html": [
       "wandb version 0.16.3 is available!  To upgrade, please run:\n",
       " $ pip install wandb --upgrade"
      ],
      "text/plain": [
       "<IPython.core.display.HTML object>"
      ]
     },
     "metadata": {},
     "output_type": "display_data"
    },
    {
     "data": {
      "text/html": [
       "Tracking run with wandb version 0.16.2"
      ],
      "text/plain": [
       "<IPython.core.display.HTML object>"
      ]
     },
     "metadata": {},
     "output_type": "display_data"
    },
    {
     "data": {
      "text/html": [
       "Run data is saved locally in <code>/Users/orianecavrois/Documents/Perso/MachineLearning/Github/Brain-tumor-image-classification/wandb/run-20240208_183946-n8ucoa36</code>"
      ],
      "text/plain": [
       "<IPython.core.display.HTML object>"
      ]
     },
     "metadata": {},
     "output_type": "display_data"
    },
    {
     "data": {
      "text/html": [
       "Syncing run <strong><a href='https://wandb.ai/oriane-cavrois/brain_image_large_archi_optimization_4/runs/n8ucoa36' target=\"_blank\">true-vortex-39</a></strong> to <a href='https://wandb.ai/oriane-cavrois/brain_image_large_archi_optimization_4' target=\"_blank\">Weights & Biases</a> (<a href='https://wandb.me/run' target=\"_blank\">docs</a>)<br/>"
      ],
      "text/plain": [
       "<IPython.core.display.HTML object>"
      ]
     },
     "metadata": {},
     "output_type": "display_data"
    },
    {
     "data": {
      "text/html": [
       " View project at <a href='https://wandb.ai/oriane-cavrois/brain_image_large_archi_optimization_4' target=\"_blank\">https://wandb.ai/oriane-cavrois/brain_image_large_archi_optimization_4</a>"
      ],
      "text/plain": [
       "<IPython.core.display.HTML object>"
      ]
     },
     "metadata": {},
     "output_type": "display_data"
    },
    {
     "data": {
      "text/html": [
       " View run at <a href='https://wandb.ai/oriane-cavrois/brain_image_large_archi_optimization_4/runs/n8ucoa36' target=\"_blank\">https://wandb.ai/oriane-cavrois/brain_image_large_archi_optimization_4/runs/n8ucoa36</a>"
      ],
      "text/plain": [
       "<IPython.core.display.HTML object>"
      ]
     },
     "metadata": {},
     "output_type": "display_data"
    },
    {
     "name": "stdout",
     "output_type": "stream",
     "text": [
      "Fold 1\n",
      "-------\n",
      "Test set: Average loss: 4.6989, Accuracy: 49/85 (57.65%)\n",
      "\n",
      "Fold 2\n",
      "-------\n",
      "Test set: Average loss: 12.4599, Accuracy: 49/85 (57.65%)\n",
      "\n",
      "Fold 3\n",
      "-------\n",
      "Test set: Average loss: 573.9117, Accuracy: 27/85 (31.76%)\n",
      "\n",
      "--------------------------------------\n"
     ]
    },
    {
     "name": "stderr",
     "output_type": "stream",
     "text": [
      "wandb: WARNING Source type is set to 'repo' but some required information is missing from the environment. A job will not be created from this run. See https://docs.wandb.ai/guides/launch/create-job\n"
     ]
    },
    {
     "data": {
      "application/vnd.jupyter.widget-view+json": {
       "model_id": "01b028865a8b42339b6db2fb59cfef2b",
       "version_major": 2,
       "version_minor": 0
      },
      "text/plain": [
       "VBox(children=(Label(value='0.001 MB of 0.001 MB uploaded\\r'), FloatProgress(value=1.0, max=1.0)))"
      ]
     },
     "metadata": {},
     "output_type": "display_data"
    },
    {
     "data": {
      "text/html": [
       "<style>\n",
       "    table.wandb td:nth-child(1) { padding: 0 10px; text-align: left ; width: auto;} td:nth-child(2) {text-align: left ; width: 100%}\n",
       "    .wandb-row { display: flex; flex-direction: row; flex-wrap: wrap; justify-content: flex-start; width: 100% }\n",
       "    .wandb-col { display: flex; flex-direction: column; flex-basis: 100%; flex: 1; padding: 10px; }\n",
       "    </style>\n",
       "<div class=\"wandb-row\"><div class=\"wandb-col\"><h3>Run history:</h3><br/><table class=\"wandb\"><tr><td>test accuracy</td><td>▁</td></tr><tr><td>test loss</td><td>▁</td></tr><tr><td>train accuracy</td><td>▁</td></tr><tr><td>train loss</td><td>▁</td></tr></table><br/></div><div class=\"wandb-col\"><h3>Run summary:</h3><br/><table class=\"wandb\"><tr><td>test accuracy</td><td>0.4902</td></tr><tr><td>test loss</td><td>197.0235</td></tr><tr><td>train accuracy</td><td>0.9246</td></tr><tr><td>train loss</td><td>6.51065</td></tr></table><br/></div></div>"
      ],
      "text/plain": [
       "<IPython.core.display.HTML object>"
      ]
     },
     "metadata": {},
     "output_type": "display_data"
    },
    {
     "data": {
      "text/html": [
       " View run <strong style=\"color:#cdcd00\">true-vortex-39</strong> at: <a href='https://wandb.ai/oriane-cavrois/brain_image_large_archi_optimization_4/runs/n8ucoa36' target=\"_blank\">https://wandb.ai/oriane-cavrois/brain_image_large_archi_optimization_4/runs/n8ucoa36</a><br/>Synced 5 W&B file(s), 0 media file(s), 0 artifact file(s) and 0 other file(s)"
      ],
      "text/plain": [
       "<IPython.core.display.HTML object>"
      ]
     },
     "metadata": {},
     "output_type": "display_data"
    },
    {
     "data": {
      "text/html": [
       "Find logs at: <code>./wandb/run-20240208_183946-n8ucoa36/logs</code>"
      ],
      "text/plain": [
       "<IPython.core.display.HTML object>"
      ]
     },
     "metadata": {},
     "output_type": "display_data"
    },
    {
     "name": "stdout",
     "output_type": "stream",
     "text": [
      "Iteration 39\n",
      "Number of epochs: 20\n",
      "(20, 0.00175, 8, 45, 1, 2, 0.65)\n"
     ]
    },
    {
     "data": {
      "application/vnd.jupyter.widget-view+json": {
       "model_id": "98ef657ae69a4f9e9fbb0ff4b2eb8b79",
       "version_major": 2,
       "version_minor": 0
      },
      "text/plain": [
       "VBox(children=(Label(value='Waiting for wandb.init()...\\r'), FloatProgress(value=0.011127013422163953, max=1.0…"
      ]
     },
     "metadata": {},
     "output_type": "display_data"
    },
    {
     "data": {
      "text/html": [
       "wandb version 0.16.3 is available!  To upgrade, please run:\n",
       " $ pip install wandb --upgrade"
      ],
      "text/plain": [
       "<IPython.core.display.HTML object>"
      ]
     },
     "metadata": {},
     "output_type": "display_data"
    },
    {
     "data": {
      "text/html": [
       "Tracking run with wandb version 0.16.2"
      ],
      "text/plain": [
       "<IPython.core.display.HTML object>"
      ]
     },
     "metadata": {},
     "output_type": "display_data"
    },
    {
     "data": {
      "text/html": [
       "Run data is saved locally in <code>/Users/orianecavrois/Documents/Perso/MachineLearning/Github/Brain-tumor-image-classification/wandb/run-20240208_184021-i6zubqkl</code>"
      ],
      "text/plain": [
       "<IPython.core.display.HTML object>"
      ]
     },
     "metadata": {},
     "output_type": "display_data"
    },
    {
     "data": {
      "text/html": [
       "Syncing run <strong><a href='https://wandb.ai/oriane-cavrois/brain_image_large_archi_optimization_4/runs/i6zubqkl' target=\"_blank\">fine-shape-40</a></strong> to <a href='https://wandb.ai/oriane-cavrois/brain_image_large_archi_optimization_4' target=\"_blank\">Weights & Biases</a> (<a href='https://wandb.me/run' target=\"_blank\">docs</a>)<br/>"
      ],
      "text/plain": [
       "<IPython.core.display.HTML object>"
      ]
     },
     "metadata": {},
     "output_type": "display_data"
    },
    {
     "data": {
      "text/html": [
       " View project at <a href='https://wandb.ai/oriane-cavrois/brain_image_large_archi_optimization_4' target=\"_blank\">https://wandb.ai/oriane-cavrois/brain_image_large_archi_optimization_4</a>"
      ],
      "text/plain": [
       "<IPython.core.display.HTML object>"
      ]
     },
     "metadata": {},
     "output_type": "display_data"
    },
    {
     "data": {
      "text/html": [
       " View run at <a href='https://wandb.ai/oriane-cavrois/brain_image_large_archi_optimization_4/runs/i6zubqkl' target=\"_blank\">https://wandb.ai/oriane-cavrois/brain_image_large_archi_optimization_4/runs/i6zubqkl</a>"
      ],
      "text/plain": [
       "<IPython.core.display.HTML object>"
      ]
     },
     "metadata": {},
     "output_type": "display_data"
    },
    {
     "name": "stdout",
     "output_type": "stream",
     "text": [
      "Fold 1\n",
      "-------\n",
      "Test set: Average loss: 10.1113, Accuracy: 43/85 (50.59%)\n",
      "\n",
      "Fold 2\n",
      "-------\n",
      "Test set: Average loss: 2.1230, Accuracy: 53/85 (62.35%)\n",
      "\n",
      "Fold 3\n",
      "-------\n",
      "Test set: Average loss: 5.4965, Accuracy: 52/85 (61.18%)\n",
      "\n",
      "--------------------------------------\n"
     ]
    },
    {
     "name": "stderr",
     "output_type": "stream",
     "text": [
      "wandb: WARNING Source type is set to 'repo' but some required information is missing from the environment. A job will not be created from this run. See https://docs.wandb.ai/guides/launch/create-job\n"
     ]
    },
    {
     "data": {
      "application/vnd.jupyter.widget-view+json": {
       "model_id": "ada0b275706a44508e5a547ac70974fc",
       "version_major": 2,
       "version_minor": 0
      },
      "text/plain": [
       "VBox(children=(Label(value='0.001 MB of 0.001 MB uploaded\\r'), FloatProgress(value=1.0, max=1.0)))"
      ]
     },
     "metadata": {},
     "output_type": "display_data"
    },
    {
     "data": {
      "text/html": [
       "<style>\n",
       "    table.wandb td:nth-child(1) { padding: 0 10px; text-align: left ; width: auto;} td:nth-child(2) {text-align: left ; width: 100%}\n",
       "    .wandb-row { display: flex; flex-direction: row; flex-wrap: wrap; justify-content: flex-start; width: 100% }\n",
       "    .wandb-col { display: flex; flex-direction: column; flex-basis: 100%; flex: 1; padding: 10px; }\n",
       "    </style>\n",
       "<div class=\"wandb-row\"><div class=\"wandb-col\"><h3>Run history:</h3><br/><table class=\"wandb\"><tr><td>test accuracy</td><td>▁</td></tr><tr><td>test loss</td><td>▁</td></tr><tr><td>train accuracy</td><td>▁</td></tr><tr><td>train loss</td><td>▁</td></tr></table><br/></div><div class=\"wandb-col\"><h3>Run summary:</h3><br/><table class=\"wandb\"><tr><td>test accuracy</td><td>0.58039</td></tr><tr><td>test loss</td><td>5.91026</td></tr><tr><td>train accuracy</td><td>0.93705</td></tr><tr><td>train loss</td><td>2.82581</td></tr></table><br/></div></div>"
      ],
      "text/plain": [
       "<IPython.core.display.HTML object>"
      ]
     },
     "metadata": {},
     "output_type": "display_data"
    },
    {
     "data": {
      "text/html": [
       " View run <strong style=\"color:#cdcd00\">fine-shape-40</strong> at: <a href='https://wandb.ai/oriane-cavrois/brain_image_large_archi_optimization_4/runs/i6zubqkl' target=\"_blank\">https://wandb.ai/oriane-cavrois/brain_image_large_archi_optimization_4/runs/i6zubqkl</a><br/>Synced 5 W&B file(s), 0 media file(s), 0 artifact file(s) and 0 other file(s)"
      ],
      "text/plain": [
       "<IPython.core.display.HTML object>"
      ]
     },
     "metadata": {},
     "output_type": "display_data"
    },
    {
     "data": {
      "text/html": [
       "Find logs at: <code>./wandb/run-20240208_184021-i6zubqkl/logs</code>"
      ],
      "text/plain": [
       "<IPython.core.display.HTML object>"
      ]
     },
     "metadata": {},
     "output_type": "display_data"
    },
    {
     "name": "stdout",
     "output_type": "stream",
     "text": [
      "Iteration 40\n",
      "Number of epochs: 25\n",
      "(25, 0.00395, 4, 50, 7, 6, 0.05)\n"
     ]
    },
    {
     "data": {
      "application/vnd.jupyter.widget-view+json": {
       "model_id": "60dfc168ef8d4ce7b27401e79735dab8",
       "version_major": 2,
       "version_minor": 0
      },
      "text/plain": [
       "VBox(children=(Label(value='Waiting for wandb.init()...\\r'), FloatProgress(value=0.011135370833330348, max=1.0…"
      ]
     },
     "metadata": {},
     "output_type": "display_data"
    },
    {
     "data": {
      "text/html": [
       "wandb version 0.16.3 is available!  To upgrade, please run:\n",
       " $ pip install wandb --upgrade"
      ],
      "text/plain": [
       "<IPython.core.display.HTML object>"
      ]
     },
     "metadata": {},
     "output_type": "display_data"
    },
    {
     "data": {
      "text/html": [
       "Tracking run with wandb version 0.16.2"
      ],
      "text/plain": [
       "<IPython.core.display.HTML object>"
      ]
     },
     "metadata": {},
     "output_type": "display_data"
    },
    {
     "data": {
      "text/html": [
       "Run data is saved locally in <code>/Users/orianecavrois/Documents/Perso/MachineLearning/Github/Brain-tumor-image-classification/wandb/run-20240208_184102-eqifuix1</code>"
      ],
      "text/plain": [
       "<IPython.core.display.HTML object>"
      ]
     },
     "metadata": {},
     "output_type": "display_data"
    },
    {
     "data": {
      "text/html": [
       "Syncing run <strong><a href='https://wandb.ai/oriane-cavrois/brain_image_large_archi_optimization_4/runs/eqifuix1' target=\"_blank\">glad-meadow-41</a></strong> to <a href='https://wandb.ai/oriane-cavrois/brain_image_large_archi_optimization_4' target=\"_blank\">Weights & Biases</a> (<a href='https://wandb.me/run' target=\"_blank\">docs</a>)<br/>"
      ],
      "text/plain": [
       "<IPython.core.display.HTML object>"
      ]
     },
     "metadata": {},
     "output_type": "display_data"
    },
    {
     "data": {
      "text/html": [
       " View project at <a href='https://wandb.ai/oriane-cavrois/brain_image_large_archi_optimization_4' target=\"_blank\">https://wandb.ai/oriane-cavrois/brain_image_large_archi_optimization_4</a>"
      ],
      "text/plain": [
       "<IPython.core.display.HTML object>"
      ]
     },
     "metadata": {},
     "output_type": "display_data"
    },
    {
     "data": {
      "text/html": [
       " View run at <a href='https://wandb.ai/oriane-cavrois/brain_image_large_archi_optimization_4/runs/eqifuix1' target=\"_blank\">https://wandb.ai/oriane-cavrois/brain_image_large_archi_optimization_4/runs/eqifuix1</a>"
      ],
      "text/plain": [
       "<IPython.core.display.HTML object>"
      ]
     },
     "metadata": {},
     "output_type": "display_data"
    },
    {
     "name": "stdout",
     "output_type": "stream",
     "text": [
      "Fold 1\n",
      "-------\n",
      "Test set: Average loss: 23.8693, Accuracy: 46/85 (54.12%)\n",
      "\n",
      "Fold 2\n",
      "-------\n",
      "Test set: Average loss: 2561.0636, Accuracy: 21/85 (24.71%)\n",
      "\n",
      "Fold 3\n",
      "-------\n",
      "Test set: Average loss: 4.0079, Accuracy: 54/85 (63.53%)\n",
      "\n",
      "--------------------------------------\n"
     ]
    },
    {
     "name": "stderr",
     "output_type": "stream",
     "text": [
      "wandb: WARNING Source type is set to 'repo' but some required information is missing from the environment. A job will not be created from this run. See https://docs.wandb.ai/guides/launch/create-job\n"
     ]
    },
    {
     "data": {
      "application/vnd.jupyter.widget-view+json": {
       "model_id": "e1121aa94aa74ffaa12ee283dfc0080c",
       "version_major": 2,
       "version_minor": 0
      },
      "text/plain": [
       "VBox(children=(Label(value='0.001 MB of 0.004 MB uploaded\\r'), FloatProgress(value=0.3407792207792208, max=1.0…"
      ]
     },
     "metadata": {},
     "output_type": "display_data"
    },
    {
     "data": {
      "text/html": [
       "<style>\n",
       "    table.wandb td:nth-child(1) { padding: 0 10px; text-align: left ; width: auto;} td:nth-child(2) {text-align: left ; width: 100%}\n",
       "    .wandb-row { display: flex; flex-direction: row; flex-wrap: wrap; justify-content: flex-start; width: 100% }\n",
       "    .wandb-col { display: flex; flex-direction: column; flex-basis: 100%; flex: 1; padding: 10px; }\n",
       "    </style>\n",
       "<div class=\"wandb-row\"><div class=\"wandb-col\"><h3>Run history:</h3><br/><table class=\"wandb\"><tr><td>test accuracy</td><td>▁</td></tr><tr><td>test loss</td><td>▁</td></tr><tr><td>train accuracy</td><td>▁</td></tr><tr><td>train loss</td><td>▁</td></tr></table><br/></div><div class=\"wandb-col\"><h3>Run summary:</h3><br/><table class=\"wandb\"><tr><td>test accuracy</td><td>0.47451</td></tr><tr><td>test loss</td><td>862.98027</td></tr><tr><td>train accuracy</td><td>0.96405</td></tr><tr><td>train loss</td><td>7.99005</td></tr></table><br/></div></div>"
      ],
      "text/plain": [
       "<IPython.core.display.HTML object>"
      ]
     },
     "metadata": {},
     "output_type": "display_data"
    },
    {
     "data": {
      "text/html": [
       " View run <strong style=\"color:#cdcd00\">glad-meadow-41</strong> at: <a href='https://wandb.ai/oriane-cavrois/brain_image_large_archi_optimization_4/runs/eqifuix1' target=\"_blank\">https://wandb.ai/oriane-cavrois/brain_image_large_archi_optimization_4/runs/eqifuix1</a><br/>Synced 5 W&B file(s), 0 media file(s), 0 artifact file(s) and 0 other file(s)"
      ],
      "text/plain": [
       "<IPython.core.display.HTML object>"
      ]
     },
     "metadata": {},
     "output_type": "display_data"
    },
    {
     "data": {
      "text/html": [
       "Find logs at: <code>./wandb/run-20240208_184102-eqifuix1/logs</code>"
      ],
      "text/plain": [
       "<IPython.core.display.HTML object>"
      ]
     },
     "metadata": {},
     "output_type": "display_data"
    },
    {
     "name": "stdout",
     "output_type": "stream",
     "text": [
      "Iteration 41\n",
      "Number of epochs: 40\n",
      "(40, 0.006150000000000001, 7, 45, 5, 6, 0.8500000000000001)\n"
     ]
    },
    {
     "data": {
      "application/vnd.jupyter.widget-view+json": {
       "model_id": "7404bb0e09fd44b2b3b07eb09e83b79f",
       "version_major": 2,
       "version_minor": 0
      },
      "text/plain": [
       "VBox(children=(Label(value='Waiting for wandb.init()...\\r'), FloatProgress(value=0.011198372688846171, max=1.0…"
      ]
     },
     "metadata": {},
     "output_type": "display_data"
    },
    {
     "data": {
      "text/html": [
       "wandb version 0.16.3 is available!  To upgrade, please run:\n",
       " $ pip install wandb --upgrade"
      ],
      "text/plain": [
       "<IPython.core.display.HTML object>"
      ]
     },
     "metadata": {},
     "output_type": "display_data"
    },
    {
     "data": {
      "text/html": [
       "Tracking run with wandb version 0.16.2"
      ],
      "text/plain": [
       "<IPython.core.display.HTML object>"
      ]
     },
     "metadata": {},
     "output_type": "display_data"
    },
    {
     "data": {
      "text/html": [
       "Run data is saved locally in <code>/Users/orianecavrois/Documents/Perso/MachineLearning/Github/Brain-tumor-image-classification/wandb/run-20240208_184158-9arawkke</code>"
      ],
      "text/plain": [
       "<IPython.core.display.HTML object>"
      ]
     },
     "metadata": {},
     "output_type": "display_data"
    },
    {
     "data": {
      "text/html": [
       "Syncing run <strong><a href='https://wandb.ai/oriane-cavrois/brain_image_large_archi_optimization_4/runs/9arawkke' target=\"_blank\">wise-pond-42</a></strong> to <a href='https://wandb.ai/oriane-cavrois/brain_image_large_archi_optimization_4' target=\"_blank\">Weights & Biases</a> (<a href='https://wandb.me/run' target=\"_blank\">docs</a>)<br/>"
      ],
      "text/plain": [
       "<IPython.core.display.HTML object>"
      ]
     },
     "metadata": {},
     "output_type": "display_data"
    },
    {
     "data": {
      "text/html": [
       " View project at <a href='https://wandb.ai/oriane-cavrois/brain_image_large_archi_optimization_4' target=\"_blank\">https://wandb.ai/oriane-cavrois/brain_image_large_archi_optimization_4</a>"
      ],
      "text/plain": [
       "<IPython.core.display.HTML object>"
      ]
     },
     "metadata": {},
     "output_type": "display_data"
    },
    {
     "data": {
      "text/html": [
       " View run at <a href='https://wandb.ai/oriane-cavrois/brain_image_large_archi_optimization_4/runs/9arawkke' target=\"_blank\">https://wandb.ai/oriane-cavrois/brain_image_large_archi_optimization_4/runs/9arawkke</a>"
      ],
      "text/plain": [
       "<IPython.core.display.HTML object>"
      ]
     },
     "metadata": {},
     "output_type": "display_data"
    },
    {
     "name": "stdout",
     "output_type": "stream",
     "text": [
      "Fold 1\n",
      "-------\n",
      "Test set: Average loss: 24.7171, Accuracy: 45/85 (52.94%)\n",
      "\n",
      "Fold 2\n",
      "-------\n",
      "Test set: Average loss: 9.5840, Accuracy: 52/85 (61.18%)\n",
      "\n",
      "Fold 3\n",
      "-------\n",
      "Test set: Average loss: 4.8217, Accuracy: 52/85 (61.18%)\n",
      "\n",
      "--------------------------------------\n"
     ]
    },
    {
     "name": "stderr",
     "output_type": "stream",
     "text": [
      "wandb: WARNING Source type is set to 'repo' but some required information is missing from the environment. A job will not be created from this run. See https://docs.wandb.ai/guides/launch/create-job\n"
     ]
    },
    {
     "data": {
      "application/vnd.jupyter.widget-view+json": {
       "model_id": "b636d88453dd4f5ab1c73dc4e4dde739",
       "version_major": 2,
       "version_minor": 0
      },
      "text/plain": [
       "VBox(children=(Label(value='0.001 MB of 0.001 MB uploaded\\r'), FloatProgress(value=1.0, max=1.0)))"
      ]
     },
     "metadata": {},
     "output_type": "display_data"
    },
    {
     "data": {
      "text/html": [
       "<style>\n",
       "    table.wandb td:nth-child(1) { padding: 0 10px; text-align: left ; width: auto;} td:nth-child(2) {text-align: left ; width: 100%}\n",
       "    .wandb-row { display: flex; flex-direction: row; flex-wrap: wrap; justify-content: flex-start; width: 100% }\n",
       "    .wandb-col { display: flex; flex-direction: column; flex-basis: 100%; flex: 1; padding: 10px; }\n",
       "    </style>\n",
       "<div class=\"wandb-row\"><div class=\"wandb-col\"><h3>Run history:</h3><br/><table class=\"wandb\"><tr><td>test accuracy</td><td>▁</td></tr><tr><td>test loss</td><td>▁</td></tr><tr><td>train accuracy</td><td>▁</td></tr><tr><td>train loss</td><td>▁</td></tr></table><br/></div><div class=\"wandb-col\"><h3>Run summary:</h3><br/><table class=\"wandb\"><tr><td>test accuracy</td><td>0.58431</td></tr><tr><td>test loss</td><td>13.04093</td></tr><tr><td>train accuracy</td><td>0.90722</td></tr><tr><td>train loss</td><td>1.98624</td></tr></table><br/></div></div>"
      ],
      "text/plain": [
       "<IPython.core.display.HTML object>"
      ]
     },
     "metadata": {},
     "output_type": "display_data"
    },
    {
     "data": {
      "text/html": [
       " View run <strong style=\"color:#cdcd00\">wise-pond-42</strong> at: <a href='https://wandb.ai/oriane-cavrois/brain_image_large_archi_optimization_4/runs/9arawkke' target=\"_blank\">https://wandb.ai/oriane-cavrois/brain_image_large_archi_optimization_4/runs/9arawkke</a><br/>Synced 5 W&B file(s), 0 media file(s), 0 artifact file(s) and 0 other file(s)"
      ],
      "text/plain": [
       "<IPython.core.display.HTML object>"
      ]
     },
     "metadata": {},
     "output_type": "display_data"
    },
    {
     "data": {
      "text/html": [
       "Find logs at: <code>./wandb/run-20240208_184158-9arawkke/logs</code>"
      ],
      "text/plain": [
       "<IPython.core.display.HTML object>"
      ]
     },
     "metadata": {},
     "output_type": "display_data"
    },
    {
     "name": "stdout",
     "output_type": "stream",
     "text": [
      "Iteration 42\n",
      "Number of epochs: 40\n",
      "(40, 0.00945, 9, 65, 5, 3, 0.1)\n"
     ]
    },
    {
     "data": {
      "application/vnd.jupyter.widget-view+json": {
       "model_id": "24839da2667845099e72db13bc850617",
       "version_major": 2,
       "version_minor": 0
      },
      "text/plain": [
       "VBox(children=(Label(value='Waiting for wandb.init()...\\r'), FloatProgress(value=0.01117827685553089, max=1.0)…"
      ]
     },
     "metadata": {},
     "output_type": "display_data"
    },
    {
     "data": {
      "text/html": [
       "wandb version 0.16.3 is available!  To upgrade, please run:\n",
       " $ pip install wandb --upgrade"
      ],
      "text/plain": [
       "<IPython.core.display.HTML object>"
      ]
     },
     "metadata": {},
     "output_type": "display_data"
    },
    {
     "data": {
      "text/html": [
       "Tracking run with wandb version 0.16.2"
      ],
      "text/plain": [
       "<IPython.core.display.HTML object>"
      ]
     },
     "metadata": {},
     "output_type": "display_data"
    },
    {
     "data": {
      "text/html": [
       "Run data is saved locally in <code>/Users/orianecavrois/Documents/Perso/MachineLearning/Github/Brain-tumor-image-classification/wandb/run-20240208_184313-6gmdu3hl</code>"
      ],
      "text/plain": [
       "<IPython.core.display.HTML object>"
      ]
     },
     "metadata": {},
     "output_type": "display_data"
    },
    {
     "data": {
      "text/html": [
       "Syncing run <strong><a href='https://wandb.ai/oriane-cavrois/brain_image_large_archi_optimization_4/runs/6gmdu3hl' target=\"_blank\">sparkling-serenity-43</a></strong> to <a href='https://wandb.ai/oriane-cavrois/brain_image_large_archi_optimization_4' target=\"_blank\">Weights & Biases</a> (<a href='https://wandb.me/run' target=\"_blank\">docs</a>)<br/>"
      ],
      "text/plain": [
       "<IPython.core.display.HTML object>"
      ]
     },
     "metadata": {},
     "output_type": "display_data"
    },
    {
     "data": {
      "text/html": [
       " View project at <a href='https://wandb.ai/oriane-cavrois/brain_image_large_archi_optimization_4' target=\"_blank\">https://wandb.ai/oriane-cavrois/brain_image_large_archi_optimization_4</a>"
      ],
      "text/plain": [
       "<IPython.core.display.HTML object>"
      ]
     },
     "metadata": {},
     "output_type": "display_data"
    },
    {
     "data": {
      "text/html": [
       " View run at <a href='https://wandb.ai/oriane-cavrois/brain_image_large_archi_optimization_4/runs/6gmdu3hl' target=\"_blank\">https://wandb.ai/oriane-cavrois/brain_image_large_archi_optimization_4/runs/6gmdu3hl</a>"
      ],
      "text/plain": [
       "<IPython.core.display.HTML object>"
      ]
     },
     "metadata": {},
     "output_type": "display_data"
    },
    {
     "name": "stdout",
     "output_type": "stream",
     "text": [
      "Fold 1\n",
      "-------\n",
      "Test set: Average loss: 22.3802, Accuracy: 45/85 (52.94%)\n",
      "\n",
      "Fold 2\n",
      "-------\n",
      "Test set: Average loss: 13.8571, Accuracy: 53/85 (62.35%)\n",
      "\n",
      "Fold 3\n",
      "-------\n",
      "Test set: Average loss: 0.9583, Accuracy: 55/85 (64.71%)\n",
      "\n",
      "--------------------------------------\n"
     ]
    },
    {
     "name": "stderr",
     "output_type": "stream",
     "text": [
      "wandb: WARNING Source type is set to 'repo' but some required information is missing from the environment. A job will not be created from this run. See https://docs.wandb.ai/guides/launch/create-job\n"
     ]
    },
    {
     "data": {
      "application/vnd.jupyter.widget-view+json": {
       "model_id": "8a7f095980764c5289e027585cf6968b",
       "version_major": 2,
       "version_minor": 0
      },
      "text/plain": [
       "VBox(children=(Label(value='0.001 MB of 0.001 MB uploaded\\r'), FloatProgress(value=1.0, max=1.0)))"
      ]
     },
     "metadata": {},
     "output_type": "display_data"
    },
    {
     "data": {
      "text/html": [
       "<style>\n",
       "    table.wandb td:nth-child(1) { padding: 0 10px; text-align: left ; width: auto;} td:nth-child(2) {text-align: left ; width: 100%}\n",
       "    .wandb-row { display: flex; flex-direction: row; flex-wrap: wrap; justify-content: flex-start; width: 100% }\n",
       "    .wandb-col { display: flex; flex-direction: column; flex-basis: 100%; flex: 1; padding: 10px; }\n",
       "    </style>\n",
       "<div class=\"wandb-row\"><div class=\"wandb-col\"><h3>Run history:</h3><br/><table class=\"wandb\"><tr><td>test accuracy</td><td>▁</td></tr><tr><td>test loss</td><td>▁</td></tr><tr><td>train accuracy</td><td>▁</td></tr><tr><td>train loss</td><td>▁</td></tr></table><br/></div><div class=\"wandb-col\"><h3>Run summary:</h3><br/><table class=\"wandb\"><tr><td>test accuracy</td><td>0.6</td></tr><tr><td>test loss</td><td>12.39855</td></tr><tr><td>train accuracy</td><td>0.97091</td></tr><tr><td>train loss</td><td>12.88571</td></tr></table><br/></div></div>"
      ],
      "text/plain": [
       "<IPython.core.display.HTML object>"
      ]
     },
     "metadata": {},
     "output_type": "display_data"
    },
    {
     "data": {
      "text/html": [
       " View run <strong style=\"color:#cdcd00\">sparkling-serenity-43</strong> at: <a href='https://wandb.ai/oriane-cavrois/brain_image_large_archi_optimization_4/runs/6gmdu3hl' target=\"_blank\">https://wandb.ai/oriane-cavrois/brain_image_large_archi_optimization_4/runs/6gmdu3hl</a><br/>Synced 5 W&B file(s), 0 media file(s), 0 artifact file(s) and 0 other file(s)"
      ],
      "text/plain": [
       "<IPython.core.display.HTML object>"
      ]
     },
     "metadata": {},
     "output_type": "display_data"
    },
    {
     "data": {
      "text/html": [
       "Find logs at: <code>./wandb/run-20240208_184313-6gmdu3hl/logs</code>"
      ],
      "text/plain": [
       "<IPython.core.display.HTML object>"
      ]
     },
     "metadata": {},
     "output_type": "display_data"
    },
    {
     "name": "stdout",
     "output_type": "stream",
     "text": [
      "Iteration 43\n",
      "Number of epochs: 30\n",
      "(30, 0.0023, 10, 50, 1, 7, 0.5)\n"
     ]
    },
    {
     "data": {
      "application/vnd.jupyter.widget-view+json": {
       "model_id": "7e53d1ec78054025a8031c9b2d867088",
       "version_major": 2,
       "version_minor": 0
      },
      "text/plain": [
       "VBox(children=(Label(value='Waiting for wandb.init()...\\r'), FloatProgress(value=0.011227562500021628, max=1.0…"
      ]
     },
     "metadata": {},
     "output_type": "display_data"
    },
    {
     "data": {
      "text/html": [
       "wandb version 0.16.3 is available!  To upgrade, please run:\n",
       " $ pip install wandb --upgrade"
      ],
      "text/plain": [
       "<IPython.core.display.HTML object>"
      ]
     },
     "metadata": {},
     "output_type": "display_data"
    },
    {
     "data": {
      "text/html": [
       "Tracking run with wandb version 0.16.2"
      ],
      "text/plain": [
       "<IPython.core.display.HTML object>"
      ]
     },
     "metadata": {},
     "output_type": "display_data"
    },
    {
     "data": {
      "text/html": [
       "Run data is saved locally in <code>/Users/orianecavrois/Documents/Perso/MachineLearning/Github/Brain-tumor-image-classification/wandb/run-20240208_184426-zt1nz1ck</code>"
      ],
      "text/plain": [
       "<IPython.core.display.HTML object>"
      ]
     },
     "metadata": {},
     "output_type": "display_data"
    },
    {
     "data": {
      "text/html": [
       "Syncing run <strong><a href='https://wandb.ai/oriane-cavrois/brain_image_large_archi_optimization_4/runs/zt1nz1ck' target=\"_blank\">twilight-monkey-44</a></strong> to <a href='https://wandb.ai/oriane-cavrois/brain_image_large_archi_optimization_4' target=\"_blank\">Weights & Biases</a> (<a href='https://wandb.me/run' target=\"_blank\">docs</a>)<br/>"
      ],
      "text/plain": [
       "<IPython.core.display.HTML object>"
      ]
     },
     "metadata": {},
     "output_type": "display_data"
    },
    {
     "data": {
      "text/html": [
       " View project at <a href='https://wandb.ai/oriane-cavrois/brain_image_large_archi_optimization_4' target=\"_blank\">https://wandb.ai/oriane-cavrois/brain_image_large_archi_optimization_4</a>"
      ],
      "text/plain": [
       "<IPython.core.display.HTML object>"
      ]
     },
     "metadata": {},
     "output_type": "display_data"
    },
    {
     "data": {
      "text/html": [
       " View run at <a href='https://wandb.ai/oriane-cavrois/brain_image_large_archi_optimization_4/runs/zt1nz1ck' target=\"_blank\">https://wandb.ai/oriane-cavrois/brain_image_large_archi_optimization_4/runs/zt1nz1ck</a>"
      ],
      "text/plain": [
       "<IPython.core.display.HTML object>"
      ]
     },
     "metadata": {},
     "output_type": "display_data"
    },
    {
     "name": "stdout",
     "output_type": "stream",
     "text": [
      "Fold 1\n",
      "-------\n",
      "Test set: Average loss: 2.1676, Accuracy: 45/85 (52.94%)\n",
      "\n",
      "Fold 2\n",
      "-------\n",
      "Test set: Average loss: 0.6115, Accuracy: 54/85 (63.53%)\n",
      "\n",
      "Fold 3\n",
      "-------\n",
      "Test set: Average loss: 0.1308, Accuracy: 54/85 (63.53%)\n",
      "\n",
      "--------------------------------------\n"
     ]
    },
    {
     "name": "stderr",
     "output_type": "stream",
     "text": [
      "wandb: WARNING Source type is set to 'repo' but some required information is missing from the environment. A job will not be created from this run. See https://docs.wandb.ai/guides/launch/create-job\n"
     ]
    },
    {
     "data": {
      "application/vnd.jupyter.widget-view+json": {
       "model_id": "6ad8abd0f89c403a819309b9c07a8040",
       "version_major": 2,
       "version_minor": 0
      },
      "text/plain": [
       "VBox(children=(Label(value='0.001 MB of 0.001 MB uploaded\\r'), FloatProgress(value=1.0, max=1.0)))"
      ]
     },
     "metadata": {},
     "output_type": "display_data"
    },
    {
     "data": {
      "text/html": [
       "<style>\n",
       "    table.wandb td:nth-child(1) { padding: 0 10px; text-align: left ; width: auto;} td:nth-child(2) {text-align: left ; width: 100%}\n",
       "    .wandb-row { display: flex; flex-direction: row; flex-wrap: wrap; justify-content: flex-start; width: 100% }\n",
       "    .wandb-col { display: flex; flex-direction: column; flex-basis: 100%; flex: 1; padding: 10px; }\n",
       "    </style>\n",
       "<div class=\"wandb-row\"><div class=\"wandb-col\"><h3>Run history:</h3><br/><table class=\"wandb\"><tr><td>test accuracy</td><td>▁</td></tr><tr><td>test loss</td><td>▁</td></tr><tr><td>train accuracy</td><td>▁</td></tr><tr><td>train loss</td><td>▁</td></tr></table><br/></div><div class=\"wandb-col\"><h3>Run summary:</h3><br/><table class=\"wandb\"><tr><td>test accuracy</td><td>0.6</td></tr><tr><td>test loss</td><td>0.96996</td></tr><tr><td>train accuracy</td><td>0.93859</td></tr><tr><td>train loss</td><td>0.19924</td></tr></table><br/></div></div>"
      ],
      "text/plain": [
       "<IPython.core.display.HTML object>"
      ]
     },
     "metadata": {},
     "output_type": "display_data"
    },
    {
     "data": {
      "text/html": [
       " View run <strong style=\"color:#cdcd00\">twilight-monkey-44</strong> at: <a href='https://wandb.ai/oriane-cavrois/brain_image_large_archi_optimization_4/runs/zt1nz1ck' target=\"_blank\">https://wandb.ai/oriane-cavrois/brain_image_large_archi_optimization_4/runs/zt1nz1ck</a><br/>Synced 5 W&B file(s), 0 media file(s), 0 artifact file(s) and 0 other file(s)"
      ],
      "text/plain": [
       "<IPython.core.display.HTML object>"
      ]
     },
     "metadata": {},
     "output_type": "display_data"
    },
    {
     "data": {
      "text/html": [
       "Find logs at: <code>./wandb/run-20240208_184426-zt1nz1ck/logs</code>"
      ],
      "text/plain": [
       "<IPython.core.display.HTML object>"
      ]
     },
     "metadata": {},
     "output_type": "display_data"
    },
    {
     "name": "stdout",
     "output_type": "stream",
     "text": [
      "Iteration 44\n",
      "Number of epochs: 35\n",
      "(35, 0.0089, 3, 50, 3, 3, 0.45)\n"
     ]
    },
    {
     "data": {
      "application/vnd.jupyter.widget-view+json": {
       "model_id": "f09d6a214f054be4a9743c41d140856d",
       "version_major": 2,
       "version_minor": 0
      },
      "text/plain": [
       "VBox(children=(Label(value='Waiting for wandb.init()...\\r'), FloatProgress(value=0.011190507866639462, max=1.0…"
      ]
     },
     "metadata": {},
     "output_type": "display_data"
    },
    {
     "data": {
      "text/html": [
       "wandb version 0.16.3 is available!  To upgrade, please run:\n",
       " $ pip install wandb --upgrade"
      ],
      "text/plain": [
       "<IPython.core.display.HTML object>"
      ]
     },
     "metadata": {},
     "output_type": "display_data"
    },
    {
     "data": {
      "text/html": [
       "Tracking run with wandb version 0.16.2"
      ],
      "text/plain": [
       "<IPython.core.display.HTML object>"
      ]
     },
     "metadata": {},
     "output_type": "display_data"
    },
    {
     "data": {
      "text/html": [
       "Run data is saved locally in <code>/Users/orianecavrois/Documents/Perso/MachineLearning/Github/Brain-tumor-image-classification/wandb/run-20240208_184521-2xbo4x0f</code>"
      ],
      "text/plain": [
       "<IPython.core.display.HTML object>"
      ]
     },
     "metadata": {},
     "output_type": "display_data"
    },
    {
     "data": {
      "text/html": [
       "Syncing run <strong><a href='https://wandb.ai/oriane-cavrois/brain_image_large_archi_optimization_4/runs/2xbo4x0f' target=\"_blank\">eternal-cloud-45</a></strong> to <a href='https://wandb.ai/oriane-cavrois/brain_image_large_archi_optimization_4' target=\"_blank\">Weights & Biases</a> (<a href='https://wandb.me/run' target=\"_blank\">docs</a>)<br/>"
      ],
      "text/plain": [
       "<IPython.core.display.HTML object>"
      ]
     },
     "metadata": {},
     "output_type": "display_data"
    },
    {
     "data": {
      "text/html": [
       " View project at <a href='https://wandb.ai/oriane-cavrois/brain_image_large_archi_optimization_4' target=\"_blank\">https://wandb.ai/oriane-cavrois/brain_image_large_archi_optimization_4</a>"
      ],
      "text/plain": [
       "<IPython.core.display.HTML object>"
      ]
     },
     "metadata": {},
     "output_type": "display_data"
    },
    {
     "data": {
      "text/html": [
       " View run at <a href='https://wandb.ai/oriane-cavrois/brain_image_large_archi_optimization_4/runs/2xbo4x0f' target=\"_blank\">https://wandb.ai/oriane-cavrois/brain_image_large_archi_optimization_4/runs/2xbo4x0f</a>"
      ],
      "text/plain": [
       "<IPython.core.display.HTML object>"
      ]
     },
     "metadata": {},
     "output_type": "display_data"
    },
    {
     "name": "stdout",
     "output_type": "stream",
     "text": [
      "Fold 1\n",
      "-------\n",
      "Test set: Average loss: 20.8265, Accuracy: 48/85 (56.47%)\n",
      "\n",
      "Fold 2\n",
      "-------\n",
      "Test set: Average loss: 25.7047, Accuracy: 50/85 (58.82%)\n",
      "\n",
      "Fold 3\n",
      "-------\n",
      "Test set: Average loss: 0.0000, Accuracy: 56/85 (65.88%)\n",
      "\n",
      "--------------------------------------\n"
     ]
    },
    {
     "name": "stderr",
     "output_type": "stream",
     "text": [
      "wandb: WARNING Source type is set to 'repo' but some required information is missing from the environment. A job will not be created from this run. See https://docs.wandb.ai/guides/launch/create-job\n"
     ]
    },
    {
     "data": {
      "application/vnd.jupyter.widget-view+json": {
       "model_id": "59479eb6981547848d1fe7041654d2d8",
       "version_major": 2,
       "version_minor": 0
      },
      "text/plain": [
       "VBox(children=(Label(value='0.001 MB of 0.001 MB uploaded\\r'), FloatProgress(value=1.0, max=1.0)))"
      ]
     },
     "metadata": {},
     "output_type": "display_data"
    },
    {
     "data": {
      "text/html": [
       "<style>\n",
       "    table.wandb td:nth-child(1) { padding: 0 10px; text-align: left ; width: auto;} td:nth-child(2) {text-align: left ; width: 100%}\n",
       "    .wandb-row { display: flex; flex-direction: row; flex-wrap: wrap; justify-content: flex-start; width: 100% }\n",
       "    .wandb-col { display: flex; flex-direction: column; flex-basis: 100%; flex: 1; padding: 10px; }\n",
       "    </style>\n",
       "<div class=\"wandb-row\"><div class=\"wandb-col\"><h3>Run history:</h3><br/><table class=\"wandb\"><tr><td>test accuracy</td><td>▁</td></tr><tr><td>test loss</td><td>▁</td></tr><tr><td>train accuracy</td><td>▁</td></tr><tr><td>train loss</td><td>▁</td></tr></table><br/></div><div class=\"wandb-col\"><h3>Run summary:</h3><br/><table class=\"wandb\"><tr><td>test accuracy</td><td>0.60392</td></tr><tr><td>test loss</td><td>15.5104</td></tr><tr><td>train accuracy</td><td>0.96412</td></tr><tr><td>train loss</td><td>8.88903</td></tr></table><br/></div></div>"
      ],
      "text/plain": [
       "<IPython.core.display.HTML object>"
      ]
     },
     "metadata": {},
     "output_type": "display_data"
    },
    {
     "data": {
      "text/html": [
       " View run <strong style=\"color:#cdcd00\">eternal-cloud-45</strong> at: <a href='https://wandb.ai/oriane-cavrois/brain_image_large_archi_optimization_4/runs/2xbo4x0f' target=\"_blank\">https://wandb.ai/oriane-cavrois/brain_image_large_archi_optimization_4/runs/2xbo4x0f</a><br/>Synced 5 W&B file(s), 0 media file(s), 0 artifact file(s) and 0 other file(s)"
      ],
      "text/plain": [
       "<IPython.core.display.HTML object>"
      ]
     },
     "metadata": {},
     "output_type": "display_data"
    },
    {
     "data": {
      "text/html": [
       "Find logs at: <code>./wandb/run-20240208_184521-2xbo4x0f/logs</code>"
      ],
      "text/plain": [
       "<IPython.core.display.HTML object>"
      ]
     },
     "metadata": {},
     "output_type": "display_data"
    },
    {
     "name": "stdout",
     "output_type": "stream",
     "text": [
      "Iteration 45\n",
      "Number of epochs: 5\n",
      "(5, 0.00725, 5, 65, 1, 3, 0.8)\n"
     ]
    },
    {
     "data": {
      "application/vnd.jupyter.widget-view+json": {
       "model_id": "b24e486de4574b5c9a14af8447a2128a",
       "version_major": 2,
       "version_minor": 0
      },
      "text/plain": [
       "VBox(children=(Label(value='Waiting for wandb.init()...\\r'), FloatProgress(value=0.011122615277822155, max=1.0…"
      ]
     },
     "metadata": {},
     "output_type": "display_data"
    },
    {
     "data": {
      "text/html": [
       "wandb version 0.16.3 is available!  To upgrade, please run:\n",
       " $ pip install wandb --upgrade"
      ],
      "text/plain": [
       "<IPython.core.display.HTML object>"
      ]
     },
     "metadata": {},
     "output_type": "display_data"
    },
    {
     "data": {
      "text/html": [
       "Tracking run with wandb version 0.16.2"
      ],
      "text/plain": [
       "<IPython.core.display.HTML object>"
      ]
     },
     "metadata": {},
     "output_type": "display_data"
    },
    {
     "data": {
      "text/html": [
       "Run data is saved locally in <code>/Users/orianecavrois/Documents/Perso/MachineLearning/Github/Brain-tumor-image-classification/wandb/run-20240208_184639-d6qnttiw</code>"
      ],
      "text/plain": [
       "<IPython.core.display.HTML object>"
      ]
     },
     "metadata": {},
     "output_type": "display_data"
    },
    {
     "data": {
      "text/html": [
       "Syncing run <strong><a href='https://wandb.ai/oriane-cavrois/brain_image_large_archi_optimization_4/runs/d6qnttiw' target=\"_blank\">northern-grass-46</a></strong> to <a href='https://wandb.ai/oriane-cavrois/brain_image_large_archi_optimization_4' target=\"_blank\">Weights & Biases</a> (<a href='https://wandb.me/run' target=\"_blank\">docs</a>)<br/>"
      ],
      "text/plain": [
       "<IPython.core.display.HTML object>"
      ]
     },
     "metadata": {},
     "output_type": "display_data"
    },
    {
     "data": {
      "text/html": [
       " View project at <a href='https://wandb.ai/oriane-cavrois/brain_image_large_archi_optimization_4' target=\"_blank\">https://wandb.ai/oriane-cavrois/brain_image_large_archi_optimization_4</a>"
      ],
      "text/plain": [
       "<IPython.core.display.HTML object>"
      ]
     },
     "metadata": {},
     "output_type": "display_data"
    },
    {
     "data": {
      "text/html": [
       " View run at <a href='https://wandb.ai/oriane-cavrois/brain_image_large_archi_optimization_4/runs/d6qnttiw' target=\"_blank\">https://wandb.ai/oriane-cavrois/brain_image_large_archi_optimization_4/runs/d6qnttiw</a>"
      ],
      "text/plain": [
       "<IPython.core.display.HTML object>"
      ]
     },
     "metadata": {},
     "output_type": "display_data"
    },
    {
     "name": "stdout",
     "output_type": "stream",
     "text": [
      "Fold 1\n",
      "-------\n",
      "Test set: Average loss: 3.1071, Accuracy: 48/85 (56.47%)\n",
      "\n",
      "Fold 2\n",
      "-------\n",
      "Test set: Average loss: 16.4148, Accuracy: 33/85 (38.82%)\n",
      "\n",
      "Fold 3\n",
      "-------\n",
      "Test set: Average loss: 0.5360, Accuracy: 52/85 (61.18%)\n",
      "\n",
      "--------------------------------------\n"
     ]
    },
    {
     "name": "stderr",
     "output_type": "stream",
     "text": [
      "wandb: WARNING Source type is set to 'repo' but some required information is missing from the environment. A job will not be created from this run. See https://docs.wandb.ai/guides/launch/create-job\n"
     ]
    },
    {
     "data": {
      "application/vnd.jupyter.widget-view+json": {
       "model_id": "0fd47c6a1a0542c6ae60ff169e452592",
       "version_major": 2,
       "version_minor": 0
      },
      "text/plain": [
       "VBox(children=(Label(value='0.001 MB of 0.001 MB uploaded\\r'), FloatProgress(value=1.0, max=1.0)))"
      ]
     },
     "metadata": {},
     "output_type": "display_data"
    },
    {
     "data": {
      "text/html": [
       "<style>\n",
       "    table.wandb td:nth-child(1) { padding: 0 10px; text-align: left ; width: auto;} td:nth-child(2) {text-align: left ; width: 100%}\n",
       "    .wandb-row { display: flex; flex-direction: row; flex-wrap: wrap; justify-content: flex-start; width: 100% }\n",
       "    .wandb-col { display: flex; flex-direction: column; flex-basis: 100%; flex: 1; padding: 10px; }\n",
       "    </style>\n",
       "<div class=\"wandb-row\"><div class=\"wandb-col\"><h3>Run history:</h3><br/><table class=\"wandb\"><tr><td>test accuracy</td><td>▁</td></tr><tr><td>test loss</td><td>▁</td></tr><tr><td>train accuracy</td><td>▁</td></tr><tr><td>train loss</td><td>▁</td></tr></table><br/></div><div class=\"wandb-col\"><h3>Run summary:</h3><br/><table class=\"wandb\"><tr><td>test accuracy</td><td>0.52157</td></tr><tr><td>test loss</td><td>6.68597</td></tr><tr><td>train accuracy</td><td>0.80952</td></tr><tr><td>train loss</td><td>4.93599</td></tr></table><br/></div></div>"
      ],
      "text/plain": [
       "<IPython.core.display.HTML object>"
      ]
     },
     "metadata": {},
     "output_type": "display_data"
    },
    {
     "data": {
      "text/html": [
       " View run <strong style=\"color:#cdcd00\">northern-grass-46</strong> at: <a href='https://wandb.ai/oriane-cavrois/brain_image_large_archi_optimization_4/runs/d6qnttiw' target=\"_blank\">https://wandb.ai/oriane-cavrois/brain_image_large_archi_optimization_4/runs/d6qnttiw</a><br/>Synced 5 W&B file(s), 0 media file(s), 0 artifact file(s) and 0 other file(s)"
      ],
      "text/plain": [
       "<IPython.core.display.HTML object>"
      ]
     },
     "metadata": {},
     "output_type": "display_data"
    },
    {
     "data": {
      "text/html": [
       "Find logs at: <code>./wandb/run-20240208_184639-d6qnttiw/logs</code>"
      ],
      "text/plain": [
       "<IPython.core.display.HTML object>"
      ]
     },
     "metadata": {},
     "output_type": "display_data"
    },
    {
     "name": "stdout",
     "output_type": "stream",
     "text": [
      "Iteration 46\n",
      "Number of epochs: 30\n",
      "(30, 0.0078000000000000005, 3, 70, 1, 8, 0.7000000000000001)\n"
     ]
    },
    {
     "data": {
      "application/vnd.jupyter.widget-view+json": {
       "model_id": "c94e7a6519f94fc9aab291ce2f31b190",
       "version_major": 2,
       "version_minor": 0
      },
      "text/plain": [
       "VBox(children=(Label(value='Waiting for wandb.init()...\\r'), FloatProgress(value=0.011127028711133689, max=1.0…"
      ]
     },
     "metadata": {},
     "output_type": "display_data"
    },
    {
     "data": {
      "text/html": [
       "wandb version 0.16.3 is available!  To upgrade, please run:\n",
       " $ pip install wandb --upgrade"
      ],
      "text/plain": [
       "<IPython.core.display.HTML object>"
      ]
     },
     "metadata": {},
     "output_type": "display_data"
    },
    {
     "data": {
      "text/html": [
       "Tracking run with wandb version 0.16.2"
      ],
      "text/plain": [
       "<IPython.core.display.HTML object>"
      ]
     },
     "metadata": {},
     "output_type": "display_data"
    },
    {
     "data": {
      "text/html": [
       "Run data is saved locally in <code>/Users/orianecavrois/Documents/Perso/MachineLearning/Github/Brain-tumor-image-classification/wandb/run-20240208_184656-rztw56nb</code>"
      ],
      "text/plain": [
       "<IPython.core.display.HTML object>"
      ]
     },
     "metadata": {},
     "output_type": "display_data"
    },
    {
     "data": {
      "text/html": [
       "Syncing run <strong><a href='https://wandb.ai/oriane-cavrois/brain_image_large_archi_optimization_4/runs/rztw56nb' target=\"_blank\">glorious-gorge-47</a></strong> to <a href='https://wandb.ai/oriane-cavrois/brain_image_large_archi_optimization_4' target=\"_blank\">Weights & Biases</a> (<a href='https://wandb.me/run' target=\"_blank\">docs</a>)<br/>"
      ],
      "text/plain": [
       "<IPython.core.display.HTML object>"
      ]
     },
     "metadata": {},
     "output_type": "display_data"
    },
    {
     "data": {
      "text/html": [
       " View project at <a href='https://wandb.ai/oriane-cavrois/brain_image_large_archi_optimization_4' target=\"_blank\">https://wandb.ai/oriane-cavrois/brain_image_large_archi_optimization_4</a>"
      ],
      "text/plain": [
       "<IPython.core.display.HTML object>"
      ]
     },
     "metadata": {},
     "output_type": "display_data"
    },
    {
     "data": {
      "text/html": [
       " View run at <a href='https://wandb.ai/oriane-cavrois/brain_image_large_archi_optimization_4/runs/rztw56nb' target=\"_blank\">https://wandb.ai/oriane-cavrois/brain_image_large_archi_optimization_4/runs/rztw56nb</a>"
      ],
      "text/plain": [
       "<IPython.core.display.HTML object>"
      ]
     },
     "metadata": {},
     "output_type": "display_data"
    },
    {
     "name": "stdout",
     "output_type": "stream",
     "text": [
      "Fold 1\n",
      "-------\n",
      "Test set: Average loss: 4.3875, Accuracy: 46/85 (54.12%)\n",
      "\n",
      "Fold 2\n",
      "-------\n",
      "Test set: Average loss: 0.8352, Accuracy: 52/85 (61.18%)\n",
      "\n",
      "Fold 3\n",
      "-------\n",
      "Test set: Average loss: 3.4634, Accuracy: 49/85 (57.65%)\n",
      "\n",
      "--------------------------------------\n"
     ]
    },
    {
     "name": "stderr",
     "output_type": "stream",
     "text": [
      "wandb: WARNING Source type is set to 'repo' but some required information is missing from the environment. A job will not be created from this run. See https://docs.wandb.ai/guides/launch/create-job\n"
     ]
    },
    {
     "data": {
      "application/vnd.jupyter.widget-view+json": {
       "model_id": "4da43ad58fe84222b7b3417ca6355ef2",
       "version_major": 2,
       "version_minor": 0
      },
      "text/plain": [
       "VBox(children=(Label(value='0.001 MB of 0.001 MB uploaded\\r'), FloatProgress(value=1.0, max=1.0)))"
      ]
     },
     "metadata": {},
     "output_type": "display_data"
    },
    {
     "data": {
      "text/html": [
       "<style>\n",
       "    table.wandb td:nth-child(1) { padding: 0 10px; text-align: left ; width: auto;} td:nth-child(2) {text-align: left ; width: 100%}\n",
       "    .wandb-row { display: flex; flex-direction: row; flex-wrap: wrap; justify-content: flex-start; width: 100% }\n",
       "    .wandb-col { display: flex; flex-direction: column; flex-basis: 100%; flex: 1; padding: 10px; }\n",
       "    </style>\n",
       "<div class=\"wandb-row\"><div class=\"wandb-col\"><h3>Run history:</h3><br/><table class=\"wandb\"><tr><td>test accuracy</td><td>▁</td></tr><tr><td>test loss</td><td>▁</td></tr><tr><td>train accuracy</td><td>▁</td></tr><tr><td>train loss</td><td>▁</td></tr></table><br/></div><div class=\"wandb-col\"><h3>Run summary:</h3><br/><table class=\"wandb\"><tr><td>test accuracy</td><td>0.57647</td></tr><tr><td>test loss</td><td>2.89535</td></tr><tr><td>train accuracy</td><td>0.90833</td></tr><tr><td>train loss</td><td>0.70813</td></tr></table><br/></div></div>"
      ],
      "text/plain": [
       "<IPython.core.display.HTML object>"
      ]
     },
     "metadata": {},
     "output_type": "display_data"
    },
    {
     "data": {
      "text/html": [
       " View run <strong style=\"color:#cdcd00\">glorious-gorge-47</strong> at: <a href='https://wandb.ai/oriane-cavrois/brain_image_large_archi_optimization_4/runs/rztw56nb' target=\"_blank\">https://wandb.ai/oriane-cavrois/brain_image_large_archi_optimization_4/runs/rztw56nb</a><br/>Synced 5 W&B file(s), 0 media file(s), 0 artifact file(s) and 0 other file(s)"
      ],
      "text/plain": [
       "<IPython.core.display.HTML object>"
      ]
     },
     "metadata": {},
     "output_type": "display_data"
    },
    {
     "data": {
      "text/html": [
       "Find logs at: <code>./wandb/run-20240208_184656-rztw56nb/logs</code>"
      ],
      "text/plain": [
       "<IPython.core.display.HTML object>"
      ]
     },
     "metadata": {},
     "output_type": "display_data"
    },
    {
     "name": "stdout",
     "output_type": "stream",
     "text": [
      "Iteration 47\n",
      "Number of epochs: 15\n",
      "(15, 0.0045000000000000005, 4, 40, 1, 2, 0.8500000000000001)\n"
     ]
    },
    {
     "data": {
      "application/vnd.jupyter.widget-view+json": {
       "model_id": "8015da084b42444eaea10bdadf23641f",
       "version_major": 2,
       "version_minor": 0
      },
      "text/plain": [
       "VBox(children=(Label(value='Waiting for wandb.init()...\\r'), FloatProgress(value=0.011130909255573189, max=1.0…"
      ]
     },
     "metadata": {},
     "output_type": "display_data"
    },
    {
     "data": {
      "text/html": [
       "wandb version 0.16.3 is available!  To upgrade, please run:\n",
       " $ pip install wandb --upgrade"
      ],
      "text/plain": [
       "<IPython.core.display.HTML object>"
      ]
     },
     "metadata": {},
     "output_type": "display_data"
    },
    {
     "data": {
      "text/html": [
       "Tracking run with wandb version 0.16.2"
      ],
      "text/plain": [
       "<IPython.core.display.HTML object>"
      ]
     },
     "metadata": {},
     "output_type": "display_data"
    },
    {
     "data": {
      "text/html": [
       "Run data is saved locally in <code>/Users/orianecavrois/Documents/Perso/MachineLearning/Github/Brain-tumor-image-classification/wandb/run-20240208_184804-uwcc5gvk</code>"
      ],
      "text/plain": [
       "<IPython.core.display.HTML object>"
      ]
     },
     "metadata": {},
     "output_type": "display_data"
    },
    {
     "data": {
      "text/html": [
       "Syncing run <strong><a href='https://wandb.ai/oriane-cavrois/brain_image_large_archi_optimization_4/runs/uwcc5gvk' target=\"_blank\">peach-oath-48</a></strong> to <a href='https://wandb.ai/oriane-cavrois/brain_image_large_archi_optimization_4' target=\"_blank\">Weights & Biases</a> (<a href='https://wandb.me/run' target=\"_blank\">docs</a>)<br/>"
      ],
      "text/plain": [
       "<IPython.core.display.HTML object>"
      ]
     },
     "metadata": {},
     "output_type": "display_data"
    },
    {
     "data": {
      "text/html": [
       " View project at <a href='https://wandb.ai/oriane-cavrois/brain_image_large_archi_optimization_4' target=\"_blank\">https://wandb.ai/oriane-cavrois/brain_image_large_archi_optimization_4</a>"
      ],
      "text/plain": [
       "<IPython.core.display.HTML object>"
      ]
     },
     "metadata": {},
     "output_type": "display_data"
    },
    {
     "data": {
      "text/html": [
       " View run at <a href='https://wandb.ai/oriane-cavrois/brain_image_large_archi_optimization_4/runs/uwcc5gvk' target=\"_blank\">https://wandb.ai/oriane-cavrois/brain_image_large_archi_optimization_4/runs/uwcc5gvk</a>"
      ],
      "text/plain": [
       "<IPython.core.display.HTML object>"
      ]
     },
     "metadata": {},
     "output_type": "display_data"
    },
    {
     "name": "stdout",
     "output_type": "stream",
     "text": [
      "Fold 1\n",
      "-------\n",
      "Test set: Average loss: 17.1691, Accuracy: 40/85 (47.06%)\n",
      "\n",
      "Fold 2\n",
      "-------\n",
      "Test set: Average loss: 3.4122, Accuracy: 53/85 (62.35%)\n",
      "\n",
      "Fold 3\n",
      "-------\n",
      "Test set: Average loss: 3.8890, Accuracy: 47/85 (55.29%)\n",
      "\n",
      "--------------------------------------\n"
     ]
    },
    {
     "name": "stderr",
     "output_type": "stream",
     "text": [
      "wandb: WARNING Source type is set to 'repo' but some required information is missing from the environment. A job will not be created from this run. See https://docs.wandb.ai/guides/launch/create-job\n"
     ]
    },
    {
     "data": {
      "application/vnd.jupyter.widget-view+json": {
       "model_id": "0f4eb6ad8a9545078c90b7e1a5cb88cc",
       "version_major": 2,
       "version_minor": 0
      },
      "text/plain": [
       "VBox(children=(Label(value='0.001 MB of 0.001 MB uploaded\\r'), FloatProgress(value=1.0, max=1.0)))"
      ]
     },
     "metadata": {},
     "output_type": "display_data"
    },
    {
     "data": {
      "text/html": [
       "<style>\n",
       "    table.wandb td:nth-child(1) { padding: 0 10px; text-align: left ; width: auto;} td:nth-child(2) {text-align: left ; width: 100%}\n",
       "    .wandb-row { display: flex; flex-direction: row; flex-wrap: wrap; justify-content: flex-start; width: 100% }\n",
       "    .wandb-col { display: flex; flex-direction: column; flex-basis: 100%; flex: 1; padding: 10px; }\n",
       "    </style>\n",
       "<div class=\"wandb-row\"><div class=\"wandb-col\"><h3>Run history:</h3><br/><table class=\"wandb\"><tr><td>test accuracy</td><td>▁</td></tr><tr><td>test loss</td><td>▁</td></tr><tr><td>train accuracy</td><td>▁</td></tr><tr><td>train loss</td><td>▁</td></tr></table><br/></div><div class=\"wandb-col\"><h3>Run summary:</h3><br/><table class=\"wandb\"><tr><td>test accuracy</td><td>0.54902</td></tr><tr><td>test loss</td><td>8.15679</td></tr><tr><td>train accuracy</td><td>0.8879</td></tr><tr><td>train loss</td><td>2.39154</td></tr></table><br/></div></div>"
      ],
      "text/plain": [
       "<IPython.core.display.HTML object>"
      ]
     },
     "metadata": {},
     "output_type": "display_data"
    },
    {
     "data": {
      "text/html": [
       " View run <strong style=\"color:#cdcd00\">peach-oath-48</strong> at: <a href='https://wandb.ai/oriane-cavrois/brain_image_large_archi_optimization_4/runs/uwcc5gvk' target=\"_blank\">https://wandb.ai/oriane-cavrois/brain_image_large_archi_optimization_4/runs/uwcc5gvk</a><br/>Synced 5 W&B file(s), 0 media file(s), 0 artifact file(s) and 0 other file(s)"
      ],
      "text/plain": [
       "<IPython.core.display.HTML object>"
      ]
     },
     "metadata": {},
     "output_type": "display_data"
    },
    {
     "data": {
      "text/html": [
       "Find logs at: <code>./wandb/run-20240208_184804-uwcc5gvk/logs</code>"
      ],
      "text/plain": [
       "<IPython.core.display.HTML object>"
      ]
     },
     "metadata": {},
     "output_type": "display_data"
    },
    {
     "name": "stdout",
     "output_type": "stream",
     "text": [
      "Iteration 48\n",
      "Number of epochs: 35\n",
      "(35, 0.0045000000000000005, 8, 50, 7, 6, 0.2)\n"
     ]
    },
    {
     "data": {
      "application/vnd.jupyter.widget-view+json": {
       "model_id": "904c56c9b82c4d7f9cd3dc2c880461b0",
       "version_major": 2,
       "version_minor": 0
      },
      "text/plain": [
       "VBox(children=(Label(value='Waiting for wandb.init()...\\r'), FloatProgress(value=0.011202322222218047, max=1.0…"
      ]
     },
     "metadata": {},
     "output_type": "display_data"
    },
    {
     "data": {
      "text/html": [
       "wandb version 0.16.3 is available!  To upgrade, please run:\n",
       " $ pip install wandb --upgrade"
      ],
      "text/plain": [
       "<IPython.core.display.HTML object>"
      ]
     },
     "metadata": {},
     "output_type": "display_data"
    },
    {
     "data": {
      "text/html": [
       "Tracking run with wandb version 0.16.2"
      ],
      "text/plain": [
       "<IPython.core.display.HTML object>"
      ]
     },
     "metadata": {},
     "output_type": "display_data"
    },
    {
     "data": {
      "text/html": [
       "Run data is saved locally in <code>/Users/orianecavrois/Documents/Perso/MachineLearning/Github/Brain-tumor-image-classification/wandb/run-20240208_184839-pvemi6fl</code>"
      ],
      "text/plain": [
       "<IPython.core.display.HTML object>"
      ]
     },
     "metadata": {},
     "output_type": "display_data"
    },
    {
     "data": {
      "text/html": [
       "Syncing run <strong><a href='https://wandb.ai/oriane-cavrois/brain_image_large_archi_optimization_4/runs/pvemi6fl' target=\"_blank\">kind-water-49</a></strong> to <a href='https://wandb.ai/oriane-cavrois/brain_image_large_archi_optimization_4' target=\"_blank\">Weights & Biases</a> (<a href='https://wandb.me/run' target=\"_blank\">docs</a>)<br/>"
      ],
      "text/plain": [
       "<IPython.core.display.HTML object>"
      ]
     },
     "metadata": {},
     "output_type": "display_data"
    },
    {
     "data": {
      "text/html": [
       " View project at <a href='https://wandb.ai/oriane-cavrois/brain_image_large_archi_optimization_4' target=\"_blank\">https://wandb.ai/oriane-cavrois/brain_image_large_archi_optimization_4</a>"
      ],
      "text/plain": [
       "<IPython.core.display.HTML object>"
      ]
     },
     "metadata": {},
     "output_type": "display_data"
    },
    {
     "data": {
      "text/html": [
       " View run at <a href='https://wandb.ai/oriane-cavrois/brain_image_large_archi_optimization_4/runs/pvemi6fl' target=\"_blank\">https://wandb.ai/oriane-cavrois/brain_image_large_archi_optimization_4/runs/pvemi6fl</a>"
      ],
      "text/plain": [
       "<IPython.core.display.HTML object>"
      ]
     },
     "metadata": {},
     "output_type": "display_data"
    },
    {
     "name": "stdout",
     "output_type": "stream",
     "text": [
      "Fold 1\n",
      "-------\n",
      "Test set: Average loss: 16.1465, Accuracy: 45/85 (52.94%)\n",
      "\n",
      "Fold 2\n",
      "-------\n",
      "Test set: Average loss: 4.2793, Accuracy: 54/85 (63.53%)\n",
      "\n",
      "Fold 3\n",
      "-------\n",
      "Test set: Average loss: 0.5739, Accuracy: 54/85 (63.53%)\n",
      "\n",
      "--------------------------------------\n"
     ]
    },
    {
     "name": "stderr",
     "output_type": "stream",
     "text": [
      "wandb: WARNING Source type is set to 'repo' but some required information is missing from the environment. A job will not be created from this run. See https://docs.wandb.ai/guides/launch/create-job\n"
     ]
    },
    {
     "data": {
      "application/vnd.jupyter.widget-view+json": {
       "model_id": "a8ebed69164f4cbaba435fe5a5f65bb4",
       "version_major": 2,
       "version_minor": 0
      },
      "text/plain": [
       "VBox(children=(Label(value='0.001 MB of 0.004 MB uploaded\\r'), FloatProgress(value=0.34148880791254554, max=1.…"
      ]
     },
     "metadata": {},
     "output_type": "display_data"
    },
    {
     "data": {
      "text/html": [
       "<style>\n",
       "    table.wandb td:nth-child(1) { padding: 0 10px; text-align: left ; width: auto;} td:nth-child(2) {text-align: left ; width: 100%}\n",
       "    .wandb-row { display: flex; flex-direction: row; flex-wrap: wrap; justify-content: flex-start; width: 100% }\n",
       "    .wandb-col { display: flex; flex-direction: column; flex-basis: 100%; flex: 1; padding: 10px; }\n",
       "    </style>\n",
       "<div class=\"wandb-row\"><div class=\"wandb-col\"><h3>Run history:</h3><br/><table class=\"wandb\"><tr><td>test accuracy</td><td>▁</td></tr><tr><td>test loss</td><td>▁</td></tr><tr><td>train accuracy</td><td>▁</td></tr><tr><td>train loss</td><td>▁</td></tr></table><br/></div><div class=\"wandb-col\"><h3>Run summary:</h3><br/><table class=\"wandb\"><tr><td>test accuracy</td><td>0.6</td></tr><tr><td>test loss</td><td>6.99991</td></tr><tr><td>train accuracy</td><td>0.95289</td></tr><tr><td>train loss</td><td>5.13776</td></tr></table><br/></div></div>"
      ],
      "text/plain": [
       "<IPython.core.display.HTML object>"
      ]
     },
     "metadata": {},
     "output_type": "display_data"
    },
    {
     "data": {
      "text/html": [
       " View run <strong style=\"color:#cdcd00\">kind-water-49</strong> at: <a href='https://wandb.ai/oriane-cavrois/brain_image_large_archi_optimization_4/runs/pvemi6fl' target=\"_blank\">https://wandb.ai/oriane-cavrois/brain_image_large_archi_optimization_4/runs/pvemi6fl</a><br/>Synced 5 W&B file(s), 0 media file(s), 0 artifact file(s) and 0 other file(s)"
      ],
      "text/plain": [
       "<IPython.core.display.HTML object>"
      ]
     },
     "metadata": {},
     "output_type": "display_data"
    },
    {
     "data": {
      "text/html": [
       "Find logs at: <code>./wandb/run-20240208_184839-pvemi6fl/logs</code>"
      ],
      "text/plain": [
       "<IPython.core.display.HTML object>"
      ]
     },
     "metadata": {},
     "output_type": "display_data"
    },
    {
     "name": "stdout",
     "output_type": "stream",
     "text": [
      "Iteration 49\n",
      "Number of epochs: 10\n",
      "(10, 0.00835, 10, 25, 1, 5, 0.8)\n"
     ]
    },
    {
     "data": {
      "application/vnd.jupyter.widget-view+json": {
       "model_id": "1f936ee429d949c99c8db5d2cda5f92c",
       "version_major": 2,
       "version_minor": 0
      },
      "text/plain": [
       "VBox(children=(Label(value='Waiting for wandb.init()...\\r'), FloatProgress(value=0.01122371388887081, max=1.0)…"
      ]
     },
     "metadata": {},
     "output_type": "display_data"
    },
    {
     "data": {
      "text/html": [
       "wandb version 0.16.3 is available!  To upgrade, please run:\n",
       " $ pip install wandb --upgrade"
      ],
      "text/plain": [
       "<IPython.core.display.HTML object>"
      ]
     },
     "metadata": {},
     "output_type": "display_data"
    },
    {
     "data": {
      "text/html": [
       "Tracking run with wandb version 0.16.2"
      ],
      "text/plain": [
       "<IPython.core.display.HTML object>"
      ]
     },
     "metadata": {},
     "output_type": "display_data"
    },
    {
     "data": {
      "text/html": [
       "Run data is saved locally in <code>/Users/orianecavrois/Documents/Perso/MachineLearning/Github/Brain-tumor-image-classification/wandb/run-20240208_184945-wzbeo1yn</code>"
      ],
      "text/plain": [
       "<IPython.core.display.HTML object>"
      ]
     },
     "metadata": {},
     "output_type": "display_data"
    },
    {
     "data": {
      "text/html": [
       "Syncing run <strong><a href='https://wandb.ai/oriane-cavrois/brain_image_large_archi_optimization_4/runs/wzbeo1yn' target=\"_blank\">zany-wave-50</a></strong> to <a href='https://wandb.ai/oriane-cavrois/brain_image_large_archi_optimization_4' target=\"_blank\">Weights & Biases</a> (<a href='https://wandb.me/run' target=\"_blank\">docs</a>)<br/>"
      ],
      "text/plain": [
       "<IPython.core.display.HTML object>"
      ]
     },
     "metadata": {},
     "output_type": "display_data"
    },
    {
     "data": {
      "text/html": [
       " View project at <a href='https://wandb.ai/oriane-cavrois/brain_image_large_archi_optimization_4' target=\"_blank\">https://wandb.ai/oriane-cavrois/brain_image_large_archi_optimization_4</a>"
      ],
      "text/plain": [
       "<IPython.core.display.HTML object>"
      ]
     },
     "metadata": {},
     "output_type": "display_data"
    },
    {
     "data": {
      "text/html": [
       " View run at <a href='https://wandb.ai/oriane-cavrois/brain_image_large_archi_optimization_4/runs/wzbeo1yn' target=\"_blank\">https://wandb.ai/oriane-cavrois/brain_image_large_archi_optimization_4/runs/wzbeo1yn</a>"
      ],
      "text/plain": [
       "<IPython.core.display.HTML object>"
      ]
     },
     "metadata": {},
     "output_type": "display_data"
    },
    {
     "name": "stdout",
     "output_type": "stream",
     "text": [
      "Fold 1\n",
      "-------\n",
      "Test set: Average loss: 18.4947, Accuracy: 21/85 (24.71%)\n",
      "\n",
      "Fold 2\n",
      "-------\n",
      "Test set: Average loss: 5.0226, Accuracy: 35/85 (41.18%)\n",
      "\n",
      "Fold 3\n",
      "-------\n",
      "Test set: Average loss: 0.1532, Accuracy: 52/85 (61.18%)\n",
      "\n",
      "--------------------------------------\n"
     ]
    },
    {
     "name": "stderr",
     "output_type": "stream",
     "text": [
      "wandb: WARNING Source type is set to 'repo' but some required information is missing from the environment. A job will not be created from this run. See https://docs.wandb.ai/guides/launch/create-job\n"
     ]
    },
    {
     "data": {
      "application/vnd.jupyter.widget-view+json": {
       "model_id": "3e5b04a194484807a56ea1a78037a142",
       "version_major": 2,
       "version_minor": 0
      },
      "text/plain": [
       "VBox(children=(Label(value='0.001 MB of 0.001 MB uploaded\\r'), FloatProgress(value=1.0, max=1.0)))"
      ]
     },
     "metadata": {},
     "output_type": "display_data"
    },
    {
     "data": {
      "text/html": [
       "<style>\n",
       "    table.wandb td:nth-child(1) { padding: 0 10px; text-align: left ; width: auto;} td:nth-child(2) {text-align: left ; width: 100%}\n",
       "    .wandb-row { display: flex; flex-direction: row; flex-wrap: wrap; justify-content: flex-start; width: 100% }\n",
       "    .wandb-col { display: flex; flex-direction: column; flex-basis: 100%; flex: 1; padding: 10px; }\n",
       "    </style>\n",
       "<div class=\"wandb-row\"><div class=\"wandb-col\"><h3>Run history:</h3><br/><table class=\"wandb\"><tr><td>test accuracy</td><td>▁</td></tr><tr><td>test loss</td><td>▁</td></tr><tr><td>train accuracy</td><td>▁</td></tr><tr><td>train loss</td><td>▁</td></tr></table><br/></div><div class=\"wandb-col\"><h3>Run summary:</h3><br/><table class=\"wandb\"><tr><td>test accuracy</td><td>0.42353</td></tr><tr><td>test loss</td><td>7.89018</td></tr><tr><td>train accuracy</td><td>0.81756</td></tr><tr><td>train loss</td><td>0.6763</td></tr></table><br/></div></div>"
      ],
      "text/plain": [
       "<IPython.core.display.HTML object>"
      ]
     },
     "metadata": {},
     "output_type": "display_data"
    },
    {
     "data": {
      "text/html": [
       " View run <strong style=\"color:#cdcd00\">zany-wave-50</strong> at: <a href='https://wandb.ai/oriane-cavrois/brain_image_large_archi_optimization_4/runs/wzbeo1yn' target=\"_blank\">https://wandb.ai/oriane-cavrois/brain_image_large_archi_optimization_4/runs/wzbeo1yn</a><br/>Synced 5 W&B file(s), 0 media file(s), 0 artifact file(s) and 0 other file(s)"
      ],
      "text/plain": [
       "<IPython.core.display.HTML object>"
      ]
     },
     "metadata": {},
     "output_type": "display_data"
    },
    {
     "data": {
      "text/html": [
       "Find logs at: <code>./wandb/run-20240208_184945-wzbeo1yn/logs</code>"
      ],
      "text/plain": [
       "<IPython.core.display.HTML object>"
      ]
     },
     "metadata": {},
     "output_type": "display_data"
    },
    {
     "name": "stdout",
     "output_type": "stream",
     "text": [
      "Iteration 50\n",
      "Number of epochs: 40\n",
      "(40, 0.005050000000000001, 5, 30, 3, 4, 0.8)\n"
     ]
    },
    {
     "data": {
      "application/vnd.jupyter.widget-view+json": {
       "model_id": "a03e065e4c524d6fb3748b3456956f58",
       "version_major": 2,
       "version_minor": 0
      },
      "text/plain": [
       "VBox(children=(Label(value='Waiting for wandb.init()...\\r'), FloatProgress(value=0.011174702322265754, max=1.0…"
      ]
     },
     "metadata": {},
     "output_type": "display_data"
    },
    {
     "data": {
      "text/html": [
       "wandb version 0.16.3 is available!  To upgrade, please run:\n",
       " $ pip install wandb --upgrade"
      ],
      "text/plain": [
       "<IPython.core.display.HTML object>"
      ]
     },
     "metadata": {},
     "output_type": "display_data"
    },
    {
     "data": {
      "text/html": [
       "Tracking run with wandb version 0.16.2"
      ],
      "text/plain": [
       "<IPython.core.display.HTML object>"
      ]
     },
     "metadata": {},
     "output_type": "display_data"
    },
    {
     "data": {
      "text/html": [
       "Run data is saved locally in <code>/Users/orianecavrois/Documents/Perso/MachineLearning/Github/Brain-tumor-image-classification/wandb/run-20240208_185008-ov3go44b</code>"
      ],
      "text/plain": [
       "<IPython.core.display.HTML object>"
      ]
     },
     "metadata": {},
     "output_type": "display_data"
    },
    {
     "data": {
      "text/html": [
       "Syncing run <strong><a href='https://wandb.ai/oriane-cavrois/brain_image_large_archi_optimization_4/runs/ov3go44b' target=\"_blank\">warm-spaceship-51</a></strong> to <a href='https://wandb.ai/oriane-cavrois/brain_image_large_archi_optimization_4' target=\"_blank\">Weights & Biases</a> (<a href='https://wandb.me/run' target=\"_blank\">docs</a>)<br/>"
      ],
      "text/plain": [
       "<IPython.core.display.HTML object>"
      ]
     },
     "metadata": {},
     "output_type": "display_data"
    },
    {
     "data": {
      "text/html": [
       " View project at <a href='https://wandb.ai/oriane-cavrois/brain_image_large_archi_optimization_4' target=\"_blank\">https://wandb.ai/oriane-cavrois/brain_image_large_archi_optimization_4</a>"
      ],
      "text/plain": [
       "<IPython.core.display.HTML object>"
      ]
     },
     "metadata": {},
     "output_type": "display_data"
    },
    {
     "data": {
      "text/html": [
       " View run at <a href='https://wandb.ai/oriane-cavrois/brain_image_large_archi_optimization_4/runs/ov3go44b' target=\"_blank\">https://wandb.ai/oriane-cavrois/brain_image_large_archi_optimization_4/runs/ov3go44b</a>"
      ],
      "text/plain": [
       "<IPython.core.display.HTML object>"
      ]
     },
     "metadata": {},
     "output_type": "display_data"
    },
    {
     "name": "stdout",
     "output_type": "stream",
     "text": [
      "Fold 1\n",
      "-------\n",
      "Test set: Average loss: 5.9041, Accuracy: 50/85 (58.82%)\n",
      "\n",
      "Fold 2\n",
      "-------\n",
      "Test set: Average loss: 1.8077, Accuracy: 54/85 (63.53%)\n",
      "\n",
      "Fold 3\n",
      "-------\n",
      "Test set: Average loss: 14.8778, Accuracy: 50/85 (58.82%)\n",
      "\n",
      "--------------------------------------\n"
     ]
    },
    {
     "name": "stderr",
     "output_type": "stream",
     "text": [
      "wandb: WARNING Source type is set to 'repo' but some required information is missing from the environment. A job will not be created from this run. See https://docs.wandb.ai/guides/launch/create-job\n"
     ]
    },
    {
     "data": {
      "application/vnd.jupyter.widget-view+json": {
       "model_id": "9e5976b551cc4b04bef7413d7ce33c66",
       "version_major": 2,
       "version_minor": 0
      },
      "text/plain": [
       "VBox(children=(Label(value='0.001 MB of 0.001 MB uploaded\\r'), FloatProgress(value=1.0, max=1.0)))"
      ]
     },
     "metadata": {},
     "output_type": "display_data"
    },
    {
     "data": {
      "text/html": [
       "<style>\n",
       "    table.wandb td:nth-child(1) { padding: 0 10px; text-align: left ; width: auto;} td:nth-child(2) {text-align: left ; width: 100%}\n",
       "    .wandb-row { display: flex; flex-direction: row; flex-wrap: wrap; justify-content: flex-start; width: 100% }\n",
       "    .wandb-col { display: flex; flex-direction: column; flex-basis: 100%; flex: 1; padding: 10px; }\n",
       "    </style>\n",
       "<div class=\"wandb-row\"><div class=\"wandb-col\"><h3>Run history:</h3><br/><table class=\"wandb\"><tr><td>test accuracy</td><td>▁</td></tr><tr><td>test loss</td><td>▁</td></tr><tr><td>train accuracy</td><td>▁</td></tr><tr><td>train loss</td><td>▁</td></tr></table><br/></div><div class=\"wandb-col\"><h3>Run summary:</h3><br/><table class=\"wandb\"><tr><td>test accuracy</td><td>0.60392</td></tr><tr><td>test loss</td><td>7.52988</td></tr><tr><td>train accuracy</td><td>0.93683</td></tr><tr><td>train loss</td><td>1.03782</td></tr></table><br/></div></div>"
      ],
      "text/plain": [
       "<IPython.core.display.HTML object>"
      ]
     },
     "metadata": {},
     "output_type": "display_data"
    },
    {
     "data": {
      "text/html": [
       " View run <strong style=\"color:#cdcd00\">warm-spaceship-51</strong> at: <a href='https://wandb.ai/oriane-cavrois/brain_image_large_archi_optimization_4/runs/ov3go44b' target=\"_blank\">https://wandb.ai/oriane-cavrois/brain_image_large_archi_optimization_4/runs/ov3go44b</a><br/>Synced 5 W&B file(s), 0 media file(s), 0 artifact file(s) and 0 other file(s)"
      ],
      "text/plain": [
       "<IPython.core.display.HTML object>"
      ]
     },
     "metadata": {},
     "output_type": "display_data"
    },
    {
     "data": {
      "text/html": [
       "Find logs at: <code>./wandb/run-20240208_185008-ov3go44b/logs</code>"
      ],
      "text/plain": [
       "<IPython.core.display.HTML object>"
      ]
     },
     "metadata": {},
     "output_type": "display_data"
    }
   ],
   "source": [
    "# Define the number of folds and batch size\n",
    "k_folds = 3\n",
    "\n",
    "# Count the number of iterations\n",
    "iterations = 50\n",
    "\n",
    "# Initialize the k-fold cross validation\n",
    "kf = KFold(n_splits=k_folds, shuffle=True)\n",
    "\n",
    "# Hyperparameters distribution\n",
    "epochs_distrib = [5,10,15,20,25,30,35,40]\n",
    "lr_distrib = np.linspace(1e-4, 1e-2, 19)\n",
    "batch_size_distrib = np.arange(3,12)\n",
    "nb_kernel_distrib = [25,30,35,40,45,50,55,60,65,70,75]\n",
    "conv_kernel_size_distrib = [1,3,5,7]\n",
    "maxpool_kernel_size_distrib = [2,3,4,5,6,7,8]\n",
    "dropout_rate_distrib = np.linspace(0, 1, 21)\n",
    "\n",
    "params = {}\n",
    "loss_train_dict = {}\n",
    "acc_train_dict = {}\n",
    "test_loss_dict = {}\n",
    "test_acc_dict = {}\n",
    "\n",
    "# Select randomly value from the distribution\n",
    "for i in range(iterations):\n",
    "    print('Iteration', i+1)\n",
    "    epoch = random.choice(epochs_distrib)\n",
    "    lr = random.choice(lr_distrib)\n",
    "    batch_size = int(random.choice(batch_size_distrib))\n",
    "    nb_kernel = random.choice(nb_kernel_distrib)\n",
    "    conv_kernel_size = random.choice(conv_kernel_size_distrib)\n",
    "    maxpool_kernel_size = random.choice(maxpool_kernel_size_distrib)\n",
    "    dropout_rate = random.choice(dropout_rate_distrib)\n",
    "    \n",
    "    # Initialize the model and optimizer\n",
    "    conv_class = classifier_large_optim(nb_kernel, conv_kernel_size, maxpool_kernel_size, dropout_rate)\n",
    "    \n",
    "    params[i] = (epoch, lr, batch_size, nb_kernel, conv_kernel_size, maxpool_kernel_size, dropout_rate)\n",
    "    \n",
    "    loss_fn = nn.NLLLoss()\n",
    "    learning_rate = lr\n",
    "    optimizer_cl = torch.optim.RMSprop(conv_class.parameters())\n",
    "    \n",
    "    loss_train_iter = []\n",
    "    acc_train_iter = []\n",
    "    test_loss_iter = []\n",
    "    test_acc_iter = []\n",
    "    print('Number of epochs:',epoch)\n",
    "    print(params[i])\n",
    "    \n",
    "    run = wandb.init(\n",
    "        # Set the project where this run will be logged\n",
    "        project=\"brain_image_large_archi_optimization_4\",\n",
    "        # Track hyperparameters and run metadata\n",
    "        config={\"epochs\": epoch, \"learning_rate\": lr, \"batch size\": batch_size, \"kernel number\":nb_kernel, \n",
    "                \"conv kernel size\":conv_kernel_size, \"maxpool kernel size\":maxpool_kernel_size, \"drop out\": dropout_rate}\n",
    "    )\n",
    "    with run:\n",
    "        # Loop through each fold\n",
    "        for fold, (train_idx, test_idx) in enumerate(kf.split(dsets['train'])):\n",
    "            print(f\"Fold {fold + 1}\")\n",
    "            print(\"-------\")\n",
    "\n",
    "            # Define the data loaders for the current fold\n",
    "            train_loader_cv = torch.utils.data.DataLoader(\n",
    "                dataset=dsets['train'],\n",
    "                batch_size=batch_size,\n",
    "                sampler=torch.utils.data.SubsetRandomSampler(train_idx),\n",
    "            )\n",
    "            test_loader_cv = torch.utils.data.DataLoader(\n",
    "                dataset=dsets['train'],\n",
    "                batch_size=batch_size,\n",
    "                sampler=torch.utils.data.SubsetRandomSampler(test_idx),\n",
    "            )\n",
    "\n",
    "            # Train the model on the current fold\n",
    "            loss_train, acc_train = train(conv_class, train_loader_cv, loss_fn, optimizer_cl, epoch, verbose=False)\n",
    "\n",
    "            loss_train_iter.append(loss_train)\n",
    "            acc_train_iter.append(acc_train)\n",
    "            # Evaluate the model on the test set\n",
    "            conv_class.eval()\n",
    "            test_loss = 0\n",
    "            correct = 0\n",
    "            with torch.no_grad():\n",
    "                for data, target in test_loader_cv:\n",
    "                    data, target = data.to(device), target.to(device)\n",
    "                    output = conv_class(data)\n",
    "                    test_loss += nn.functional.nll_loss(output, target, reduction=\"sum\").item()\n",
    "                    pred = output.max(1, keepdim=True)[1]\n",
    "                    correct += pred.eq(target.view_as(pred)).sum().item()\n",
    "\n",
    "            test_loss /= len(test_loader.dataset)\n",
    "            test_loss_iter.append(test_loss)\n",
    "            accuracy = 100.0 * correct / len(test_loader.dataset)\n",
    "            test_acc_iter.append(correct / len(test_loader.dataset))\n",
    "\n",
    "            # Print the results for the current fold\n",
    "            print(f\"Test set: Average loss: {test_loss:.4f}, Accuracy: {correct}/{len(test_loader.dataset)} ({accuracy:.2f}%)\\n\")\n",
    "            \n",
    "        loss_train_dict[i] = np.mean(loss_train_iter)\n",
    "        acc_train_dict[i] = np.mean(acc_train_iter)\n",
    "        test_loss_dict[i] = np.mean(test_loss_iter)\n",
    "        test_acc_dict[i] = np.mean(test_acc_iter)\n",
    "        \n",
    "        wandb.log({\"train accuracy\": acc_train_dict[i], \"train loss\": loss_train_dict[i], \"test accuracy\": test_acc_dict[i], \"test loss\": test_loss_dict[i]})\n",
    "        \n",
    "        print(\"--------------------------------------\")"
   ]
  },
  {
   "cell_type": "markdown",
   "metadata": {},
   "source": [
    "### Train the best model found\n",
    "\n",
    "After running a random search a second time, we can found the results here: https://wandb.ai/oriane-cavrois/brain_image_large_archi_optimization_4/workspace?workspace=user-oriane-cavrois\n",
    "\n",
    "The best model has the following parameters:\n",
    "- Batch size: 6 \n",
    "- Epochs: 30\n",
    "- Learning rate: 0.00395\n",
    "- Number of kernel: 40 \n",
    "- Convolution kernel size: 7 \n",
    "- Maxpool kernel size: 3\n",
    "- Drop out rate: 0.3"
   ]
  },
  {
   "cell_type": "code",
   "execution_count": 62,
   "metadata": {},
   "outputs": [],
   "source": [
    "class classifier_large_optim_best(nn.Module):\n",
    "\n",
    "    def __init__(self):\n",
    "        super(classifier_large_optim_best, self).__init__()\n",
    "        self.conv1 = nn.Conv2d(in_channels=3, out_channels=40, kernel_size=7, padding=3)\n",
    "        self.dropout1 = nn.Dropout(0.3)\n",
    "        self.fc = nn.Linear(in_features=40*50*50, out_features=2)\n",
    "\n",
    "    def forward(self,x):\n",
    "        x = self.conv1(x)\n",
    "        x = F.max_pool2d(x, kernel_size=3, padding=0)\n",
    "        x = self.dropout1(x)\n",
    "        \n",
    "        flat = nn.Flatten(1,3)\n",
    "        x = flat(x)\n",
    "        x = self.fc(x)\n",
    "        x = F.log_softmax(x,1)\n",
    "        \n",
    "        return x"
   ]
  },
  {
   "cell_type": "code",
   "execution_count": 63,
   "metadata": {},
   "outputs": [
    {
     "name": "stderr",
     "output_type": "stream",
     "text": [
      "  0%|          | 0/30 [00:00<?, ?it/s]"
     ]
    },
    {
     "name": "stdout",
     "output_type": "stream",
     "text": [
      "Train - Loss: 717.1242 Acc: 0.5952\n"
     ]
    },
    {
     "name": "stderr",
     "output_type": "stream",
     "text": [
      "  3%|▎         | 1/30 [00:25<12:17, 25.42s/it]"
     ]
    },
    {
     "name": "stdout",
     "output_type": "stream",
     "text": [
      "Test - Loss: 77.2400 Acc: 0.7176\n",
      "Train - Loss: 42.2199 Acc: 0.7143\n"
     ]
    },
    {
     "name": "stderr",
     "output_type": "stream",
     "text": [
      "  7%|▋         | 2/30 [00:51<12:00, 25.72s/it]"
     ]
    },
    {
     "name": "stdout",
     "output_type": "stream",
     "text": [
      "Test - Loss: 72.2049 Acc: 0.7294\n",
      "Train - Loss: 23.5932 Acc: 0.7262\n"
     ]
    },
    {
     "name": "stderr",
     "output_type": "stream",
     "text": [
      " 10%|█         | 3/30 [01:17<11:36, 25.78s/it]"
     ]
    },
    {
     "name": "stdout",
     "output_type": "stream",
     "text": [
      "Test - Loss: 16.2802 Acc: 0.6471\n",
      "Train - Loss: 10.1575 Acc: 0.7440\n"
     ]
    },
    {
     "name": "stderr",
     "output_type": "stream",
     "text": [
      " 13%|█▎        | 4/30 [01:42<11:07, 25.67s/it]"
     ]
    },
    {
     "name": "stdout",
     "output_type": "stream",
     "text": [
      "Test - Loss: 18.7434 Acc: 0.7882\n",
      "Train - Loss: 3.5314 Acc: 0.8512\n"
     ]
    },
    {
     "name": "stderr",
     "output_type": "stream",
     "text": [
      " 17%|█▋        | 5/30 [02:09<10:54, 26.20s/it]"
     ]
    },
    {
     "name": "stdout",
     "output_type": "stream",
     "text": [
      "Test - Loss: 14.9617 Acc: 0.7059\n",
      "Train - Loss: 0.8991 Acc: 0.9643\n"
     ]
    },
    {
     "name": "stderr",
     "output_type": "stream",
     "text": [
      " 20%|██        | 6/30 [02:35<10:27, 26.13s/it]"
     ]
    },
    {
     "name": "stdout",
     "output_type": "stream",
     "text": [
      "Test - Loss: 12.9676 Acc: 0.7529\n",
      "Train - Loss: 0.9815 Acc: 0.9643\n"
     ]
    },
    {
     "name": "stderr",
     "output_type": "stream",
     "text": [
      " 23%|██▎       | 7/30 [03:01<09:55, 25.88s/it]"
     ]
    },
    {
     "name": "stdout",
     "output_type": "stream",
     "text": [
      "Test - Loss: 9.1175 Acc: 0.7412\n",
      "Train - Loss: 0.5167 Acc: 0.9762\n"
     ]
    },
    {
     "name": "stderr",
     "output_type": "stream",
     "text": [
      " 27%|██▋       | 8/30 [03:26<09:24, 25.67s/it]"
     ]
    },
    {
     "name": "stdout",
     "output_type": "stream",
     "text": [
      "Test - Loss: 24.5324 Acc: 0.6706\n",
      "Train - Loss: 0.9088 Acc: 0.9286\n"
     ]
    },
    {
     "name": "stderr",
     "output_type": "stream",
     "text": [
      " 30%|███       | 9/30 [03:51<08:56, 25.53s/it]"
     ]
    },
    {
     "name": "stdout",
     "output_type": "stream",
     "text": [
      "Test - Loss: 11.8416 Acc: 0.7765\n",
      "Train - Loss: 1.5701 Acc: 0.9167\n"
     ]
    },
    {
     "name": "stderr",
     "output_type": "stream",
     "text": [
      " 33%|███▎      | 10/30 [04:16<08:28, 25.44s/it]"
     ]
    },
    {
     "name": "stdout",
     "output_type": "stream",
     "text": [
      "Test - Loss: 15.0613 Acc: 0.6118\n",
      "Train - Loss: 125.3180 Acc: 0.6905\n"
     ]
    },
    {
     "name": "stderr",
     "output_type": "stream",
     "text": [
      " 37%|███▋      | 11/30 [04:42<08:03, 25.42s/it]"
     ]
    },
    {
     "name": "stdout",
     "output_type": "stream",
     "text": [
      "Test - Loss: 47.2759 Acc: 0.7765\n",
      "Train - Loss: 9.3688 Acc: 0.8750\n"
     ]
    },
    {
     "name": "stderr",
     "output_type": "stream",
     "text": [
      " 40%|████      | 12/30 [05:08<07:41, 25.65s/it]"
     ]
    },
    {
     "name": "stdout",
     "output_type": "stream",
     "text": [
      "Test - Loss: 23.5043 Acc: 0.7412\n",
      "Train - Loss: 1.0050 Acc: 0.9643\n"
     ]
    },
    {
     "name": "stderr",
     "output_type": "stream",
     "text": [
      " 43%|████▎     | 13/30 [05:34<07:18, 25.82s/it]"
     ]
    },
    {
     "name": "stdout",
     "output_type": "stream",
     "text": [
      "Test - Loss: 17.6535 Acc: 0.7765\n",
      "Train - Loss: 0.6897 Acc: 0.9762\n"
     ]
    },
    {
     "name": "stderr",
     "output_type": "stream",
     "text": [
      " 47%|████▋     | 14/30 [06:00<06:54, 25.91s/it]"
     ]
    },
    {
     "name": "stdout",
     "output_type": "stream",
     "text": [
      "Test - Loss: 20.2714 Acc: 0.7765\n",
      "Train - Loss: 2.7919 Acc: 0.9226\n"
     ]
    },
    {
     "name": "stderr",
     "output_type": "stream",
     "text": [
      " 50%|█████     | 15/30 [06:27<06:33, 26.20s/it]"
     ]
    },
    {
     "name": "stdout",
     "output_type": "stream",
     "text": [
      "Test - Loss: 12.4410 Acc: 0.7412\n",
      "Train - Loss: 0.3877 Acc: 0.9821\n"
     ]
    },
    {
     "name": "stderr",
     "output_type": "stream",
     "text": [
      " 53%|█████▎    | 16/30 [06:53<06:05, 26.13s/it]"
     ]
    },
    {
     "name": "stdout",
     "output_type": "stream",
     "text": [
      "Test - Loss: 23.4789 Acc: 0.7529\n",
      "Train - Loss: 0.0000 Acc: 1.0000\n"
     ]
    },
    {
     "name": "stderr",
     "output_type": "stream",
     "text": [
      " 57%|█████▋    | 17/30 [07:20<05:42, 26.35s/it]"
     ]
    },
    {
     "name": "stdout",
     "output_type": "stream",
     "text": [
      "Test - Loss: 23.0572 Acc: 0.7647\n",
      "Train - Loss: 0.0000 Acc: 1.0000\n"
     ]
    },
    {
     "name": "stderr",
     "output_type": "stream",
     "text": [
      " 60%|██████    | 18/30 [07:45<05:12, 26.07s/it]"
     ]
    },
    {
     "name": "stdout",
     "output_type": "stream",
     "text": [
      "Test - Loss: 21.8693 Acc: 0.7529\n",
      "Train - Loss: 0.0000 Acc: 1.0000\n"
     ]
    },
    {
     "name": "stderr",
     "output_type": "stream",
     "text": [
      " 63%|██████▎   | 19/30 [08:11<04:44, 25.86s/it]"
     ]
    },
    {
     "name": "stdout",
     "output_type": "stream",
     "text": [
      "Test - Loss: 21.9435 Acc: 0.7647\n",
      "Train - Loss: 149.8989 Acc: 0.7917\n"
     ]
    },
    {
     "name": "stderr",
     "output_type": "stream",
     "text": [
      " 67%|██████▋   | 20/30 [08:36<04:17, 25.71s/it]"
     ]
    },
    {
     "name": "stdout",
     "output_type": "stream",
     "text": [
      "Test - Loss: 72.2248 Acc: 0.6588\n",
      "Train - Loss: 6.6172 Acc: 0.9524\n"
     ]
    },
    {
     "name": "stderr",
     "output_type": "stream",
     "text": [
      " 70%|███████   | 21/30 [09:02<03:50, 25.66s/it]"
     ]
    },
    {
     "name": "stdout",
     "output_type": "stream",
     "text": [
      "Test - Loss: 39.4318 Acc: 0.7882\n",
      "Train - Loss: 1.9067 Acc: 0.9583\n"
     ]
    },
    {
     "name": "stderr",
     "output_type": "stream",
     "text": [
      " 73%|███████▎  | 22/30 [09:28<03:27, 25.92s/it]"
     ]
    },
    {
     "name": "stdout",
     "output_type": "stream",
     "text": [
      "Test - Loss: 40.6272 Acc: 0.8118\n",
      "Train - Loss: 0.0000 Acc: 1.0000\n"
     ]
    },
    {
     "name": "stderr",
     "output_type": "stream",
     "text": [
      " 77%|███████▋  | 23/30 [09:55<03:02, 26.11s/it]"
     ]
    },
    {
     "name": "stdout",
     "output_type": "stream",
     "text": [
      "Test - Loss: 41.3229 Acc: 0.8000\n",
      "Train - Loss: 0.0000 Acc: 1.0000\n"
     ]
    },
    {
     "name": "stderr",
     "output_type": "stream",
     "text": [
      " 80%|████████  | 24/30 [10:21<02:36, 26.16s/it]"
     ]
    },
    {
     "name": "stdout",
     "output_type": "stream",
     "text": [
      "Test - Loss: 40.4593 Acc: 0.8000\n",
      "Train - Loss: 0.0920 Acc: 0.9940\n"
     ]
    },
    {
     "name": "stderr",
     "output_type": "stream",
     "text": [
      " 83%|████████▎ | 25/30 [10:47<02:11, 26.22s/it]"
     ]
    },
    {
     "name": "stdout",
     "output_type": "stream",
     "text": [
      "Test - Loss: 44.6311 Acc: 0.7647\n",
      "Train - Loss: 1.2382 Acc: 0.9702\n"
     ]
    },
    {
     "name": "stderr",
     "output_type": "stream",
     "text": [
      " 87%|████████▋ | 26/30 [11:14<01:45, 26.40s/it]"
     ]
    },
    {
     "name": "stdout",
     "output_type": "stream",
     "text": [
      "Test - Loss: 37.1778 Acc: 0.8000\n",
      "Train - Loss: 0.0915 Acc: 0.9940\n"
     ]
    },
    {
     "name": "stderr",
     "output_type": "stream",
     "text": [
      " 90%|█████████ | 27/30 [11:41<01:19, 26.53s/it]"
     ]
    },
    {
     "name": "stdout",
     "output_type": "stream",
     "text": [
      "Test - Loss: 34.5121 Acc: 0.7765\n",
      "Train - Loss: 0.0264 Acc: 0.9940\n"
     ]
    },
    {
     "name": "stderr",
     "output_type": "stream",
     "text": [
      " 93%|█████████▎| 28/30 [12:08<00:53, 26.68s/it]"
     ]
    },
    {
     "name": "stdout",
     "output_type": "stream",
     "text": [
      "Test - Loss: 32.8704 Acc: 0.7647\n",
      "Train - Loss: 5.4927 Acc: 0.9048\n"
     ]
    },
    {
     "name": "stderr",
     "output_type": "stream",
     "text": [
      " 97%|█████████▋| 29/30 [12:35<00:26, 26.65s/it]"
     ]
    },
    {
     "name": "stdout",
     "output_type": "stream",
     "text": [
      "Test - Loss: 100.6175 Acc: 0.6353\n",
      "Train - Loss: 59.7107 Acc: 0.8571\n"
     ]
    },
    {
     "name": "stderr",
     "output_type": "stream",
     "text": [
      "100%|██████████| 30/30 [13:01<00:00, 26.05s/it]"
     ]
    },
    {
     "name": "stdout",
     "output_type": "stream",
     "text": [
      "Test - Loss: 45.7618 Acc: 0.7529\n"
     ]
    },
    {
     "name": "stderr",
     "output_type": "stream",
     "text": [
      "\n"
     ]
    }
   ],
   "source": [
    "train_loader_best = torch.utils.data.DataLoader(dsets['train'], batch_size=6, shuffle=True, num_workers=2)\n",
    "test_loader_best = torch.utils.data.DataLoader(dsets['test'], batch_size=6, shuffle=False, num_workers=2)\n",
    "\n",
    "conv_class2 = classifier_large_optim_best()\n",
    "\n",
    "loss_fn = nn.NLLLoss()\n",
    "learning_rate = 0.00395\n",
    "optimizer_cl = torch.optim.RMSprop(conv_class2.parameters())\n",
    "\n",
    "loss_train, acc_train, loss_test, acc_test = train_and_test(conv_class2, train_loader_best, test_loader_best, loss_fn, optimizer_cl, 30)"
   ]
  },
  {
   "cell_type": "code",
   "execution_count": 64,
   "metadata": {},
   "outputs": [
    {
     "data": {
      "image/png": "[encoded data removed]",
      "text/plain": [
       "<Figure size 640x480 with 1 Axes>"
      ]
     },
     "metadata": {},
     "output_type": "display_data"
    },
    {
     "name": "stderr",
     "output_type": "stream",
     "text": [
      "/var/folders/kk/6q2jd0hj56z_vzsn0nsr_bf40000gn/T/ipykernel_1048/593280641.py:10: RuntimeWarning: divide by zero encountered in log\n",
      "  plt.plot(np.arange(1,len(loss_train)+1), np.log(loss_train), label='Loss train')\n"
     ]
    },
    {
     "data": {
      "image/png": "[encoded data removed]",
      "text/plain": [
       "<Figure size 640x480 with 1 Axes>"
      ]
     },
     "metadata": {},
     "output_type": "display_data"
    },
    {
     "data": {
      "image/png": "[encoded data removed]",
      "text/plain": [
       "<Figure size 640x480 with 1 Axes>"
      ]
     },
     "metadata": {},
     "output_type": "display_data"
    },
    {
     "name": "stdout",
     "output_type": "stream",
     "text": [
      "Confusion Matrix, Without Normalization\n"
     ]
    },
    {
     "data": {
      "image/png": "[encoded data removed]",
      "text/plain": [
       "<Figure size 400x400 with 2 Axes>"
      ]
     },
     "metadata": {},
     "output_type": "display_data"
    },
    {
     "name": "stdout",
     "output_type": "stream",
     "text": [
      "              precision    recall  f1-score   support\n",
      "\n",
      "         yes       0.64      0.55      0.59        33\n",
      "          no       0.74      0.81      0.77        52\n",
      "\n",
      "    accuracy                           0.71        85\n",
      "   macro avg       0.69      0.68      0.68        85\n",
      "weighted avg       0.70      0.71      0.70        85\n",
      "\n"
     ]
    }
   ],
   "source": [
    "evaluation_plots(conv_class, test_loader_best, loss_train, acc_train, loss_test, acc_test)"
   ]
  },
  {
   "cell_type": "code",
   "execution_count": 65,
   "metadata": {},
   "outputs": [],
   "source": [
    "results = {'Accuracy':[accuracy_score(predict(conv_class2, test_loader)[0],predict(conv_class2, test_loader)[1])],\n",
    "           \n",
    "           'Precision':[precision_score(predict(conv_class2, test_loader)[0],predict(conv_class2, test_loader)[1])],\n",
    "           \n",
    "           'Recall':[recall_score(predict(conv_class2, test_loader)[0],predict(conv_class2, test_loader)[1])],\n",
    "           \n",
    "           'F1-score':[f1_score(predict(conv_class2, test_loader)[0],predict(conv_class2, test_loader)[1])]}\n",
    "\n",
    "class_results2 = pd.concat([class_results, pd.DataFrame(results, index=['Classifier wide 2 optimized'])], axis=0)"
   ]
  },
  {
   "cell_type": "code",
   "execution_count": 66,
   "metadata": {},
   "outputs": [
    {
     "data": {
      "text/html": [
       "<div>\n",
       "<style scoped>\n",
       "    .dataframe tbody tr th:only-of-type {\n",
       "        vertical-align: middle;\n",
       "    }\n",
       "\n",
       "    .dataframe tbody tr th {\n",
       "        vertical-align: top;\n",
       "    }\n",
       "\n",
       "    .dataframe thead th {\n",
       "        text-align: right;\n",
       "    }\n",
       "</style>\n",
       "<table border=\"1\" class=\"dataframe\">\n",
       "  <thead>\n",
       "    <tr style=\"text-align: right;\">\n",
       "      <th></th>\n",
       "      <th>Accuracy</th>\n",
       "      <th>Precision</th>\n",
       "      <th>Recall</th>\n",
       "      <th>F1-score</th>\n",
       "    </tr>\n",
       "  </thead>\n",
       "  <tbody>\n",
       "    <tr>\n",
       "      <th>Classifier wide 1</th>\n",
       "      <td>0.705882</td>\n",
       "      <td>0.736842</td>\n",
       "      <td>0.807692</td>\n",
       "      <td>0.770642</td>\n",
       "    </tr>\n",
       "    <tr>\n",
       "      <th>Classifier wide 2 optimized</th>\n",
       "      <td>0.752941</td>\n",
       "      <td>0.754098</td>\n",
       "      <td>0.884615</td>\n",
       "      <td>0.814159</td>\n",
       "    </tr>\n",
       "  </tbody>\n",
       "</table>\n",
       "</div>"
      ],
      "text/plain": [
       "                             Accuracy  Precision    Recall  F1-score\n",
       "Classifier wide 1            0.705882   0.736842  0.807692  0.770642\n",
       "Classifier wide 2 optimized  0.752941   0.754098  0.884615  0.814159"
      ]
     },
     "execution_count": 66,
     "metadata": {},
     "output_type": "execute_result"
    }
   ],
   "source": [
    "class_results2"
   ]
  },
  {
   "cell_type": "code",
   "execution_count": 67,
   "metadata": {},
   "outputs": [
    {
     "name": "stdout",
     "output_type": "stream",
     "text": [
      "                             Accuracy  Precision    Recall  F1-score\n",
      "Classifier wide 1            0.705882   0.736842  0.807692  0.770642\n",
      "Classifier wide 2 optimized  0.752941   0.754098  0.884615  0.814159\n"
     ]
    }
   ],
   "source": [
    "print(class_results2)"
   ]
  },
  {
   "cell_type": "code",
   "execution_count": 68,
   "metadata": {},
   "outputs": [],
   "source": [
    "class_results2.to_csv('Results_optimized_created_models.csv')"
   ]
  },
  {
   "cell_type": "code",
   "execution_count": null,
   "metadata": {},
   "outputs": [],
   "source": []
  }
 ],
 "metadata": {
  "kernelspec": {
   "display_name": ".venv",
   "language": "python",
   "name": "python3"
  },
  "language_info": {
   "codemirror_mode": {
    "name": "ipython",
    "version": 3
   },
   "file_extension": ".py",
   "mimetype": "text/x-python",
   "name": "python",
   "nbconvert_exporter": "python",
   "pygments_lexer": "ipython3",
   "version": "3.11.4"
  }
 },
 "nbformat": 4,
 "nbformat_minor": 2
}
